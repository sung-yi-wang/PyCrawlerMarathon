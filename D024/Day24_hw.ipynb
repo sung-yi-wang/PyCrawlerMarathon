{
 "cells": [
  {
   "cell_type": "markdown",
   "metadata": {},
   "source": [
    "# PTT 網路爬蟲實作練習\n",
    "\n",
    "\n",
    "* 能夠利用 Request + BeatifulSour 撰寫爬蟲，並存放到合適的資料結構\n"
   ]
  },
  {
   "cell_type": "markdown",
   "metadata": {},
   "source": [
    "## 作業目標\n",
    "\n",
    "根據範例 ，完成以下問題：\n",
    "\n",
    "* ① 印出最新文章的「作者」「標題」「時間」\n",
    "* ② 印出第一頁所有文章的「作者」「標題」「時間」\n",
    "* ③ 試著爬爬看其他版的文章"
   ]
  },
  {
   "cell_type": "code",
   "execution_count": 1,
   "metadata": {},
   "outputs": [],
   "source": [
    "import requests\n",
    "from bs4 import BeautifulSoup\n",
    "\n",
    "url = 'https://www.ptt.cc/bbs/Stock/index.html'\n",
    "r = requests.get(url, 'html5lib')\n",
    "\n",
    "soup = BeautifulSoup(r.text)"
   ]
  },
  {
   "cell_type": "markdown",
   "metadata": {},
   "source": [
    "### ② 印出第一頁所有文章的「作者」「標題」「時間」"
   ]
  },
  {
   "cell_type": "code",
   "execution_count": 2,
   "metadata": {},
   "outputs": [
    {
     "name": "stdout",
     "output_type": "stream",
     "text": [
      "標題：  [情報] 2323 中環 處分廣達普通股\n",
      "作者：  q1a1\n",
      "時間：   6/05\n",
      "標題：  [情報] 113/06/05 八大公股銀行買賣超排行\n",
      "作者：  q1a1\n",
      "時間：   6/05\n",
      "標題：  [新聞] 台積電布局未來發展 再核准173.56億\n",
      "作者：  kech9111\n",
      "時間：   6/05\n",
      "標題：  [情報] 6446 藥華藥 113年5月營收\n",
      "作者：  FreedomTrail\n",
      "時間：   6/05\n",
      "標題：  [新聞] 以色列已做好進攻黎巴嫩準備 接近做出\n",
      "作者：  AnneofGreen\n",
      "時間：   6/05\n",
      "標題：  [請益] 到處蹭債券ETF是可行嗎的\n",
      "作者：  itsmyid\n",
      "時間：   6/05\n",
      "標題：  Re: [請益] 到處蹭債券ETF是可行嗎的\n",
      "作者：  MrStone\n",
      "時間：   6/05\n",
      "標題：  Re: [標的] 大盤看法及雜談\n",
      "作者：  dg0921\n",
      "時間：   6/05\n",
      "標題：  (本文已被刪除) [sayforever69]\n",
      "作者：  -\n",
      "時間：   6/05\n",
      "標題：  [請益] 除權息要如何無縫接軌買入（500p答謝）\n",
      "作者：  z6936\n",
      "時間：   6/05\n",
      "標題：  [標的] 4571 鈞興ky 機器人future多\n",
      "作者：  kobekid\n",
      "時間：   6/05\n",
      "標題：  Re: [標的] 2409 友達 (2024.06.05 面板報價)\n",
      "作者：  ester770815\n",
      "時間：   6/05\n",
      "標題：  [情報] 1102 亞泥 私有化亞泥(中國)控股\n",
      "作者：  addy7533967\n",
      "時間：   6/05\n",
      "標題：  [新聞] 輝達研發中心落腳何處？黃仁勳透露「可能\n",
      "作者：  joanzkow\n",
      "時間：   6/05\n",
      "標題：  (本文已被刪除) [dundus]\n",
      "作者：  -\n",
      "時間：   6/05\n",
      "標題：  [新聞] 日本能源政策修定：增加核電 減少燃氣與\n",
      "作者：  peter080808\n",
      "時間：   6/05\n",
      "標題：  [情報] 2330 台積電 董事會通過買回公司股份\n",
      "作者：  BlueBird5566\n",
      "時間：   6/05\n",
      "標題：  [情報] 2633台灣高鐵5月營收43億元\n",
      "作者：  SaiWan\n",
      "時間：   6/05\n",
      "標題：  [標的] 2330 900以下無腦多\n",
      "作者：  ufotime\n",
      "時間：   6/05\n",
      "標題：  [公告] 股票板板規 v4.5 (2024/05/19 修正)\n",
      "作者：  laptic\n",
      "時間：  11/06\n",
      "標題：  [公告] 版主徵選\n",
      "作者：  aloness\n",
      "時間：   5/25\n",
      "標題：  [閒聊] 2024/06/05 盤後閒聊\n",
      "作者：  vendan5566\n",
      "時間：   6/05\n"
     ]
    }
   ],
   "source": [
    "# 方式一\n",
    "for d in soup.find_all(class_='r-ent'):\n",
    "    print('標題： ', d.find(class_='title').text.replace('\\t', '').replace('\\n', ''))\n",
    "    print('作者： ', d.find(class_='author').text.replace('\\t', '').replace('\\n', ''))\n",
    "    print('時間： ', d.find(class_='date').text.replace('\\t', '').replace('\\n', ''))"
   ]
  },
  {
   "cell_type": "code",
   "execution_count": 3,
   "metadata": {},
   "outputs": [
    {
     "name": "stdout",
     "output_type": "stream",
     "text": [
      "標題：  [情報] 2323 中環 處分廣達普通股\n",
      "作者： q1a1 (一問一答)\n",
      "時間： Wed Jun  5 18:17:29 2024\n",
      "標題：  [情報] 113/06/05 八大公股銀行買賣超排行\n",
      "作者： q1a1 (一問一答)\n",
      "時間： Wed Jun  5 18:28:42 2024\n",
      "標題：  [新聞] 台積電布局未來發展 再核准173.56億\n",
      "作者： kech9111 (= =)\n",
      "時間： Wed Jun  5 18:45:22 2024\n",
      "標題：  [情報] 6446 藥華藥 113年5月營收\n",
      "作者： FreedomTrail (FreedomTrail)\n",
      "時間： Wed Jun  5 18:59:31 2024\n",
      "標題：  [新聞] 以色列已做好進攻黎巴嫩準備 接近做出\n",
      "作者： AnneofGreen (安的綠色小屋)\n",
      "時間： Wed Jun  5 19:12:01 2024\n",
      "標題：  [請益] 到處蹭債券ETF是可行嗎的\n",
      "作者： itsmyid (這是我的ID)\n",
      "時間： Wed Jun  5 19:39:37 2024\n",
      "標題：  Re: [請益] 到處蹭債券ETF是可行嗎的\n",
      "作者： MrStone (重新開始)\n",
      "時間： Wed Jun  5 19:54:51 2024\n",
      "標題：  Re: [標的] 大盤看法及雜談\n",
      "作者： dg0921 (XD)\n",
      "時間： Wed Jun  5 19:57:28 2024\n",
      "標題：  (本文已被刪除) [sayforever69]\n",
      "標題：  [請益] 除權息要如何無縫接軌買入（500p答謝）\n",
      "作者： z6936 (sai)\n",
      "時間： Wed Jun  5 20:08:18 2024\n",
      "標題：  [標的] 4571 鈞興ky 機器人future多\n",
      "作者： kobekid (Granger神了)\n",
      "時間： Wed Jun  5 20:08:27 2024\n",
      "標題：  Re: [標的] 2409 友達 (2024.06.05 面板報價)\n",
      "作者： ester770815 (南喵哥)\n",
      "時間： Wed Jun  5 20:23:07 2024\n",
      "標題：  [情報] 1102 亞泥 私有化亞泥(中國)控股\n",
      "作者： addy7533967 (火爆刺香腸)\n",
      "時間： Wed Jun  5 20:31:44 2024\n",
      "標題：  [新聞] 輝達研發中心落腳何處？黃仁勳透露「可能\n",
      "作者： joanzkow (星浪)\n",
      "時間： Wed Jun  5 20:33:21 2024\n",
      "標題：  (本文已被刪除) [dundus]\n",
      "標題：  [新聞] 日本能源政策修定：增加核電 減少燃氣與\n",
      "作者： peter080808 (peter)\n",
      "時間： Wed Jun  5 20:42:28 2024\n",
      "標題：  [情報] 2330 台積電 董事會通過買回公司股份\n",
      "作者： BlueBird5566 (賴粉意見領袖)\n",
      "時間： Wed Jun  5 20:46:16 2024\n",
      "標題：  [情報] 2633台灣高鐵5月營收43億元\n",
      "作者： SaiWan (saiwan)\n",
      "時間： Wed Jun  5 20:51:15 2024\n",
      "標題：  [標的] 2330 900以下無腦多\n",
      "作者： ufotime (戲子阿德)\n",
      "時間： Wed Jun  5 20:56:23 2024\n",
      "標題：  [公告] 股票板板規 v4.5 (2024/05/19 修正)\n",
      "作者： laptic (靜夜聖林彼岸花)\n",
      "時間： Sun Nov  6 14:41:06 2022\n",
      "標題：  [公告] 版主徵選\n",
      "作者： aloness (aloness)\n",
      "時間： Sat May 25 08:27:09 2024\n",
      "標題：  [閒聊] 2024/06/05 盤後閒聊\n",
      "作者： vendan5566 (阿文)\n",
      "時間： Wed Jun  5 14:00:00 2024\n"
     ]
    }
   ],
   "source": [
    "# 方式二\n",
    "for d in soup.find_all(class_=\"title\"):\n",
    "    try:\n",
    "        print('標題： ', d.text.replace('\\t', '').replace('\\n', ''))\n",
    "        r = BeautifulSoup(requests.get('https://www.ptt.cc'+d.find('a')['href']).text, 'html5lib')\n",
    "        print('作者： ' + r.find(class_='article-meta-value').text)\n",
    "        print('時間： ' + r.find_all(class_='article-meta-value')[-1].text)\n",
    "    except:\n",
    "        continue"
   ]
  },
  {
   "cell_type": "markdown",
   "metadata": {},
   "source": [
    "### ① 印出最新文章的「作者」「標題」「時間」"
   ]
  },
  {
   "cell_type": "code",
   "execution_count": 4,
   "metadata": {},
   "outputs": [
    {
     "data": {
      "text/plain": [
       "{'標題': '[標的] 2330 900以下無腦多',\n",
       " '作者': 'ufotime (戲子阿德)',\n",
       " '時間': 'Wed Jun  5 20:56:23 2024'}"
      ]
     },
     "execution_count": 4,
     "metadata": {},
     "output_type": "execute_result"
    }
   ],
   "source": [
    "# 因為原始的資料難以判斷「新/舊」，因此我們必須進入內頁抓取詳細的時間，最終存成 List of Dict 的形式再自行排序。\n",
    "\n",
    "posts = []\n",
    "\n",
    "for d in soup.find_all(class_=\"title\"):\n",
    "    try:\n",
    "        post = {}\n",
    "        post['標題'] = d.text.replace('\\t', '').replace('\\n', '')\n",
    "        \n",
    "        r = BeautifulSoup(requests.get('https://www.ptt.cc'+d.find('a')['href']).text, 'html5lib')\n",
    "        post['作者'] = r.find(class_='article-meta-value').text\n",
    "        post['時間'] = r.find_all(class_='article-meta-value')[-1].text\n",
    "        \n",
    "        posts.append(post)\n",
    "    except:\n",
    "        continue\n",
    "        \n",
    "posts = sorted(posts, key=lambda x: x['時間'], reverse=True)\n",
    "# 補充：List of Dict 的排序方法\n",
    "# https://stackoverflow.com/questions/72899/how-do-i-sort-a-list-of-dictionaries-by-a-value-of-the-dictionary\n",
    "posts[0]"
   ]
  },
  {
   "cell_type": "markdown",
   "metadata": {},
   "source": [
    "### ③ 試著爬爬看其他版的文章"
   ]
  },
  {
   "cell_type": "code",
   "execution_count": 5,
   "metadata": {},
   "outputs": [
    {
     "data": {
      "text/plain": [
       "{'標題': 'Re: [新聞] 爆中國圍台軍演險釀「斷氣」危機\\u3000綠委：',\n",
       " '作者': 'chen0625 ()',\n",
       " '時間': datetime.datetime(2024, 6, 5, 21, 7, 54)}"
      ]
     },
     "execution_count": 5,
     "metadata": {},
     "output_type": "execute_result"
    }
   ],
   "source": [
    "\n",
    "from datetime import datetime\n",
    "import requests\n",
    "from bs4 import BeautifulSoup\n",
    "\n",
    "url = 'https://www.ptt.cc/bbs/Gossiping/index.html'\n",
    "r = requests.get(url, cookies={'over18': '1'})\n",
    "\n",
    "soup = BeautifulSoup(r.text, \"html5lib\")\n",
    "\n",
    "posts = []\n",
    "\n",
    "for d in soup.find_all(class_=\"title\"):\n",
    "    try:\n",
    "        post = {}\n",
    "        post['標題'] = d.text.replace('\\t', '').replace('\\n', '')\n",
    "        \n",
    "        r = BeautifulSoup(requests.get('https://www.ptt.cc'+d.find('a')['href'], cookies={'over18': '1'}).text, 'html5lib')\n",
    "        post['作者'] = r.find(class_='article-meta-value').text\n",
    "        post['時間'] = r.find_all(class_='article-meta-value')[-1].text\n",
    "        post['時間'] = datetime.strptime(post['時間'], \"%a %b %d %H:%M:%S %Y\")\n",
    "        # 時間轉換：https://stackoverflow.com/questions/10256093/how-to-convert-ctime-to-datetime-in-python\n",
    "        \n",
    "        posts.append(post)\n",
    "    except:\n",
    "        continue\n",
    "        \n",
    "posts = sorted(posts, key=lambda x: x['時間'])\n",
    "posts[-1]"
   ]
  }
 ],
 "metadata": {
  "kernelspec": {
   "display_name": "Python 3",
   "language": "python",
   "name": "python3"
  },
  "language_info": {
   "codemirror_mode": {
    "name": "ipython",
    "version": 3
   },
   "file_extension": ".py",
   "mimetype": "text/x-python",
   "name": "python",
   "nbconvert_exporter": "python",
   "pygments_lexer": "ipython3",
   "version": "3.11.8"
  }
 },
 "nbformat": 4,
 "nbformat_minor": 2
}
