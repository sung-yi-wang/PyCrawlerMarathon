{
  "cells": [
    {
      "cell_type": "markdown",
      "metadata": {
        "id": "zsvse1doRTLz"
      },
      "source": [
        "# 作業\n",
        "\n",
        "以正確的副檔名下載網頁中的圖片\n",
        "範例網頁:https://www.ptt.cc/bbs/Beauty/M.1556291059.A.75A.html\n",
        "\n",
        "Note：因為 PTT 會詢問「是否滿 18 歲」，這邊可以用 cookies 繞過\n",
        "\n",
        "`requests.get(URL, cookies={'over18': '1'}`\n"
      ]
    },
    {
      "cell_type": "code",
      "execution_count": 1,
      "metadata": {
        "id": "TlRoNpfeRTL1"
      },
      "outputs": [],
      "source": [
        "import requests\n",
        "import os\n",
        "\n",
        "from bs4 import BeautifulSoup\n",
        "from PIL import Image"
      ]
    },
    {
      "cell_type": "code",
      "execution_count": 2,
      "metadata": {
        "id": "YaAQPmJtRTL2"
      },
      "outputs": [],
      "source": [
        "url = 'https://www.ptt.cc/bbs/Beauty/M.1556291059.A.75A.html'\n",
        "resp = requests.get(url, cookies={'over18': '1'})\n",
        "soup = BeautifulSoup(resp.text)"
      ]
    },
    {
      "cell_type": "code",
      "execution_count": 3,
      "metadata": {
        "id": "97znVvJ1RTL2"
      },
      "outputs": [
        {
          "name": "stdout",
          "output_type": "stream",
          "text": [
            "Save image downloads/Cgb5oo1.jpeg\n",
            "Save image downloads/MgjHY4f.jpeg\n",
            "Save image downloads/yeoRtAs.jpeg\n",
            "Save image downloads/wsauNEW.jpeg\n",
            "Save image downloads/IjiETcs.jpeg\n"
          ]
        }
      ],
      "source": [
        "# 決定要儲存的資料夾\n",
        "output_dir = 'downloads'\n",
        "\n",
        "# 假如資料夾不存在就新增一個資料夾\n",
        "if not os.path.exists(output_dir):\n",
        "    os.makedirs(output_dir)\n",
        "\n",
        "# 定位所有圖片的 tag\n",
        "image_tags = soup.find(id='main-content').find_all('a', recursive=False)\n",
        "for img_tag in image_tags:\n",
        "    # 取得所有圖片在第三方服務的 id\n",
        "    if 'imgur' not in img_tag['href']:\n",
        "        continue\n",
        "    img_id = img_tag['href'].split('/')[-1]\n",
        "    img_url = f'https://i.imgur.com/{img_id}.jpg'\n",
        "    # 對圖片送出請求\n",
        "    headers = {\n",
        "        \"User-Agent\": \"Mozilla/5.0 (Macintosh; Intel Mac OS X 10_15_7) AppleWebKit/537.36 (KHTML, like Gecko) Chrome/101.0.4951.64 Safari/537.36\"\n",
        "    }\n",
        "    with requests.get(img_url, headers=headers, stream=True) as r:\n",
        "        r.raise_for_status()\n",
        "        img = Image.open(r.raw)\n",
        "        img_savename = f'{output_dir}/{img_id}.{img.format.lower()}'\n",
        "        img.save(img_savename)\n",
        "        print(f'Save image {img_savename}')"
      ]
    }
  ],
  "metadata": {
    "colab": {
      "name": "Day17_hw.ipynb",
      "provenance": []
    },
    "kernelspec": {
      "display_name": "Python 3",
      "language": "python",
      "name": "python3"
    },
    "language_info": {
      "codemirror_mode": {
        "name": "ipython",
        "version": 3
      },
      "file_extension": ".py",
      "mimetype": "text/x-python",
      "name": "python",
      "nbconvert_exporter": "python",
      "pygments_lexer": "ipython3",
      "version": "3.11.8"
    }
  },
  "nbformat": 4,
  "nbformat_minor": 0
}
