{
 "cells": [
  {
   "cell_type": "markdown",
   "metadata": {
    "id": "RmEW9BEct8Fk"
   },
   "source": [
    "# Day16 \n",
    "## 模擬 HTTP 請求：使用 Requests 套件\n",
    "- 了解靜態網頁的爬蟲策略\n",
    "- 認識靜態網頁爬蟲的常用套件：Requests\n",
    "- Requests 套件實作練習"
   ]
  },
  {
   "cell_type": "markdown",
   "metadata": {
    "id": "CmrQ2eOx7X2U"
   },
   "source": [
    "## 作業說明\n",
    "請跟著引導填空程式碼，練習以下題目\n",
    "1. 練習發送 Requests\n",
    "2. 練習帶上 headers\n",
    "3. 練習帶上 payload"
   ]
  },
  {
   "cell_type": "code",
   "execution_count": 1,
   "metadata": {
    "id": "2vDuolRl88hz"
   },
   "outputs": [],
   "source": [
    "import requests"
   ]
  },
  {
   "cell_type": "markdown",
   "metadata": {
    "id": "aTkbyICTKk9R"
   },
   "source": [
    "### (1) 練習發送 Requests\n",
    "- Wordle\n",
    "\n",
    "https://www.nytimes.com/games/wordle/index.html"
   ]
  },
  {
   "cell_type": "code",
   "execution_count": 2,
   "metadata": {
    "colab": {
     "base_uri": "https://localhost:8080/"
    },
    "id": "K1ONgiThK57V",
    "outputId": "eee8348c-f75f-41bc-cb40-fa511ff7083e"
   },
   "outputs": [
    {
     "name": "stdout",
     "output_type": "stream",
     "text": [
      "200 \n",
      "\n",
      " nk rel=\"mask-icon\" color=\"#FFFFFF\" href=\"https://www.nytimes.com/games-assets/v2/metadata/wordle-safari-pinned-tab.svg?v=v2211031206\"/><link rel=\"shortcut icon\" href=\"https://www.nytimes.com/games-assets/v2/metadata/wordle-favicon.ico?v=v2211031206\"/><link href=\"undefined/games-assets/v2/assets/wordle/wordle_logo_32x32.png\" rel=\"icon shortcut\" sizes=\"3232\"/><link href=\"undefined/games-assets/v2/assets/wordle/wordle_logo_192x192.png\" rel=\"apple-touch-icon\"/><meta name=\"apple-mobile-web-app-title\" content=\"Wordle\"/><meta name=\"application-name\" content=\"Wordle\"/><meta name=\"msapplication-TileColor\" content=\"#FFFFFF\"/><meta name=\"theme-color\" content=\"#FFFFFF\"/><meta name=\"sourceApp\" content=\"games-crosswords\"/><meta property=\"description\" content=\"Guess the hidden word in 6 tries. A new puzzle is available each day.\"/><meta property=\"og:title\" content=\"Wordle - A daily word game\"/><meta property=\"og:url\" content=\"https://www.nytimes.com/games/wordle\"/><meta property=\"og:description\" cont\n"
     ]
    }
   ],
   "source": [
    "url = \"https://www.nytimes.com/games/wordle/index.html\"\n",
    "r = requests.get(url)\n",
    "r.encoding = \"utf-8\"\n",
    "print(r.status_code, \"\\n\\n\", r.text[500:1500])"
   ]
  },
  {
   "cell_type": "markdown",
   "metadata": {
    "id": "t9MuM-jmzeO4"
   },
   "source": [
    "### (2) 練習帶上 headers\n",
    "- Momo 購物網\n",
    "\n",
    "https://www.momoshop.com.tw/main/Main.jsp"
   ]
  },
  {
   "cell_type": "code",
   "execution_count": 3,
   "metadata": {
    "colab": {
     "base_uri": "https://localhost:8080/"
    },
    "id": "ol_1pp2yLzo5",
    "outputId": "7c213285-5840-4963-b156-e745afcfe652"
   },
   "outputs": [
    {
     "name": "stdout",
     "output_type": "stream",
     "text": [
      "200 \n",
      "\n",
      " ia=\"only screen and (max-width: 640px)\" href=\"https://m.momoshop.com.tw\">\n",
      "\n",
      "\n",
      "<title>momo&#36092;&#29289;&#32178;  - &#38617;11&#20778;&#24800;&#25512;&#34214; - 2022&#24180;11&#26376;</title>\n",
      "\n",
      "\n",
      "<script type=\"application/ld+json\">\n",
      "{\n",
      "\"@context\":\"https://schema.org\",\n",
      "\"@type\":\"Organization\",\n",
      "\"url\":\"https://www.momoshop.com.tw\",\n",
      "\"logo\":\"https://m.momoshop.com.tw/img/message.png\"\n",
      "}\n",
      "</script>\n",
      "\n",
      "<meta http-equiv=\"Content-Type\" content=\"text/html; charset=UTF-8\">\n",
      "<meta http-equiv=\"X-UA-Compatible\" content=\"IE=edge,chrome=1\" />\n",
      "<meta name=\"Title\" content=\"momo&#36092;&#29289;&#32178;  - &#38617;11&#20778;&#24800;&#25512;&#34214; - 2022&#24180;11&#26376;\">\n",
      "<meta name=\"Author\" content=\"momo購物網\">\n",
      "<meta name=\"Subject\" content=\"momoshop,momo購物網\">\n",
      "<meta name=\"Description\" content=\"momo&#36092;&#29289;&#32178;&#25552;&#20379;&#32654;&#22941;&#20445;&#39178;&#12289;&#27969;&#34892;&#26381;&#39166;&#12289;&#26178;&#23578;&#31934;&#21697;&#12289;3C&#12289;&#25976;&#20301;&#23478;&#38651;&#12289;&#29983;&#27\n"
     ]
    }
   ],
   "source": [
    "url = \"https://www.momoshop.com.tw/main/Main.jsp\"\n",
    "\n",
    "headers = {\n",
    "    \"Accept\": \"text/html,application/xhtml+xml,application/xml;q=0.9,image/avif,image/webp,image/apng,*/*;q=0.8,application/signed-exchange;v=b3;q=0.9\", \n",
    "    \"Accept-Encoding\": \"gzip, deflate, br\", \n",
    "    \"Accept-Language\": \"zh-TW,zh;q=0.9,en-US;q=0.8,en;q=0.7,zh-CN;q=0.6\", \n",
    "    \"Cookie\": \"ARK_ID=JS363a225d4d23f85d2dcc2f4b4d663e5f363a; JSESSIONID=26AD4FCAE8E9CE5BAF0F349FC944E0BA-m1.shop28; wshop=wshop_web_a_28; _mwa_uniVisitorInfo=1629273005832346480.1629273005832.4.1653297152635; _mwa_uniSessionInfo=1653297152629300520.1653297152629.1.1653297152635; _mwa_uniCampaignInfo=1653297152633753983.1653297152633; __asc=395bfc78180f030827f37536f0c; __auc=395bfc78180f030827f37536f0c\",\n",
    "    \"User-Agent\": \"Mozilla/5.0 (Macintosh; Intel Mac OS X 10_15_7) AppleWebKit/537.36 (KHTML, like Gecko) Chrome/101.0.4951.64 Safari/537.36\"\n",
    "}\n",
    "r = requests.get(url, headers=headers)\n",
    "r.encoding = \"utf-8\"\n",
    "print(r.status_code, \"\\n\\n\", r.text[500:1500])"
   ]
  },
  {
   "cell_type": "markdown",
   "metadata": {
    "id": "3Ggb4Xck9Lj1"
   },
   "source": [
    "### (3) 練習帶上 payload\n",
    "- CNYES 鉅亨網 新聞 API \n",
    "\n",
    "https://api.cnyes.com/media/api/v1/newslist/category/tw_stock?startAt=1615478400&endAt=1646928000&limit=1000"
   ]
  },
  {
   "cell_type": "code",
   "execution_count": 4,
   "metadata": {
    "id": "QXR0i1APLMYW"
   },
   "outputs": [
    {
     "name": "stdout",
     "output_type": "stream",
     "text": [
      "200\n"
     ]
    }
   ],
   "source": [
    "url = \"https://api.cnyes.com/media/api/v1/newslist/category/tw_stock\"\n",
    "headers = {\n",
    "    \"Accept\": \"text/html,application/xhtml+xml,application/xml;q=0.9,image/avif,image/webp,image/apng,*/*;q=0.8,application/signed-exchange;v=b3;q=0.9\", \n",
    "    \"Accept-Encoding\": \"gzip, deflate, br\", \n",
    "    \"Accept-Language\": \"zh-TW,zh;q=0.9,en-US;q=0.8,en;q=0.7,zh-CN;q=0.6\", \n",
    "    \"Cookie\": \"_ss_pp_id=73ab1377ed6fdc7ec191631214835500; _ga=GA1.1.1091361641.1631243636; __exp__=a; _ga_Q14GZ4B1PW=GS1.1.1652437490.14.1.1652437588.0\",\n",
    "    \"User-Agent\": \"Mozilla/5.0 (Macintosh; Intel Mac OS X 10_15_7) AppleWebKit/537.36 (KHTML, like Gecko) Chrome/101.0.4951.64 Safari/537.36\"\n",
    "}\n",
    "url_params = {\n",
    "    \"startAt\": 1615478400, \n",
    "    \"endAt\": 1646928000,\n",
    "    \"limit\": 1000, \n",
    "}\n",
    "r = requests.get(url, headers=headers, params=url_params)\n",
    "print(r.status_code)"
   ]
  },
  {
   "cell_type": "code",
   "execution_count": 5,
   "metadata": {
    "colab": {
     "base_uri": "https://localhost:8080/"
    },
    "id": "NRTbAy_-Nm7C",
    "outputId": "7d0cb1a2-79e2-4009-803e-456fdc6f91fa"
   },
   "outputs": [
    {
     "data": {
      "text/plain": [
       "{'isOutsource': 0,\n",
       " 'content': '&lt;p&gt;商用電動車新創 Lordstown Motors (RIDE-US) 總裁 Edward Hightower 直言，所推出的電動皮卡 Endurance 在總擁有成本 (Total cost of ownership) 方面具有優勢，而 Endurance 是由鴻海 (2317-TW) 協助生產。&lt;/p&gt;\\n\\n&lt;p&gt;Lordstown 參加由美國工作卡車行業協會 (NTEA) 在印第安納波里斯 (印第安納) 所舉行的 Work Truck Week 2022 工作卡車展，並展出旗下車款 Endurance，也吸引不少人參觀。&lt;/p&gt;\\n\\n&lt;p&gt;Edward Hightower 則表示，Endurance 是一款獨特的車輛，具備出色的操控性、牽引力控制、扭矩和轉彎半徑組合，相信會受到車隊客戶青睞。&lt;/p&gt;\\n\\n&lt;p&gt;且與傳統的推進系統相比，Edward Hightowe 指出，Endurance 所使用的移動部件 (Moving Parts) 更少，因此在總擁有成本方面具有優勢。&lt;/p&gt;\\n\\n&lt;p&gt;目前 Endurance 是由鴻海在俄亥俄州工廠協助製造，預計今年第三季上市，鴻海董事長劉揚偉先前表示，Endurance 量產前的生產計劃都正常進行。&lt;/p&gt;\\n',\n",
       " 'hasCoverPhoto': 1,\n",
       " 'isCategoryHeadline': 1,\n",
       " 'isIndex': 1,\n",
       " 'newsId': 4830914,\n",
       " 'otherProduct': ['TWS:2317:STOCK:COMMON', 'USS:RIDE:STOCK:COMMON'],\n",
       " 'payment': 0,\n",
       " 'source': '',\n",
       " 'stock': ['2317', 'US-RIDE'],\n",
       " 'summary': '商用電動車新創 Lordstown Motors(RIDE-US) 總裁 Edward Hightower 直言，所推出的電動皮卡 Endurance 在成本方面具有優勢，而 Endurance 是由鴻海 (2317-TW) 協助生產。',\n",
       " 'title': 'Lordstown總裁：電動皮卡總成本具優勢 鴻海協助生產優勢顯現',\n",
       " 'video': '',\n",
       " 'publishAt': 1647000856,\n",
       " 'coverSrc': {'xs': {'src': 'https://cimg.cnyes.cool/prod/news/4830914/xs/81d3ea77a141acf76c3502fcd21dfb85.jpg',\n",
       "   'width': 100,\n",
       "   'height': 56},\n",
       "  's': {'src': 'https://cimg.cnyes.cool/prod/news/4830914/s/81d3ea77a141acf76c3502fcd21dfb85.jpg',\n",
       "   'width': 180,\n",
       "   'height': 101},\n",
       "  'm': {'src': 'https://cimg.cnyes.cool/prod/news/4830914/m/81d3ea77a141acf76c3502fcd21dfb85.jpg',\n",
       "   'width': 380,\n",
       "   'height': 214},\n",
       "  'l': {'src': 'https://cimg.cnyes.cool/prod/news/4830914/l/81d3ea77a141acf76c3502fcd21dfb85.jpg',\n",
       "   'width': 640,\n",
       "   'height': 360},\n",
       "  'xl': {'src': 'https://cimg.cnyes.cool/prod/news/4830914/xl/81d3ea77a141acf76c3502fcd21dfb85.jpg',\n",
       "   'width': 960,\n",
       "   'height': 540},\n",
       "  'xxl': {'src': 'https://cimg.cnyes.cool/prod/news/4830914/xxl/81d3ea77a141acf76c3502fcd21dfb85.jpg',\n",
       "   'width': 1080,\n",
       "   'height': 608}},\n",
       " 'abTesting': None,\n",
       " 'categoryId': 827,\n",
       " 'columnists': None,\n",
       " 'magazine': None,\n",
       " 'fundCategoryAbbr': [],\n",
       " 'fbShare': 0,\n",
       " 'fbComment': 0,\n",
       " 'fbCommentPluginCount': 0,\n",
       " 'market': [{'code': '2317', 'name': '鴻海', 'symbol': 'TWS:2317:STOCK'},\n",
       "  {'code': 'RIDE',\n",
       "   'name': 'Lordstown Motors Corp. - Class A',\n",
       "   'symbol': 'USS:RIDE:STOCK'}],\n",
       " 'categoryName': '台股新聞'}"
      ]
     },
     "execution_count": 5,
     "metadata": {},
     "output_type": "execute_result"
    }
   ],
   "source": [
    "data = r.json()\n",
    "data[\"items\"][\"data\"][0]"
   ]
  },
  {
   "cell_type": "code",
   "execution_count": null,
   "metadata": {
    "id": "MLssBTm_NvZB"
   },
   "outputs": [],
   "source": []
  }
 ],
 "metadata": {
  "colab": {
   "collapsed_sections": [],
   "name": "Day16_hw.ipynb",
   "provenance": [],
   "toc_visible": true
  },
  "kernelspec": {
   "display_name": "Python 3 (ipykernel)",
   "language": "python",
   "name": "python3"
  },
  "language_info": {
   "codemirror_mode": {
    "name": "ipython",
    "version": 3
   },
   "file_extension": ".py",
   "mimetype": "text/x-python",
   "name": "python",
   "nbconvert_exporter": "python",
   "pygments_lexer": "ipython3",
   "version": "3.9.13"
  }
 },
 "nbformat": 4,
 "nbformat_minor": 4
}
