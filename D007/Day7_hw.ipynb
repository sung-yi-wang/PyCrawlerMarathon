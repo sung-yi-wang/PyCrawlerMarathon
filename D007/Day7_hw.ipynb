{
 "cells": [
  {
   "cell_type": "markdown",
   "metadata": {
    "id": "RmEW9BEct8Fk"
   },
   "source": [
    "## 作業說明\n",
    "\n",
    "Day7 我們介紹了 Python 常見的資料結構：Tuple（元組）、Set（集合）、List（列表）、Dictionary（字典）\n",
    "\n",
    "今日作業我們針對不同資料結構的操作進行練習。\n",
    "\n",
    "嘗試填空以下代碼，獲得指定結果："
   ]
  },
  {
   "cell_type": "markdown",
   "metadata": {
    "id": "4hBPRm3ETZqN"
   },
   "source": [
    "### Tuple 元組\n",
    "- 將 tuple 以每單位的第二個元素由大到小排序（例如 `things_in_bag` 這個 tuple 中的元素以數字做排序"
   ]
  },
  {
   "cell_type": "code",
   "execution_count": 1,
   "metadata": {
    "executionInfo": {
     "elapsed": 449,
     "status": "ok",
     "timestamp": 1653237713052,
     "user": {
      "displayName": "Abao JiunYiYang",
      "userId": "03267307845025036989"
     },
     "user_tz": -480
    },
    "id": "jD3-yxQ4uAaL"
   },
   "outputs": [],
   "source": [
    "things_in_backpack = [(\"Bulbasaur\", 5), (\"Charmander\", 10), (\"Squirtle\", 17), (\"Caterpie\", 2), (\"Weedle\", 4), (\"Pidgey\", 1), (\"Rattata\", 7)]"
   ]
  },
  {
   "cell_type": "code",
   "execution_count": 2,
   "metadata": {
    "executionInfo": {
     "elapsed": 413,
     "status": "ok",
     "timestamp": 1653237720817,
     "user": {
      "displayName": "Abao JiunYiYang",
      "userId": "03267307845025036989"
     },
     "user_tz": -480
    },
    "id": "a90zHTWrn-Ke"
   },
   "outputs": [],
   "source": [
    "sorted_things_in_backpack = sorted(\n",
    "    things_in_backpack,\n",
    "    key=lambda x: x[1],\n",
    "    reverse=True\n",
    ")"
   ]
  },
  {
   "cell_type": "code",
   "execution_count": 3,
   "metadata": {
    "colab": {
     "base_uri": "https://localhost:8080/"
    },
    "executionInfo": {
     "elapsed": 8,
     "status": "ok",
     "timestamp": 1653237722386,
     "user": {
      "displayName": "Abao JiunYiYang",
      "userId": "03267307845025036989"
     },
     "user_tz": -480
    },
    "id": "G1dsBhsaoNHP",
    "outputId": "ec4daf2a-b389-445a-a8b8-e57d29aa604a"
   },
   "outputs": [
    {
     "data": {
      "text/plain": [
       "[('Squirtle', 17),\n",
       " ('Charmander', 10),\n",
       " ('Rattata', 7),\n",
       " ('Bulbasaur', 5),\n",
       " ('Weedle', 4),\n",
       " ('Caterpie', 2),\n",
       " ('Pidgey', 1)]"
      ]
     },
     "execution_count": 3,
     "metadata": {},
     "output_type": "execute_result"
    }
   ],
   "source": [
    "sorted_things_in_backpack"
   ]
  },
  {
   "cell_type": "markdown",
   "metadata": {
    "id": "TGUQ1pFMoaX3"
   },
   "source": [
    "### Set 集合\n",
    "- 將以下 3 個 set 的聯集和交集元素分別印出"
   ]
  },
  {
   "cell_type": "code",
   "execution_count": 4,
   "metadata": {
    "executionInfo": {
     "elapsed": 11,
     "status": "ok",
     "timestamp": 1653237984388,
     "user": {
      "displayName": "Abao JiunYiYang",
      "userId": "03267307845025036989"
     },
     "user_tz": -480
    },
    "id": "Zx6fOAswoP0K"
   },
   "outputs": [],
   "source": [
    "things_in_backpack1 = set([\"Spearow\", \"Ekans\", \"Pikachu\", \"Sandshrew\", \"Nidoran\", \"Clefairy\", \"Vulpix\"])\n",
    "things_in_backpack2 = set([\"Pikachu\", \"Zubat\", \"Clefairy\", \"Vileplume\", \"Venomoth\", \"Meowth\", \"Mankey\", \"Ekans\"])"
   ]
  },
  {
   "cell_type": "code",
   "execution_count": 5,
   "metadata": {
    "colab": {
     "base_uri": "https://localhost:8080/"
    },
    "executionInfo": {
     "elapsed": 47,
     "status": "ok",
     "timestamp": 1653237911321,
     "user": {
      "displayName": "Abao JiunYiYang",
      "userId": "03267307845025036989"
     },
     "user_tz": -480
    },
    "id": "8J4hPv8Ap8Ng",
    "outputId": "485e005a-ea6d-4c8f-e2a1-40455471714b"
   },
   "outputs": [
    {
     "data": {
      "text/plain": [
       "{'Clefairy', 'Ekans', 'Pikachu'}"
      ]
     },
     "execution_count": 5,
     "metadata": {},
     "output_type": "execute_result"
    }
   ],
   "source": [
    "# intersection\n",
    "things_both_in_1_and_2 = things_in_backpack1 & things_in_backpack2\n",
    "things_both_in_1_and_2"
   ]
  },
  {
   "cell_type": "code",
   "execution_count": 6,
   "metadata": {
    "colab": {
     "base_uri": "https://localhost:8080/"
    },
    "executionInfo": {
     "elapsed": 9,
     "status": "ok",
     "timestamp": 1653237988909,
     "user": {
      "displayName": "Abao JiunYiYang",
      "userId": "03267307845025036989"
     },
     "user_tz": -480
    },
    "id": "OVMpSAjxqImt",
    "outputId": "c9fa39d1-a72e-4b41-fe8a-b18c322aec47"
   },
   "outputs": [
    {
     "data": {
      "text/plain": [
       "{'Clefairy',\n",
       " 'Ekans',\n",
       " 'Mankey',\n",
       " 'Meowth',\n",
       " 'Nidoran',\n",
       " 'Pikachu',\n",
       " 'Sandshrew',\n",
       " 'Spearow',\n",
       " 'Venomoth',\n",
       " 'Vileplume',\n",
       " 'Vulpix',\n",
       " 'Zubat'}"
      ]
     },
     "execution_count": 6,
     "metadata": {},
     "output_type": "execute_result"
    }
   ],
   "source": [
    "# union\n",
    "things_in_1_or_2 = things_in_backpack1.union(things_in_backpack2)\n",
    "things_in_1_or_2"
   ]
  },
  {
   "cell_type": "markdown",
   "metadata": {
    "id": "I5w8BHw5qfwj"
   },
   "source": [
    "### List 列表"
   ]
  },
  {
   "cell_type": "markdown",
   "metadata": {
    "id": "3StAex3xrOQF"
   },
   "source": [
    "- 取出 list1 的不重複項目（排除重複項目）"
   ]
  },
  {
   "cell_type": "code",
   "execution_count": 7,
   "metadata": {
    "executionInfo": {
     "elapsed": 439,
     "status": "ok",
     "timestamp": 1653238532187,
     "user": {
      "displayName": "Abao JiunYiYang",
      "userId": "03267307845025036989"
     },
     "user_tz": -480
    },
    "id": "vf2QqppmrZ-5"
   },
   "outputs": [],
   "source": [
    "list1 = [\"Spearow\", \"Ekans\", \"Pikachu\", \"Sandshrew\", \"Pikachu\", \"Zubat\", \"Clefairy\", \"Vileplume\", \"Venomoth\", \"Meowth\", \"Mankey\", \"Ekans\"]"
   ]
  },
  {
   "cell_type": "code",
   "execution_count": 8,
   "metadata": {
    "colab": {
     "base_uri": "https://localhost:8080/"
    },
    "executionInfo": {
     "elapsed": 5,
     "status": "ok",
     "timestamp": 1653238397541,
     "user": {
      "displayName": "Abao JiunYiYang",
      "userId": "03267307845025036989"
     },
     "user_tz": -480
    },
    "id": "oohcODB8rnYs",
    "outputId": "eb42c602-1f42-40fb-d43d-c66afb2ffe18"
   },
   "outputs": [],
   "source": [
    "unique_elements = list(set(list1))"
   ]
  },
  {
   "cell_type": "markdown",
   "metadata": {
    "id": "l_O5Zm4Fr4zv"
   },
   "source": [
    "- 取出 list1 中有重複的項目"
   ]
  },
  {
   "cell_type": "code",
   "execution_count": 9,
   "metadata": {
    "executionInfo": {
     "elapsed": 3,
     "status": "ok",
     "timestamp": 1653238688298,
     "user": {
      "displayName": "Abao JiunYiYang",
      "userId": "03267307845025036989"
     },
     "user_tz": -480
    },
    "id": "jomDwUISrOqh"
   },
   "outputs": [],
   "source": [
    "duplicate_elements, unique_elements = [], []\n",
    "for item in list1:\n",
    "    if item not in unique_elements:\n",
    "        unique_elements.append(item)\n",
    "    else:\n",
    "        duplicate_elements.append(item)"
   ]
  },
  {
   "cell_type": "code",
   "execution_count": 10,
   "metadata": {
    "colab": {
     "base_uri": "https://localhost:8080/"
    },
    "executionInfo": {
     "elapsed": 5,
     "status": "ok",
     "timestamp": 1653238689176,
     "user": {
      "displayName": "Abao JiunYiYang",
      "userId": "03267307845025036989"
     },
     "user_tz": -480
    },
    "id": "rEc4SJDotFih",
    "outputId": "5b4d355d-edb8-47b8-be63-e6ac64fa8603"
   },
   "outputs": [
    {
     "data": {
      "text/plain": [
       "['Pikachu', 'Ekans']"
      ]
     },
     "execution_count": 10,
     "metadata": {},
     "output_type": "execute_result"
    }
   ],
   "source": [
    "duplicate_elements"
   ]
  },
  {
   "cell_type": "markdown",
   "metadata": {
    "id": "tpABrHRDrO_O"
   },
   "source": [
    "- 確認 \"Pikachu\" 是否存在於 list1"
   ]
  },
  {
   "cell_type": "code",
   "execution_count": 11,
   "metadata": {
    "executionInfo": {
     "elapsed": 514,
     "status": "ok",
     "timestamp": 1653239318022,
     "user": {
      "displayName": "Abao JiunYiYang",
      "userId": "03267307845025036989"
     },
     "user_tz": -480
    },
    "id": "FY4PTEPxtPuj"
   },
   "outputs": [],
   "source": [
    "# method 1\n",
    "def check_exist(target_list: list, target_item: str) -> bool:\n",
    "    try:\n",
    "        target_list.index(target_item)\n",
    "        return True\n",
    "    except ValueError as err:\n",
    "        return False"
   ]
  },
  {
   "cell_type": "code",
   "execution_count": 12,
   "metadata": {
    "colab": {
     "base_uri": "https://localhost:8080/"
    },
    "executionInfo": {
     "elapsed": 761,
     "status": "ok",
     "timestamp": 1653239294477,
     "user": {
      "displayName": "Abao JiunYiYang",
      "userId": "03267307845025036989"
     },
     "user_tz": -480
    },
    "id": "d119NtglvSSe",
    "outputId": "42f3871c-1e6f-49e4-d355-0dc1354bc85b"
   },
   "outputs": [
    {
     "name": "stdout",
     "output_type": "stream",
     "text": [
      "False\n"
     ]
    }
   ],
   "source": [
    "print(check_exist(target_list=list1, target_item=\"Bulbasaur\"))"
   ]
  },
  {
   "cell_type": "code",
   "execution_count": 13,
   "metadata": {
    "colab": {
     "base_uri": "https://localhost:8080/"
    },
    "executionInfo": {
     "elapsed": 4,
     "status": "ok",
     "timestamp": 1653239319945,
     "user": {
      "displayName": "Abao JiunYiYang",
      "userId": "03267307845025036989"
     },
     "user_tz": -480
    },
    "id": "Ki5O8y04toGF",
    "outputId": "ce7d3a78-8d89-4d84-c3a6-78fada5c173f"
   },
   "outputs": [
    {
     "name": "stdout",
     "output_type": "stream",
     "text": [
      "942 ns ± 53 ns per loop (mean ± std. dev. of 5 runs, 100 loops each)\n"
     ]
    }
   ],
   "source": [
    "%%timeit -r 5 -n 100\n",
    "check_exist(target_list=list1, target_item=\"Bulbasaur\")"
   ]
  },
  {
   "cell_type": "code",
   "execution_count": 14,
   "metadata": {
    "executionInfo": {
     "elapsed": 1,
     "status": "ok",
     "timestamp": 1653239321360,
     "user": {
      "displayName": "Abao JiunYiYang",
      "userId": "03267307845025036989"
     },
     "user_tz": -480
    },
    "id": "U8jNqC3DtpNY"
   },
   "outputs": [],
   "source": [
    "# method 2\n",
    "def check_exist(target_list: list, target_item: str) -> bool:\n",
    "    if [item for item in target_list if item == target_item]:\n",
    "        return True\n",
    "    else:\n",
    "        return False"
   ]
  },
  {
   "cell_type": "code",
   "execution_count": 15,
   "metadata": {
    "colab": {
     "base_uri": "https://localhost:8080/"
    },
    "executionInfo": {
     "elapsed": 429,
     "status": "ok",
     "timestamp": 1653239313743,
     "user": {
      "displayName": "Abao JiunYiYang",
      "userId": "03267307845025036989"
     },
     "user_tz": -480
    },
    "id": "FMdi5F7-vdsr",
    "outputId": "1916aaca-1a1a-4564-ee98-b8022426fe57"
   },
   "outputs": [
    {
     "name": "stdout",
     "output_type": "stream",
     "text": [
      "False\n"
     ]
    }
   ],
   "source": [
    "print(check_exist(target_list=list1, target_item=\"Bulbasaur\"))"
   ]
  },
  {
   "cell_type": "code",
   "execution_count": 16,
   "metadata": {
    "colab": {
     "base_uri": "https://localhost:8080/"
    },
    "executionInfo": {
     "elapsed": 5,
     "status": "ok",
     "timestamp": 1653239335572,
     "user": {
      "displayName": "Abao JiunYiYang",
      "userId": "03267307845025036989"
     },
     "user_tz": -480
    },
    "id": "wdfwzWYAuW2x",
    "outputId": "21da5308-22c7-4528-9e22-f8a6c591804a"
   },
   "outputs": [
    {
     "name": "stdout",
     "output_type": "stream",
     "text": [
      "1.02 µs ± 220 ns per loop (mean ± std. dev. of 5 runs, 100 loops each)\n"
     ]
    }
   ],
   "source": [
    "%%timeit -r 5 -n 100\n",
    "if_exist = check_exist(target_list=list1, target_item=\"Bulbasaur\")"
   ]
  },
  {
   "cell_type": "markdown",
   "metadata": {
    "id": "0DcNR6XavwEs"
   },
   "source": [
    "### Dictionary 字典\n"
   ]
  },
  {
   "cell_type": "markdown",
   "metadata": {
    "id": "QI8s4c26vzHE"
   },
   "source": [
    "- 將兩個 list 合併成一個 dict"
   ]
  },
  {
   "cell_type": "code",
   "execution_count": 17,
   "metadata": {
    "executionInfo": {
     "elapsed": 443,
     "status": "ok",
     "timestamp": 1653239471427,
     "user": {
      "displayName": "Abao JiunYiYang",
      "userId": "03267307845025036989"
     },
     "user_tz": -480
    },
    "id": "I-DaPgTeuXtF"
   },
   "outputs": [],
   "source": [
    "things_in_backpack1 = [\"Spearow\", \"Ekans\", \"Pikachu\", \"Sandshrew\", \"Nidoran\", \"Clefairy\", \"Vulpix\"]\n",
    "num_in_backpack1 = [2, 4, 6, 3, 5, 6, 6]"
   ]
  },
  {
   "cell_type": "code",
   "execution_count": 18,
   "metadata": {
    "colab": {
     "base_uri": "https://localhost:8080/"
    },
    "executionInfo": {
     "elapsed": 5,
     "status": "ok",
     "timestamp": 1653239507406,
     "user": {
      "displayName": "Abao JiunYiYang",
      "userId": "03267307845025036989"
     },
     "user_tz": -480
    },
    "id": "kSXnjjpjv85X",
    "outputId": "0323eb1e-18a8-473e-aa11-b89b9006e46f"
   },
   "outputs": [
    {
     "data": {
      "text/plain": [
       "{'Spearow': 2,\n",
       " 'Ekans': 4,\n",
       " 'Pikachu': 6,\n",
       " 'Sandshrew': 3,\n",
       " 'Nidoran': 5,\n",
       " 'Clefairy': 6,\n",
       " 'Vulpix': 6}"
      ]
     },
     "execution_count": 18,
     "metadata": {},
     "output_type": "execute_result"
    }
   ],
   "source": [
    "things_dict = dict(zip(things_in_backpack1, num_in_backpack1))\n",
    "things_dict"
   ]
  },
  {
   "cell_type": "markdown",
   "metadata": {
    "id": "UxaqmilOwQ4q"
   },
   "source": [
    "- 依據 value 由大到小排序字典\n",
    "> P.S. 因為 colab 的 Python 版本， `dict()` 輸出的預設會以 key 排序，所以這邊能獲取 `OrderedDict` 結果即可"
   ]
  },
  {
   "cell_type": "code",
   "execution_count": 19,
   "metadata": {
    "executionInfo": {
     "elapsed": 3,
     "status": "ok",
     "timestamp": 1653240026282,
     "user": {
      "displayName": "Abao JiunYiYang",
      "userId": "03267307845025036989"
     },
     "user_tz": -480
    },
    "id": "VU5L14I-wNhc"
   },
   "outputs": [],
   "source": [
    "from collections import OrderedDict"
   ]
  },
  {
   "cell_type": "code",
   "execution_count": 20,
   "metadata": {
    "executionInfo": {
     "elapsed": 2,
     "status": "ok",
     "timestamp": 1653240026282,
     "user": {
      "displayName": "Abao JiunYiYang",
      "userId": "03267307845025036989"
     },
     "user_tz": -480
    },
    "id": "ztah3q-dwn1y"
   },
   "outputs": [
    {
     "data": {
      "text/plain": [
       "OrderedDict([('Pikachu', 6),\n",
       "             ('Clefairy', 6),\n",
       "             ('Vulpix', 6),\n",
       "             ('Nidoran', 5),\n",
       "             ('Ekans', 4),\n",
       "             ('Sandshrew', 3),\n",
       "             ('Spearow', 2)])"
      ]
     },
     "execution_count": 20,
     "metadata": {},
     "output_type": "execute_result"
    }
   ],
   "source": [
    "sorted_tuples = sorted(things_dict.items(), key=lambda item: item[1], reverse=True)\n",
    "sorted_things_dict = OrderedDict(sorted_tuples)\n",
    "sorted_things_dict"
   ]
  },
  {
   "cell_type": "markdown",
   "metadata": {
    "id": "O89F7B2vyqE_"
   },
   "source": [
    "- 新增 key: value pair 到字典"
   ]
  },
  {
   "cell_type": "code",
   "execution_count": 21,
   "metadata": {
    "executionInfo": {
     "elapsed": 3,
     "status": "ok",
     "timestamp": 1653240207371,
     "user": {
      "displayName": "Abao JiunYiYang",
      "userId": "03267307845025036989"
     },
     "user_tz": -480
    },
    "id": "MQLXDi5oxyWT"
   },
   "outputs": [],
   "source": [
    "new_pair_list = [(\"Bulbasaur\", 5), (\"Charmander\", 10), (\"Squirtle\", 17), (\"Caterpie\", 2), (\"Weedle\", 4)]"
   ]
  },
  {
   "cell_type": "code",
   "execution_count": 22,
   "metadata": {
    "executionInfo": {
     "elapsed": 6,
     "status": "ok",
     "timestamp": 1653240235943,
     "user": {
      "displayName": "Abao JiunYiYang",
      "userId": "03267307845025036989"
     },
     "user_tz": -480
    },
    "id": "jicCfspAy5Gu"
   },
   "outputs": [],
   "source": [
    "for pair in new_pair_list:\n",
    "    things_dict.update({pair[0]: pair[1]})"
   ]
  },
  {
   "cell_type": "code",
   "execution_count": 23,
   "metadata": {
    "colab": {
     "base_uri": "https://localhost:8080/"
    },
    "executionInfo": {
     "elapsed": 5,
     "status": "ok",
     "timestamp": 1653240235943,
     "user": {
      "displayName": "Abao JiunYiYang",
      "userId": "03267307845025036989"
     },
     "user_tz": -480
    },
    "id": "L1sdKDx-y_lk",
    "outputId": "ae8adc9b-d33c-486d-ac90-239ddeee92e6"
   },
   "outputs": [
    {
     "data": {
      "text/plain": [
       "{'Spearow': 2,\n",
       " 'Ekans': 4,\n",
       " 'Pikachu': 6,\n",
       " 'Sandshrew': 3,\n",
       " 'Nidoran': 5,\n",
       " 'Clefairy': 6,\n",
       " 'Vulpix': 6,\n",
       " 'Bulbasaur': 5,\n",
       " 'Charmander': 10,\n",
       " 'Squirtle': 17,\n",
       " 'Caterpie': 2,\n",
       " 'Weedle': 4}"
      ]
     },
     "execution_count": 23,
     "metadata": {},
     "output_type": "execute_result"
    }
   ],
   "source": [
    "things_dict"
   ]
  },
  {
   "cell_type": "code",
   "execution_count": null,
   "metadata": {
    "id": "_te4DLZiy_x9"
   },
   "outputs": [],
   "source": []
  }
 ],
 "metadata": {
  "colab": {
   "authorship_tag": "ABX9TyMfedz8UIxAF/jzrQuhKiaK",
   "collapsed_sections": [],
   "name": "Day7_hw.ipynb",
   "provenance": []
  },
  "kernelspec": {
   "display_name": "Python 3 (ipykernel)",
   "language": "python",
   "name": "python3"
  },
  "language_info": {
   "codemirror_mode": {
    "name": "ipython",
    "version": 3
   },
   "file_extension": ".py",
   "mimetype": "text/x-python",
   "name": "python",
   "nbconvert_exporter": "python",
   "pygments_lexer": "ipython3",
   "version": "3.9.13"
  }
 },
 "nbformat": 4,
 "nbformat_minor": 4
}
