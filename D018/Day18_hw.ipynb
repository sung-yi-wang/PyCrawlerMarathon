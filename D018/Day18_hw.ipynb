{
  "cells": [
    {
      "cell_type": "markdown",
      "metadata": {
        "id": "RmEW9BEct8Fk"
      },
      "source": [
        "# Day18\n",
        "## 網頁結構解析：使用網頁結構定位工具\n",
        "- 複習網頁結構組成\n",
        "- 使用定位工具擷取網頁節點\n",
        "  - CSS Selector\n",
        "  - XPath"
      ]
    },
    {
      "cell_type": "markdown",
      "metadata": {
        "id": "CmrQ2eOx7X2U"
      },
      "source": [
        "## 作業說明\n",
        "請跟著引導填空程式碼，練習以下題目\n",
        "1. 使用 CSS Selector 定位元素 （搭配 `BeautifulSoup` 套件使用）\n",
        "2. 使用 XPath 定位元素 （搭配 `lxml` 套件使用）\n",
        "\n",
        "題目網站：自由時報文章列表\n",
        "\n",
        "https://search.ltn.com.tw/list?keyword=%E5%B7%9D%E6%99%AE"
      ]
    },
    {
      "cell_type": "code",
      "execution_count": 1,
      "metadata": {
        "id": "2vDuolRl88hz"
      },
      "outputs": [],
      "source": [
        "from bs4 import BeautifulSoup\n",
        "import lxml.html\n",
        "import requests"
      ]
    },
    {
      "cell_type": "markdown",
      "metadata": {
        "id": "ZbDTtqaRTnGD"
      },
      "source": [
        "### `GET` Request"
      ]
    },
    {
      "cell_type": "code",
      "execution_count": 2,
      "metadata": {
        "colab": {
          "base_uri": "https://localhost:8080/"
        },
        "id": "K1ONgiThK57V",
        "outputId": "17cad055-d70d-4a11-e378-3c4606022ee9"
      },
      "outputs": [
        {
          "name": "stdout",
          "output_type": "stream",
          "text": [
            "200 \n",
            "\n",
            " chrome=1\" />\n",
            "<meta property=\"og:site_name\" name=\"application-name\" content=\"自由時報電子報\" />\n",
            "<meta name=\"author\" itemprop=\"author\" content=\"自由時報電子報\" />\n",
            "<meta name=\"dcterms.rightsHolder\" content=\"自由時報電子報\" />\n",
            "<meta name=\"copyright\" content=\"自由時報電子報\" />\n",
            "<meta property=\"og:title\" itemprop=\"name\" content=\"川普 - 全域查詢 - 自由時報電子報\" />\n",
            "<meta name=\"title\" itemprop=\"headline\" content=\"川普 - 全域查詢 - 自由時報電子報\" />\n",
            "<meta name=\"keywords\" content=\"川普\" />\n",
            "<meta name=\"news_keywords\" itemprop=\"keywords\" content=\"川普\" />\n",
            "<meta property=\"og:image\" itemprop=\"image\" content=\"https://www.ltn.com.tw/assets/images/250_ltn.png?upload=20191119\" />\n",
            "<meta property=\"og:image:type\" content=\"image/jpeg\" />\n",
            "<meta property=\"article:section\" name=\"section\" itemprop=\"articleSection\" content=\"LTN\" />\n",
            "<meta name=\"description\" itemprop=\"description\" content=\"自由時報，為網友提供重要的新聞訊息，提供第一手全球各地最即時的突發事件報導，為網友精準掌握新聞脈動，配合時事不定時推出各類新聞專區，服務廣大網友\" />\n",
            "<meta property=\"og:description\" itemprop=\"description\" content=\"自由時報，為網友提供重要的新聞訊息，提供第一手全球各地最即時的突發事件報導，為網友\n"
          ]
        }
      ],
      "source": [
        "url = \"https://search.ltn.com.tw/list\"\n",
        "headers = {\n",
        "    \"Accept\": \"text/html,application/xhtml+xml,application/xml;q=0.9,image/avif,image/webp,image/apng,*/*;q=0.8,application/signed-exchange;v=b3;q=0.9\", \n",
        "    \"Accept-Encoding\": \"gzip, deflate, br\", \n",
        "    \"Accept-Language\": \"zh-TW,zh;q=0.9,en-US;q=0.8,en;q=0.7\", \n",
        "    \"Cookie\": \"ReaderInfo=51a1000537218; _fbp=fb.2.1641781316862.230877472; _ss_pp_id=2af7c2b8b7f6cf3091f1641752516979; fcmToken=0; start_time=20220109; end_time=20220110; type=%E5%85%A8%E9%83%A8; date=%E4%B8%8D%E9%99%90%E6%99%82%E9%96%93; ltnTagDate=20220523; sort=%E4%BE%9D%E9%97%9C%E8%81%AF%E6%80%A7; keyword=%E5%B7%9D%E6%99%AE; ltnSession=1653298877265; ltnSessionLast=1653298880029\", \n",
        "    \"User-Agent\": \"Mozilla/5.0 (Macintosh; Intel Mac OS X 10_15_7) AppleWebKit/537.36 (KHTML, like Gecko) Chrome/101.0.4951.64 Safari/537.36\", \n",
        "}\n",
        "params = {\n",
        "    \"keyword\": \"川普\"\n",
        "}\n",
        "\n",
        "r = requests.get(url, headers=headers, params=params)\n",
        "r.encoding = 'utf-8'\n",
        "print(r.status_code, \"\\n\\n\", r.text[500:1500])"
      ]
    },
    {
      "cell_type": "markdown",
      "metadata": {
        "id": "aTkbyICTKk9R"
      },
      "source": [
        "### (1) 使用 CSS Selector 定位元素"
      ]
    },
    {
      "cell_type": "markdown",
      "metadata": {
        "id": "7CSa5er4TtJO"
      },
      "source": [
        "#### 定位文章列表處\n"
      ]
    },
    {
      "cell_type": "code",
      "execution_count": 3,
      "metadata": {
        "colab": {
          "base_uri": "https://localhost:8080/"
        },
        "id": "5OFshcBqTzWM",
        "outputId": "be0662f8-d726-4f97-9583-6669cef6d337"
      },
      "outputs": [
        {
          "data": {
            "text/plain": [
              "<ul class=\"list boxTitle\" data-desc=\"列表\">\n",
              "<li>\n",
              "<a class=\"ph\" data-desc=\"P:0:川普被定罪面臨136年監禁 企業大亨：沒人想在紐約做生意了\" href=\"https://ec.ltn.com.tw/article/breakingnews/4692027\" title=\"川普被定罪面臨136年監禁 企業大亨：沒人想在紐約做生意了\">\n",
              "<img alt=\"川普被定罪面臨136年監禁 企業大亨：沒人想在紐約做生意了\" class=\"lazy_imgs\" data-src=\"https://img.ltn.com.tw/Upload/business/page/400S/2024/06/01/phpcmMIf8.jpg\" onerror=\"setDefault(this)\" src=\"https://news.ltn.com.tw/assets/images/default.png\" title=\"川普被定罪面臨136年監禁 企業大亨：沒人想在紐約做生意了\"/>\n",
              "</a>\n",
              "<div class=\"cont\" href=\"https://ec.ltn.com.tw/article/breakingnews/4692027\">\n",
              "<a class=\"tit\" data-desc=\"T:0:川普被定罪面臨136年監禁 企業大亨：沒人想在紐約做生意了\" href=\"https://ec.ltn.com.tw/article/breakingnews/4692027\" title=\"川普被定罪面臨136年監禁 企業大亨：沒人想在紐約做生意了\">川普被定罪面臨136年監禁 企業大亨：沒人想在紐約做生意了</a>\n",
              "<i class=\"immtag chan\" href=\"https://ec.ltn.com.tw/article/breakingnews/4692027\">財經</i>\n",
              "<span class=\"time\">8小時前</span>\n",
              "<a class=\"http\" data-desc=\"T:0:川普被定罪面臨136年監禁 企業大亨：沒人想在紐約做生意了\" href=\"https://ec.ltn.com.tw/article/breakingnews/4692027\" title=\"川普被定罪面臨136年監禁 企業大亨：沒人想在紐約做生意了\">https://ec.ltn.com.tw/article/breakingnews/4692027</a>\n",
              "<p>吳孟峰／核稿編輯美國紐約陪審團認定前總統川普「封口費案」34項罪名全數有罪，知名企業高層警告稱，在川普被判有罪後，更多的紐約企業及其領導人可能會成為「法治缺失」的受害者；他們擔心「沒有人想在紐約做生意了」。川普被控在2016年總統大選前偽造商務紀錄以掩蓋支付成人片女星封口費一事，紐約陪審團裁決相關3</p>\n",
              "</div>\n",
              "</li>\n",
              "<li>\n",
              "<a class=\"ph\" data-desc=\"P:1:川普被定罪 小額募款24小時衝17億\" href=\"https://news.ltn.com.tw/news/world/paper/1649265\" title=\"川普被定罪 小額募款24小時衝17億\">\n",
              "<img alt=\"川普被定罪 小額募款24小時衝17億\" class=\"lazy_imgs\" data-src=\"https://img.ltn.com.tw/Upload/news/250/2024/06/02/188.jpg\" onerror=\"setDefault(this)\" src=\"https://news.ltn.com.tw/assets/images/default.png\" title=\"川普被定罪 小額募款24小時衝17億\"/>\n",
              "</a>\n",
              "<div class=\"cont\" href=\"https://news.ltn.com.tw/news/world/paper/1649265\">\n",
              "<a class=\"tit\" data-desc=\"T:1:川普被定罪 小額募款24小時衝17億\" href=\"https://news.ltn.com.tw/news/world/paper/1649265\" title=\"川普被定罪 小額募款24小時衝17億\">川普被定罪 小額募款24小時衝17億</a>\n",
              "<i class=\"immtag chan\" href=\"https://news.ltn.com.tw/news/world/paper/1649265\">國際</i>\n",
              "<span class=\"time\">10小時前</span>\n",
              "<a class=\"http\" data-desc=\"T:1:川普被定罪 小額募款24小時衝17億\" href=\"https://news.ltn.com.tw/news/world/paper/1649265\" title=\"川普被定罪 小額募款24小時衝17億\">https://news.ltn.com.tw/news/world/paper/1649265</a>\n",
              "<p>美國前總統川普因為在上次大選選戰期間付給成人片女星封口費案，遭紐約州法院陪審團判決卅四項罪名都有罪。川普的競選團隊五月卅一日說，宣判後廿四小時內網路小額捐款募得將近五三○○萬美元，打破其選戰募款紀錄，判決結果「前所未有地」激發了支持群眾。激發支持者 打破川普募款紀錄</p>\n",
              "</div>\n",
              "</li>\n",
              "<li>\n",
              "<a class=\"ph\" data-desc=\"P:2:一週大事》立法院通過藍白國會擴權法案\" href=\"https://news.ltn.com.tw/news/politics/paper/1649179\" title=\"一週大事》立法院通過藍白國會擴權法案\">\n",
              "<img alt=\"一週大事》立法院通過藍白國會擴權法案\" class=\"lazy_imgs\" data-src=\"https://img.ltn.com.tw/Upload/news/250/2024/06/02/81.jpg\" onerror=\"setDefault(this)\" src=\"https://news.ltn.com.tw/assets/images/default.png\" title=\"一週大事》立法院通過藍白國會擴權法案\"/>\n",
              "</a>\n",
              "<div class=\"cont\" href=\"https://news.ltn.com.tw/news/politics/paper/1649179\">\n",
              "<a class=\"tit\" data-desc=\"T:2:一週大事》立法院通過藍白國會擴權法案\" href=\"https://news.ltn.com.tw/news/politics/paper/1649179\" title=\"一週大事》立法院通過藍白國會擴權法案\">一週大事》立法院通過藍白國會擴權法案</a>\n",
              "<i class=\"immtag chan\" href=\"https://news.ltn.com.tw/news/politics/paper/1649179\">政治</i>\n",
              "<span class=\"time\">10小時前</span>\n",
              "<a class=\"http\" data-desc=\"T:2:一週大事》立法院通過藍白國會擴權法案\" href=\"https://news.ltn.com.tw/news/politics/paper/1649179\" title=\"一週大事》立法院通過藍白國會擴權法案\">https://news.ltn.com.tw/news/politics/paper/1649179</a>\n",
              "<p>國內：●立法院五月廿八日三讀通過國民黨團、民眾黨團主導的「立法院職權行使法修正案」及刑法增訂「藐視國會罪」，民進黨團表示將聲請釋憲、行政院則研議移請立院覆議。●中國五月卅一日宣布對台灣一三四項產品中止適用ECFA關稅減讓。總統府指出，這是中國典型的經濟脅迫，無助兩岸關係的正面推進。</p>\n",
              "</div>\n",
              "</li>\n",
              "<li>\n",
              "<a class=\"ph\" data-desc=\"P:3:川普被定罪眾口喧騰 官司要角「暴風女」不吭聲\" href=\"https://news.ltn.com.tw/news/world/breakingnews/4691903\" title=\"川普被定罪眾口喧騰 官司要角「暴風女」不吭聲\">\n",
              "<img alt=\"川普被定罪眾口喧騰 官司要角「暴風女」不吭聲\" class=\"lazy_imgs\" data-src=\"https://img.ltn.com.tw/Upload/news/300/2024/06/01/phpoFaCZY.jpg\" onerror=\"setDefault(this)\" src=\"https://news.ltn.com.tw/assets/images/default.png\" title=\"川普被定罪眾口喧騰 官司要角「暴風女」不吭聲\"/>\n",
              "</a>\n",
              "<div class=\"cont\" href=\"https://news.ltn.com.tw/news/world/breakingnews/4691903\">\n",
              "<a class=\"tit\" data-desc=\"T:3:川普被定罪眾口喧騰 官司要角「暴風女」不吭聲\" href=\"https://news.ltn.com.tw/news/world/breakingnews/4691903\" title=\"川普被定罪眾口喧騰 官司要角「暴風女」不吭聲\">川普被定罪眾口喧騰 官司要角「暴風女」不吭聲</a>\n",
              "<i class=\"immtag chan\" href=\"https://news.ltn.com.tw/news/world/breakingnews/4691903\">國際</i>\n",
              "<span class=\"time\">21小時前</span>\n",
              "<a class=\"http\" data-desc=\"T:3:川普被定罪眾口喧騰 官司要角「暴風女」不吭聲\" href=\"https://news.ltn.com.tw/news/world/breakingnews/4691903\" title=\"川普被定罪眾口喧騰 官司要角「暴風女」不吭聲\">https://news.ltn.com.tw/news/world/breakingnews/4691903</a>\n",
              "<p>美國前總統川普因偽造商務紀錄以掩蓋支付封口費給成人片女星「暴風女丹尼爾斯」，被認定有罪。丹尼爾斯從不怯於公開對抗川普，但自從她成了此案主角後，就再也未發一語。川普被控偽造商務紀錄以隱匿支付封口費給「暴風女丹尼爾斯」（Stormy Daniels），換取她不披露過去與川普的性事，以免影響川普2016年</p>\n",
              "</div>\n",
              "</li>\n",
              "<li>\n",
              "<a class=\"ph\" data-desc=\"P:4:川普被定罪激發支持群眾 小額募款1天內衝17億台幣\" href=\"https://news.ltn.com.tw/news/world/breakingnews/4691898\" title=\"川普被定罪激發支持群眾 小額募款1天內衝17億台幣\">\n",
              "<img alt=\"川普被定罪激發支持群眾 小額募款1天內衝17億台幣\" class=\"lazy_imgs\" data-src=\"https://img.ltn.com.tw/Upload/news/300/2024/06/01/4691898_1_1.jpg\" onerror=\"setDefault(this)\" src=\"https://news.ltn.com.tw/assets/images/default.png\" title=\"川普被定罪激發支持群眾 小額募款1天內衝17億台幣\"/>\n",
              "</a>\n",
              "<div class=\"cont\" href=\"https://news.ltn.com.tw/news/world/breakingnews/4691898\">\n",
              "<a class=\"tit\" data-desc=\"T:4:川普被定罪激發支持群眾 小額募款1天內衝17億台幣\" href=\"https://news.ltn.com.tw/news/world/breakingnews/4691898\" title=\"川普被定罪激發支持群眾 小額募款1天內衝17億台幣\">川普被定罪激發支持群眾 小額募款1天內衝17億台幣</a>\n",
              "<i class=\"immtag chan\" href=\"https://news.ltn.com.tw/news/world/breakingnews/4691898\">國際</i>\n",
              "<span class=\"time\">23小時前</span>\n",
              "<a class=\"http\" data-desc=\"T:4:川普被定罪激發支持群眾 小額募款1天內衝17億台幣\" href=\"https://news.ltn.com.tw/news/world/breakingnews/4691898\" title=\"川普被定罪激發支持群眾 小額募款1天內衝17億台幣\">https://news.ltn.com.tw/news/world/breakingnews/4691898</a>\n",
              "<p>美國前總統川普在上屆大選期間付成人片女星封口費，紐約州法院陪審團認定34項罪名都有罪，川普的競選團隊5月31日說，宣判後24小時內網路小額捐款進帳將近5300萬美元，判決結果「前所未有地」激發了川普的支持群。川普競選團隊指出，5月30日法院宣判後24小時，川普選戰網路募款募集到5280萬美元（約17</p>\n",
              "</div>\n",
              "</li>\n",
              "<li>\n",
              "<a class=\"ph\" data-desc=\"P:5:美防長奧斯汀：唯有亞洲安全 美國才能安全\" href=\"https://news.ltn.com.tw/news/world/breakingnews/4691783\" title=\"美防長奧斯汀：唯有亞洲安全 美國才能安全\">\n",
              "<img alt=\"美防長奧斯汀：唯有亞洲安全 美國才能安全\" class=\"lazy_imgs\" data-src=\"https://img.ltn.com.tw/Upload/news/300/2024/06/01/4691783_1_1.jpg\" onerror=\"setDefault(this)\" src=\"https://news.ltn.com.tw/assets/images/default.png\" title=\"美防長奧斯汀：唯有亞洲安全 美國才能安全\"/>\n",
              "</a>\n",
              "<div class=\"cont\" href=\"https://news.ltn.com.tw/news/world/breakingnews/4691783\">\n",
              "<a class=\"tit\" data-desc=\"T:5:美防長奧斯汀：唯有亞洲安全 美國才能安全\" href=\"https://news.ltn.com.tw/news/world/breakingnews/4691783\" title=\"美防長奧斯汀：唯有亞洲安全 美國才能安全\">美防長奧斯汀：唯有亞洲安全 美國才能安全</a>\n",
              "<i class=\"immtag chan\" href=\"https://news.ltn.com.tw/news/world/breakingnews/4691783\">國際</i>\n",
              "<span class=\"time\">1天前</span>\n",
              "<a class=\"http\" data-desc=\"T:5:美防長奧斯汀：唯有亞洲安全 美國才能安全\" href=\"https://news.ltn.com.tw/news/world/breakingnews/4691783\" title=\"美防長奧斯汀：唯有亞洲安全 美國才能安全\">https://news.ltn.com.tw/news/world/breakingnews/4691783</a>\n",
              "<p>美國國防部長奧斯汀1日在新加坡年度亞洲安全論壇「香格里拉對話」表示，亞太地區仍然是美國的「優先事項」，並表示「唯有亞洲安全，美國才能安全」。《路透》及《法新社》指出，奧斯汀是在與中國防長董軍會面的翌日發表上述演說，試圖將注意力重新聚焦於中國在太平洋地區的威脅上，以緩解人們擔憂烏克蘭和加薩衝突可能分散</p>\n",
              "</div>\n",
              "</li>\n",
              "<li>\n",
              "<a class=\"ph\" data-desc=\"P:6:川普被定罪質疑審判不公 痛罵法官暴君魔鬼\" href=\"https://news.ltn.com.tw/news/world/breakingnews/4691621\" title=\"川普被定罪質疑審判不公 痛罵法官暴君魔鬼\">\n",
              "<img alt=\"川普被定罪質疑審判不公 痛罵法官暴君魔鬼\" class=\"lazy_imgs\" data-src=\"https://img.ltn.com.tw/Upload/news/300/2024/06/01/phpeim2bF.jpg\" onerror=\"setDefault(this)\" src=\"https://news.ltn.com.tw/assets/images/default.png\" title=\"川普被定罪質疑審判不公 痛罵法官暴君魔鬼\"/>\n",
              "</a>\n",
              "<div class=\"cont\" href=\"https://news.ltn.com.tw/news/world/breakingnews/4691621\">\n",
              "<a class=\"tit\" data-desc=\"T:6:川普被定罪質疑審判不公 痛罵法官暴君魔鬼\" href=\"https://news.ltn.com.tw/news/world/breakingnews/4691621\" title=\"川普被定罪質疑審判不公 痛罵法官暴君魔鬼\">川普被定罪質疑審判不公 痛罵法官暴君魔鬼</a>\n",
              "<i class=\"immtag chan\" href=\"https://news.ltn.com.tw/news/world/breakingnews/4691621\">國際</i>\n",
              "<span class=\"time\">1天前</span>\n",
              "<a class=\"http\" data-desc=\"T:6:川普被定罪質疑審判不公 痛罵法官暴君魔鬼\" href=\"https://news.ltn.com.tw/news/world/breakingnews/4691621\" title=\"川普被定罪質疑審判不公 痛罵法官暴君魔鬼\">https://news.ltn.com.tw/news/world/breakingnews/4691621</a>\n",
              "<p>美國前總統川普在涉及偽造商務紀錄一案中被定罪，他說審判「非常不公平」，害他成了首位被定為重罪犯的美國前總統，他今天批評法官是「暴君」，還抨擊總統拜登和非法移民。77歲的川普在曼哈頓的川普大樓（Trump Tower）大廳舉行記者會，證實要提出上訴。川普預計將在2024年11月總統大選中與拜登再度對決</p>\n",
              "</div>\n",
              "</li>\n",
              "<li>\n",
              "<a class=\"ph\" data-desc=\"P:7:川普封口費案有罪 10％共和黨選民意向動搖\" href=\"https://news.ltn.com.tw/news/world/breakingnews/4691647\" title=\"川普封口費案有罪 10％共和黨選民意向動搖\">\n",
              "<img alt=\"川普封口費案有罪 10％共和黨選民意向動搖\" class=\"lazy_imgs\" data-src=\"https://img.ltn.com.tw/Upload/news/300/2024/06/01/phpusCmnf.jpg\" onerror=\"setDefault(this)\" src=\"https://news.ltn.com.tw/assets/images/default.png\" title=\"川普封口費案有罪 10％共和黨選民意向動搖\"/>\n",
              "</a>\n",
              "<div class=\"cont\" href=\"https://news.ltn.com.tw/news/world/breakingnews/4691647\">\n",
              "<a class=\"tit\" data-desc=\"T:7:川普封口費案有罪 10％共和黨選民意向動搖\" href=\"https://news.ltn.com.tw/news/world/breakingnews/4691647\" title=\"川普封口費案有罪 10％共和黨選民意向動搖\">川普封口費案有罪 10％共和黨選民意向動搖</a>\n",
              "<i class=\"immtag chan\" href=\"https://news.ltn.com.tw/news/world/breakingnews/4691647\">國際</i>\n",
              "<span class=\"time\">1天前</span>\n",
              "<a class=\"http\" data-desc=\"T:7:川普封口費案有罪 10％共和黨選民意向動搖\" href=\"https://news.ltn.com.tw/news/world/breakingnews/4691647\" title=\"川普封口費案有罪 10％共和黨選民意向動搖\">https://news.ltn.com.tw/news/world/breakingnews/4691647</a>\n",
              "<p>根據路透社/易普索（Reuters/Ipsos）今天結束的民調，10%的共和黨登記選民說，在川普因支付艷星封口費而偽造商業紀錄一案遭定罪後，他們較不想把票投給川普。路透社報導，這份為期兩天的最新民調是在共和黨總統參選人川普昨遭曼哈頓陪審團裁定有罪的數小時後進行。</p>\n",
              "</div>\n",
              "</li>\n",
              "<li>\n",
              "<a class=\"ph\" data-desc=\"P:8:川普不服定罪 外國盟友同仇敵愾其他政要觀望\" href=\"https://news.ltn.com.tw/news/world/breakingnews/4691587\" title=\"川普不服定罪 外國盟友同仇敵愾其他政要觀望\">\n",
              "<img alt=\"川普不服定罪 外國盟友同仇敵愾其他政要觀望\" class=\"lazy_imgs\" data-src=\"https://img.ltn.com.tw/Upload/news/300/2024/06/01/phpe7TfNu.jpg\" onerror=\"setDefault(this)\" src=\"https://news.ltn.com.tw/assets/images/default.png\" title=\"川普不服定罪 外國盟友同仇敵愾其他政要觀望\"/>\n",
              "</a>\n",
              "<div class=\"cont\" href=\"https://news.ltn.com.tw/news/world/breakingnews/4691587\">\n",
              "<a class=\"tit\" data-desc=\"T:8:川普不服定罪 外國盟友同仇敵愾其他政要觀望\" href=\"https://news.ltn.com.tw/news/world/breakingnews/4691587\" title=\"川普不服定罪 外國盟友同仇敵愾其他政要觀望\">川普不服定罪 外國盟友同仇敵愾其他政要觀望</a>\n",
              "<i class=\"immtag chan\" href=\"https://news.ltn.com.tw/news/world/breakingnews/4691587\">國際</i>\n",
              "<span class=\"time\">1天前</span>\n",
              "<a class=\"http\" data-desc=\"T:8:川普不服定罪 外國盟友同仇敵愾其他政要觀望\" href=\"https://news.ltn.com.tw/news/world/breakingnews/4691587\" title=\"川普不服定罪 外國盟友同仇敵愾其他政要觀望\">https://news.ltn.com.tw/news/world/breakingnews/4691587</a>\n",
              "<p>美國前總統川普的外國盟友今天群起為他說話，稱他的「封口費案」審判出於政治動機；其他政要則反應審慎，心裡清楚如果川普再度當選總統，他們可能很快又要與他合作。川普被控34項偽造商業紀錄罪名，以掩飾他的前律師柯恩（Michael Cohen）支付色情片女星「暴風女丹尼爾斯」（Stormy Daniels）</p>\n",
              "</div>\n",
              "</li>\n",
              "<li>\n",
              "<a class=\"ph\" data-desc=\"P:9:新書「沸騰的護城河」美前副國安顧問博明建議台灣要有全新軍隊文化\" href=\"https://news.ltn.com.tw/news/politics/breakingnews/4691548\" title=\"新書「沸騰的護城河」美前副國安顧問博明建議台灣要有全新軍隊文化\">\n",
              "<img alt=\"新書「沸騰的護城河」美前副國安顧問博明建議台灣要有全新軍隊文化\" class=\"lazy_imgs\" data-src=\"https://img.ltn.com.tw/Upload/news/300/2024/06/01/php7OWTZc.jpg\" onerror=\"setDefault(this)\" src=\"https://news.ltn.com.tw/assets/images/default.png\" title=\"新書「沸騰的護城河」美前副國安顧問博明建議台灣要有全新軍隊文化\"/>\n",
              "</a>\n",
              "<div class=\"cont\" href=\"https://news.ltn.com.tw/news/politics/breakingnews/4691548\">\n",
              "<a class=\"tit\" data-desc=\"T:9:新書「沸騰的護城河」美前副國安顧問博明建議台灣要有全新軍隊文化\" href=\"https://news.ltn.com.tw/news/politics/breakingnews/4691548\" title=\"新書「沸騰的護城河」美前副國安顧問博明建議台灣要有全新軍隊文化\">新書「沸騰的護城河」美前副國安顧問博明建議台灣要有全新軍隊文化</a>\n",
              "<i class=\"immtag chan\" href=\"https://news.ltn.com.tw/news/politics/breakingnews/4691548\">政治</i>\n",
              "<span class=\"time\">1天前</span>\n",
              "<a class=\"http\" data-desc=\"T:9:新書「沸騰的護城河」美前副國安顧問博明建議台灣要有全新軍隊文化\" href=\"https://news.ltn.com.tw/news/politics/breakingnews/4691548\" title=\"新書「沸騰的護城河」美前副國安顧問博明建議台灣要有全新軍隊文化\">https://news.ltn.com.tw/news/politics/breakingnews/4691548</a>\n",
              "<p>美國前副國安顧問博明（Matt Pottinger）6月中將於台北發表新書「沸騰的護城河：保衛台灣的緊急步驟」（The Boiling Moat: Urgent Steps to Defend Taiwan），對於台灣應有的努力，作者認為，台灣需要有全新的軍隊文化，因為台灣在軍隊文化上有嚴重的弱點。</p>\n",
              "</div>\n",
              "</li>\n",
              "<li>\n",
              "<a class=\"ph\" data-desc=\"P:10:06/01 各報重點新聞一覽\" href=\"https://news.ltn.com.tw/news/life/breakingnews/4691412\" title=\"06/01 各報重點新聞一覽\">\n",
              "<img alt=\"06/01 各報重點新聞一覽\" class=\"lazy_imgs\" data-src=\"https://img.ltn.com.tw/Upload/news/300/2024/06/01/phpUvuNMQ.jpg\" onerror=\"setDefault(this)\" src=\"https://news.ltn.com.tw/assets/images/default.png\" title=\"06/01 各報重點新聞一覽\"/>\n",
              "</a>\n",
              "<div class=\"cont\" href=\"https://news.ltn.com.tw/news/life/breakingnews/4691412\">\n",
              "<a class=\"tit\" data-desc=\"T:10:06/01 各報重點新聞一覽\" href=\"https://news.ltn.com.tw/news/life/breakingnews/4691412\" title=\"06/01 各報重點新聞一覽\">06/01 各報重點新聞一覽</a>\n",
              "<i class=\"immtag chan\" href=\"https://news.ltn.com.tw/news/life/breakingnews/4691412\">生活</i>\n",
              "<span class=\"time\">1天前</span>\n",
              "<a class=\"http\" data-desc=\"T:10:06/01 各報重點新聞一覽\" href=\"https://news.ltn.com.tw/news/life/breakingnews/4691412\" title=\"06/01 各報重點新聞一覽\">https://news.ltn.com.tw/news/life/breakingnews/4691412</a>\n",
              "<p>自由時報與中國防長會談 美防長關切解放軍挑釁台海美國國防部長奧斯汀與中國防長董軍五月卅一日在新加坡召開的「香格里拉對話」安全會議場邊舉行雙邊會談，奧斯汀針對中國日前在台灣周邊軍演表示關切，重申中國不應該利用台灣政權過渡當做其脅迫措施的藉口。</p>\n",
              "</div>\n",
              "</li>\n",
              "<li>\n",
              "<a class=\"ph\" data-desc=\"P:11:川普被判有罪 美兩黨全力動員號召支持者\n",
              "\" href=\"https://news.ltn.com.tw/news/world/breakingnews/4691398\" title=\"川普被判有罪 美兩黨全力動員號召支持者\n",
              "\">\n",
              "<img alt=\"川普被判有罪 美兩黨全力動員號召支持者\n",
              "\" class=\"lazy_imgs\" data-src=\"https://news.ltn.com.tw/assets/images/default.png\" onerror=\"setDefault(this)\" src=\"https://news.ltn.com.tw/assets/images/default.png\" title=\"川普被判有罪 美兩黨全力動員號召支持者\n",
              "\"/>\n",
              "</a>\n",
              "<div class=\"cont\" href=\"https://news.ltn.com.tw/news/world/breakingnews/4691398\">\n",
              "<a class=\"tit\" data-desc=\"T:11:川普被判有罪 美兩黨全力動員號召支持者\n",
              "\" href=\"https://news.ltn.com.tw/news/world/breakingnews/4691398\" title=\"川普被判有罪 美兩黨全力動員號召支持者\n",
              "\">川普被判有罪 美兩黨全力動員號召支持者\n",
              "</a>\n",
              "<i class=\"immtag chan\" href=\"https://news.ltn.com.tw/news/world/breakingnews/4691398\">國際</i>\n",
              "<span class=\"time\">1天前</span>\n",
              "<a class=\"http\" data-desc=\"T:11:川普被判有罪 美兩黨全力動員號召支持者\n",
              "\" href=\"https://news.ltn.com.tw/news/world/breakingnews/4691398\" title=\"川普被判有罪 美兩黨全力動員號召支持者\n",
              "\">https://news.ltn.com.tw/news/world/breakingnews/4691398</a>\n",
              "<p>前美國總統川普2015年於川普大樓大廳召開記者會，宣布參加2016年共和黨總統初選。將近9年後，川普今天在相同地點向媒體說明審訊被操控，將上訴到底。距離美國總統選舉不到半年，兩黨全力動員，在黨代表大會召開前召喚基層支持者。川普史無前例成為美國首個刑事罪行在身的前總統後，隔天在紐約曼哈頓起家地川普大樓</p>\n",
              "</div>\n",
              "</li>\n",
              "<li>\n",
              "<a class=\"ph\" data-desc=\"P:12:自由廣場》漫畫︰川普說\" href=\"https://talk.ltn.com.tw/article/paper/1649003\" title=\"自由廣場》漫畫︰川普說\">\n",
              "<img alt=\"自由廣場》漫畫︰川普說\" class=\"lazy_imgs\" data-src=\"https://img.ltn.com.tw/Upload/talk/page/400S/2024/06/01/78.jpg\" onerror=\"setDefault(this)\" src=\"https://news.ltn.com.tw/assets/images/default.png\" title=\"自由廣場》漫畫︰川普說\"/>\n",
              "</a>\n",
              "<div class=\"cont\" href=\"https://talk.ltn.com.tw/article/paper/1649003\">\n",
              "<a class=\"tit\" data-desc=\"T:12:自由廣場》漫畫︰川普說\" href=\"https://talk.ltn.com.tw/article/paper/1649003\" title=\"自由廣場》漫畫︰川普說\">自由廣場》漫畫︰川普說</a>\n",
              "<i class=\"immtag chan1\" href=\"https://talk.ltn.com.tw/article/paper/1649003\">評論</i>\n",
              "<span class=\"time\">1天前</span>\n",
              "<a class=\"http\" data-desc=\"T:12:自由廣場》漫畫︰川普說\" href=\"https://talk.ltn.com.tw/article/paper/1649003\" title=\"自由廣場》漫畫︰川普說\">https://talk.ltn.com.tw/article/paper/1649003</a>\n",
              "<p>川普說</p>\n",
              "</div>\n",
              "</li>\n",
              "<li>\n",
              "<a class=\"ph\" data-desc=\"P:13:中國軍演恐常態化 顧立雄：國軍妥適應處\" href=\"https://news.ltn.com.tw/news/politics/paper/1649040\" title=\"中國軍演恐常態化 顧立雄：國軍妥適應處\">\n",
              "<img alt=\"中國軍演恐常態化 顧立雄：國軍妥適應處\" class=\"lazy_imgs\" data-src=\"https://img.ltn.com.tw/Upload/news/250/2024/06/01/118.jpg\" onerror=\"setDefault(this)\" src=\"https://news.ltn.com.tw/assets/images/default.png\" title=\"中國軍演恐常態化 顧立雄：國軍妥適應處\"/>\n",
              "</a>\n",
              "<div class=\"cont\" href=\"https://news.ltn.com.tw/news/politics/paper/1649040\">\n",
              "<a class=\"tit\" data-desc=\"T:13:中國軍演恐常態化 顧立雄：國軍妥適應處\" href=\"https://news.ltn.com.tw/news/politics/paper/1649040\" title=\"中國軍演恐常態化 顧立雄：國軍妥適應處\">中國軍演恐常態化 顧立雄：國軍妥適應處</a>\n",
              "<i class=\"immtag chan\" href=\"https://news.ltn.com.tw/news/politics/paper/1649040\">政治</i>\n",
              "<span class=\"time\">1天前</span>\n",
              "<a class=\"http\" data-desc=\"T:13:中國軍演恐常態化 顧立雄：國軍妥適應處\" href=\"https://news.ltn.com.tw/news/politics/paper/1649040\" title=\"中國軍演恐常態化 顧立雄：國軍妥適應處\">https://news.ltn.com.tw/news/politics/paper/1649040</a>\n",
              "<p>總統賴清德就職後，中國進行環台軍演，國安局長蔡明彥週三示警中國軍演可能常態化。國防部長顧立雄昨在立法院受訪表示，尊重也同意國安局相關的判斷，每次面對軍演要妥適應處是國軍的責任，也要從每次軍演得到經驗，不斷增強戰備及戰力。外媒報導，前美國總統川普於募款活動聲稱，若中國在他任內入侵台灣，他會轟炸北京和莫</p>\n",
              "</div>\n",
              "</li>\n",
              "<li>\n",
              "<a class=\"ph\" data-desc=\"P:14:川普封口費案34罪成立 無礙參選\" href=\"https://news.ltn.com.tw/news/world/paper/1649101\" title=\"川普封口費案34罪成立 無礙參選\">\n",
              "<img alt=\"川普封口費案34罪成立 無礙參選\" class=\"lazy_imgs\" data-src=\"https://img.ltn.com.tw/Upload/news/250/2024/06/01/182.jpg\" onerror=\"setDefault(this)\" src=\"https://news.ltn.com.tw/assets/images/default.png\" title=\"川普封口費案34罪成立 無礙參選\"/>\n",
              "</a>\n",
              "<div class=\"cont\" href=\"https://news.ltn.com.tw/news/world/paper/1649101\">\n",
              "<a class=\"tit\" data-desc=\"T:14:川普封口費案34罪成立 無礙參選\" href=\"https://news.ltn.com.tw/news/world/paper/1649101\" title=\"川普封口費案34罪成立 無礙參選\">川普封口費案34罪成立 無礙參選</a>\n",
              "<i class=\"immtag chan\" href=\"https://news.ltn.com.tw/news/world/paper/1649101\">國際</i>\n",
              "<span class=\"time\">1天前</span>\n",
              "<a class=\"http\" data-desc=\"T:14:川普封口費案34罪成立 無礙參選\" href=\"https://news.ltn.com.tw/news/world/paper/1649101\" title=\"川普封口費案34罪成立 無礙參選\">https://news.ltn.com.tw/news/world/paper/1649101</a>\n",
              "<p>美國前總統川普涉嫌在二○一六年總統大選期間，向前成人片女星、花名「狂暴丹尼絲」的史蒂芬妮．克利弗德支付封口費，在去年被控卅四項偽造商業紀錄重罪。紐約曼哈頓法院陪審團五月卅日一致裁定全部罪名成立，使川普成為首位遭刑事定罪的前總統。然而，川普離開法院時堅稱無辜，還說真正的審判是在「十一月五日」的總統大選</p>\n",
              "</div>\n",
              "</li>\n",
              "<li>\n",
              "<a class=\"ph\" data-desc=\"P:15:美6成7選民心意已定 判決難左右\" href=\"https://news.ltn.com.tw/news/world/paper/1649102\" title=\"美6成7選民心意已定 判決難左右\">\n",
              "<img alt=\"美6成7選民心意已定 判決難左右\" class=\"lazy_imgs\" data-src=\"https://img.ltn.com.tw/Upload/news/250/2024/06/01/184.jpg\" onerror=\"setDefault(this)\" src=\"https://news.ltn.com.tw/assets/images/default.png\" title=\"美6成7選民心意已定 判決難左右\"/>\n",
              "</a>\n",
              "<div class=\"cont\" href=\"https://news.ltn.com.tw/news/world/paper/1649102\">\n",
              "<a class=\"tit\" data-desc=\"T:15:美6成7選民心意已定 判決難左右\" href=\"https://news.ltn.com.tw/news/world/paper/1649102\" title=\"美6成7選民心意已定 判決難左右\">美6成7選民心意已定 判決難左右</a>\n",
              "<i class=\"immtag chan\" href=\"https://news.ltn.com.tw/news/world/paper/1649102\">國際</i>\n",
              "<span class=\"time\">1天前</span>\n",
              "<a class=\"http\" data-desc=\"T:15:美6成7選民心意已定 判決難左右\" href=\"https://news.ltn.com.tw/news/world/paper/1649102\" title=\"美6成7選民心意已定 判決難左右\">https://news.ltn.com.tw/news/world/paper/1649102</a>\n",
              "<p>美國前總統川普被判卅四項商業紀錄偽造罪罪名成立，為半年後的美國總統大選投下震撼彈。然而，最近民調結果顯示，多達六成七選民直言，他們的投票意向已定，不受審判結果動搖。共和黨民調專家也認為，選民「記性很差」，判決最終應不會產生影響。美國全國公共電台（NPR）、公共電視網（PBS）節目「新聞時刻」和馬瑞斯</p>\n",
              "</div>\n",
              "</li>\n",
              "<li>\n",
              "<a class=\"ph\" data-desc=\"P:16:川普批歷史性定罪出於政治動機 將在宣判後上訴\n",
              "\" href=\"https://news.ltn.com.tw/news/world/breakingnews/4691390\" title=\"川普批歷史性定罪出於政治動機 將在宣判後上訴\n",
              "\">\n",
              "<img alt=\"川普批歷史性定罪出於政治動機 將在宣判後上訴\n",
              "\" class=\"lazy_imgs\" data-src=\"https://news.ltn.com.tw/assets/images/default.png\" onerror=\"setDefault(this)\" src=\"https://news.ltn.com.tw/assets/images/default.png\" title=\"川普批歷史性定罪出於政治動機 將在宣判後上訴\n",
              "\"/>\n",
              "</a>\n",
              "<div class=\"cont\" href=\"https://news.ltn.com.tw/news/world/breakingnews/4691390\">\n",
              "<a class=\"tit\" data-desc=\"T:16:川普批歷史性定罪出於政治動機 將在宣判後上訴\n",
              "\" href=\"https://news.ltn.com.tw/news/world/breakingnews/4691390\" title=\"川普批歷史性定罪出於政治動機 將在宣判後上訴\n",
              "\">川普批歷史性定罪出於政治動機 將在宣判後上訴\n",
              "</a>\n",
              "<i class=\"immtag chan\" href=\"https://news.ltn.com.tw/news/world/breakingnews/4691390\">國際</i>\n",
              "<span class=\"time\">1天前</span>\n",
              "<a class=\"http\" data-desc=\"T:16:川普批歷史性定罪出於政治動機 將在宣判後上訴\n",
              "\" href=\"https://news.ltn.com.tw/news/world/breakingnews/4691390\" title=\"川普批歷史性定罪出於政治動機 將在宣判後上訴\n",
              "\">https://news.ltn.com.tw/news/world/breakingnews/4691390</a>\n",
              "<p>川普今天指出，紐約陪審團就封口費案將他判定有罪，讓他成了第一位被定罪的美國總統，他將對此提出上訴，不過須等到7月11日宣判後才能這麼做。路透社報導，這位前美國總統在紐約曼哈頓（Manhattan）的川普大樓（Trump Tower）大廳發表談話，重申這次判決是為了阻礙他重返白宮，並警告說沒有美國人可</p>\n",
              "</div>\n",
              "</li>\n",
              "<li>\n",
              "<a class=\"ph\" data-desc=\"P:17:川普被定罪 旗下社群媒體公司股價重跌8％\" href=\"https://news.ltn.com.tw/news/world/breakingnews/4691363\" title=\"川普被定罪 旗下社群媒體公司股價重跌8％\">\n",
              "<img alt=\"川普被定罪 旗下社群媒體公司股價重跌8％\" class=\"lazy_imgs\" data-src=\"https://img.ltn.com.tw/Upload/news/300/2024/05/31/phpYuvduj.jpg\" onerror=\"setDefault(this)\" src=\"https://news.ltn.com.tw/assets/images/default.png\" title=\"川普被定罪 旗下社群媒體公司股價重跌8％\"/>\n",
              "</a>\n",
              "<div class=\"cont\" href=\"https://news.ltn.com.tw/news/world/breakingnews/4691363\">\n",
              "<a class=\"tit\" data-desc=\"T:17:川普被定罪 旗下社群媒體公司股價重跌8％\" href=\"https://news.ltn.com.tw/news/world/breakingnews/4691363\" title=\"川普被定罪 旗下社群媒體公司股價重跌8％\">川普被定罪 旗下社群媒體公司股價重跌8％</a>\n",
              "<i class=\"immtag chan\" href=\"https://news.ltn.com.tw/news/world/breakingnews/4691363\">國際</i>\n",
              "<span class=\"time\">1天前</span>\n",
              "<a class=\"http\" data-desc=\"T:17:川普被定罪 旗下社群媒體公司股價重跌8％\" href=\"https://news.ltn.com.tw/news/world/breakingnews/4691363\" title=\"川普被定罪 旗下社群媒體公司股價重跌8％\">https://news.ltn.com.tw/news/world/breakingnews/4691363</a>\n",
              "<p>美國前總統川普封口費案34項指控全部罪成，旗下公司「川普媒體與科技集團」（Trump Media &amp; Technology Group）今天開盤後股價一度重跌8％。美國紐約陪審團昨天裁決，前總統川普（Donald Trump）為掩蓋在2016年大選前支付豔星封口費一事而偽造文件有罪，川普成為第一位在</p>\n",
              "</div>\n",
              "</li>\n",
              "<li>\n",
              "<a class=\"ph\" data-desc=\"P:18:不受川普封口費案影響 67％美國選民心意已定\" href=\"https://news.ltn.com.tw/news/world/breakingnews/4691267\" title=\"不受川普封口費案影響 67％美國選民心意已定\">\n",
              "<img alt=\"不受川普封口費案影響 67％美國選民心意已定\" class=\"lazy_imgs\" data-src=\"https://img.ltn.com.tw/Upload/news/300/2024/05/31/4691267_1_1.jpg\" onerror=\"setDefault(this)\" src=\"https://news.ltn.com.tw/assets/images/default.png\" title=\"不受川普封口費案影響 67％美國選民心意已定\"/>\n",
              "</a>\n",
              "<div class=\"cont\" href=\"https://news.ltn.com.tw/news/world/breakingnews/4691267\">\n",
              "<a class=\"tit\" data-desc=\"T:18:不受川普封口費案影響 67％美國選民心意已定\" href=\"https://news.ltn.com.tw/news/world/breakingnews/4691267\" title=\"不受川普封口費案影響 67％美國選民心意已定\">不受川普封口費案影響 67％美國選民心意已定</a>\n",
              "<i class=\"immtag chan\" href=\"https://news.ltn.com.tw/news/world/breakingnews/4691267\">國際</i>\n",
              "<span class=\"time\">1天前</span>\n",
              "<a class=\"http\" data-desc=\"T:18:不受川普封口費案影響 67％美國選民心意已定\" href=\"https://news.ltn.com.tw/news/world/breakingnews/4691267\" title=\"不受川普封口費案影響 67％美國選民心意已定\">https://news.ltn.com.tw/news/world/breakingnews/4691267</a>\n",
              "<p>美國前總統川普被控曾支付成人片女星封口費，而被紐約州陪審團判卅四項商業紀錄偽造罪的罪名成立，為半年後的美國總統大選投下震撼彈。然而，最近民調結果顯示，多達6成7選民直言，他們的投票意向已定，不受審判結果動搖。共和黨民調專家也認為，選民「記性很差」，判決最終應不會產生影響。但也有人推測，這會讓同時討厭</p>\n",
              "</div>\n",
              "</li>\n",
              "<li>\n",
              "<a class=\"ph\" data-desc=\"P:19:封口費定罪無礙川普競選與就職 後續重點一次看\" href=\"https://news.ltn.com.tw/news/world/breakingnews/4690598\" title=\"封口費定罪無礙川普競選與就職 後續重點一次看\">\n",
              "<img alt=\"封口費定罪無礙川普競選與就職 後續重點一次看\" class=\"lazy_imgs\" data-src=\"https://img.ltn.com.tw/Upload/news/300/2024/05/31/phpY7EOLh.jpg\" onerror=\"setDefault(this)\" src=\"https://news.ltn.com.tw/assets/images/default.png\" title=\"封口費定罪無礙川普競選與就職 後續重點一次看\"/>\n",
              "</a>\n",
              "<div class=\"cont\" href=\"https://news.ltn.com.tw/news/world/breakingnews/4690598\">\n",
              "<a class=\"tit\" data-desc=\"T:19:封口費定罪無礙川普競選與就職 後續重點一次看\" href=\"https://news.ltn.com.tw/news/world/breakingnews/4690598\" title=\"封口費定罪無礙川普競選與就職 後續重點一次看\">封口費定罪無礙川普競選與就職 後續重點一次看</a>\n",
              "<i class=\"immtag chan\" href=\"https://news.ltn.com.tw/news/world/breakingnews/4690598\">國際</i>\n",
              "<span class=\"time\">2天前</span>\n",
              "<a class=\"http\" data-desc=\"T:19:封口費定罪無礙川普競選與就職 後續重點一次看\" href=\"https://news.ltn.com.tw/news/world/breakingnews/4690598\" title=\"封口費定罪無礙川普競選與就職 後續重點一次看\">https://news.ltn.com.tw/news/world/breakingnews/4690598</a>\n",
              "<p>美國紐約的陪審團今天認定，前總統川普因支付封口費給成人片女星企圖遮羞一事有罪，但就算在今年11月5日總統大選之前被判入獄服刑，也無礙他繼續競選乃至就職。華盛頓郵報指出，川普這樁向豔星付款封口一案遭起訴34項偽造商業記錄罪行，陪審團全都認定有罪。</p>\n",
              "</div>\n",
              "</li>\n",
              "</ul>"
            ]
          },
          "execution_count": 3,
          "metadata": {},
          "output_type": "execute_result"
        }
      ],
      "source": [
        "# 轉為 BeautifulSoup 物件\n",
        "soup = BeautifulSoup(r.content, 'html.parser')\n",
        "# 使用 CSS Selector 定位\n",
        "soup.find(\"ul\", {\"class\": \"list boxTitle\"})\n"
      ]
    },
    {
      "cell_type": "markdown",
      "metadata": {
        "id": "hJ4E68xZUYq0"
      },
      "source": [
        "#### 獲取每篇文章標題、連結"
      ]
    },
    {
      "cell_type": "code",
      "execution_count": 4,
      "metadata": {
        "colab": {
          "base_uri": "https://localhost:8080/"
        },
        "id": "N9vuuBiHUMqT",
        "outputId": "e4dc42f0-6326-4fdb-8f91-ea5a06853fe9"
      },
      "outputs": [
        {
          "data": {
            "text/plain": [
              "[('川普被定罪面臨136年監禁 企業大亨：沒人想在紐約做生意了',\n",
              "  'https://ec.ltn.com.tw/article/breakingnews/4692027'),\n",
              " ('川普被定罪 小額募款24小時衝17億', 'https://news.ltn.com.tw/news/world/paper/1649265'),\n",
              " ('一週大事》立法院通過藍白國會擴權法案', 'https://news.ltn.com.tw/news/politics/paper/1649179'),\n",
              " ('川普被定罪眾口喧騰 官司要角「暴風女」不吭聲',\n",
              "  'https://news.ltn.com.tw/news/world/breakingnews/4691903'),\n",
              " ('川普被定罪激發支持群眾 小額募款1天內衝17億台幣',\n",
              "  'https://news.ltn.com.tw/news/world/breakingnews/4691898'),\n",
              " ('美防長奧斯汀：唯有亞洲安全 美國才能安全',\n",
              "  'https://news.ltn.com.tw/news/world/breakingnews/4691783'),\n",
              " ('川普被定罪質疑審判不公 痛罵法官暴君魔鬼',\n",
              "  'https://news.ltn.com.tw/news/world/breakingnews/4691621'),\n",
              " ('川普封口費案有罪 10％共和黨選民意向動搖',\n",
              "  'https://news.ltn.com.tw/news/world/breakingnews/4691647'),\n",
              " ('川普不服定罪 外國盟友同仇敵愾其他政要觀望',\n",
              "  'https://news.ltn.com.tw/news/world/breakingnews/4691587'),\n",
              " ('新書「沸騰的護城河」美前副國安顧問博明建議台灣要有全新軍隊文化',\n",
              "  'https://news.ltn.com.tw/news/politics/breakingnews/4691548'),\n",
              " ('06/01 各報重點新聞一覽', 'https://news.ltn.com.tw/news/life/breakingnews/4691412'),\n",
              " ('川普被判有罪 美兩黨全力動員號召支持者\\r',\n",
              "  'https://news.ltn.com.tw/news/world/breakingnews/4691398'),\n",
              " ('自由廣場》漫畫︰川普說', 'https://talk.ltn.com.tw/article/paper/1649003'),\n",
              " ('中國軍演恐常態化 顧立雄：國軍妥適應處',\n",
              "  'https://news.ltn.com.tw/news/politics/paper/1649040'),\n",
              " ('川普封口費案34罪成立 無礙參選', 'https://news.ltn.com.tw/news/world/paper/1649101'),\n",
              " ('美6成7選民心意已定 判決難左右', 'https://news.ltn.com.tw/news/world/paper/1649102'),\n",
              " ('川普批歷史性定罪出於政治動機 將在宣判後上訴\\r',\n",
              "  'https://news.ltn.com.tw/news/world/breakingnews/4691390'),\n",
              " ('川普被定罪 旗下社群媒體公司股價重跌8％',\n",
              "  'https://news.ltn.com.tw/news/world/breakingnews/4691363'),\n",
              " ('不受川普封口費案影響 67％美國選民心意已定',\n",
              "  'https://news.ltn.com.tw/news/world/breakingnews/4691267'),\n",
              " ('封口費定罪無礙川普競選與就職 後續重點一次看',\n",
              "  'https://news.ltn.com.tw/news/world/breakingnews/4690598')]"
            ]
          },
          "execution_count": 4,
          "metadata": {},
          "output_type": "execute_result"
        }
      ],
      "source": [
        "item_list = soup.find(\"ul\", {\"class\": \"list boxTitle\"}).find_all(\"li\")\n",
        "\n",
        "article_list = []\n",
        "for item in item_list:\n",
        "  piece = item.find(\"a\", {\"class\": \"ph\"})  # 獲取 class 屬性為 ph 的 <a> \n",
        "  title = piece.get(\"title\")  # 獲取 <a> 的 title 屬性\n",
        "  url = piece.get(\"href\")  # 獲取 <a> 的 href 屬性\n",
        "  article_list.append((title, url))\n",
        "\n",
        "article_list"
      ]
    },
    {
      "cell_type": "markdown",
      "metadata": {
        "id": "t9MuM-jmzeO4"
      },
      "source": [
        "### (2) 使用 XPath 定位元素"
      ]
    },
    {
      "cell_type": "markdown",
      "metadata": {
        "id": "KmforoM7Vvf-"
      },
      "source": [
        "#### 定位文章列表處\n"
      ]
    },
    {
      "cell_type": "code",
      "execution_count": 5,
      "metadata": {
        "colab": {
          "base_uri": "https://localhost:8080/",
          "height": 196
        },
        "id": "q31hROpyV1CN",
        "outputId": "911e314e-62b4-47f3-f81b-1fcea482b853"
      },
      "outputs": [
        {
          "data": {
            "text/plain": [
              "'\\n                \\n            \\n                \\n            \\n            \\n                川普被定罪面臨136年監禁 企業大亨：沒人想在紐約做生意了\\n                財經\\n                8小時前\\n                https://ec.ltn.com.tw/article/breakingnews/4692027\\n                吳孟峰／核稿編輯美國紐約陪審團認定前總統川普「封口費案」34項罪名全數有罪，知名企業高層警告稱，在川普被判有罪後，更多的紐約企業及其領導人可能會成為「法治缺失」的受害者；他們擔心「沒有人想在紐約做生意了」。川普被控在2016年總統大選前偽造商務紀錄以掩蓋支付成人片女星封口費一事，紐約陪審團裁決相關3\\n            \\n        \\n\\n                \\n            \\n                \\n            \\n            \\n                川普被定罪 小額募款24小時衝17億\\n                國際\\n                10小時前\\n                https://news.ltn.com.tw/news/world/paper/1649265\\n                美國前總統川普因為在上次大選選戰期間付給成人片女星封口費案，遭紐約州法院陪審團判決卅四項罪名都有罪。川普的競選團隊五月卅一日說，宣判後廿四小時內網路小額捐款募得將近五三○○萬美元，打破其選戰募款紀錄，判決結果「前所未有地」激發了支持群眾。激發支持者 打破川普募款紀錄\\n            \\n        \\n\\n                \\n            \\n                \\n            \\n            \\n                一週大事》立法院通過藍白國會擴權法案\\n                政治\\n                10小時前\\n                https://news.ltn.com.tw/news/politics/paper/1649179\\n                國內：●立法院五月廿八日三讀通過國民黨團、民眾黨團主導的「立法院職權行使法修正案」及刑法增訂「藐視國會罪」，民進黨團表示將聲請釋憲、行政院則研議移請立院覆議。●中國五月卅一日宣布對台灣一三四項產品中止適用ECFA關稅減讓。總統府指出，這是中國典型的經濟脅迫，無助兩岸關係的正面推進。\\n            \\n        \\n\\n                \\n            \\n                \\n            \\n            \\n                川普被定罪眾口喧騰 官司要角「暴風女」不吭聲\\n                國際\\n                21小時前\\n                https://news.ltn.com.tw/news/world/breakingnews/4691903\\n                美國前總統川普因偽造商務紀錄以掩蓋支付封口費給成人片女星「暴風女丹尼爾斯」，被認定有罪。丹尼爾斯從不怯於公開對抗川普，但自從她成了此案主角後，就再也未發一語。川普被控偽造商務紀錄以隱匿支付封口費給「暴風女丹尼爾斯」（Stormy Daniels），換取她不披露過去與川普的性事，以免影響川普2016年\\n            \\n        \\n\\n                \\n            \\n                \\n            \\n            \\n                川普被定罪激發支持群眾 小額募款1天內衝17億台幣\\n                國際\\n                23小時前\\n                https://news.ltn.com.tw/news/world/breakingnews/4691898\\n                美國前總統川普在上屆大選期間付成人片女星封口費，紐約州法院陪審團認定34項罪名都有罪，川普的競選團隊5月31日說，宣判後24小時內網路小額捐款進帳將近5300萬美元，判決結果「前所未有地」激發了川普的支持群。川普競選團隊指出，5月30日法院宣判後24小時，川普選戰網路募款募集到5280萬美元（約17\\n            \\n        \\n\\n                \\n            \\n                \\n            \\n            \\n                美防長奧斯汀：唯有亞洲安全 美國才能安全\\n                國際\\n                1天前\\n                https://news.ltn.com.tw/news/world/breakingnews/4691783\\n                美國國防部長奧斯汀1日在新加坡年度亞洲安全論壇「香格里拉對話」表示，亞太地區仍然是美國的「優先事項」，並表示「唯有亞洲安全，美國才能安全」。《路透》及《法新社》指出，奧斯汀是在與中國防長董軍會面的翌日發表上述演說，試圖將注意力重新聚焦於中國在太平洋地區的威脅上，以緩解人們擔憂烏克蘭和加薩衝突可能分散\\n            \\n        \\n\\n                \\n            \\n                \\n            \\n            \\n                川普被定罪質疑審判不公 痛罵法官暴君魔鬼\\n                國際\\n                1天前\\n                https://news.ltn.com.tw/news/world/breakingnews/4691621\\n                美國前總統川普在涉及偽造商務紀錄一案中被定罪，他說審判「非常不公平」，害他成了首位被定為重罪犯的美國前總統，他今天批評法官是「暴君」，還抨擊總統拜登和非法移民。77歲的川普在曼哈頓的川普大樓（Trump Tower）大廳舉行記者會，證實要提出上訴。川普預計將在2024年11月總統大選中與拜登再度對決\\n            \\n        \\n\\n                \\n            \\n                \\n            \\n            \\n                川普封口費案有罪 10％共和黨選民意向動搖\\n                國際\\n                1天前\\n                https://news.ltn.com.tw/news/world/breakingnews/4691647\\n                根據路透社/易普索（Reuters/Ipsos）今天結束的民調，10%的共和黨登記選民說，在川普因支付艷星封口費而偽造商業紀錄一案遭定罪後，他們較不想把票投給川普。路透社報導，這份為期兩天的最新民調是在共和黨總統參選人川普昨遭曼哈頓陪審團裁定有罪的數小時後進行。\\n            \\n        \\n\\n                \\n            \\n                \\n            \\n            \\n                川普不服定罪 外國盟友同仇敵愾其他政要觀望\\n                國際\\n                1天前\\n                https://news.ltn.com.tw/news/world/breakingnews/4691587\\n                美國前總統川普的外國盟友今天群起為他說話，稱他的「封口費案」審判出於政治動機；其他政要則反應審慎，心裡清楚如果川普再度當選總統，他們可能很快又要與他合作。川普被控34項偽造商業紀錄罪名，以掩飾他的前律師柯恩（Michael Cohen）支付色情片女星「暴風女丹尼爾斯」（Stormy Daniels）\\n            \\n        \\n\\n                \\n            \\n                \\n            \\n            \\n                新書「沸騰的護城河」美前副國安顧問博明建議台灣要有全新軍隊文化\\n                政治\\n                1天前\\n                https://news.ltn.com.tw/news/politics/breakingnews/4691548\\n                美國前副國安顧問博明（Matt Pottinger）6月中將於台北發表新書「沸騰的護城河：保衛台灣的緊急步驟」（The Boiling Moat: Urgent Steps to Defend Taiwan），對於台灣應有的努力，作者認為，台灣需要有全新的軍隊文化，因為台灣在軍隊文化上有嚴重的弱點。\\n            \\n        \\n\\n                \\n            \\n                \\n            \\n            \\n                06/01 各報重點新聞一覽\\n                生活\\n                1天前\\n                https://news.ltn.com.tw/news/life/breakingnews/4691412\\n                自由時報與中國防長會談 美防長關切解放軍挑釁台海美國國防部長奧斯汀與中國防長董軍五月卅一日在新加坡召開的「香格里拉對話」安全會議場邊舉行雙邊會談，奧斯汀針對中國日前在台灣周邊軍演表示關切，重申中國不應該利用台灣政權過渡當做其脅迫措施的藉口。\\n            \\n        \\n\\n                \\n            \\n                \\n            \\n            \\n                川普被判有罪 美兩黨全力動員號召支持者\\r\\n                國際\\n                1天前\\n                https://news.ltn.com.tw/news/world/breakingnews/4691398\\n                前美國總統川普2015年於川普大樓大廳召開記者會，宣布參加2016年共和黨總統初選。將近9年後，川普今天在相同地點向媒體說明審訊被操控，將上訴到底。距離美國總統選舉不到半年，兩黨全力動員，在黨代表大會召開前召喚基層支持者。川普史無前例成為美國首個刑事罪行在身的前總統後，隔天在紐約曼哈頓起家地川普大樓\\n            \\n        \\n\\n                \\n            \\n                \\n            \\n            \\n                自由廣場》漫畫︰川普說\\n                評論\\n                1天前\\n                https://talk.ltn.com.tw/article/paper/1649003\\n                川普說\\n            \\n        \\n\\n                \\n            \\n                \\n            \\n            \\n                中國軍演恐常態化 顧立雄：國軍妥適應處\\n                政治\\n                1天前\\n                https://news.ltn.com.tw/news/politics/paper/1649040\\n                總統賴清德就職後，中國進行環台軍演，國安局長蔡明彥週三示警中國軍演可能常態化。國防部長顧立雄昨在立法院受訪表示，尊重也同意國安局相關的判斷，每次面對軍演要妥適應處是國軍的責任，也要從每次軍演得到經驗，不斷增強戰備及戰力。外媒報導，前美國總統川普於募款活動聲稱，若中國在他任內入侵台灣，他會轟炸北京和莫\\n            \\n        \\n\\n                \\n            \\n                \\n            \\n            \\n                川普封口費案34罪成立 無礙參選\\n                國際\\n                1天前\\n                https://news.ltn.com.tw/news/world/paper/1649101\\n                美國前總統川普涉嫌在二○一六年總統大選期間，向前成人片女星、花名「狂暴丹尼絲」的史蒂芬妮．克利弗德支付封口費，在去年被控卅四項偽造商業紀錄重罪。紐約曼哈頓法院陪審團五月卅日一致裁定全部罪名成立，使川普成為首位遭刑事定罪的前總統。然而，川普離開法院時堅稱無辜，還說真正的審判是在「十一月五日」的總統大選\\n            \\n        \\n\\n                \\n            \\n                \\n            \\n            \\n                美6成7選民心意已定 判決難左右\\n                國際\\n                1天前\\n                https://news.ltn.com.tw/news/world/paper/1649102\\n                美國前總統川普被判卅四項商業紀錄偽造罪罪名成立，為半年後的美國總統大選投下震撼彈。然而，最近民調結果顯示，多達六成七選民直言，他們的投票意向已定，不受審判結果動搖。共和黨民調專家也認為，選民「記性很差」，判決最終應不會產生影響。美國全國公共電台（NPR）、公共電視網（PBS）節目「新聞時刻」和馬瑞斯\\n            \\n        \\n\\n                \\n            \\n                \\n            \\n            \\n                川普批歷史性定罪出於政治動機 將在宣判後上訴\\r\\n                國際\\n                1天前\\n                https://news.ltn.com.tw/news/world/breakingnews/4691390\\n                川普今天指出，紐約陪審團就封口費案將他判定有罪，讓他成了第一位被定罪的美國總統，他將對此提出上訴，不過須等到7月11日宣判後才能這麼做。路透社報導，這位前美國總統在紐約曼哈頓（Manhattan）的川普大樓（Trump Tower）大廳發表談話，重申這次判決是為了阻礙他重返白宮，並警告說沒有美國人可\\n            \\n        \\n\\n                \\n            \\n                \\n            \\n            \\n                川普被定罪 旗下社群媒體公司股價重跌8％\\n                國際\\n                1天前\\n                https://news.ltn.com.tw/news/world/breakingnews/4691363\\n                美國前總統川普封口費案34項指控全部罪成，旗下公司「川普媒體與科技集團」（Trump Media & Technology Group）今天開盤後股價一度重跌8％。美國紐約陪審團昨天裁決，前總統川普（Donald Trump）為掩蓋在2016年大選前支付豔星封口費一事而偽造文件有罪，川普成為第一位在\\n            \\n        \\n\\n                \\n            \\n                \\n            \\n            \\n                不受川普封口費案影響 67％美國選民心意已定\\n                國際\\n                1天前\\n                https://news.ltn.com.tw/news/world/breakingnews/4691267\\n                美國前總統川普被控曾支付成人片女星封口費，而被紐約州陪審團判卅四項商業紀錄偽造罪的罪名成立，為半年後的美國總統大選投下震撼彈。然而，最近民調結果顯示，多達6成7選民直言，他們的投票意向已定，不受審判結果動搖。共和黨民調專家也認為，選民「記性很差」，判決最終應不會產生影響。但也有人推測，這會讓同時討厭\\n            \\n        \\n\\n                \\n            \\n                \\n            \\n            \\n                封口費定罪無礙川普競選與就職 後續重點一次看\\n                國際\\n                2天前\\n                https://news.ltn.com.tw/news/world/breakingnews/4690598\\n                美國紐約的陪審團今天認定，前總統川普因支付封口費給成人片女星企圖遮羞一事有罪，但就算在今年11月5日總統大選之前被判入獄服刑，也無礙他繼續競選乃至就職。華盛頓郵報指出，川普這樁向豔星付款封口一案遭起訴34項偽造商業記錄罪行，陪審團全都認定有罪。\\n            \\n        \\n\\n            '"
            ]
          },
          "execution_count": 5,
          "metadata": {},
          "output_type": "execute_result"
        }
      ],
      "source": [
        "# 轉為 Element 物件\n",
        "tree = lxml.html.fromstring(r.text)\n",
        "# 使用 XPath 定位\n",
        "tree.xpath('//ul[@class=\"list boxTitle\"]')[0].text_content()\n"
      ]
    },
    {
      "cell_type": "markdown",
      "metadata": {
        "id": "PePqFoWbWnuq"
      },
      "source": [
        "#### 獲取每篇文章標題、連結\n"
      ]
    },
    {
      "cell_type": "code",
      "execution_count": 6,
      "metadata": {
        "colab": {
          "base_uri": "https://localhost:8080/"
        },
        "id": "9lrcvWS4VzAj",
        "outputId": "a68831fa-37f1-4728-d9ed-42ed48e09de2"
      },
      "outputs": [
        {
          "data": {
            "text/plain": [
              "[('川普被定罪面臨136年監禁 企業大亨：沒人想在紐約做生意了',\n",
              "  'https://ec.ltn.com.tw/article/breakingnews/4692027'),\n",
              " ('川普被定罪 小額募款24小時衝17億', 'https://news.ltn.com.tw/news/world/paper/1649265'),\n",
              " ('一週大事》立法院通過藍白國會擴權法案', 'https://news.ltn.com.tw/news/politics/paper/1649179'),\n",
              " ('川普被定罪眾口喧騰 官司要角「暴風女」不吭聲',\n",
              "  'https://news.ltn.com.tw/news/world/breakingnews/4691903'),\n",
              " ('川普被定罪激發支持群眾 小額募款1天內衝17億台幣',\n",
              "  'https://news.ltn.com.tw/news/world/breakingnews/4691898'),\n",
              " ('美防長奧斯汀：唯有亞洲安全 美國才能安全',\n",
              "  'https://news.ltn.com.tw/news/world/breakingnews/4691783'),\n",
              " ('川普被定罪質疑審判不公 痛罵法官暴君魔鬼',\n",
              "  'https://news.ltn.com.tw/news/world/breakingnews/4691621'),\n",
              " ('川普封口費案有罪 10％共和黨選民意向動搖',\n",
              "  'https://news.ltn.com.tw/news/world/breakingnews/4691647'),\n",
              " ('川普不服定罪 外國盟友同仇敵愾其他政要觀望',\n",
              "  'https://news.ltn.com.tw/news/world/breakingnews/4691587'),\n",
              " ('新書「沸騰的護城河」美前副國安顧問博明建議台灣要有全新軍隊文化',\n",
              "  'https://news.ltn.com.tw/news/politics/breakingnews/4691548'),\n",
              " ('06/01 各報重點新聞一覽', 'https://news.ltn.com.tw/news/life/breakingnews/4691412'),\n",
              " ('川普被判有罪 美兩黨全力動員號召支持者\\r',\n",
              "  'https://news.ltn.com.tw/news/world/breakingnews/4691398'),\n",
              " ('自由廣場》漫畫︰川普說', 'https://talk.ltn.com.tw/article/paper/1649003'),\n",
              " ('中國軍演恐常態化 顧立雄：國軍妥適應處',\n",
              "  'https://news.ltn.com.tw/news/politics/paper/1649040'),\n",
              " ('川普封口費案34罪成立 無礙參選', 'https://news.ltn.com.tw/news/world/paper/1649101'),\n",
              " ('美6成7選民心意已定 判決難左右', 'https://news.ltn.com.tw/news/world/paper/1649102'),\n",
              " ('川普批歷史性定罪出於政治動機 將在宣判後上訴\\r',\n",
              "  'https://news.ltn.com.tw/news/world/breakingnews/4691390'),\n",
              " ('川普被定罪 旗下社群媒體公司股價重跌8％',\n",
              "  'https://news.ltn.com.tw/news/world/breakingnews/4691363'),\n",
              " ('不受川普封口費案影響 67％美國選民心意已定',\n",
              "  'https://news.ltn.com.tw/news/world/breakingnews/4691267'),\n",
              " ('封口費定罪無礙川普競選與就職 後續重點一次看',\n",
              "  'https://news.ltn.com.tw/news/world/breakingnews/4690598')]"
            ]
          },
          "execution_count": 6,
          "metadata": {},
          "output_type": "execute_result"
        }
      ],
      "source": [
        "item_list = tree.xpath('//ul[@class=\"list boxTitle\"]')[0].xpath(\"./li\")\n",
        "\n",
        "article_list = []\n",
        "for item in item_list:\n",
        "  piece = item.xpath('./a[@class=\"ph\"]')[0]  # 獲取 class 屬性為 ph 的 <a> \n",
        "  title = piece.xpath(\"./@title\")[0]  # 獲取 <a> 的 title 屬性\n",
        "  url = piece.xpath(\"./@href\")[0]  # 獲取 <a> 的 href 屬性\n",
        "  article_list.append((title, url))\n",
        "\n",
        "article_list\n"
      ]
    },
    {
      "cell_type": "code",
      "execution_count": null,
      "metadata": {
        "id": "5ioAtwpkWxmv"
      },
      "outputs": [],
      "source": []
    }
  ],
  "metadata": {
    "colab": {
      "collapsed_sections": [],
      "name": "Day18_hw.ipynb",
      "provenance": [],
      "toc_visible": true
    },
    "kernelspec": {
      "display_name": "Python 3",
      "name": "python3"
    },
    "language_info": {
      "codemirror_mode": {
        "name": "ipython",
        "version": 3
      },
      "file_extension": ".py",
      "mimetype": "text/x-python",
      "name": "python",
      "nbconvert_exporter": "python",
      "pygments_lexer": "ipython3",
      "version": "3.11.8"
    }
  },
  "nbformat": 4,
  "nbformat_minor": 0
}
