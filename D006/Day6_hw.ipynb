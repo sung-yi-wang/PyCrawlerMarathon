{
 "cells": [
  {
   "cell_type": "markdown",
   "metadata": {
    "id": "RmEW9BEct8Fk"
   },
   "source": [
    "## 作業說明\n",
    "\n",
    "Day6 我們介紹了靜態網頁的運作原理和網頁結構，並且示範了如何使用 CSS selector 及 XPath 選取網頁物件\n",
    "\n",
    "今日作業我們要實地拿一個經典的靜態網頁來練習物件的定位。猜到了嗎，就是 YCombinator Blog\n",
    "\n",
    "- 目標網站： [YCombinator](https://news.ycombinator.com/)\n",
    "- 爬蟲目標：能透過 CSS selector 成功選取第一頁所有文章標題\n",
    "- 示意圖\n",
    "![](https://i.imgur.com/egRGiWg.png)"
   ]
  },
  {
   "cell_type": "code",
   "execution_count": 1,
   "metadata": {
    "id": "jD3-yxQ4uAaL"
   },
   "outputs": [],
   "source": [
    "import requests\n",
    "from bs4 import BeautifulSoup"
   ]
  },
  {
   "cell_type": "code",
   "execution_count": 2,
   "metadata": {},
   "outputs": [
    {
     "data": {
      "text/plain": [
       "<Response [200]>"
      ]
     },
     "execution_count": 2,
     "metadata": {},
     "output_type": "execute_result"
    }
   ],
   "source": [
    "headers = {\n",
    "    'Accept': 'text/html,application/xhtml+xml,application/xml;q=0.9,image/avif,image/webp,*/*;q=0.8',\n",
    "    'User-Agent': 'Mozilla/5.0 (Macintosh; Intel Mac OS X 10.15; rv:106.0) Gecko/20100101 Firefox/106.0'\n",
    "}\n",
    "url = 'https://news.ycombinator.com/'\n",
    "res = requests.get(url, headers=headers)\n",
    "res"
   ]
  },
  {
   "cell_type": "code",
   "execution_count": 3,
   "metadata": {},
   "outputs": [],
   "source": [
    "soup = BeautifulSoup(res.content, 'html.parser')"
   ]
  },
  {
   "cell_type": "code",
   "execution_count": 4,
   "metadata": {},
   "outputs": [
    {
     "name": "stdout",
     "output_type": "stream",
     "text": [
      "Tesla Settles Fatal Crash Suit Ahead of California Trial (ttnews.com)\n",
      "TTE: Terminal Text Effects (chrisbuilds.github.io)\n",
      "Llama 3-V: Matching GPT4-V with a 100x smaller model and 500 dollars (aksh-garg.medium.com)\n",
      "Ex-OpenAI board member reveals what led to Sam Altman's brief ousting (businessinsider.com)\n",
      "Reproducing GPT-2 in llm.c (github.com/karpathy)\n",
      "Shadama: A particle simulation programming environment for everyone (tinlizzie.org)\n",
      "Show HN: I made a free app to calibrate your turntable by simply playing a song (okat.best)\n",
      "Proposal to change default annotation processing policy in JDK 23 (openjdk.org)\n",
      "Ask HN: Why do games companies not release source code for old games?\n",
      "Happiness (complicated.world)\n",
      "Steve Jurvetson's personal collection of Apollo Lunar Module parts (flickr.com)\n",
      "Eradicating N+1s: The Two-Phase Data Load and Render Pattern in Go (brandur.org)\n",
      "Writing an NVMe Driver in Rust [pdf] (tum.de)\n",
      "Show HN: Openkoda – Open–source, private, Salesforce alternative (github.com/openkoda)\n",
      "Researchers accurately dating a 7k-year-old settlement using cosmic rays (phys.org)\n",
      "API Shouldn't Redirect HTTP to HTTPS (jviide.iki.fi)\n",
      "An air quality model that is evolving with the times (eos.org)\n",
      "The problem with the Darling 58 genetically modified chestnut tree (nymag.com)\n",
      "Temu's semi-managed model could change everything (techbuzzchina.substack.com)\n",
      "Simple Speech-to-Text on the '10 Cents' CH32V003 Microcontroller (github.com/brian-smith-github)\n",
      "Show HN: Savvy – Create, Share and Run Runbooks from your Terminal (github.com/getsavvyinc)\n",
      "Electromagnetic Waves and Antennas (2016) (rutgers.edu)\n",
      "Generalizing Support for Functional OOP in R (r-project.org)\n",
      "Linum (YC W23) is a hiring a founding AI engineer to train text-to-video models (workatastartup.com)\n",
      "Turbo9 – A Compact and Efficient Pipelined 6809 Microprocessor IP (github.com/turbo9team)\n",
      "Tinygrad 0.9.0 (github.com/tinygrad)\n",
      "Researchers cracked an 11-year-old password to a $3M crypto wallet (wired.com)\n",
      "Show HN: File0 – An easier way to manage files in serverless apps (file0.dev)\n",
      "Mobifree – An open-source mobile ecosystem (f-droid.org)\n",
      "Former FTX Executive Ryan Salame Sentenced to 90 Months in Prison (justice.gov)\n"
     ]
    }
   ],
   "source": [
    "article_blocks = soup.find_all(\"tr\", {\"class\": \"athing\"})\n",
    "for item in article_blocks:\n",
    "    print(item.find_all(\"td\", {\"class\": \"title\"})[1].text)"
   ]
  },
  {
   "cell_type": "code",
   "execution_count": 5,
   "metadata": {},
   "outputs": [
    {
     "data": {
      "text/plain": [
       "['Tesla Settles Fatal Crash Suit Ahead of California Trial (ttnews.com)',\n",
       " 'TTE: Terminal Text Effects (chrisbuilds.github.io)',\n",
       " 'Llama 3-V: Matching GPT4-V with a 100x smaller model and 500 dollars (aksh-garg.medium.com)',\n",
       " \"Ex-OpenAI board member reveals what led to Sam Altman's brief ousting (businessinsider.com)\",\n",
       " 'Reproducing GPT-2 in llm.c (github.com/karpathy)',\n",
       " 'Shadama: A particle simulation programming environment for everyone (tinlizzie.org)',\n",
       " 'Show HN: I made a free app to calibrate your turntable by simply playing a song (okat.best)',\n",
       " 'Proposal to change default annotation processing policy in JDK 23 (openjdk.org)',\n",
       " 'Ask HN: Why do games companies not release source code for old games?',\n",
       " 'Happiness (complicated.world)',\n",
       " \"Steve Jurvetson's personal collection of Apollo Lunar Module parts (flickr.com)\",\n",
       " 'Eradicating N+1s: The Two-Phase Data Load and Render Pattern in Go (brandur.org)',\n",
       " 'Writing an NVMe Driver in Rust [pdf] (tum.de)',\n",
       " 'Show HN: Openkoda – Open–source, private, Salesforce alternative (github.com/openkoda)',\n",
       " 'Researchers accurately dating a 7k-year-old settlement using cosmic rays (phys.org)',\n",
       " \"API Shouldn't Redirect HTTP to HTTPS (jviide.iki.fi)\",\n",
       " 'An air quality model that is evolving with the times (eos.org)',\n",
       " 'The problem with the Darling 58 genetically modified chestnut tree (nymag.com)',\n",
       " \"Temu's semi-managed model could change everything (techbuzzchina.substack.com)\",\n",
       " \"Simple Speech-to-Text on the '10 Cents' CH32V003 Microcontroller (github.com/brian-smith-github)\",\n",
       " 'Show HN: Savvy – Create, Share and Run Runbooks from your Terminal (github.com/getsavvyinc)',\n",
       " 'Electromagnetic Waves and Antennas (2016) (rutgers.edu)',\n",
       " 'Generalizing Support for Functional OOP in R (r-project.org)',\n",
       " 'Linum (YC W23) is a hiring a founding AI engineer to train text-to-video models (workatastartup.com)',\n",
       " 'Turbo9 – A Compact and Efficient Pipelined 6809 Microprocessor IP (github.com/turbo9team)',\n",
       " 'Tinygrad 0.9.0 (github.com/tinygrad)',\n",
       " 'Researchers cracked an 11-year-old password to a $3M crypto wallet (wired.com)',\n",
       " 'Show HN: File0 – An easier way to manage files in serverless apps (file0.dev)',\n",
       " 'Mobifree – An open-source mobile ecosystem (f-droid.org)',\n",
       " 'Former FTX Executive Ryan Salame Sentenced to 90 Months in Prison (justice.gov)']"
      ]
     },
     "execution_count": 5,
     "metadata": {},
     "output_type": "execute_result"
    }
   ],
   "source": [
    "# list comprehension\n",
    "[item.find_all(\"td\", {\"class\": \"title\"})[1].text for item in soup.find_all(\"tr\", {\"class\": \"athing\"})]"
   ]
  },
  {
   "cell_type": "code",
   "execution_count": null,
   "metadata": {},
   "outputs": [],
   "source": []
  }
 ],
 "metadata": {
  "colab": {
   "authorship_tag": "ABX9TyPt+rpyqAotmmkf/Nu7/DbQ",
   "collapsed_sections": [],
   "name": "Day6_hw.ipynb",
   "provenance": []
  },
  "kernelspec": {
   "display_name": "Python 3 (ipykernel)",
   "language": "python",
   "name": "python3"
  },
  "language_info": {
   "codemirror_mode": {
    "name": "ipython",
    "version": 3
   },
   "file_extension": ".py",
   "mimetype": "text/x-python",
   "name": "python",
   "nbconvert_exporter": "python",
   "pygments_lexer": "ipython3",
   "version": "3.9.13"
  }
 },
 "nbformat": 4,
 "nbformat_minor": 4
}
