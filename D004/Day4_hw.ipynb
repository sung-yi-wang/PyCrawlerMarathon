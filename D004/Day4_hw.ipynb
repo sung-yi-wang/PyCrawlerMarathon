{
 "cells": [
  {
   "cell_type": "markdown",
   "metadata": {
    "id": "RmEW9BEct8Fk"
   },
   "source": [
    "## 作業說明\n",
    "\n",
    "今天我們介紹了爬蟲所需的 HTTP 基本知識，包含 server-client 架構、 Requests 方法、HTTP Response 狀態碼及 HTTP協定中的 cookie 和 seesions。\n",
    "\n",
    "請學員回答以下問題：\n"
   ]
  },
  {
   "cell_type": "markdown",
   "metadata": {
    "id": "A12euxEYyD_y"
   },
   "source": [
    "### HTTP Response Status Code 狀態碼\n",
    "- Status code: **200** 代表的意思是？\n",
    "- Status code: **301** 代表的意思是？\n",
    "- Status code: **302** 代表的意思是？\n",
    "- Status code: **502** 代表的意思是？\n",
    "\n",
    "Hint: 可以到[這個網址](https://developer.mozilla.org/zh-TW/docs/Web/HTTP/Status)查詢相關資料"
   ]
  },
  {
   "cell_type": "markdown",
   "metadata": {
    "id": "jD3-yxQ4uAaL"
   },
   "source": [
    "### 答\n",
    "Status code: 200 (OK)  \n",
    "&emsp;&emsp;代表請求成功  \n",
    "\n",
    "Status code: 301 (Moved Permanently)  \n",
    "&emsp;&emsp;代表目標網址已經改變，會在時間內重定向到新的網址（轉址）  \n",
    "&emsp;&emsp;適合永久轉址使用，因為 301 Redirect 意味著 Google 會將舊網域的「權重」轉移到新網域\n",
    "\n",
    "Status code: 302 (Found)  \n",
    "&emsp;&emsp;和 301 一樣會進行轉址，但是有 SEO 上的差異：  \n",
    "&emsp;&emsp;適合暫時轉址使用，302 Redirect 只會將「流量」從舊網址轉到新網址，不會影響舊網域的權重；但是不宜長期使用，還是會影響到舊網址的 SEO  \n",
    "&emsp;&emsp;延伸閱讀：[301 與 302 Redirect 的差異](https://seo.whoops.com.tw/301-302-redirect-seo/)\n",
    "\n",
    "Status code: 502 (Bad Gateway)  \n",
    "&emsp;&emsp;代表網站伺服器端產生的錯誤，導致無法順利的回傳 Response 給客戶端"
   ]
  },
  {
   "cell_type": "code",
   "execution_count": null,
   "metadata": {},
   "outputs": [],
   "source": []
  }
 ],
 "metadata": {
  "colab": {
   "authorship_tag": "ABX9TyNFiQWZYRwukoEMBTHCLuGy",
   "collapsed_sections": [],
   "name": "Day4_hw.ipynb",
   "provenance": []
  },
  "kernelspec": {
   "display_name": "Python 3 (ipykernel)",
   "language": "python",
   "name": "python3"
  },
  "language_info": {
   "codemirror_mode": {
    "name": "ipython",
    "version": 3
   },
   "file_extension": ".py",
   "mimetype": "text/x-python",
   "name": "python",
   "nbconvert_exporter": "python",
   "pygments_lexer": "ipython3",
   "version": "3.9.13"
  }
 },
 "nbformat": 4,
 "nbformat_minor": 4
}
