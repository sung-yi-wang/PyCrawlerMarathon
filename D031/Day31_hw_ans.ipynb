{
 "cells": [
  {
   "cell_type": "markdown",
   "metadata": {},
   "source": [
    "# Day31\n",
    "## Selenium 物件定位 – XPath\n",
    "- 在 Selenium 中使用 XPath\n",
    "- 盤點 XPath 語法\n",
    "\n"
   ]
  },
  {
   "cell_type": "markdown",
   "metadata": {},
   "source": [
    "## 作業說明\n",
    "練習更多在 selenium 中使用 XPath 的變化用法\n",
    "- 目標網站： https://channel.jd.com/outdoor.html\n",
    "\n",
    "目標：\n",
    "- 取得所有小類別名稱下的\n",
    "  - 品牌列表（名稱、連結）\n",
    "\n",
    "![](https://i.imgur.com/SbV4W35.png)\n",
    "\n",
    "Hint: \n",
    "- 請根據引導完成這份代碼\n",
    "- 記得先安裝 Chrome 瀏覽器，才能順利啟動 chromedriver\n",
    "- 會用到我們 Day20 所學的 Xpath"
   ]
  },
  {
   "cell_type": "markdown",
   "metadata": {},
   "source": [
    "### 套件安裝"
   ]
  },
  {
   "cell_type": "code",
   "execution_count": null,
   "metadata": {},
   "outputs": [],
   "source": [
    "!pip install -U selenium\n",
    "!pip install webdriver_manager\n",
    "!pip install fake-useragent"
   ]
  },
  {
   "cell_type": "markdown",
   "metadata": {},
   "source": [
    "### 套件導入"
   ]
  },
  {
   "cell_type": "code",
   "execution_count": 1,
   "metadata": {},
   "outputs": [],
   "source": [
    "from fake_useragent import UserAgent\n",
    "import numpy as np\n",
    "from selenium import webdriver\n",
    "from webdriver_manager.chrome import ChromeDriverManager\n",
    "import time\n",
    "from tqdm import tqdm\n"
   ]
  },
  {
   "cell_type": "code",
   "execution_count": 3,
   "metadata": {},
   "outputs": [
    {
     "name": "stderr",
     "output_type": "stream",
     "text": [
      "\n",
      "\n",
      "====== WebDriver manager ======\n",
      "Current google-chrome version is 102.0.5005\n",
      "Get LATEST chromedriver version for 102.0.5005 google-chrome\n",
      "Driver [/Users/jiunyiyang/.wdm/drivers/chromedriver/mac64/102.0.5005.61/chromedriver] found in cache\n"
     ]
    }
   ],
   "source": [
    "# 下載 chrome webdriver 執行檔至預設位址，下載完成後會顯示位置\n",
    "driver = webdriver.Chrome(ChromeDriverManager().install())"
   ]
  },
  {
   "cell_type": "markdown",
   "metadata": {},
   "source": [
    "### 使用 fake-useragent 產生 User Agent"
   ]
  },
  {
   "cell_type": "code",
   "execution_count": 2,
   "metadata": {},
   "outputs": [],
   "source": [
    "# 目標網址\n",
    "base_url = 'https://channel.jd.com/outdoor.html'\n",
    "# Chromedriver path\n",
    "driver_path = \"/Users/jiunyiyang/.wdm/drivers/chromedriver/mac64/102.0.5005.61/chromedriver\"\n",
    "\n",
    "# 設定 user agent\n",
    "opt = webdriver.ChromeOptions()\n",
    "user_agent = UserAgent()\n",
    "opt.add_argument('--user-agent=%s' % user_agent)\n"
   ]
  },
  {
   "cell_type": "markdown",
   "metadata": {},
   "source": [
    "### 獲取所有小類別頁面連結 \n",
    "> Day29/Day30 內容，可自行載入儲存的爬取表格，也可以再爬一次"
   ]
  },
  {
   "cell_type": "code",
   "execution_count": 3,
   "metadata": {},
   "outputs": [
    {
     "name": "stderr",
     "output_type": "stream",
     "text": [
      "100%|██████████| 5/5 [00:01<00:00,  3.87it/s]\n"
     ]
    }
   ],
   "source": [
    "# 載入目標網址\n",
    "driver = webdriver.Chrome(driver_path, options=opt)\n",
    "driver.get(base_url)\n",
    "\n",
    "# 模擬用戶等待網站載入，每次都用隨機時間\n",
    "time.sleep(np.random.uniform(3, 5))\n",
    "\n",
    "# 有兩種規則\n",
    "# 1. 大字類別： <div id=\"Categorys\">...<dt>\"戶外鞋服\"</dt>   (網站本身英文複數用錯...)\n",
    "# 2. 小字類別： <div id=\"Categorys\">...<dd>...<a>\"衝鋒衣褲\"</a>\n",
    "\n",
    "# 取得 <div id=\"Categorys\"> \n",
    "categories = driver.find_element_by_xpath('//div[@id=\"Categorys\"]')\n",
    "\n",
    "# 取得所有 大字類別\n",
    "# 使用相對路徑: \".\" 開頭\n",
    "cate_names = []\n",
    "for ele_group in tqdm(categories.find_elements_by_xpath('.//dl[@class=\"item-inner\"]')):\n",
    "    medium_cate = ele_group.find_element_by_xpath('.//dt').text\n",
    "    for small_cate in ele_group.find_elements_by_xpath('.//a'):\n",
    "        cate_names.append((medium_cate, small_cate.text, small_cate.get_attribute('href')))\n",
    "\n",
    "driver.close()\n"
   ]
  },
  {
   "cell_type": "code",
   "execution_count": 8,
   "metadata": {},
   "outputs": [
    {
     "data": {
      "text/html": [
       "<div>\n",
       "<style scoped>\n",
       "    .dataframe tbody tr th:only-of-type {\n",
       "        vertical-align: middle;\n",
       "    }\n",
       "\n",
       "    .dataframe tbody tr th {\n",
       "        vertical-align: top;\n",
       "    }\n",
       "\n",
       "    .dataframe thead th {\n",
       "        text-align: right;\n",
       "    }\n",
       "</style>\n",
       "<table border=\"1\" class=\"dataframe\">\n",
       "  <thead>\n",
       "    <tr style=\"text-align: right;\">\n",
       "      <th></th>\n",
       "      <th>medium_cate</th>\n",
       "      <th>small_cate</th>\n",
       "      <th>url</th>\n",
       "    </tr>\n",
       "  </thead>\n",
       "  <tbody>\n",
       "    <tr>\n",
       "      <th>0</th>\n",
       "      <td>户外鞋服</td>\n",
       "      <td>冲锋衣裤</td>\n",
       "      <td>https://list.jd.com/list.html?cat=1318%2C2628%...</td>\n",
       "    </tr>\n",
       "    <tr>\n",
       "      <th>1</th>\n",
       "      <td>户外鞋服</td>\n",
       "      <td>徒步鞋</td>\n",
       "      <td>https://list.jd.com/list.html?cat=1318%2C2628%...</td>\n",
       "    </tr>\n",
       "    <tr>\n",
       "      <th>2</th>\n",
       "      <td>户外鞋服</td>\n",
       "      <td>抓绒衣裤</td>\n",
       "      <td>https://list.jd.com/list.html?cat=1318,2628,12128</td>\n",
       "    </tr>\n",
       "    <tr>\n",
       "      <th>3</th>\n",
       "      <td>户外鞋服</td>\n",
       "      <td>羽绒服棉服</td>\n",
       "      <td>https://list.jd.com/list.html?cat=1318,2628,12126</td>\n",
       "    </tr>\n",
       "    <tr>\n",
       "      <th>4</th>\n",
       "      <td>户外鞋服</td>\n",
       "      <td>越野跑鞋</td>\n",
       "      <td>https://list.jd.com/list.html?cat=1318,2628,12137</td>\n",
       "    </tr>\n",
       "  </tbody>\n",
       "</table>\n",
       "</div>"
      ],
      "text/plain": [
       "  medium_cate small_cate                                                url\n",
       "0        户外鞋服       冲锋衣裤  https://list.jd.com/list.html?cat=1318%2C2628%...\n",
       "1        户外鞋服        徒步鞋  https://list.jd.com/list.html?cat=1318%2C2628%...\n",
       "2        户外鞋服       抓绒衣裤  https://list.jd.com/list.html?cat=1318,2628,12128\n",
       "3        户外鞋服      羽绒服棉服  https://list.jd.com/list.html?cat=1318,2628,12126\n",
       "4        户外鞋服       越野跑鞋  https://list.jd.com/list.html?cat=1318,2628,12137"
      ]
     },
     "execution_count": 8,
     "metadata": {},
     "output_type": "execute_result"
    }
   ],
   "source": [
    "import pandas as pd\n",
    "\n",
    "# 將小類別頁面連結存成 DataFrame\n",
    "df_cates = pd.DataFrame(cate_names, columns=[\"medium_cate\",\"small_cate\",\"url\"])\n",
    "df_cates.head()"
   ]
  },
  {
   "cell_type": "markdown",
   "metadata": {},
   "source": [
    "### 取得類別下的品牌列表"
   ]
  },
  {
   "cell_type": "code",
   "execution_count": 21,
   "metadata": {},
   "outputs": [],
   "source": [
    "def fetch_brand_list(cate_name, url):\n",
    "    \"\"\"\n",
    "    取得類別下的品牌列表\n",
    "    \"\"\"\n",
    "    try:\n",
    "        # 載入網址\n",
    "        driver.get(url)\n",
    "    \n",
    "        # 模擬用戶等待網站載入，每次都用隨機時間\n",
    "        time.sleep(np.random.uniform(3, 5))\n",
    "\n",
    "        # 先框定品牌區塊\n",
    "        brand_block = driver.find_element_by_xpath('//ul[@class=\"J_valueList v-fixed\"]')\n",
    "        brand_list = []\n",
    "        # 遍歷每個品牌的節點、抓取資訊\n",
    "        for brand in tqdm(brand_block.find_elements_by_xpath('.//a')):\n",
    "            try:\n",
    "                img = brand.find_element_by_xpath('./img').get_attribute('src')\n",
    "            except:\n",
    "                img = None\n",
    "            brand_list.append((\n",
    "                cate_name,\n",
    "                brand.get_attribute('title'), \n",
    "                brand.get_attribute('href'),\n",
    "                img\n",
    "            ))\n",
    "        return brand_list\n",
    "    except TimeoutException as e:\n",
    "        return []\n"
   ]
  },
  {
   "cell_type": "code",
   "execution_count": 16,
   "metadata": {},
   "outputs": [
    {
     "name": "stderr",
     "output_type": "stream",
     "text": [
      "100%|██████████| 392/392 [00:09<00:00, 40.53it/s]\n"
     ]
    },
    {
     "name": "stdout",
     "output_type": "stream",
     "text": [
      "[('冲锋衣裤', '北面（The North Face）', 'https://list.jd.com/list.html?cat=1318%2C2628%2C12123&ev=exbrand_%E5%8C%97%E9%9D%A2%EF%BC%88The%20North%20Face%EF%BC%89%5E&cid3=12123', 'https://img30.360buyimg.com/popshop/jfs/t1/18119/19/13818/21465/5ca2cb71Ec6236d60/1460957cdb49a907.jpg'), ('冲锋衣裤', '哥伦比亚（Columbia）', 'https://list.jd.com/list.html?cat=1318%2C2628%2C12123&ev=exbrand_%E5%93%A5%E4%BC%A6%E6%AF%94%E4%BA%9A%EF%BC%88Columbia%EF%BC%89%5E&cid3=12123', 'https://img20.360buyimg.com/popshop/jfs/t1921/79/2835163344/4591/715667db/56f23bd6N5b8eb10a.jpg'), ('冲锋衣裤', '探路者（TOREAD）', 'https://list.jd.com/list.html?cat=1318%2C2628%2C12123&ev=exbrand_%E6%8E%A2%E8%B7%AF%E8%80%85%EF%BC%88TOREAD%EF%BC%89%5E&cid3=12123', 'https://img30.360buyimg.com/popshop/jfs/t2890/25/2339333782/5918/c68774ba/5762439eNad1cbdfe.jpg'), ('冲锋衣裤', '骆驼（CAMEL）', 'https://list.jd.com/list.html?cat=1318%2C2628%2C12123&ev=exbrand_%E9%AA%86%E9%A9%BC%EF%BC%88CAMEL%EF%BC%89%5E&cid3=12123', 'https://img20.360buyimg.com/popshop/jfs/t3445/77/626593080/5248/80c91532/58106150N43e65a9a.jpg'), ('冲锋衣裤', 'Jack Wolfskin', 'https://list.jd.com/list.html?cat=1318%2C2628%2C12123&ev=exbrand_Jack%20Wolfskin%5E&cid3=12123', 'https://img30.360buyimg.com/popshop/jfs/t1939/116/2081606398/7035/4d32a2c9/56a5cd77N8d890c92.jpg'), ('冲锋衣裤', '吉普（JEEP）', 'https://list.jd.com/list.html?cat=1318%2C2628%2C12123&ev=exbrand_%E5%90%89%E6%99%AE%EF%BC%88JEEP%EF%BC%89%5E&cid3=12123', 'https://img20.360buyimg.com/popshop/jfs/t2233/334/2884910075/4230/d9d143bb/56f23ce6N7c49b792.jpg'), ('冲锋衣裤', '凯乐石（KAILAS）', 'https://list.jd.com/list.html?cat=1318%2C2628%2C12123&ev=exbrand_%E5%87%AF%E4%B9%90%E7%9F%B3%EF%BC%88KAILAS%EF%BC%89%5E&cid3=12123', 'https://img30.360buyimg.com/popshop/jfs/t2431/44/1497717184/2335/1e86a464/56a5cd6dN5fe0ff6e.png'), ('冲锋衣裤', '伯希和（Pelliot）', 'https://list.jd.com/list.html?cat=1318%2C2628%2C12123&ev=exbrand_%E4%BC%AF%E5%B8%8C%E5%92%8C%EF%BC%88Pelliot%EF%BC%89%5E&cid3=12123', 'https://img20.360buyimg.com/popshop/jfs/t1/85445/7/18593/2233/61516262E29ea58c3/eb07ec3bfea1a8fe.jpg'), ('冲锋衣裤', '迪卡侬（DECATHLON）', 'https://list.jd.com/list.html?cat=1318%2C2628%2C12123&ev=exbrand_%E8%BF%AA%E5%8D%A1%E4%BE%AC%EF%BC%88DECATHLON%EF%BC%89%5E&cid3=12123', 'https://img30.360buyimg.com/popshop/jfs/t1/155153/24/20153/3830/6038d431Ee78ac403/854e7dccd06157b7.png'), ('冲锋衣裤', '始祖鸟（ARC’TERYX）', 'https://list.jd.com/list.html?cat=1318%2C2628%2C12123&ev=exbrand_%E5%A7%8B%E7%A5%96%E9%B8%9F%EF%BC%88ARC%E2%80%99TERYX%EF%BC%89%5E&cid3=12123', 'https://img20.360buyimg.com/popshop/jfs/t2500/11/1019004610/2042/57d0cc2/56397029Ndd6d123e.jpg')]\n"
     ]
    }
   ],
   "source": [
    "test_url = df_cates.url.values.tolist()[0]\n",
    "test_cate = df_cates.small_cate.values.tolist()[0]\n",
    "\n",
    "driver = webdriver.Chrome(driver_path, options=opt)\n",
    "brand_list = fetch_brand_list(cate_name=test_cate, url=test_url)\n",
    "driver.close()\n",
    "\n",
    "print(brand_list[:10])\n"
   ]
  },
  {
   "cell_type": "markdown",
   "metadata": {},
   "source": [
    "### 遍歷所有小類別頁，取得其品牌列表\n",
    "- 使用我們剛剛自定義的 function ，減少重複的撰寫、並設法讓程式變得易讀"
   ]
  },
  {
   "cell_type": "code",
   "execution_count": 22,
   "metadata": {},
   "outputs": [
    {
     "name": "stderr",
     "output_type": "stream",
     "text": [
      "100%|██████████| 392/392 [00:09<00:00, 40.14it/s]\n",
      "100%|██████████| 382/382 [00:10<00:00, 35.50it/s]\n",
      "100%|██████████| 325/325 [00:07<00:00, 44.34it/s]\n",
      "100%|██████████| 274/274 [00:06<00:00, 44.48it/s]\n",
      "100%|██████████| 248/248 [00:05<00:00, 45.00it/s]\n",
      "100%|██████████| 230/230 [00:05<00:00, 38.41it/s]\n",
      "100%|██████████| 466/466 [00:11<00:00, 41.19it/s]\n",
      "100%|██████████| 321/321 [00:06<00:00, 48.80it/s]\n",
      "100%|██████████| 500/500 [00:11<00:00, 45.43it/s]\n",
      "100%|██████████| 314/314 [00:07<00:00, 39.60it/s]\n",
      "100%|██████████| 376/376 [00:08<00:00, 41.93it/s]\n",
      "100%|██████████| 499/499 [00:11<00:00, 44.41it/s]\n",
      "100%|██████████| 309/309 [00:06<00:00, 50.71it/s]\n",
      "100%|██████████| 377/377 [00:08<00:00, 43.76it/s]\n",
      "100%|██████████| 391/391 [00:08<00:00, 46.62it/s]\n",
      "100%|██████████| 500/500 [00:11<00:00, 44.36it/s]\n",
      "100%|██████████| 500/500 [00:09<00:00, 52.25it/s]\n",
      "100%|██████████| 187/187 [00:04<00:00, 40.30it/s]\n",
      "100%|██████████| 96/96 [00:02<00:00, 45.84it/s]\n",
      " 53%|█████▎    | 19/36 [26:10<23:24, 82.63s/it]\n"
     ]
    },
    {
     "ename": "NameError",
     "evalue": "name 'TimeoutException' is not defined",
     "output_type": "error",
     "traceback": [
      "\u001b[0;31m---------------------------------------------------------------------------\u001b[0m",
      "\u001b[0;31mNoSuchElementException\u001b[0m                    Traceback (most recent call last)",
      "\u001b[0;32m/var/folders/0y/xps4wpk11nbfyt4wmvpdcc3w0000gn/T/ipykernel_16316/2565218053.py\u001b[0m in \u001b[0;36mfetch_brand_list\u001b[0;34m(cate_name, url)\u001b[0m\n\u001b[1;32m     12\u001b[0m         \u001b[0;31m# 先框定品牌區塊\u001b[0m\u001b[0;34m\u001b[0m\u001b[0;34m\u001b[0m\u001b[0;34m\u001b[0m\u001b[0m\n\u001b[0;32m---> 13\u001b[0;31m         \u001b[0mbrand_block\u001b[0m \u001b[0;34m=\u001b[0m \u001b[0mdriver\u001b[0m\u001b[0;34m.\u001b[0m\u001b[0mfind_element_by_xpath\u001b[0m\u001b[0;34m(\u001b[0m\u001b[0;34m'//ul[@class=\"J_valueList v-fixed\"]'\u001b[0m\u001b[0;34m)\u001b[0m\u001b[0;34m\u001b[0m\u001b[0;34m\u001b[0m\u001b[0m\n\u001b[0m\u001b[1;32m     14\u001b[0m         \u001b[0mbrand_list\u001b[0m \u001b[0;34m=\u001b[0m \u001b[0;34m[\u001b[0m\u001b[0;34m]\u001b[0m\u001b[0;34m\u001b[0m\u001b[0;34m\u001b[0m\u001b[0m\n",
      "\u001b[0;32m~/opt/anaconda3/envs/crawler/lib/python3.7/site-packages/selenium/webdriver/remote/webdriver.py\u001b[0m in \u001b[0;36mfind_element_by_xpath\u001b[0;34m(self, xpath)\u001b[0m\n\u001b[1;32m    393\u001b[0m         \"\"\"\n\u001b[0;32m--> 394\u001b[0;31m         \u001b[0;32mreturn\u001b[0m \u001b[0mself\u001b[0m\u001b[0;34m.\u001b[0m\u001b[0mfind_element\u001b[0m\u001b[0;34m(\u001b[0m\u001b[0mby\u001b[0m\u001b[0;34m=\u001b[0m\u001b[0mBy\u001b[0m\u001b[0;34m.\u001b[0m\u001b[0mXPATH\u001b[0m\u001b[0;34m,\u001b[0m \u001b[0mvalue\u001b[0m\u001b[0;34m=\u001b[0m\u001b[0mxpath\u001b[0m\u001b[0;34m)\u001b[0m\u001b[0;34m\u001b[0m\u001b[0;34m\u001b[0m\u001b[0m\n\u001b[0m\u001b[1;32m    395\u001b[0m \u001b[0;34m\u001b[0m\u001b[0m\n",
      "\u001b[0;32m~/opt/anaconda3/envs/crawler/lib/python3.7/site-packages/selenium/webdriver/remote/webdriver.py\u001b[0m in \u001b[0;36mfind_element\u001b[0;34m(self, by, value)\u001b[0m\n\u001b[1;32m    977\u001b[0m             \u001b[0;34m'using'\u001b[0m\u001b[0;34m:\u001b[0m \u001b[0mby\u001b[0m\u001b[0;34m,\u001b[0m\u001b[0;34m\u001b[0m\u001b[0;34m\u001b[0m\u001b[0m\n\u001b[0;32m--> 978\u001b[0;31m             'value': value})['value']\n\u001b[0m\u001b[1;32m    979\u001b[0m \u001b[0;34m\u001b[0m\u001b[0m\n",
      "\u001b[0;32m~/opt/anaconda3/envs/crawler/lib/python3.7/site-packages/selenium/webdriver/remote/webdriver.py\u001b[0m in \u001b[0;36mexecute\u001b[0;34m(self, driver_command, params)\u001b[0m\n\u001b[1;32m    320\u001b[0m         \u001b[0;32mif\u001b[0m \u001b[0mresponse\u001b[0m\u001b[0;34m:\u001b[0m\u001b[0;34m\u001b[0m\u001b[0;34m\u001b[0m\u001b[0m\n\u001b[0;32m--> 321\u001b[0;31m             \u001b[0mself\u001b[0m\u001b[0;34m.\u001b[0m\u001b[0merror_handler\u001b[0m\u001b[0;34m.\u001b[0m\u001b[0mcheck_response\u001b[0m\u001b[0;34m(\u001b[0m\u001b[0mresponse\u001b[0m\u001b[0;34m)\u001b[0m\u001b[0;34m\u001b[0m\u001b[0;34m\u001b[0m\u001b[0m\n\u001b[0m\u001b[1;32m    322\u001b[0m             response['value'] = self._unwrap_value(\n",
      "\u001b[0;32m~/opt/anaconda3/envs/crawler/lib/python3.7/site-packages/selenium/webdriver/remote/errorhandler.py\u001b[0m in \u001b[0;36mcheck_response\u001b[0;34m(self, response)\u001b[0m\n\u001b[1;32m    241\u001b[0m             \u001b[0;32mraise\u001b[0m \u001b[0mexception_class\u001b[0m\u001b[0;34m(\u001b[0m\u001b[0mmessage\u001b[0m\u001b[0;34m,\u001b[0m \u001b[0mscreen\u001b[0m\u001b[0;34m,\u001b[0m \u001b[0mstacktrace\u001b[0m\u001b[0;34m,\u001b[0m \u001b[0malert_text\u001b[0m\u001b[0;34m)\u001b[0m\u001b[0;34m\u001b[0m\u001b[0;34m\u001b[0m\u001b[0m\n\u001b[0;32m--> 242\u001b[0;31m         \u001b[0;32mraise\u001b[0m \u001b[0mexception_class\u001b[0m\u001b[0;34m(\u001b[0m\u001b[0mmessage\u001b[0m\u001b[0;34m,\u001b[0m \u001b[0mscreen\u001b[0m\u001b[0;34m,\u001b[0m \u001b[0mstacktrace\u001b[0m\u001b[0;34m)\u001b[0m\u001b[0;34m\u001b[0m\u001b[0;34m\u001b[0m\u001b[0m\n\u001b[0m\u001b[1;32m    243\u001b[0m \u001b[0;34m\u001b[0m\u001b[0m\n",
      "\u001b[0;31mNoSuchElementException\u001b[0m: Message: no such element: Unable to locate element: {\"method\":\"xpath\",\"selector\":\"//ul[@class=\"J_valueList v-fixed\"]\"}\n  (Session info: chrome=102.0.5005.61)\n",
      "\nDuring handling of the above exception, another exception occurred:\n",
      "\u001b[0;31mNameError\u001b[0m                                 Traceback (most recent call last)",
      "\u001b[0;32m/var/folders/0y/xps4wpk11nbfyt4wmvpdcc3w0000gn/T/ipykernel_16316/2632988523.py\u001b[0m in \u001b[0;36m<module>\u001b[0;34m\u001b[0m\n\u001b[1;32m      4\u001b[0m \u001b[0;32mfor\u001b[0m \u001b[0md\u001b[0m \u001b[0;32min\u001b[0m \u001b[0mtqdm\u001b[0m\u001b[0;34m(\u001b[0m\u001b[0mdf_cates\u001b[0m\u001b[0;34m.\u001b[0m\u001b[0mvalues\u001b[0m\u001b[0;34m.\u001b[0m\u001b[0mtolist\u001b[0m\u001b[0;34m(\u001b[0m\u001b[0;34m)\u001b[0m\u001b[0;34m)\u001b[0m\u001b[0;34m:\u001b[0m\u001b[0;34m\u001b[0m\u001b[0;34m\u001b[0m\u001b[0m\n\u001b[1;32m      5\u001b[0m     \u001b[0msmall_cate\u001b[0m\u001b[0;34m,\u001b[0m \u001b[0murl\u001b[0m \u001b[0;34m=\u001b[0m \u001b[0md\u001b[0m\u001b[0;34m[\u001b[0m\u001b[0;36m1\u001b[0m\u001b[0;34m]\u001b[0m\u001b[0;34m,\u001b[0m \u001b[0md\u001b[0m\u001b[0;34m[\u001b[0m\u001b[0;36m2\u001b[0m\u001b[0;34m]\u001b[0m\u001b[0;34m\u001b[0m\u001b[0;34m\u001b[0m\u001b[0m\n\u001b[0;32m----> 6\u001b[0;31m     \u001b[0mbrand_list\u001b[0m \u001b[0;34m=\u001b[0m \u001b[0mfetch_brand_list\u001b[0m\u001b[0;34m(\u001b[0m\u001b[0mcate_name\u001b[0m\u001b[0;34m=\u001b[0m\u001b[0msmall_cate\u001b[0m\u001b[0;34m,\u001b[0m \u001b[0murl\u001b[0m\u001b[0;34m=\u001b[0m\u001b[0murl\u001b[0m\u001b[0;34m)\u001b[0m\u001b[0;34m\u001b[0m\u001b[0;34m\u001b[0m\u001b[0m\n\u001b[0m\u001b[1;32m      7\u001b[0m     \u001b[0mbrands_of_cates\u001b[0m \u001b[0;34m+=\u001b[0m \u001b[0mbrand_list\u001b[0m\u001b[0;34m\u001b[0m\u001b[0;34m\u001b[0m\u001b[0m\n\u001b[1;32m      8\u001b[0m \u001b[0;34m\u001b[0m\u001b[0m\n",
      "\u001b[0;32m/var/folders/0y/xps4wpk11nbfyt4wmvpdcc3w0000gn/T/ipykernel_16316/2565218053.py\u001b[0m in \u001b[0;36mfetch_brand_list\u001b[0;34m(cate_name, url)\u001b[0m\n\u001b[1;32m     26\u001b[0m             ))\n\u001b[1;32m     27\u001b[0m         \u001b[0;32mreturn\u001b[0m \u001b[0mbrand_list\u001b[0m\u001b[0;34m\u001b[0m\u001b[0;34m\u001b[0m\u001b[0m\n\u001b[0;32m---> 28\u001b[0;31m     \u001b[0;32mexcept\u001b[0m \u001b[0mTimeoutException\u001b[0m \u001b[0;32mas\u001b[0m \u001b[0me\u001b[0m\u001b[0;34m:\u001b[0m\u001b[0;34m\u001b[0m\u001b[0;34m\u001b[0m\u001b[0m\n\u001b[0m\u001b[1;32m     29\u001b[0m         \u001b[0;32mreturn\u001b[0m \u001b[0;34m[\u001b[0m\u001b[0;34m]\u001b[0m\u001b[0;34m\u001b[0m\u001b[0;34m\u001b[0m\u001b[0m\n",
      "\u001b[0;31mNameError\u001b[0m: name 'TimeoutException' is not defined"
     ]
    }
   ],
   "source": [
    "driver = webdriver.Chrome(driver_path, options=opt)\n",
    "\n",
    "brands_of_cates = []\n",
    "for d in tqdm(df_cates.values.tolist()):\n",
    "    small_cate, url = d[1], d[2]\n",
    "    brand_list = fetch_brand_list(cate_name=small_cate, url=url)\n",
    "    brands_of_cates += brand_list\n",
    "\n",
    "driver.close()\n"
   ]
  },
  {
   "cell_type": "code",
   "execution_count": 18,
   "metadata": {},
   "outputs": [
    {
     "name": "stdout",
     "output_type": "stream",
     "text": [
      "(4635, 4)\n"
     ]
    },
    {
     "data": {
      "text/html": [
       "<div>\n",
       "<style scoped>\n",
       "    .dataframe tbody tr th:only-of-type {\n",
       "        vertical-align: middle;\n",
       "    }\n",
       "\n",
       "    .dataframe tbody tr th {\n",
       "        vertical-align: top;\n",
       "    }\n",
       "\n",
       "    .dataframe thead th {\n",
       "        text-align: right;\n",
       "    }\n",
       "</style>\n",
       "<table border=\"1\" class=\"dataframe\">\n",
       "  <thead>\n",
       "    <tr style=\"text-align: right;\">\n",
       "      <th></th>\n",
       "      <th>small_cate</th>\n",
       "      <th>brand_name</th>\n",
       "      <th>brand_page</th>\n",
       "      <th>brand_logo</th>\n",
       "    </tr>\n",
       "  </thead>\n",
       "  <tbody>\n",
       "    <tr>\n",
       "      <th>0</th>\n",
       "      <td>冲锋衣裤</td>\n",
       "      <td>北面（The North Face）</td>\n",
       "      <td>https://list.jd.com/list.html?cat=1318%2C2628%...</td>\n",
       "      <td>https://img30.360buyimg.com/popshop/jfs/t1/181...</td>\n",
       "    </tr>\n",
       "    <tr>\n",
       "      <th>1</th>\n",
       "      <td>冲锋衣裤</td>\n",
       "      <td>哥伦比亚（Columbia）</td>\n",
       "      <td>https://list.jd.com/list.html?cat=1318%2C2628%...</td>\n",
       "      <td>https://img20.360buyimg.com/popshop/jfs/t1921/...</td>\n",
       "    </tr>\n",
       "    <tr>\n",
       "      <th>2</th>\n",
       "      <td>冲锋衣裤</td>\n",
       "      <td>探路者（TOREAD）</td>\n",
       "      <td>https://list.jd.com/list.html?cat=1318%2C2628%...</td>\n",
       "      <td>https://img30.360buyimg.com/popshop/jfs/t2890/...</td>\n",
       "    </tr>\n",
       "    <tr>\n",
       "      <th>3</th>\n",
       "      <td>冲锋衣裤</td>\n",
       "      <td>骆驼（CAMEL）</td>\n",
       "      <td>https://list.jd.com/list.html?cat=1318%2C2628%...</td>\n",
       "      <td>https://img20.360buyimg.com/popshop/jfs/t3445/...</td>\n",
       "    </tr>\n",
       "    <tr>\n",
       "      <th>4</th>\n",
       "      <td>冲锋衣裤</td>\n",
       "      <td>Jack Wolfskin</td>\n",
       "      <td>https://list.jd.com/list.html?cat=1318%2C2628%...</td>\n",
       "      <td>https://img30.360buyimg.com/popshop/jfs/t1939/...</td>\n",
       "    </tr>\n",
       "  </tbody>\n",
       "</table>\n",
       "</div>"
      ],
      "text/plain": [
       "  small_cate          brand_name  \\\n",
       "0       冲锋衣裤  北面（The North Face）   \n",
       "1       冲锋衣裤      哥伦比亚（Columbia）   \n",
       "2       冲锋衣裤         探路者（TOREAD）   \n",
       "3       冲锋衣裤           骆驼（CAMEL）   \n",
       "4       冲锋衣裤       Jack Wolfskin   \n",
       "\n",
       "                                          brand_page  \\\n",
       "0  https://list.jd.com/list.html?cat=1318%2C2628%...   \n",
       "1  https://list.jd.com/list.html?cat=1318%2C2628%...   \n",
       "2  https://list.jd.com/list.html?cat=1318%2C2628%...   \n",
       "3  https://list.jd.com/list.html?cat=1318%2C2628%...   \n",
       "4  https://list.jd.com/list.html?cat=1318%2C2628%...   \n",
       "\n",
       "                                          brand_logo  \n",
       "0  https://img30.360buyimg.com/popshop/jfs/t1/181...  \n",
       "1  https://img20.360buyimg.com/popshop/jfs/t1921/...  \n",
       "2  https://img30.360buyimg.com/popshop/jfs/t2890/...  \n",
       "3  https://img20.360buyimg.com/popshop/jfs/t3445/...  \n",
       "4  https://img30.360buyimg.com/popshop/jfs/t1939/...  "
      ]
     },
     "execution_count": 18,
     "metadata": {},
     "output_type": "execute_result"
    }
   ],
   "source": [
    "df_brands = pd.DataFrame(brands_of_cates, columns=[\"small_cate\", \"brand_name\", \"brand_page\", \"brand_logo\"])\n",
    "print(df_brands.shape)\n",
    "df_brands.head()"
   ]
  },
  {
   "cell_type": "code",
   "execution_count": null,
   "metadata": {},
   "outputs": [],
   "source": []
  }
 ],
 "metadata": {
  "interpreter": {
   "hash": "d37afa9ffcbc576cea1c7d5ed42abd2d105883aff8a1f4fc810ca97ef5b32023"
  },
  "kernelspec": {
   "display_name": "Python 3.7.11 ('crawler')",
   "language": "python",
   "name": "python3"
  },
  "language_info": {
   "codemirror_mode": {
    "name": "ipython",
    "version": 3
   },
   "file_extension": ".py",
   "mimetype": "text/x-python",
   "name": "python",
   "nbconvert_exporter": "python",
   "pygments_lexer": "ipython3",
   "version": "3.7.11"
  },
  "orig_nbformat": 4
 },
 "nbformat": 4,
 "nbformat_minor": 2
}
