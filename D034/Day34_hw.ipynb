{
 "cells": [
  {
   "cell_type": "markdown",
   "metadata": {},
   "source": [
    "# 動態網頁爬蟲 - 使用 Selenium\n",
    "\n",
    "* 了解 Selenium 用於動態網頁爬蟲的原理\n",
    "* 能夠使用 Selenium 撰寫動態網頁爬蟲"
   ]
  },
  {
   "cell_type": "markdown",
   "metadata": {},
   "source": [
    "## 作業目標\n",
    "\n",
    "1. 根據範例使用 selenuim 取出 Hahow 網站中所有課程的資料，並用一個適合的資料結構儲存（Hint: 將所有資料存在一個變數當中取出）\n",
    "2. 剛剛的做法只能取出第一頁，試著取出所有頁面的資料。\n",
    "\n"
   ]
  },
  {
   "cell_type": "markdown",
   "metadata": {},
   "source": [
    "### 1. 根據範例使用 selenuim 取出 Hahow 網站中所有課程的資料，並用一個適合的資料結構儲存\n",
    "（Hint: 將所有資料存在一個變數當中取出）"
   ]
  },
  {
   "cell_type": "code",
   "execution_count": 1,
   "metadata": {},
   "outputs": [],
   "source": [
    "import time\n",
    "\n",
    "from bs4 import BeautifulSoup\n",
    "from selenium import webdriver\n",
    "from selenium.webdriver.common.by import By\n",
    "# import selenium.webdriver.support.expected_conditions as EC\n",
    "# from selenium.webdriver.support.wait import WebDriverWait"
   ]
  },
  {
   "cell_type": "code",
   "execution_count": 2,
   "metadata": {},
   "outputs": [],
   "source": [
    "# 模擬使用者滾動至網頁底部，以載入所有課程資料\n",
    "def scroll_to_bottom(driver): \n",
    "    total_height = int(driver.execute_script(\"return document.body.scrollHeight\"))\n",
    "    for i in range(1, total_height, 200):\n",
    "        driver.execute_script(f\"window.scrollTo(0, {i});\")\n",
    "        time.sleep(0.5)  "
   ]
  },
  {
   "cell_type": "code",
   "execution_count": 3,
   "metadata": {},
   "outputs": [],
   "source": [
    "opt = webdriver.ChromeOptions()\n",
    "browser = webdriver.Remote(command_executor='http://selenium:4444/wd/hub', options=opt)\n",
    "browser.maximize_window()\n",
    "browser.get(\"https://hahow.in/courses\")\n",
    "\n",
    "scroll_to_bottom(browser)"
   ]
  },
  {
   "cell_type": "code",
   "execution_count": 4,
   "metadata": {},
   "outputs": [],
   "source": [
    "# 取得資料（等瀏覽器資料出現後才執行）\n",
    "html_source = browser.page_source\n",
    "soup = BeautifulSoup(html_source, 'html.parser')"
   ]
  },
  {
   "cell_type": "code",
   "execution_count": 5,
   "metadata": {},
   "outputs": [
    {
     "name": "stdout",
     "output_type": "stream",
     "text": [
      "['課程MBTI 情境應用學｜開啟天賦力量 X 打造你要的人生', '課程睡眠心療法｜每日 10 分鐘，身心放鬆、深層入眠', '課程找回身體最佳狀態｜動力鏈：人人必修的身體使用說明書', '課程Gina 的全方位芳香療法課｜精油—你身心靈的舒緩解方', '課程陳的故事行銷課 學會就能活下去の本事', '課程掌握鉤針編織邏輯：五種針法自造生活小物', '課程產品設計實戰：用Figma打造絕佳UI/UX', '課程唱出你的特色！蔡佩軒的歌唱訓練課', '課程Notion 實戰課程：打造專屬數位工作術', '課程【開運占卜術】工作、愛情、人際、選擇問題迎刃而解｜李嘟 X 占星之門', '課程占星之門安格斯｜十二宮位找出人生攻略', '課程Python 入門特訓 - 基礎實作到證照攻略', '課程跟 YouTuber 莫彩曦學美國道地的說話習慣', '課程AI 時代人人必學：用 ChatGPT 全面升級你的工作流程', '課程用 Python 理財：打造小資族選股策略', '課程電商人妻 IG 增粉攻略！三大領域經營術', '課程Canva 入門到進階實戰｜零基礎做質感設計', '課程RyuuuTV看動漫看日劇，零到N4道地說日文', '課程邏輯表達力-周震宇的口語邏輯優化課', '課程Excel 新手入門必修課：從 0 開始', '課程曾寶儀——從心開始的溝通術', '課程戰爭來了怎麼辦？黑熊學院民防基礎線上課', '課程仙女穿戴甲全攻略-從基礎實作到市場經營', '課程劉奕酉的職場致勝賽局—從洞察、突圍到創造有利局面']\n"
     ]
    }
   ],
   "source": [
    "courses = []\n",
    "for d in soup.find_all('h2', class_='sc-qi852n-5 cwHEyV'):\n",
    "    courses.append(d.text)\n",
    "print(courses)"
   ]
  },
  {
   "cell_type": "code",
   "execution_count": 6,
   "metadata": {},
   "outputs": [],
   "source": [
    "browser.quit()"
   ]
  },
  {
   "cell_type": "markdown",
   "metadata": {},
   "source": [
    "### (2) 剛剛的做法只能取出第一頁，試著取出所有頁面的資料。"
   ]
  },
  {
   "cell_type": "code",
   "execution_count": 7,
   "metadata": {},
   "outputs": [],
   "source": [
    "browser = webdriver.Remote(command_executor='http://selenium:4444/wd/hub', options=opt)\n",
    "browser.maximize_window()\n",
    "browser.get(\"https://hahow.in/courses\")\n",
    "scroll_to_bottom(browser)"
   ]
  },
  {
   "cell_type": "code",
   "execution_count": 8,
   "metadata": {},
   "outputs": [],
   "source": [
    "# 取得資料（等瀏覽器資料出現後才執行）\n",
    "html_source = browser.page_source\n",
    "soup = BeautifulSoup(html_source, 'html.parser')"
   ]
  },
  {
   "cell_type": "code",
   "execution_count": 9,
   "metadata": {},
   "outputs": [
    {
     "data": {
      "text/plain": [
       "'45'"
      ]
     },
     "execution_count": 9,
     "metadata": {},
     "output_type": "execute_result"
    }
   ],
   "source": [
    "# 1. 先計算全部有幾頁\n",
    "p = soup.find_all('li', class_='rc-pagination-item')[-1].text\n",
    "p"
   ]
  },
  {
   "cell_type": "code",
   "execution_count": 10,
   "metadata": {},
   "outputs": [],
   "source": [
    "# 2. 每頁都取出資料放入 courses\n",
    "courses = []\n",
    "\n",
    "for i in range(1, int(p)+1)[:5]:  # 範例只印出前5頁\n",
    "    browser.get(f\"https://hahow.in/courses?page={i}\")\n",
    "\n",
    "    scroll_to_bottom(browser)\n",
    "\n",
    "    # 取得頁面解析\n",
    "    html_source = browser.page_source\n",
    "    soup = BeautifulSoup(html_source, 'html.parser')\n",
    "\n",
    "    # 等待課程資料都載入\n",
    "    # course_block = WebDriverWait(browser, 3).until(\n",
    "        # EC.presence_of_element_located((By.XPATH, '//h2[@class=\"sc-qi852n-5 cwHEyV\"]'))\n",
    "    # )\n",
    "\n",
    "    for d in soup.find_all('h2', class_='sc-qi852n-5 cwHEyV'):\n",
    "        courses.append(d.text)"
   ]
  },
  {
   "cell_type": "code",
   "execution_count": 11,
   "metadata": {},
   "outputs": [],
   "source": [
    "browser.quit()"
   ]
  },
  {
   "cell_type": "code",
   "execution_count": 12,
   "metadata": {},
   "outputs": [
    {
     "name": "stdout",
     "output_type": "stream",
     "text": [
      "0 課程MBTI 情境應用學｜開啟天賦力量 X 打造你要的人生\n",
      "1 課程睡眠心療法｜每日 10 分鐘，身心放鬆、深層入眠\n",
      "2 課程找回身體最佳狀態｜動力鏈：人人必修的身體使用說明書\n",
      "3 課程Gina 的全方位芳香療法課｜精油—你身心靈的舒緩解方\n",
      "4 課程陳的故事行銷課 學會就能活下去の本事\n",
      "5 課程掌握鉤針編織邏輯：五種針法自造生活小物\n",
      "6 課程產品設計實戰：用Figma打造絕佳UI/UX\n",
      "7 課程唱出你的特色！蔡佩軒的歌唱訓練課\n",
      "8 課程Notion 實戰課程：打造專屬數位工作術\n",
      "9 課程【開運占卜術】工作、愛情、人際、選擇問題迎刃而解｜李嘟 X 占星之門\n",
      "10 課程占星之門安格斯｜十二宮位找出人生攻略\n",
      "11 課程Python 入門特訓 - 基礎實作到證照攻略\n",
      "12 課程跟 YouTuber 莫彩曦學美國道地的說話習慣\n",
      "13 課程AI 時代人人必學：用 ChatGPT 全面升級你的工作流程\n",
      "14 課程用 Python 理財：打造小資族選股策略\n",
      "15 課程電商人妻 IG 增粉攻略！三大領域經營術\n",
      "16 課程Canva 入門到進階實戰｜零基礎做質感設計\n",
      "17 課程RyuuuTV看動漫看日劇，零到N4道地說日文\n",
      "18 課程邏輯表達力-周震宇的口語邏輯優化課\n",
      "19 課程Excel 新手入門必修課：從 0 開始\n",
      "20 課程曾寶儀——從心開始的溝通術\n",
      "21 課程戰爭來了怎麼辦？黑熊學院民防基礎線上課\n",
      "22 課程仙女穿戴甲全攻略-從基礎實作到市場經營\n",
      "23 課程劉奕酉的職場致勝賽局—從洞察、突圍到創造有利局面\n",
      "24 課程直球對決你的工作焦慮！劉軒的 50 堂職場心理學\n",
      "25 課程讓插畫走入生活－Procreate 文創物實作！\n",
      "26 課程減法攝影，感官加乘：逐格收藏觀景窗裡的世界\n",
      "27 課程【AI 深度學習】新手入門應用篇\n",
      "28 課程聲入人心-周震宇的人聲必修課\n",
      "29 課程AutoCAD 電腦繪圖2D基礎篇－紮實入門\n",
      "30 課程Procreate人體繪畫入門－扎實基礎養成\n",
      "31 課程SQL的五十道練習：初學者友善的資料庫入門\n",
      "32 課程VOFAN 色彩流動秘訣：「光」與「影」的氣氛美學\n",
      "33 課程Procreate 插畫入門－從素描到風格\n",
      "34 課程跟著韓娛學韓文！發音到初級文法一次掌握\n",
      "35 課程Power BI數據分析實戰-邏輯與資料視覺化\n",
      "36 課程動畫互動網頁程式入門 (HTML/CSS/JS)\n",
      "37 課程手繪轉電繪，我選 Procreate！\n",
      "38 課程Katie 凱蒂流動瑜珈：啟動熱能，身心修復\n",
      "39 課程Git - 軟體工程師必備的版本管理時光機\n",
      "40 課程省錢攝影術：零基礎拍好美食＆商品！\n",
      "41 課程社群力：30 堂課突破你的內容行銷盲點！\n",
      "42 課程占星之門安格斯｜雙人合盤探索人際關係\n",
      "43 課程iPad 上的小小故事：Procreate 童書繪本插畫課\n",
      "44 課程用插畫完備設計綜合力｜找回手感的插畫設計課\n",
      "45 課程靈魂的代言人-塔羅牌義全解析\n",
      "46 課程【Illustrator / Ai 入門】五小時保證上手\n",
      "47 課程如何練習動漫速寫 2 - 人體骨架與肌肉結構\n",
      "48 課程Photoshop 海報影像合成：素材融合到視覺整合，創故事感海報\n",
      "49 課程原創角色設計全攻略｜從風格定位到 IP 經營\n",
      "50 課程Java 工程師必備！Spring Boot 零基礎入門\n",
      "51 課程如何練習動漫速寫 - Anime Sketches\n",
      "52 課程艾德導演的影像魔術 - 一個人拍出生活中的電影感\n",
      "53 課程用 Python 理財：打造自己的 AI 股票理專\n",
      "54 課程實用Photoshop - 入門到大師，紮實範例\n",
      "55 課程玩轉數據與資料：Excel VBA 入門教學\n",
      "56 課程《電商群募流》電商人必學千萬銷售心法\n",
      "57 課程色彩加氛圍，我選 Procreate！\n",
      "58 課程給現代人的動態靜心課：喚醒與生俱來的快樂\n",
      "59 課程從實作到應用－阿勵帶你成為達人領隊\n",
      "60 課程影片製作入門10堂課 - 攝影、剪輯、腳本\n",
      "61 課程解鎖 Oracle 資料庫\n",
      "62 課程一次搞懂專案管理 - 從入門到業界實務\n",
      "63 課程百萬 YouTuber 阿滴－攻心剪輯術！\n",
      "64 課程王梓沅的高效英聽學習法：3 階段打造英聽腦\n",
      "65 課程SEO 白話文：不懂程式也能學會的 SEO 秘密\n",
      "66 課程編織靜謐時光：棒針入門與個性化禮物\n",
      "67 課程從入門到業界實戰 - UI / UX 前端網頁設計\n",
      "68 課程Excel 達人：學會所有商務應用的需求！\n",
      "69 課程神秘腹語術，我要成為腹語師！\n",
      "70 課程GA4 新手完全攻略！用數據分析下商業決策｜2024 全面升級版\n",
      "71 課程Line 的貼圖自己動手做！\n",
      "72 課程Adam 個人理財術：從培養財務認知開始！\n",
      "73 課程興趣變副業！打造自己的手作品牌\n",
      "74 課程空姐報報帶你快速通關！應考空服員全方位指南\n",
      "75 課程林思翰的 AIGC 工作流：聚焦核心問題，打造創意實戰力\n",
      "76 課程職場必備的 Excel 關鍵技法－進階\n",
      "77 課程頂尖構圖x關鍵後製｜國際級風景攝影必修課\n",
      "78 課程台科 EMBA 年年爆滿的一門 Word 課（A系列）\n",
      "79 課程設計師接案學－業界求生必備守則\n",
      "80 課程小冬瓜單程旅行社：規劃人生美好告別之旅\n",
      "81 課程WordPress 新手第一堂必修入門課\n",
      "82 課程Zunni 美甲全科班\n",
      "83 課程「紙上的小小故事」| 水粉基礎手繪插畫創作\n",
      "84 課程Amber 生活日文課， 28 單元開啟自學之旅\n",
      "85 課程米薩小姐塔羅課，推開生命靈性之門\n",
      "86 課程18 單元從零上手！百萬 TikToker 短影音入門課\n",
      "87 課程UX‧三刀流產品體驗設計\n",
      "88 課程動畫互動網頁特效入門（JS/CANVAS）\n",
      "89 課程融入美國口說日常！和莫彩曦學英文慣用語\n",
      "90 課程子麵的影像合成課！創作招式＆接案流程大公開\n",
      "91 課程IG 全攻略：從零開始的 Instagram 經營學\n",
      "92 課程AI 繪圖溝通術：搭上 AI 藝術的魔法列車 \n",
      "93 課程4 間花店聯手打造的花藝課｜輕鬆培養第二專長\n",
      "94 課程以一敵百的奧秘排版學｜設畜生存必修絕活\n",
      "95 課程破解道地英文對話！八大主題輕鬆聽懂開口説\n",
      "96 課程知名歌手的老師 幫你歌聲大改造\n",
      "97 課程王梓沅的 3D 英文筆記術：打造最強「說」「寫」英語資料庫\n",
      "98 課程產品數據分析 - 打造網路產品的決策引擎\n",
      "99 課程畫你、畫他、畫我們的人物頭像！\n",
      "100 課程Motion Graphics 新手村｜Ai + Ps 超實用攻略\n",
      "101 課程讓圖不只是好看的－資訊設計思考力！\n",
      "102 課程喬老師模型課：出神入化模型技法｜鋼普拉篇\n",
      "103 課程Python 的 50+ 練習：資料科學學習手冊\n",
      "104 課程吳寶春冠軍麵包在家做，獨家配方大公開\n",
      "105 課程跟著設事快速精通 illustrator\n",
      "106 課程王梓沅的英文思維模板術：母語人士的脈絡、習慣、情境表達\n",
      "107 課程紫微斗數 14 種命格原型，解讀你的生命地圖\n",
      "108 課程股市投資新手策略筆記\n",
      "109 課程240 分鐘 - 忘掉拍照，學會攝影\n",
      "110 課程擺脫職涯卡關！聚焦你的職場絕對優勢\n",
      "111 課程用 YouTube 賺錢理財：打造副業穩定被動收入\n",
      "112 課程從上手到專業，寫出你想要的文案效果\n",
      "113 課程余惟的生活時尚攝影：拍出日常裡的封面人物\n",
      "114 課程15 單元看懂經濟運行，掌握全球投資趨勢\n",
      "115 課程不用動腦的攝影課-七堂課拍出有質感的照片\n",
      "116 課程新手入門：ChatGPT 創作及 Midjourney 圖文應用\n",
      "117 課程MASA 線上烹飪課！快速 x 多變的日式常備菜與特色料理\n",
      "118 課程24 單元入門投資科學 一次搞懂投資必備知識\n",
      "119 課程米薩小姐水晶課，光的能量療癒與鑑賞\n"
     ]
    }
   ],
   "source": [
    "# 3. done!\n",
    "for i, v in enumerate(courses):\n",
    "    print(i, v)"
   ]
  }
 ],
 "metadata": {
  "kernelspec": {
   "display_name": "Python 3",
   "language": "python",
   "name": "python3"
  },
  "language_info": {
   "codemirror_mode": {
    "name": "ipython",
    "version": 3
   },
   "file_extension": ".py",
   "mimetype": "text/x-python",
   "name": "python",
   "nbconvert_exporter": "python",
   "pygments_lexer": "ipython3",
   "version": "3.11.9"
  }
 },
 "nbformat": 4,
 "nbformat_minor": 2
}
