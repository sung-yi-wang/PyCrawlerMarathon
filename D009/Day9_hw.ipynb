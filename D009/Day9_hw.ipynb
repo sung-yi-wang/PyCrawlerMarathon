{
 "cells": [
  {
   "cell_type": "markdown",
   "metadata": {
    "id": "RmEW9BEct8Fk"
   },
   "source": [
    "## 作業說明\n",
    "\n",
    "Day9 我們介紹了 JSON 檔案格式並學習如何用 Python 操作 JSON 格式檔案\n",
    "\n",
    "今日作業我們針對 json, pandas 套件來進行練習\n",
    "\n",
    "請嘗試填空以下代碼，獲得指定結果："
   ]
  },
  {
   "cell_type": "markdown",
   "metadata": {
    "id": "lpwuqMsC_4km"
   },
   "source": [
    "# 請先上傳作業網頁所提供的範例檔案到 colab 目錄 `day9-example_data.json`\n",
    "![](https://i.imgur.com/b5YQFwl.png)"
   ]
  },
  {
   "cell_type": "code",
   "execution_count": 1,
   "metadata": {
    "id": "8paO0vT8xBPE"
   },
   "outputs": [],
   "source": [
    "import json\n",
    "import pandas as pd"
   ]
  },
  {
   "cell_type": "markdown",
   "metadata": {
    "id": "4hBPRm3ETZqN"
   },
   "source": [
    "### 檔案讀取\n",
    "- 使用 `json.load()` 進行檔案讀取"
   ]
  },
  {
   "cell_type": "code",
   "execution_count": 2,
   "metadata": {
    "id": "jD3-yxQ4uAaL"
   },
   "outputs": [],
   "source": [
    "filename = \"day9-example_data.json\"\n",
    "with open(filename, 'r', encoding='utf-8') as f:\n",
    "    data = json.load(f)"
   ]
  },
  {
   "cell_type": "code",
   "execution_count": 3,
   "metadata": {
    "colab": {
     "base_uri": "https://localhost:8080/"
    },
    "executionInfo": {
     "elapsed": 4,
     "status": "ok",
     "timestamp": 1653277161958,
     "user": {
      "displayName": "Abao JiunYiYang",
      "userId": "03267307845025036989"
     },
     "user_tz": -480
    },
    "id": "9ho2Yl7r_2p_",
    "outputId": "d4401c5e-37cf-4761-b528-fdcb342e1677"
   },
   "outputs": [
    {
     "data": {
      "text/plain": [
       "{'default-dungeon-defs.tsv': '4962aa372b67922587376262e17296fdcc49bfbd58ba93784219cf9ad8e38e8c',\n",
       " 'section_images.tsv': '303863ecd63a566547b609670aab15501eaf513254f38f5444f1878a2ff4b36a',\n",
       " 'servers.txt': '0205541fe4f734770dcda81ef20f61f7686c4c005b96884170de54415c4a0a1c',\n",
       " 'acc_benefits/acc_benefits-EU-EN.tsv': '84b75b25aeb2c7db731060ac1ecded13c04f19443e381e2e8b740c7f09c97d19',\n",
       " 'acc_benefits/acc_benefits-EU-FR.tsv': 'f807053567812bd5f40da4599386fe8c6db6f8619755d852e370eb5c3f4ae4bd',\n",
       " 'acc_benefits/acc_benefits-EU-GER.tsv': 'ac33847ead6f3897a04b14fe21b2f88985291753c0b2dee1038c80645044347e',\n",
       " 'acc_benefits/acc_benefits-JP.tsv': '494ec318216295066cee2ec6b7574dcb085dd05ad5d5ffb44a8220f449e4415c',\n",
       " 'acc_benefits/acc_benefits-KR.tsv': '5529d89eb586d281cb204f3cbf625819ad66dadbc2eee889c7be97003a7d959f',\n",
       " 'acc_benefits/acc_benefits-RU.tsv': '9bec6449081ecf32f7fb84e62d91455310254da03cf9d1fef14e03140bb011be',\n",
       " 'acc_benefits/acc_benefits-TW.tsv': 'cc6c91758046de7723bb5a8cbf1603f4acb00f560a78feb4081fa91e91c98802',\n",
       " 'achievements/achievements-EU-EN.tsv': '049e0d2446604728993f8fa7c3b9df05b10314dbc031ac9b148693885d7972c9',\n",
       " 'achievements/achievements-EU-FR.tsv': '86dbf93337b13a0f080ac96f3ce7108ae80c36394906752a4b654b69722b8381',\n",
       " 'achievements/achievements-EU-GER.tsv': '66db468a7338142489af62034159f723f4d57566e4344fba1161445bf053f766',\n",
       " 'achievements/achievements-JP.tsv': 'd5672cfd5ccb198c08709b55c65dca6cbb278e8fee6cf80c1471cc6c732a5c6b',\n",
       " 'achievements/achievements-KR.tsv': '907037717464396efebfadc4b804057ef6d7f358284b325f1145a0c938e3a964',\n",
       " 'achievements/achievements-RU.tsv': '6e38fb5e3cbf981b06b504387512e03da381c579899a072c1ed48f44f64f7514',\n",
       " 'achievements/achievements-TW.tsv': '6f3adacfd41ee6eef7b06660a4e5562433087399dcd3d477bed9df42ff79fb86',\n",
       " 'achi_grade/achi_grade-EU-EN.tsv': '5ae5c864db928b110d8f1709e22a81f6022d5922ebb7aa283c3a0279d7c3115c',\n",
       " 'achi_grade/achi_grade-EU-FR.tsv': 'eacd1d4d291524a788de73ccfeb03495f00efb9bb81491fb4c790b640fd194d6',\n",
       " 'achi_grade/achi_grade-EU-GER.tsv': 'eb526c12c54509e8e3941d6f4f112d041ecd78fab494e5eba0232c3894fc1591',\n",
       " 'achi_grade/achi_grade-JP.tsv': 'eede5b2ae35f323e2cc6dca99bbe8a88c94212de17496ab47a758459e302120d',\n",
       " 'achi_grade/achi_grade-KR.tsv': '08dbd934977556e71af35a49ccae340a01199154ad4cb4ce3e050178a03ee0e5',\n",
       " 'achi_grade/achi_grade-RU.tsv': '24be97a0c5a2b93ee8d4ca9a0e1cbb60b9b32c0443d56dda6c2e16fb89e9f96d',\n",
       " 'achi_grade/achi_grade-TW.tsv': '8b873c4e02da48d77a1d3c7b64238b3d0877a9ea2b42940795b3bb7d63ecc9c4',\n",
       " 'dungeons/dungeons-EU-EN.tsv': 'f86ab02284f231a8e90fa3143f7d84e29100baeddd90a9d4e6180253701035d8',\n",
       " 'dungeons/dungeons-EU-FR.tsv': 'f699aab5ba61c374b932129b3f3452266a5c29fba54af5551a529e864d12fd78',\n",
       " 'dungeons/dungeons-EU-GER.tsv': 'ae2ffd4b28337f19e0af49bf554e06b5be9b520679309c5f7e154dc467638ea0',\n",
       " 'dungeons/dungeons-JP.tsv': '6223aca7c982c1a54f39dac2c4964814e484dc87fb97503c318876ff6e23e8c8',\n",
       " 'dungeons/dungeons-KR.tsv': '0e517e423b8846a89cdc82381f797193ad704637dda0272e49f632287090649c',\n",
       " 'dungeons/dungeons-RU.tsv': 'b73b0e0584452e6139a2309010abf938fee8ec6c2aca79b93f03ea358811a0f8',\n",
       " 'dungeons/dungeons-TW.tsv': 'a0842930567a490bf8602c6c55ada122bb1ffae339cd14f0b9d3c8b3626c7019',\n",
       " 'equip_exp/equip_exp-EU-EN.xml': 'f2509761868562f3a100a86414021e9b6800a60156887db44f01988bd0fd4b66',\n",
       " 'equip_exp/equip_exp-EU-FR.xml': 'f2509761868562f3a100a86414021e9b6800a60156887db44f01988bd0fd4b66',\n",
       " 'equip_exp/equip_exp-EU-GER.xml': 'f2509761868562f3a100a86414021e9b6800a60156887db44f01988bd0fd4b66',\n",
       " 'equip_exp/equip_exp-JP.xml': 'f2509761868562f3a100a86414021e9b6800a60156887db44f01988bd0fd4b66',\n",
       " 'equip_exp/equip_exp-KR.xml': 'f2509761868562f3a100a86414021e9b6800a60156887db44f01988bd0fd4b66',\n",
       " 'equip_exp/equip_exp-RU.xml': 'f2509761868562f3a100a86414021e9b6800a60156887db44f01988bd0fd4b66',\n",
       " 'equip_exp/equip_exp-TW.xml': 'f2509761868562f3a100a86414021e9b6800a60156887db44f01988bd0fd4b66',\n",
       " 'guild_quests/guild_quests-EU-EN.tsv': 'efd70de0097db761f5d85b01760ba9e7633669934a8c71f445f0d586509e731f',\n",
       " 'guild_quests/guild_quests-EU-FR.tsv': '76019a152c4fa63373f1aabef5c67c2e1e1927581dbc86e8eee8149a4073a17f',\n",
       " 'guild_quests/guild_quests-EU-GER.tsv': '95ed2d4159dacd896f402b383d6bc4082a21db47f3989ba73d9fda607c82856e',\n",
       " 'guild_quests/guild_quests-JP.tsv': '8137f4462b3b11ec71ec771a50ecb2d209ff7e8e6e65edcdc7dcfaf0bbeea5bd',\n",
       " 'guild_quests/guild_quests-KR.tsv': 'fd9b3627228125c6990b62468f4a17424f2e318608ee7d3b8de50eac91399ebe',\n",
       " 'guild_quests/guild_quests-RU.tsv': '8ddc44e8e26b8ca0cbb2a6973aaaa1f63609fc446f86060a54b4a495a012e222',\n",
       " 'guild_quests/guild_quests-TW.tsv': '475463d3d2e0cc617232f9522d405c89dda132f8d6e3fbf2df72108eeaf6e4be',\n",
       " 'hotdot/abnormal.tsv': 'f74b578aa1214969ba7f652c6d8dad919e27714697fc1c3c22afd11ed7a9439c',\n",
       " 'hotdot/glyph-EU-EN.tsv': '09addc0ae2cd3ca17427f855985eeaf509df578a8afc123ca875c34a48d2e7fd',\n",
       " 'hotdot/glyph-EU-FR.tsv': '8e60e34894ba880f7b697beeed99171b35b51cb40f04147b612e7a1e3a931e3f',\n",
       " 'hotdot/glyph-EU-GER.tsv': '55f0ce916467c177352a060a2e5b0e9b7bd9b089023e9a55d3467d0604df7302',\n",
       " 'hotdot/glyph-JP.tsv': '4516c23290adfecda507b7d9a884d6ed6e911952233231b788fe0560082692fe',\n",
       " 'hotdot/glyph-KR.tsv': 'd110ea69d17a4e66b1a74ae7bf51433bde8e973e76fc1edd842de2710e53f968',\n",
       " 'hotdot/glyph-RU.tsv': '693b82e4f7ca957fa91c2b72ae8e3abe4f3742806ce5f5d00b8e38f727fece97',\n",
       " 'hotdot/glyph-TW.tsv': '9fde5bc7eb146e6a4ec1d7ffeaae4198ef100ad854e1ce37b830927950f97474',\n",
       " 'hotdot/hotdot-EU-EN.tsv': '6c07b1919c6f36e611114212a7d8cfef9dc623715dd6696553705a593c0cc3bc',\n",
       " 'hotdot/hotdot-EU-FR.tsv': 'f7da65a93f0b82eaa2a0bca053b49652fc48e8928e1f5af406a2bbd20dbed1b1',\n",
       " 'hotdot/hotdot-EU-GER.tsv': '330bb9ea58f57935ed374134eeced49034f0f95cba8c1a70dab542b55d23b26a',\n",
       " 'hotdot/hotdot-JP.tsv': 'db2725de7a47c27c85149fe76bf529fa7c7c4194850c06b20fc6b799a4d40ce7',\n",
       " 'hotdot/hotdot-KR.tsv': 'afa85b3c319b0328bdd7ae811eb371d71818cc9c5124fe8f356ce42036ce5adc',\n",
       " 'hotdot/hotdot-RU.tsv': '1c0a19491b3227cb1997f2c58fb5b61ffc3ad455b0ecf928aa59d2d89f35e260',\n",
       " 'hotdot/hotdot-short-RU.tsv': 'ae09f48a4c18cc7a35e78de0092498a3c007cd959c38bd53d07039ebc282a936',\n",
       " 'hotdot/hotdot-TW.tsv': 'b15f309f194567bcf914c055c9df7b1d87338c6d9883a648c8ad5cd88aec8230',\n",
       " 'items/items-EU-EN.tsv': '50a0aa4bd76d6fc8f92ae77f0fd1da2e4f2f120f0c933e0d5d7bc78e59e76bb9',\n",
       " 'items/items-EU-FR.tsv': '8a59cbc7726e94893d939cb63a76183d916af6bfc4d21c8d86b0d576a2c1e9d5',\n",
       " 'items/items-EU-GER.tsv': '412fd4709f8ed5281d50ba8d33e6298537c7eaf09b6c456499d43c5534f6f4c4',\n",
       " 'items/items-JP.tsv': '8ef99b668b6ed8ebf0530643bad04707c790842aecf90127271a886ad7698497',\n",
       " 'items/items-KR.tsv': '1b21f24998daba07c06d8bae2785343b36fe802dcb37357c80c9085a8dd967d7',\n",
       " 'items/items-RU.tsv': '65b471bdb6e6123ba2f821f87bd9878396ffef8d9512449c500de6853ea9a304',\n",
       " 'items/items-TW.tsv': 'a2111cbc55b14bad420ae3ebda4d7d116776a951ebcde879b98019f9d2f3624f',\n",
       " 'monsters/monsters-EU-EN.xml': 'a7969c70dc2f68e9adf7c7bc44cacda4d332c360c161509383d185e243b5548b',\n",
       " 'monsters/monsters-EU-FR.xml': '94de132836a2ecddd9934ecda5d45a1fcff5d81edabf2ae4644f2af0e2ad63f3',\n",
       " 'monsters/monsters-EU-GER.xml': '811ce3f8742f87df6ee78b0bc60ad43d093ce10836255464a78881f3caee326e',\n",
       " 'monsters/monsters-JP.xml': '5193406e7094b9cb389fb0e2b28525fef0615245e56d74ce1efd3c3b23c9676c',\n",
       " 'monsters/monsters-KR.xml': 'f58c6bebfce267597a52d47e2e62dd704d70298433fda1831fa371d31a29a2a0',\n",
       " 'monsters/monsters-override.xml': '7c34f4392f21c6bcd4edd706a2d74cc9aa5ac8c7ef6bfdbd5820791655cc1b3b',\n",
       " 'monsters/monsters-RU.xml': '4f31c6bcc935f90317cd0dd23abbbf9732475c2a81080ca63e9c57746201dca9',\n",
       " 'monsters/monsters-TW.xml': '7c95d6356b5a04a92ac60942f33370d88389d34c66a4baeff0863291d670d7f6',\n",
       " 'quests/quests-EU-EN.tsv': 'ec53b3854463fb34728c746604f0ade940445546399a508a2df4c1fca5ca9b77',\n",
       " 'quests/quests-EU-FR.tsv': 'a9c62fdd2be8599ba004782166d70a650684f134f5a0e9cb4f8b14edd95d4b13',\n",
       " 'quests/quests-EU-GER.tsv': 'd9dab5958fdc60476d0c164a359ca26dd3ee76190d00806e09887e11d29f5343',\n",
       " 'quests/quests-JP.tsv': '46fb96e4af73cdfbb2ebe0bd4906276884a8408f56caa63e3e35dec4ba4e21a8',\n",
       " 'quests/quests-KR.tsv': 'c7ca27fd2a66ec5801921e20771c58c374952bf182e4de1b4234355b70a4c1ad',\n",
       " 'quests/quests-RU.tsv': '128e15cd674da09376705e3aabca7673f51326a37d6dd3d265e94ad22424b5d6',\n",
       " 'quests/quests-TW.tsv': '974335b3edb44e75cca69443e2cc7b3f8396036eb7e46c03481b2d2d44469aa9',\n",
       " 'regions/regions-EU-EN.tsv': '71147a059eaceebb278cb16160094120841f6c8906fc8482351853bbeebe627c',\n",
       " 'regions/regions-EU-FR.tsv': '9d63998424a24da7f4ff04a680bb3ff862b833cfa3b5d352f083d83713f0dcc1',\n",
       " 'regions/regions-EU-GER.tsv': 'acb75fe04aaefbc338b3c69d7eff0d382b9e322c7b31de49e6bff85bee3a8f19',\n",
       " 'regions/regions-JP.tsv': '55ba12087eb6504c757fff025f85e347883bc933eb7d926765505d8aa8bd34b4',\n",
       " 'regions/regions-KR.tsv': 'ab829895c46e51163c2998d3c7e06b70d7f7c1b018e24527b6749fa8c8c0ab68',\n",
       " 'regions/regions-RU.tsv': '8a553828ab94938b875258c95c71c96b2d0e65428a37967e4e8ea0422751044b',\n",
       " 'regions/regions-TW.tsv': 'ecf884794f088cb38a260b370414efed7dbb44cea73132d9f0b6e6f5a14c5993',\n",
       " 'skills/pets-skills-EU-EN.tsv': 'd5317ddfb1cd455023c07198ae2406489b9154201eb65c1693f76f81dc5c89e3',\n",
       " 'skills/pets-skills-EU-FR.tsv': '0dc2238b30e8782f4cfa9b454a818afdaf0bb3a8e19cba1e5d4e7f9d13b26c74',\n",
       " 'skills/pets-skills-EU-GER.tsv': '44446687f6c9d03eea16066cc4b85549b58d7f3441344cf2b2a10b7dab8b3aea',\n",
       " 'skills/pets-skills-JP.tsv': 'd72b8962bbb827b1fa7c98989bc8a9592998a75ba4811cec704189fe03e531f2',\n",
       " 'skills/pets-skills-KR.tsv': '5ee3f2e37ad2ef947318a998a0e5462220ea77a85494ebb7138c8aec110f5d36',\n",
       " 'skills/pets-skills-RU.tsv': '97482c3ab0d676a3cf08ecfbd82731215b7be59bb11411c4af33bd6e881088c9',\n",
       " 'skills/pets-skills-TW.tsv': 'd75193d1fc2b974ab08490921e74df98f456e3268716cfec7ef5583e98da49b0',\n",
       " 'skills/skills-EU-EN.tsv': '03dc22660579a433c1304845400e3aad2b2e1dffeaeff5020f490607d79b40ed',\n",
       " 'skills/skills-EU-FR.tsv': '46b163a351efb15afd9d21a5f482b02233c9a8cbc3f41aa0fb713e1bf26eae30',\n",
       " 'skills/skills-EU-GER.tsv': '413c3e59536f06aa354a9592438ff597ef7cfb008a16da440e05cf7927a5f875',\n",
       " 'skills/skills-JP.tsv': 'dcea985052d0c0550d66c3d41fde1698ca1a308a6c0988b449321f534e7344d0',\n",
       " 'skills/skills-KR.tsv': '946bc50fb0c887a0ad338293d29981bcb7df9bc861bfc7766d6c81615489a7ba',\n",
       " 'skills/skills-override-EU-EN.tsv': '643826304f62ffc9f7502a8134d1bdd1c3803eb87407069ca0308cd8e9f1d69c',\n",
       " 'skills/skills-override-EU-FR.tsv': '89cd09961249eafdcfb81ad54869dc7733fc3938f0d614f7a57514742d3a5780',\n",
       " 'skills/skills-override-EU-GER.tsv': 'ba0d9d8ac67d8b7302679f5d7f1b41f70264bc48a9541a2bd18de8c9f039ebbc',\n",
       " 'skills/skills-override-JP.tsv': 'fad8da1717cd29155071afd3a0ab4b8b2f6ad3accf33a5a86cfe1a0be6f25f8f',\n",
       " 'skills/skills-override-KR.tsv': 'c023dbfdd9a404e077cda08aef4e97c87e7b3c52cefc683a779576b2228b2289',\n",
       " 'skills/skills-override-RU.tsv': 'd9d127f273f02b80315e8ff72d56d36ec11565b616b98ef2f1e46ceb0b87825b',\n",
       " 'skills/skills-override-TW.tsv': '6b3c024db8aef657d3c0f4e5f4cd9d17b2cafdbd148d0003b828a9c74924e235',\n",
       " 'skills/skills-RU.tsv': 'e3a1270f543af3f4ee5639be1436cb4d132acefa471333bf019569b02050ec9d',\n",
       " 'skills/skills-TW.tsv': '6ca860bc54389d9c65ef4eb5867050610bd948b23b7f5d857e4efb41aad4d913',\n",
       " 'social/social-EU-EN.tsv': '0a281e225665cab9dea96f4be36b06a3c8b9e7f74695dacd8d99ed8baa333b24',\n",
       " 'social/social-EU-FR.tsv': '82d1f1b2cd23b0de1d6031391377ed804bc0e301593cf5067a8357b34960352e',\n",
       " 'social/social-EU-GER.tsv': 'de6379657629df98e9a8959058b191e84e91bc57e48644861fcf0b7c49ad570c',\n",
       " 'social/social-JP.tsv': 'ef92f1f874c759eba252c3ff855ccce11bc0f43e9d1380327de8e2246d8f9808',\n",
       " 'social/social-KR.tsv': 'a59a9179a2b4f54365ee42192eaafe9b832ab9a08faecefe1fb1d8ff204fdb50',\n",
       " 'social/social-RU.tsv': '7cbf300d766a861ef74bf93d2e2ee664494c0a854acafecf330785434b11adcd',\n",
       " 'social/social-TW.tsv': 'e3be88b3106385a7d300dae5514af8660ea4238dc88bff1fd197477ce8210f2f',\n",
       " 'sys_msg/sys_msg-EU-EN.tsv': 'ab6cbd5444cd77ca6d7b3891f3fd1ef5e9d8e359c3b9e0e6127acf4f12faa8bd',\n",
       " 'sys_msg/sys_msg-EU-FR.tsv': 'a7c2bf5df9b9794610240cba2c8ca3a0e8d1624aeafd1515ff89f82082a1d831',\n",
       " 'sys_msg/sys_msg-EU-GER.tsv': 'd0a9d5c3bd66b1283897cd65f27fcf3a8748c68e7c6f25caf9e39b798007d5f0',\n",
       " 'sys_msg/sys_msg-JP.tsv': 'f74808a771abd2291903c96b4f26b1fb66152eefb9acf3684a7427028884e881',\n",
       " 'sys_msg/sys_msg-KR.tsv': '54478b674739bb05ffdf68854100d6c5d21d3dd56093af83c4c6040d8230b074',\n",
       " 'sys_msg/sys_msg-RU.tsv': '896799c546efd4064c6442540b3a848ae92ff9688bf8cd053226af42647715d1',\n",
       " 'sys_msg/sys_msg-TW.tsv': '6f807edbc53dcdfd4d67f25f044c1c51506df0fe91b1862db2799d0bbc786646',\n",
       " 'world_map/world_map-EU-EN.xml': '1f7edbf77425946b97aa9a9e0cc337d22e842ec88cf94ccfa7bf49adbcdc37cf',\n",
       " 'world_map/world_map-EU-FR.xml': '1f7edbf77425946b97aa9a9e0cc337d22e842ec88cf94ccfa7bf49adbcdc37cf',\n",
       " 'world_map/world_map-EU-GER.xml': '1f7edbf77425946b97aa9a9e0cc337d22e842ec88cf94ccfa7bf49adbcdc37cf',\n",
       " 'world_map/world_map-JP.xml': '1f7edbf77425946b97aa9a9e0cc337d22e842ec88cf94ccfa7bf49adbcdc37cf',\n",
       " 'world_map/world_map-KR.xml': '1f7edbf77425946b97aa9a9e0cc337d22e842ec88cf94ccfa7bf49adbcdc37cf',\n",
       " 'world_map/world_map-RU.xml': '1f7edbf77425946b97aa9a9e0cc337d22e842ec88cf94ccfa7bf49adbcdc37cf',\n",
       " 'world_map/world_map-TW.xml': '4b346636509f9d0dde4ce346aee68400d91f68081d7befa58c8b0a91bea23163'}"
      ]
     },
     "execution_count": 3,
     "metadata": {},
     "output_type": "execute_result"
    }
   ],
   "source": [
    "data"
   ]
  },
  {
   "cell_type": "markdown",
   "metadata": {
    "id": "gTsS2lBWxWxt"
   },
   "source": [
    "### 格式轉換\n",
    "- 將 `dict` 轉換為 `pd.DataFrame`"
   ]
  },
  {
   "cell_type": "code",
   "execution_count": 4,
   "metadata": {
    "colab": {
     "base_uri": "https://localhost:8080/",
     "height": 424
    },
    "executionInfo": {
     "elapsed": 288,
     "status": "ok",
     "timestamp": 1653277541952,
     "user": {
      "displayName": "Abao JiunYiYang",
      "userId": "03267307845025036989"
     },
     "user_tz": -480
    },
    "id": "DQEEiA34xp5F",
    "outputId": "c021fa46-1d41-4653-8203-ee77debda58c"
   },
   "outputs": [
    {
     "data": {
      "text/html": [
       "<div>\n",
       "<style scoped>\n",
       "    .dataframe tbody tr th:only-of-type {\n",
       "        vertical-align: middle;\n",
       "    }\n",
       "\n",
       "    .dataframe tbody tr th {\n",
       "        vertical-align: top;\n",
       "    }\n",
       "\n",
       "    .dataframe thead th {\n",
       "        text-align: right;\n",
       "    }\n",
       "</style>\n",
       "<table border=\"1\" class=\"dataframe\">\n",
       "  <thead>\n",
       "    <tr style=\"text-align: right;\">\n",
       "      <th></th>\n",
       "      <th>key</th>\n",
       "      <th>value</th>\n",
       "    </tr>\n",
       "  </thead>\n",
       "  <tbody>\n",
       "    <tr>\n",
       "      <th>0</th>\n",
       "      <td>default-dungeon-defs.tsv</td>\n",
       "      <td>4962aa372b67922587376262e17296fdcc49bfbd58ba93...</td>\n",
       "    </tr>\n",
       "    <tr>\n",
       "      <th>1</th>\n",
       "      <td>section_images.tsv</td>\n",
       "      <td>303863ecd63a566547b609670aab15501eaf513254f38f...</td>\n",
       "    </tr>\n",
       "    <tr>\n",
       "      <th>2</th>\n",
       "      <td>servers.txt</td>\n",
       "      <td>0205541fe4f734770dcda81ef20f61f7686c4c005b9688...</td>\n",
       "    </tr>\n",
       "    <tr>\n",
       "      <th>3</th>\n",
       "      <td>acc_benefits/acc_benefits-EU-EN.tsv</td>\n",
       "      <td>84b75b25aeb2c7db731060ac1ecded13c04f19443e381e...</td>\n",
       "    </tr>\n",
       "    <tr>\n",
       "      <th>4</th>\n",
       "      <td>acc_benefits/acc_benefits-EU-FR.tsv</td>\n",
       "      <td>f807053567812bd5f40da4599386fe8c6db6f8619755d8...</td>\n",
       "    </tr>\n",
       "    <tr>\n",
       "      <th>...</th>\n",
       "      <td>...</td>\n",
       "      <td>...</td>\n",
       "    </tr>\n",
       "    <tr>\n",
       "      <th>127</th>\n",
       "      <td>world_map/world_map-EU-GER.xml</td>\n",
       "      <td>1f7edbf77425946b97aa9a9e0cc337d22e842ec88cf94c...</td>\n",
       "    </tr>\n",
       "    <tr>\n",
       "      <th>128</th>\n",
       "      <td>world_map/world_map-JP.xml</td>\n",
       "      <td>1f7edbf77425946b97aa9a9e0cc337d22e842ec88cf94c...</td>\n",
       "    </tr>\n",
       "    <tr>\n",
       "      <th>129</th>\n",
       "      <td>world_map/world_map-KR.xml</td>\n",
       "      <td>1f7edbf77425946b97aa9a9e0cc337d22e842ec88cf94c...</td>\n",
       "    </tr>\n",
       "    <tr>\n",
       "      <th>130</th>\n",
       "      <td>world_map/world_map-RU.xml</td>\n",
       "      <td>1f7edbf77425946b97aa9a9e0cc337d22e842ec88cf94c...</td>\n",
       "    </tr>\n",
       "    <tr>\n",
       "      <th>131</th>\n",
       "      <td>world_map/world_map-TW.xml</td>\n",
       "      <td>4b346636509f9d0dde4ce346aee68400d91f68081d7bef...</td>\n",
       "    </tr>\n",
       "  </tbody>\n",
       "</table>\n",
       "<p>132 rows × 2 columns</p>\n",
       "</div>"
      ],
      "text/plain": [
       "                                     key  \\\n",
       "0               default-dungeon-defs.tsv   \n",
       "1                     section_images.tsv   \n",
       "2                            servers.txt   \n",
       "3    acc_benefits/acc_benefits-EU-EN.tsv   \n",
       "4    acc_benefits/acc_benefits-EU-FR.tsv   \n",
       "..                                   ...   \n",
       "127       world_map/world_map-EU-GER.xml   \n",
       "128           world_map/world_map-JP.xml   \n",
       "129           world_map/world_map-KR.xml   \n",
       "130           world_map/world_map-RU.xml   \n",
       "131           world_map/world_map-TW.xml   \n",
       "\n",
       "                                                 value  \n",
       "0    4962aa372b67922587376262e17296fdcc49bfbd58ba93...  \n",
       "1    303863ecd63a566547b609670aab15501eaf513254f38f...  \n",
       "2    0205541fe4f734770dcda81ef20f61f7686c4c005b9688...  \n",
       "3    84b75b25aeb2c7db731060ac1ecded13c04f19443e381e...  \n",
       "4    f807053567812bd5f40da4599386fe8c6db6f8619755d8...  \n",
       "..                                                 ...  \n",
       "127  1f7edbf77425946b97aa9a9e0cc337d22e842ec88cf94c...  \n",
       "128  1f7edbf77425946b97aa9a9e0cc337d22e842ec88cf94c...  \n",
       "129  1f7edbf77425946b97aa9a9e0cc337d22e842ec88cf94c...  \n",
       "130  1f7edbf77425946b97aa9a9e0cc337d22e842ec88cf94c...  \n",
       "131  4b346636509f9d0dde4ce346aee68400d91f68081d7bef...  \n",
       "\n",
       "[132 rows x 2 columns]"
      ]
     },
     "execution_count": 4,
     "metadata": {},
     "output_type": "execute_result"
    }
   ],
   "source": [
    "df = pd.DataFrame(data.items(), columns=[\"key\",\"value\"])\n",
    "df"
   ]
  },
  {
   "cell_type": "markdown",
   "metadata": {
    "id": "oM1IPT_2BWzW"
   },
   "source": [
    "- 將 `pd.DataFrame` 轉換回 `dict`\n",
    "  - 參數 `orient` 用法：{‘dict’, ‘list’, ‘series’, ‘split’, ‘records’, ‘index’}\n",
    "    - ‘dict’ (default) : dict like {column -> {index -> value}}\n",
    "    - ‘list’ : dict like {column -> [values]}\n",
    "    - ‘series’ : dict like {column -> Series(values)}\n",
    "    - ‘split’ : dict like {‘index’ -> [index], ‘columns’ -> [columns], ‘data’ -> [values]}\n",
    "    - ‘records’ : list like [{column -> value}, … , {column -> value}]\n",
    "    - ‘index’ : dict like {index -> {column -> value}}\n",
    "\n",
    "- 細節請參閱[官方文件](https://pandas.pydata.org/docs/reference/api/pandas.DataFrame.to_dict.html)"
   ]
  },
  {
   "cell_type": "code",
   "execution_count": 5,
   "metadata": {
    "colab": {
     "base_uri": "https://localhost:8080/"
    },
    "executionInfo": {
     "elapsed": 5,
     "status": "ok",
     "timestamp": 1653278087684,
     "user": {
      "displayName": "Abao JiunYiYang",
      "userId": "03267307845025036989"
     },
     "user_tz": -480
    },
    "id": "26CUMlXdxr5c",
    "outputId": "affedbb9-a00c-4f62-f09d-0401a0e00b21"
   },
   "outputs": [
    {
     "data": {
      "text/plain": [
       "{'default-dungeon-defs.tsv': '4962aa372b67922587376262e17296fdcc49bfbd58ba93784219cf9ad8e38e8c',\n",
       " 'section_images.tsv': '303863ecd63a566547b609670aab15501eaf513254f38f5444f1878a2ff4b36a',\n",
       " 'servers.txt': '0205541fe4f734770dcda81ef20f61f7686c4c005b96884170de54415c4a0a1c',\n",
       " 'acc_benefits/acc_benefits-EU-EN.tsv': '84b75b25aeb2c7db731060ac1ecded13c04f19443e381e2e8b740c7f09c97d19',\n",
       " 'acc_benefits/acc_benefits-EU-FR.tsv': 'f807053567812bd5f40da4599386fe8c6db6f8619755d852e370eb5c3f4ae4bd',\n",
       " 'acc_benefits/acc_benefits-EU-GER.tsv': 'ac33847ead6f3897a04b14fe21b2f88985291753c0b2dee1038c80645044347e',\n",
       " 'acc_benefits/acc_benefits-JP.tsv': '494ec318216295066cee2ec6b7574dcb085dd05ad5d5ffb44a8220f449e4415c',\n",
       " 'acc_benefits/acc_benefits-KR.tsv': '5529d89eb586d281cb204f3cbf625819ad66dadbc2eee889c7be97003a7d959f',\n",
       " 'acc_benefits/acc_benefits-RU.tsv': '9bec6449081ecf32f7fb84e62d91455310254da03cf9d1fef14e03140bb011be',\n",
       " 'acc_benefits/acc_benefits-TW.tsv': 'cc6c91758046de7723bb5a8cbf1603f4acb00f560a78feb4081fa91e91c98802',\n",
       " 'achievements/achievements-EU-EN.tsv': '049e0d2446604728993f8fa7c3b9df05b10314dbc031ac9b148693885d7972c9',\n",
       " 'achievements/achievements-EU-FR.tsv': '86dbf93337b13a0f080ac96f3ce7108ae80c36394906752a4b654b69722b8381',\n",
       " 'achievements/achievements-EU-GER.tsv': '66db468a7338142489af62034159f723f4d57566e4344fba1161445bf053f766',\n",
       " 'achievements/achievements-JP.tsv': 'd5672cfd5ccb198c08709b55c65dca6cbb278e8fee6cf80c1471cc6c732a5c6b',\n",
       " 'achievements/achievements-KR.tsv': '907037717464396efebfadc4b804057ef6d7f358284b325f1145a0c938e3a964',\n",
       " 'achievements/achievements-RU.tsv': '6e38fb5e3cbf981b06b504387512e03da381c579899a072c1ed48f44f64f7514',\n",
       " 'achievements/achievements-TW.tsv': '6f3adacfd41ee6eef7b06660a4e5562433087399dcd3d477bed9df42ff79fb86',\n",
       " 'achi_grade/achi_grade-EU-EN.tsv': '5ae5c864db928b110d8f1709e22a81f6022d5922ebb7aa283c3a0279d7c3115c',\n",
       " 'achi_grade/achi_grade-EU-FR.tsv': 'eacd1d4d291524a788de73ccfeb03495f00efb9bb81491fb4c790b640fd194d6',\n",
       " 'achi_grade/achi_grade-EU-GER.tsv': 'eb526c12c54509e8e3941d6f4f112d041ecd78fab494e5eba0232c3894fc1591',\n",
       " 'achi_grade/achi_grade-JP.tsv': 'eede5b2ae35f323e2cc6dca99bbe8a88c94212de17496ab47a758459e302120d',\n",
       " 'achi_grade/achi_grade-KR.tsv': '08dbd934977556e71af35a49ccae340a01199154ad4cb4ce3e050178a03ee0e5',\n",
       " 'achi_grade/achi_grade-RU.tsv': '24be97a0c5a2b93ee8d4ca9a0e1cbb60b9b32c0443d56dda6c2e16fb89e9f96d',\n",
       " 'achi_grade/achi_grade-TW.tsv': '8b873c4e02da48d77a1d3c7b64238b3d0877a9ea2b42940795b3bb7d63ecc9c4',\n",
       " 'dungeons/dungeons-EU-EN.tsv': 'f86ab02284f231a8e90fa3143f7d84e29100baeddd90a9d4e6180253701035d8',\n",
       " 'dungeons/dungeons-EU-FR.tsv': 'f699aab5ba61c374b932129b3f3452266a5c29fba54af5551a529e864d12fd78',\n",
       " 'dungeons/dungeons-EU-GER.tsv': 'ae2ffd4b28337f19e0af49bf554e06b5be9b520679309c5f7e154dc467638ea0',\n",
       " 'dungeons/dungeons-JP.tsv': '6223aca7c982c1a54f39dac2c4964814e484dc87fb97503c318876ff6e23e8c8',\n",
       " 'dungeons/dungeons-KR.tsv': '0e517e423b8846a89cdc82381f797193ad704637dda0272e49f632287090649c',\n",
       " 'dungeons/dungeons-RU.tsv': 'b73b0e0584452e6139a2309010abf938fee8ec6c2aca79b93f03ea358811a0f8',\n",
       " 'dungeons/dungeons-TW.tsv': 'a0842930567a490bf8602c6c55ada122bb1ffae339cd14f0b9d3c8b3626c7019',\n",
       " 'equip_exp/equip_exp-EU-EN.xml': 'f2509761868562f3a100a86414021e9b6800a60156887db44f01988bd0fd4b66',\n",
       " 'equip_exp/equip_exp-EU-FR.xml': 'f2509761868562f3a100a86414021e9b6800a60156887db44f01988bd0fd4b66',\n",
       " 'equip_exp/equip_exp-EU-GER.xml': 'f2509761868562f3a100a86414021e9b6800a60156887db44f01988bd0fd4b66',\n",
       " 'equip_exp/equip_exp-JP.xml': 'f2509761868562f3a100a86414021e9b6800a60156887db44f01988bd0fd4b66',\n",
       " 'equip_exp/equip_exp-KR.xml': 'f2509761868562f3a100a86414021e9b6800a60156887db44f01988bd0fd4b66',\n",
       " 'equip_exp/equip_exp-RU.xml': 'f2509761868562f3a100a86414021e9b6800a60156887db44f01988bd0fd4b66',\n",
       " 'equip_exp/equip_exp-TW.xml': 'f2509761868562f3a100a86414021e9b6800a60156887db44f01988bd0fd4b66',\n",
       " 'guild_quests/guild_quests-EU-EN.tsv': 'efd70de0097db761f5d85b01760ba9e7633669934a8c71f445f0d586509e731f',\n",
       " 'guild_quests/guild_quests-EU-FR.tsv': '76019a152c4fa63373f1aabef5c67c2e1e1927581dbc86e8eee8149a4073a17f',\n",
       " 'guild_quests/guild_quests-EU-GER.tsv': '95ed2d4159dacd896f402b383d6bc4082a21db47f3989ba73d9fda607c82856e',\n",
       " 'guild_quests/guild_quests-JP.tsv': '8137f4462b3b11ec71ec771a50ecb2d209ff7e8e6e65edcdc7dcfaf0bbeea5bd',\n",
       " 'guild_quests/guild_quests-KR.tsv': 'fd9b3627228125c6990b62468f4a17424f2e318608ee7d3b8de50eac91399ebe',\n",
       " 'guild_quests/guild_quests-RU.tsv': '8ddc44e8e26b8ca0cbb2a6973aaaa1f63609fc446f86060a54b4a495a012e222',\n",
       " 'guild_quests/guild_quests-TW.tsv': '475463d3d2e0cc617232f9522d405c89dda132f8d6e3fbf2df72108eeaf6e4be',\n",
       " 'hotdot/abnormal.tsv': 'f74b578aa1214969ba7f652c6d8dad919e27714697fc1c3c22afd11ed7a9439c',\n",
       " 'hotdot/glyph-EU-EN.tsv': '09addc0ae2cd3ca17427f855985eeaf509df578a8afc123ca875c34a48d2e7fd',\n",
       " 'hotdot/glyph-EU-FR.tsv': '8e60e34894ba880f7b697beeed99171b35b51cb40f04147b612e7a1e3a931e3f',\n",
       " 'hotdot/glyph-EU-GER.tsv': '55f0ce916467c177352a060a2e5b0e9b7bd9b089023e9a55d3467d0604df7302',\n",
       " 'hotdot/glyph-JP.tsv': '4516c23290adfecda507b7d9a884d6ed6e911952233231b788fe0560082692fe',\n",
       " 'hotdot/glyph-KR.tsv': 'd110ea69d17a4e66b1a74ae7bf51433bde8e973e76fc1edd842de2710e53f968',\n",
       " 'hotdot/glyph-RU.tsv': '693b82e4f7ca957fa91c2b72ae8e3abe4f3742806ce5f5d00b8e38f727fece97',\n",
       " 'hotdot/glyph-TW.tsv': '9fde5bc7eb146e6a4ec1d7ffeaae4198ef100ad854e1ce37b830927950f97474',\n",
       " 'hotdot/hotdot-EU-EN.tsv': '6c07b1919c6f36e611114212a7d8cfef9dc623715dd6696553705a593c0cc3bc',\n",
       " 'hotdot/hotdot-EU-FR.tsv': 'f7da65a93f0b82eaa2a0bca053b49652fc48e8928e1f5af406a2bbd20dbed1b1',\n",
       " 'hotdot/hotdot-EU-GER.tsv': '330bb9ea58f57935ed374134eeced49034f0f95cba8c1a70dab542b55d23b26a',\n",
       " 'hotdot/hotdot-JP.tsv': 'db2725de7a47c27c85149fe76bf529fa7c7c4194850c06b20fc6b799a4d40ce7',\n",
       " 'hotdot/hotdot-KR.tsv': 'afa85b3c319b0328bdd7ae811eb371d71818cc9c5124fe8f356ce42036ce5adc',\n",
       " 'hotdot/hotdot-RU.tsv': '1c0a19491b3227cb1997f2c58fb5b61ffc3ad455b0ecf928aa59d2d89f35e260',\n",
       " 'hotdot/hotdot-short-RU.tsv': 'ae09f48a4c18cc7a35e78de0092498a3c007cd959c38bd53d07039ebc282a936',\n",
       " 'hotdot/hotdot-TW.tsv': 'b15f309f194567bcf914c055c9df7b1d87338c6d9883a648c8ad5cd88aec8230',\n",
       " 'items/items-EU-EN.tsv': '50a0aa4bd76d6fc8f92ae77f0fd1da2e4f2f120f0c933e0d5d7bc78e59e76bb9',\n",
       " 'items/items-EU-FR.tsv': '8a59cbc7726e94893d939cb63a76183d916af6bfc4d21c8d86b0d576a2c1e9d5',\n",
       " 'items/items-EU-GER.tsv': '412fd4709f8ed5281d50ba8d33e6298537c7eaf09b6c456499d43c5534f6f4c4',\n",
       " 'items/items-JP.tsv': '8ef99b668b6ed8ebf0530643bad04707c790842aecf90127271a886ad7698497',\n",
       " 'items/items-KR.tsv': '1b21f24998daba07c06d8bae2785343b36fe802dcb37357c80c9085a8dd967d7',\n",
       " 'items/items-RU.tsv': '65b471bdb6e6123ba2f821f87bd9878396ffef8d9512449c500de6853ea9a304',\n",
       " 'items/items-TW.tsv': 'a2111cbc55b14bad420ae3ebda4d7d116776a951ebcde879b98019f9d2f3624f',\n",
       " 'monsters/monsters-EU-EN.xml': 'a7969c70dc2f68e9adf7c7bc44cacda4d332c360c161509383d185e243b5548b',\n",
       " 'monsters/monsters-EU-FR.xml': '94de132836a2ecddd9934ecda5d45a1fcff5d81edabf2ae4644f2af0e2ad63f3',\n",
       " 'monsters/monsters-EU-GER.xml': '811ce3f8742f87df6ee78b0bc60ad43d093ce10836255464a78881f3caee326e',\n",
       " 'monsters/monsters-JP.xml': '5193406e7094b9cb389fb0e2b28525fef0615245e56d74ce1efd3c3b23c9676c',\n",
       " 'monsters/monsters-KR.xml': 'f58c6bebfce267597a52d47e2e62dd704d70298433fda1831fa371d31a29a2a0',\n",
       " 'monsters/monsters-override.xml': '7c34f4392f21c6bcd4edd706a2d74cc9aa5ac8c7ef6bfdbd5820791655cc1b3b',\n",
       " 'monsters/monsters-RU.xml': '4f31c6bcc935f90317cd0dd23abbbf9732475c2a81080ca63e9c57746201dca9',\n",
       " 'monsters/monsters-TW.xml': '7c95d6356b5a04a92ac60942f33370d88389d34c66a4baeff0863291d670d7f6',\n",
       " 'quests/quests-EU-EN.tsv': 'ec53b3854463fb34728c746604f0ade940445546399a508a2df4c1fca5ca9b77',\n",
       " 'quests/quests-EU-FR.tsv': 'a9c62fdd2be8599ba004782166d70a650684f134f5a0e9cb4f8b14edd95d4b13',\n",
       " 'quests/quests-EU-GER.tsv': 'd9dab5958fdc60476d0c164a359ca26dd3ee76190d00806e09887e11d29f5343',\n",
       " 'quests/quests-JP.tsv': '46fb96e4af73cdfbb2ebe0bd4906276884a8408f56caa63e3e35dec4ba4e21a8',\n",
       " 'quests/quests-KR.tsv': 'c7ca27fd2a66ec5801921e20771c58c374952bf182e4de1b4234355b70a4c1ad',\n",
       " 'quests/quests-RU.tsv': '128e15cd674da09376705e3aabca7673f51326a37d6dd3d265e94ad22424b5d6',\n",
       " 'quests/quests-TW.tsv': '974335b3edb44e75cca69443e2cc7b3f8396036eb7e46c03481b2d2d44469aa9',\n",
       " 'regions/regions-EU-EN.tsv': '71147a059eaceebb278cb16160094120841f6c8906fc8482351853bbeebe627c',\n",
       " 'regions/regions-EU-FR.tsv': '9d63998424a24da7f4ff04a680bb3ff862b833cfa3b5d352f083d83713f0dcc1',\n",
       " 'regions/regions-EU-GER.tsv': 'acb75fe04aaefbc338b3c69d7eff0d382b9e322c7b31de49e6bff85bee3a8f19',\n",
       " 'regions/regions-JP.tsv': '55ba12087eb6504c757fff025f85e347883bc933eb7d926765505d8aa8bd34b4',\n",
       " 'regions/regions-KR.tsv': 'ab829895c46e51163c2998d3c7e06b70d7f7c1b018e24527b6749fa8c8c0ab68',\n",
       " 'regions/regions-RU.tsv': '8a553828ab94938b875258c95c71c96b2d0e65428a37967e4e8ea0422751044b',\n",
       " 'regions/regions-TW.tsv': 'ecf884794f088cb38a260b370414efed7dbb44cea73132d9f0b6e6f5a14c5993',\n",
       " 'skills/pets-skills-EU-EN.tsv': 'd5317ddfb1cd455023c07198ae2406489b9154201eb65c1693f76f81dc5c89e3',\n",
       " 'skills/pets-skills-EU-FR.tsv': '0dc2238b30e8782f4cfa9b454a818afdaf0bb3a8e19cba1e5d4e7f9d13b26c74',\n",
       " 'skills/pets-skills-EU-GER.tsv': '44446687f6c9d03eea16066cc4b85549b58d7f3441344cf2b2a10b7dab8b3aea',\n",
       " 'skills/pets-skills-JP.tsv': 'd72b8962bbb827b1fa7c98989bc8a9592998a75ba4811cec704189fe03e531f2',\n",
       " 'skills/pets-skills-KR.tsv': '5ee3f2e37ad2ef947318a998a0e5462220ea77a85494ebb7138c8aec110f5d36',\n",
       " 'skills/pets-skills-RU.tsv': '97482c3ab0d676a3cf08ecfbd82731215b7be59bb11411c4af33bd6e881088c9',\n",
       " 'skills/pets-skills-TW.tsv': 'd75193d1fc2b974ab08490921e74df98f456e3268716cfec7ef5583e98da49b0',\n",
       " 'skills/skills-EU-EN.tsv': '03dc22660579a433c1304845400e3aad2b2e1dffeaeff5020f490607d79b40ed',\n",
       " 'skills/skills-EU-FR.tsv': '46b163a351efb15afd9d21a5f482b02233c9a8cbc3f41aa0fb713e1bf26eae30',\n",
       " 'skills/skills-EU-GER.tsv': '413c3e59536f06aa354a9592438ff597ef7cfb008a16da440e05cf7927a5f875',\n",
       " 'skills/skills-JP.tsv': 'dcea985052d0c0550d66c3d41fde1698ca1a308a6c0988b449321f534e7344d0',\n",
       " 'skills/skills-KR.tsv': '946bc50fb0c887a0ad338293d29981bcb7df9bc861bfc7766d6c81615489a7ba',\n",
       " 'skills/skills-override-EU-EN.tsv': '643826304f62ffc9f7502a8134d1bdd1c3803eb87407069ca0308cd8e9f1d69c',\n",
       " 'skills/skills-override-EU-FR.tsv': '89cd09961249eafdcfb81ad54869dc7733fc3938f0d614f7a57514742d3a5780',\n",
       " 'skills/skills-override-EU-GER.tsv': 'ba0d9d8ac67d8b7302679f5d7f1b41f70264bc48a9541a2bd18de8c9f039ebbc',\n",
       " 'skills/skills-override-JP.tsv': 'fad8da1717cd29155071afd3a0ab4b8b2f6ad3accf33a5a86cfe1a0be6f25f8f',\n",
       " 'skills/skills-override-KR.tsv': 'c023dbfdd9a404e077cda08aef4e97c87e7b3c52cefc683a779576b2228b2289',\n",
       " 'skills/skills-override-RU.tsv': 'd9d127f273f02b80315e8ff72d56d36ec11565b616b98ef2f1e46ceb0b87825b',\n",
       " 'skills/skills-override-TW.tsv': '6b3c024db8aef657d3c0f4e5f4cd9d17b2cafdbd148d0003b828a9c74924e235',\n",
       " 'skills/skills-RU.tsv': 'e3a1270f543af3f4ee5639be1436cb4d132acefa471333bf019569b02050ec9d',\n",
       " 'skills/skills-TW.tsv': '6ca860bc54389d9c65ef4eb5867050610bd948b23b7f5d857e4efb41aad4d913',\n",
       " 'social/social-EU-EN.tsv': '0a281e225665cab9dea96f4be36b06a3c8b9e7f74695dacd8d99ed8baa333b24',\n",
       " 'social/social-EU-FR.tsv': '82d1f1b2cd23b0de1d6031391377ed804bc0e301593cf5067a8357b34960352e',\n",
       " 'social/social-EU-GER.tsv': 'de6379657629df98e9a8959058b191e84e91bc57e48644861fcf0b7c49ad570c',\n",
       " 'social/social-JP.tsv': 'ef92f1f874c759eba252c3ff855ccce11bc0f43e9d1380327de8e2246d8f9808',\n",
       " 'social/social-KR.tsv': 'a59a9179a2b4f54365ee42192eaafe9b832ab9a08faecefe1fb1d8ff204fdb50',\n",
       " 'social/social-RU.tsv': '7cbf300d766a861ef74bf93d2e2ee664494c0a854acafecf330785434b11adcd',\n",
       " 'social/social-TW.tsv': 'e3be88b3106385a7d300dae5514af8660ea4238dc88bff1fd197477ce8210f2f',\n",
       " 'sys_msg/sys_msg-EU-EN.tsv': 'ab6cbd5444cd77ca6d7b3891f3fd1ef5e9d8e359c3b9e0e6127acf4f12faa8bd',\n",
       " 'sys_msg/sys_msg-EU-FR.tsv': 'a7c2bf5df9b9794610240cba2c8ca3a0e8d1624aeafd1515ff89f82082a1d831',\n",
       " 'sys_msg/sys_msg-EU-GER.tsv': 'd0a9d5c3bd66b1283897cd65f27fcf3a8748c68e7c6f25caf9e39b798007d5f0',\n",
       " 'sys_msg/sys_msg-JP.tsv': 'f74808a771abd2291903c96b4f26b1fb66152eefb9acf3684a7427028884e881',\n",
       " 'sys_msg/sys_msg-KR.tsv': '54478b674739bb05ffdf68854100d6c5d21d3dd56093af83c4c6040d8230b074',\n",
       " 'sys_msg/sys_msg-RU.tsv': '896799c546efd4064c6442540b3a848ae92ff9688bf8cd053226af42647715d1',\n",
       " 'sys_msg/sys_msg-TW.tsv': '6f807edbc53dcdfd4d67f25f044c1c51506df0fe91b1862db2799d0bbc786646',\n",
       " 'world_map/world_map-EU-EN.xml': '1f7edbf77425946b97aa9a9e0cc337d22e842ec88cf94ccfa7bf49adbcdc37cf',\n",
       " 'world_map/world_map-EU-FR.xml': '1f7edbf77425946b97aa9a9e0cc337d22e842ec88cf94ccfa7bf49adbcdc37cf',\n",
       " 'world_map/world_map-EU-GER.xml': '1f7edbf77425946b97aa9a9e0cc337d22e842ec88cf94ccfa7bf49adbcdc37cf',\n",
       " 'world_map/world_map-JP.xml': '1f7edbf77425946b97aa9a9e0cc337d22e842ec88cf94ccfa7bf49adbcdc37cf',\n",
       " 'world_map/world_map-KR.xml': '1f7edbf77425946b97aa9a9e0cc337d22e842ec88cf94ccfa7bf49adbcdc37cf',\n",
       " 'world_map/world_map-RU.xml': '1f7edbf77425946b97aa9a9e0cc337d22e842ec88cf94ccfa7bf49adbcdc37cf',\n",
       " 'world_map/world_map-TW.xml': '4b346636509f9d0dde4ce346aee68400d91f68081d7befa58c8b0a91bea23163'}"
      ]
     },
     "execution_count": 5,
     "metadata": {},
     "output_type": "execute_result"
    }
   ],
   "source": [
    "item_list = df.to_dict(orient='list')\n",
    "origin_dict = dict(zip(item_list['key'], item_list['value']))\n",
    "origin_dict"
   ]
  },
  {
   "cell_type": "markdown",
   "metadata": {
    "id": "Nwma5-Qcxy8T"
   },
   "source": [
    "- 將 `str` 轉為 `dict`"
   ]
  },
  {
   "cell_type": "code",
   "execution_count": 6,
   "metadata": {
    "colab": {
     "base_uri": "https://localhost:8080/"
    },
    "executionInfo": {
     "elapsed": 6,
     "status": "ok",
     "timestamp": 1653278219720,
     "user": {
      "displayName": "Abao JiunYiYang",
      "userId": "03267307845025036989"
     },
     "user_tz": -480
    },
    "id": "BAcll2p0xyfD",
    "outputId": "1197da53-107b-4f63-cfd3-189bf59c2fcc"
   },
   "outputs": [
    {
     "name": "stdout",
     "output_type": "stream",
     "text": [
      "<class 'dict'> \n",
      " {'file': 'monsters/monsters-RU.xml', 'hash': '4f31c6bcc935f90317cd0dd23abbbf9732475c2a81080ca63e9c57746201dca9'}\n"
     ]
    }
   ],
   "source": [
    "string_data = '{\"file\": \"monsters/monsters-RU.xml\", \"hash\": \"4f31c6bcc935f90317cd0dd23abbbf9732475c2a81080ca63e9c57746201dca9\"}'\n",
    "dict_data = json.loads(string_data)\n",
    "print(type(dict_data), '\\n', dict_data)"
   ]
  },
  {
   "cell_type": "markdown",
   "metadata": {
    "id": "dXvvTBwVD7R3"
   },
   "source": [
    "- 將 `dict` 轉為 `str`"
   ]
  },
  {
   "cell_type": "code",
   "execution_count": 7,
   "metadata": {
    "colab": {
     "base_uri": "https://localhost:8080/"
    },
    "executionInfo": {
     "elapsed": 7,
     "status": "ok",
     "timestamp": 1653278293674,
     "user": {
      "displayName": "Abao JiunYiYang",
      "userId": "03267307845025036989"
     },
     "user_tz": -480
    },
    "id": "vTu53oOCyLKl",
    "outputId": "2c1a9b69-4778-4ede-8bfa-99bb100a3e9f"
   },
   "outputs": [
    {
     "name": "stdout",
     "output_type": "stream",
     "text": [
      "<class 'str'> \n",
      " {\n",
      "    \"file\": \"monsters/monsters-RU.xml\",\n",
      "    \"hash\": \"4f31c6bcc935f90317cd0dd23abbbf9732475c2a81080ca63e9c57746201dca9\"\n",
      "}\n"
     ]
    }
   ],
   "source": [
    "string_data = json.dumps(dict_data, indent=4, sort_keys=True)\n",
    "print(type(string_data), '\\n', string_data)"
   ]
  },
  {
   "cell_type": "markdown",
   "metadata": {
    "id": "giRNb6kHEPP_"
   },
   "source": [
    "### 儲存為 JSON 檔案\n",
    "- 使用 `json.dump()`"
   ]
  },
  {
   "cell_type": "code",
   "execution_count": 8,
   "metadata": {
    "id": "uI6uloS9yQY9"
   },
   "outputs": [],
   "source": [
    "output_filename = \"day9-output_data.json\"\n",
    "with open(output_filename, 'w', encoding='utf-8') as f:\n",
    "  json.dump(data, f, ensure_ascii=False, indent=4)"
   ]
  },
  {
   "cell_type": "markdown",
   "metadata": {
    "id": "2bjKTQzXEvhq"
   },
   "source": [
    "![](https://i.imgur.com/6GOux0V.png)"
   ]
  },
  {
   "cell_type": "code",
   "execution_count": null,
   "metadata": {
    "id": "sl6hibQlE4hG"
   },
   "outputs": [],
   "source": []
  }
 ],
 "metadata": {
  "colab": {
   "authorship_tag": "ABX9TyPczK9qngWuB4qSGq7fjIlF",
   "collapsed_sections": [],
   "name": "Day9_hw.ipynb",
   "provenance": []
  },
  "kernelspec": {
   "display_name": "Python 3 (ipykernel)",
   "language": "python",
   "name": "python3"
  },
  "language_info": {
   "codemirror_mode": {
    "name": "ipython",
    "version": 3
   },
   "file_extension": ".py",
   "mimetype": "text/x-python",
   "name": "python",
   "nbconvert_exporter": "python",
   "pygments_lexer": "ipython3",
   "version": "3.9.13"
  }
 },
 "nbformat": 4,
 "nbformat_minor": 4
}
