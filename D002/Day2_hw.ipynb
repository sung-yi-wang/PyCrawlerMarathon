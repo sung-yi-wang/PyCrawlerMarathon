{
 "cells": [
  {
   "cell_type": "markdown",
   "metadata": {
    "id": "RmEW9BEct8Fk"
   },
   "source": [
    "## 作業說明\n",
    "\n",
    "今天我們介紹了 Open Data 開放資料，也列舉了一些國內常見的公開資料平台。\n",
    "\n",
    "本日的作業請學員找出一種網路上公開、我們沒介紹到的 Open Data，以下方的格式來認識這份資料：\n",
    "\n",
    "- Open Data API 或平台名稱\n",
    "- 資料網址來源\n",
    "- 資料架構\n",
    "- 資料的取得方式\n",
    "- 是否有多張表格、他們之間的脈絡和關係是？（至少列舉一種）"
   ]
  },
  {
   "cell_type": "markdown",
   "metadata": {
    "id": "LNdVdb19zxgh"
   },
   "source": [
    "### 作業回答區"
   ]
  },
  {
   "cell_type": "markdown",
   "metadata": {
    "id": "nMrCfn64z2DA",
    "jp-MarkdownHeadingCollapsed": true,
    "tags": []
   },
   "source": [
    "#### Binance API\n",
    "- 資料網址來源: https://binance-docs.github.io/apidocs/spot/en/#introduction\n",
    "- 資料架構: \n",
    "  - 根據不同功能區分 endpoint，再透過參數改變取得指定資料\n",
    "    - Base endpoint: https://api.binance.com  \n",
    "      ![](https://i.imgur.com/QHPfrH4.png)\n",
    "- 資料的取得方式\n",
    "  - 提供多種程式語言介面串接，例如 Python, Node.js, Ruby, C#, Java\n",
    "    - Python connector https://github.com/binance/binance-connector-python\n",
    "    - Node.js connector https://github.com/binance/binance-connector-node\n",
    "    - Ruby connector https://github.com/binance/binance-connector-ruby\n",
    "    - .NET(C#) connector https://github.com/binance/binance-connector-dotnet\n",
    "    - Java connector https://github.com/binance/binance-connector-java\n",
    "- 是否有多張表格、他們之間的脈絡和關係是？\n",
    "  - 是，例如可以先使用 Asset Detail (USER_DATA) `GET /sapi/v1/asset/assetDetail` 這隻 API 取得錢包內資產明細，再將獲取的幣名丟到 Kline/Candlestick Data `GET /api/v3/klines` 這隻 API 取得相對應的幣幣交易對 K 線數據"
   ]
  },
  {
   "cell_type": "code",
   "execution_count": null,
   "metadata": {},
   "outputs": [],
   "source": []
  }
 ],
 "metadata": {
  "colab": {
   "collapsed_sections": [],
   "name": "Day2_hw.ipynb",
   "provenance": []
  },
  "kernelspec": {
   "display_name": "Python 3 (ipykernel)",
   "language": "python",
   "name": "python3"
  },
  "language_info": {
   "codemirror_mode": {
    "name": "ipython",
    "version": 3
   },
   "file_extension": ".py",
   "mimetype": "text/x-python",
   "name": "python",
   "nbconvert_exporter": "python",
   "pygments_lexer": "ipython3",
   "version": "3.9.13"
  }
 },
 "nbformat": 4,
 "nbformat_minor": 4
}
