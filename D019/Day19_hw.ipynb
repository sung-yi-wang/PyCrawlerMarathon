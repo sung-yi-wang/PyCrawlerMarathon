{
  "cells": [
    {
      "cell_type": "markdown",
      "metadata": {
        "id": "RmEW9BEct8Fk"
      },
      "source": [
        "# Day19\n",
        "## 網頁結構解析：使用 BeautifulSoup 套件操作 CSS Selector\n",
        "- 使用 HTML Parser\n",
        "- 使用 CSS Selector 語法獲取子節點"
      ]
    },
    {
      "cell_type": "markdown",
      "metadata": {
        "id": "CmrQ2eOx7X2U"
      },
      "source": [
        "## 作業說明\n",
        "由於前一天作業我們已經練習過一些定位工具，今天針對 CSS Selector 更多變化用法再深入練習吧。\n",
        "\n",
        "- 題目網站：\n",
        "https://pokemondb.net/pokedex/all\n",
        "- 使用 CSS Selector 技巧把寶可夢表格抓下來"
      ]
    },
    {
      "cell_type": "code",
      "execution_count": 1,
      "metadata": {
        "id": "2vDuolRl88hz"
      },
      "outputs": [],
      "source": [
        "from bs4 import BeautifulSoup\n",
        "import requests"
      ]
    },
    {
      "cell_type": "markdown",
      "metadata": {
        "id": "ZbDTtqaRTnGD"
      },
      "source": [
        "### `GET` Request"
      ]
    },
    {
      "cell_type": "code",
      "execution_count": 2,
      "metadata": {
        "colab": {
          "base_uri": "https://localhost:8080/"
        },
        "id": "K1ONgiThK57V",
        "outputId": "e133083f-fcb7-457a-e8ba-5ac6f787582b"
      },
      "outputs": [
        {
          "name": "stdout",
          "output_type": "stream",
          "text": [
            "200 \n",
            "\n",
            " <!DOCTYPE html>\n",
            "<html lang=\"en\">\n",
            "<head>\n",
            "<meta charset=\"utf-8\">\n",
            "<title>Pokémon Pokédex: list of Pokémon with stats | Pokémon Database</title>\n",
            "<link rel=\"preconnect\" href=\"https://img.pokemondb.net\">\n",
            "<link rel=\"preconnect\" href=\"https://s.pokemondb.net\">\n",
            "<link rel=\"preload\" href=\"/static/fonts/fira-sans-v17-latin-400.woff2\" as=\"font\" type=\"font/woff2\" crossorigin>\n",
            "<link rel=\"preload\" href=\"/static/fonts/fira-sans-v17-latin-400i.woff2\" as=\"font\" type=\"font/woff2\" crossorigin>\n",
            "<link rel=\"preload\" href=\"/static/fonts/fira-sans-v17-latin-600.woff2\" as=\"font\" type=\"font/woff2\" crossorigin>\n",
            "<link rel=\"stylesheet\" href=\"/static/css/pokemondb-aa70195104.css\">\n",
            "<meta name=\"viewport\" content=\"width=device-width, initial-scale=1\">\n",
            "<meta property=\"og:description\" name=\"description\" content=\"The Pokédex contains detailed stats for every creature from the Pokémon games, up to and including the latest Scarlet/Violet games.\">\n",
            "<link rel=\"canonical\" href=\"https://pokemondb.net/pokedex/all\">\n",
            "<meta property=\n"
          ]
        }
      ],
      "source": [
        "url = \"https://pokemondb.net/pokedex/all\"\n",
        "r = requests.get(url)\n",
        "print(r.status_code, \"\\n\\n\", r.text[:1000])"
      ]
    },
    {
      "cell_type": "markdown",
      "metadata": {
        "id": "aTkbyICTKk9R"
      },
      "source": [
        "### 使用 HTML Parser"
      ]
    },
    {
      "cell_type": "code",
      "execution_count": 3,
      "metadata": {
        "colab": {
          "base_uri": "https://localhost:8080/"
        },
        "id": "5OFshcBqTzWM",
        "outputId": "6ab2bcc9-777c-424a-f300-e39a69f64613"
      },
      "outputs": [
        {
          "data": {
            "text/plain": [
              "<title>Pokémon Pokédex: list of Pokémon with stats | Pokémon Database</title>"
            ]
          },
          "execution_count": 3,
          "metadata": {},
          "output_type": "execute_result"
        }
      ],
      "source": [
        "# 轉為 BeautifulSoup 物件\n",
        "soup = BeautifulSoup(r.text, \"html.parser\")\n",
        "soup.title"
      ]
    },
    {
      "cell_type": "markdown",
      "metadata": {
        "id": "NYkukXglWGKT"
      },
      "source": [
        "### 指定相符特徵的節點\n",
        "- 找到寶可夢資訊表格\n",
        "- 使用：`soup.find(<tag_name>, {<attribute>: <attribute_value>})`\n"
      ]
    },
    {
      "cell_type": "code",
      "execution_count": 4,
      "metadata": {
        "colab": {
          "base_uri": "https://localhost:8080/"
        },
        "id": "N9vuuBiHUMqT",
        "outputId": "386a54b2-a056-42ab-f5aa-11f9138add39"
      },
      "outputs": [
        {
          "name": "stdout",
          "output_type": "stream",
          "text": [
            "<table class=\"data-table sticky-header block-wide\" id=\"pokedex\">\n",
            " <thead>\n",
            "  <tr>\n",
            "   <th class=\"sorting\" data-sort-type=\"int\">\n",
            "    <div class=\"sortwrap\">\n",
            "     #\n",
            "    </div>\n",
            "   </th>\n",
            "   <th class=\"sorting\" data-sort-type=\"string\">\n",
            "    <div class=\"sortwrap\">\n",
            "     Name\n",
            "    </div>\n",
            "   </th>\n",
            "   <th>\n",
            "    <div class=\"sortwrap\">\n",
            "     Type\n",
            "    </div>\n",
            "   </th>\n",
            "   <th class=\"sorting\" data-sort-default=\"desc\" data-sort-type=\"int\">\n",
            "    <div class=\"sortwrap\">\n",
            "     Total\n",
            "    </div>\n",
            "   </th>\n",
            "   <th class=\"sorting\" data-sort-default=\"desc\" data-sort-type=\"int\">\n",
            "    <div class=\"sortwrap\">\n",
            "     HP\n",
            "    </div>\n",
            "   </th>\n",
            "   <th class=\"sorting\" data-sort-default=\"desc\" data-sort-type=\"int\">\n",
            "    <div class=\"sortwrap\">\n",
            "     Attack\n",
            "    </div>\n",
            "   </th>\n",
            "   <th class=\"sorting\" data-sort-default=\"desc\" data-sort-type=\"int\">\n",
            "    <div class=\"sortwrap\">\n",
            "     Defense\n",
            "    </div>\n",
            "   </th>\n",
            "   <th class=\"sorting\" data-sort-default=\"desc\" data-sort-type=\"int\">\n",
            "    <div class=\"sortwrap\">\n",
            "     Sp. Atk\n",
            "    </div>\n",
            "   </th>\n",
            "   <th c\n"
          ]
        }
      ],
      "source": [
        "table = soup.find('table', id='pokedex')\n",
        "print(table.prettify()[:1000])"
      ]
    },
    {
      "cell_type": "markdown",
      "metadata": {
        "id": "0Ug_m4s2wzC1"
      },
      "source": [
        "### 連續查找\n",
        "- 取得所有表格中的列"
      ]
    },
    {
      "cell_type": "code",
      "execution_count": 5,
      "metadata": {
        "id": "nQAdXkewwygN"
      },
      "outputs": [],
      "source": [
        "header = table.thead.tr.find_all('th')\n",
        "body_rows = table.tbody.find_all('tr')"
      ]
    },
    {
      "cell_type": "code",
      "execution_count": 6,
      "metadata": {
        "colab": {
          "base_uri": "https://localhost:8080/"
        },
        "id": "hUmVihj_FzIp",
        "outputId": "3d211958-b085-4c15-8fb9-9688a633555e"
      },
      "outputs": [
        {
          "data": {
            "text/plain": [
              "[<th class=\"sorting\" data-sort-type=\"int\"><div class=\"sortwrap\">#</div></th>,\n",
              " <th class=\"sorting\" data-sort-type=\"string\"><div class=\"sortwrap\">Name</div></th>,\n",
              " <th><div class=\"sortwrap\">Type</div></th>,\n",
              " <th class=\"sorting\" data-sort-default=\"desc\" data-sort-type=\"int\"><div class=\"sortwrap\">Total</div></th>,\n",
              " <th class=\"sorting\" data-sort-default=\"desc\" data-sort-type=\"int\"><div class=\"sortwrap\">HP</div></th>,\n",
              " <th class=\"sorting\" data-sort-default=\"desc\" data-sort-type=\"int\"><div class=\"sortwrap\">Attack</div></th>,\n",
              " <th class=\"sorting\" data-sort-default=\"desc\" data-sort-type=\"int\"><div class=\"sortwrap\">Defense</div></th>,\n",
              " <th class=\"sorting\" data-sort-default=\"desc\" data-sort-type=\"int\"><div class=\"sortwrap\">Sp. Atk</div></th>,\n",
              " <th class=\"sorting\" data-sort-default=\"desc\" data-sort-type=\"int\"><div class=\"sortwrap\">Sp. Def</div></th>,\n",
              " <th class=\"sorting\" data-sort-default=\"desc\" data-sort-type=\"int\"><div class=\"sortwrap\">Speed</div></th>]"
            ]
          },
          "execution_count": 6,
          "metadata": {},
          "output_type": "execute_result"
        }
      ],
      "source": [
        "header"
      ]
    },
    {
      "cell_type": "code",
      "execution_count": 7,
      "metadata": {
        "colab": {
          "base_uri": "https://localhost:8080/"
        },
        "id": "VVismXcwF1tn",
        "outputId": "55760b87-f863-4c7d-d7c7-4754e46c819d"
      },
      "outputs": [
        {
          "data": {
            "text/plain": [
              "[<tr>\n",
              " <td class=\"cell-num cell-fixed\" data-sort-value=\"1\"><picture class=\"infocard-cell-img\">\n",
              " <source height=\"56\" srcset=\"https://img.pokemondb.net/sprites/scarlet-violet/icon/avif/bulbasaur.avif\" type=\"image/avif\" width=\"60\"/>\n",
              " <img alt=\"Bulbasaur\" class=\"img-fixed icon-pkmn\" height=\"56\" loading=\"lazy\" src=\"https://img.pokemondb.net/sprites/scarlet-violet/icon/bulbasaur.png\" width=\"60\"/>\n",
              " </picture><span class=\"infocard-cell-data\">0001</span></td> <td class=\"cell-name\"><a class=\"ent-name\" href=\"/pokedex/bulbasaur\" title=\"View Pokedex for #0001 Bulbasaur\">Bulbasaur</a></td><td class=\"cell-icon\"><a class=\"type-icon type-grass\" href=\"/type/grass\">Grass</a><br/> <a class=\"type-icon type-poison\" href=\"/type/poison\">Poison</a></td>\n",
              " <td class=\"cell-num cell-total\">318</td>\n",
              " <td class=\"cell-num\">45</td>\n",
              " <td class=\"cell-num\">49</td>\n",
              " <td class=\"cell-num\">49</td>\n",
              " <td class=\"cell-num\">65</td>\n",
              " <td class=\"cell-num\">65</td>\n",
              " <td class=\"cell-num\">45</td>\n",
              " </tr>,\n",
              " <tr>\n",
              " <td class=\"cell-num cell-fixed\" data-sort-value=\"2\"><picture class=\"infocard-cell-img\">\n",
              " <source height=\"56\" srcset=\"https://img.pokemondb.net/sprites/scarlet-violet/icon/avif/ivysaur.avif\" type=\"image/avif\" width=\"60\"/>\n",
              " <img alt=\"Ivysaur\" class=\"img-fixed icon-pkmn\" height=\"56\" loading=\"lazy\" src=\"https://img.pokemondb.net/sprites/scarlet-violet/icon/ivysaur.png\" width=\"60\"/>\n",
              " </picture><span class=\"infocard-cell-data\">0002</span></td> <td class=\"cell-name\"><a class=\"ent-name\" href=\"/pokedex/ivysaur\" title=\"View Pokedex for #0002 Ivysaur\">Ivysaur</a></td><td class=\"cell-icon\"><a class=\"type-icon type-grass\" href=\"/type/grass\">Grass</a><br/> <a class=\"type-icon type-poison\" href=\"/type/poison\">Poison</a></td>\n",
              " <td class=\"cell-num cell-total\">405</td>\n",
              " <td class=\"cell-num\">60</td>\n",
              " <td class=\"cell-num\">62</td>\n",
              " <td class=\"cell-num\">63</td>\n",
              " <td class=\"cell-num\">80</td>\n",
              " <td class=\"cell-num\">80</td>\n",
              " <td class=\"cell-num\">60</td>\n",
              " </tr>,\n",
              " <tr>\n",
              " <td class=\"cell-num cell-fixed\" data-sort-value=\"3\"><picture class=\"infocard-cell-img\">\n",
              " <source height=\"56\" srcset=\"https://img.pokemondb.net/sprites/scarlet-violet/icon/avif/venusaur.avif\" type=\"image/avif\" width=\"60\"/>\n",
              " <img alt=\"Venusaur\" class=\"img-fixed icon-pkmn\" height=\"56\" loading=\"lazy\" src=\"https://img.pokemondb.net/sprites/scarlet-violet/icon/venusaur.png\" width=\"60\"/>\n",
              " </picture><span class=\"infocard-cell-data\">0003</span></td> <td class=\"cell-name\"><a class=\"ent-name\" href=\"/pokedex/venusaur\" title=\"View Pokedex for #0003 Venusaur\">Venusaur</a></td><td class=\"cell-icon\"><a class=\"type-icon type-grass\" href=\"/type/grass\">Grass</a><br/> <a class=\"type-icon type-poison\" href=\"/type/poison\">Poison</a></td>\n",
              " <td class=\"cell-num cell-total\">525</td>\n",
              " <td class=\"cell-num\">80</td>\n",
              " <td class=\"cell-num\">82</td>\n",
              " <td class=\"cell-num\">83</td>\n",
              " <td class=\"cell-num\">100</td>\n",
              " <td class=\"cell-num\">100</td>\n",
              " <td class=\"cell-num\">80</td>\n",
              " </tr>,\n",
              " <tr>\n",
              " <td class=\"cell-num cell-fixed\" data-sort-value=\"3\"><picture class=\"infocard-cell-img\">\n",
              " <source height=\"56\" srcset=\"https://img.pokemondb.net/sprites/scarlet-violet/icon/avif/venusaur-mega.avif\" type=\"image/avif\" width=\"60\"/>\n",
              " <img alt=\"Mega Venusaur\" class=\"img-fixed icon-pkmn\" height=\"56\" loading=\"lazy\" src=\"https://img.pokemondb.net/sprites/scarlet-violet/icon/venusaur-mega.png\" width=\"60\"/>\n",
              " </picture><span class=\"infocard-cell-data\">0003</span></td> <td class=\"cell-name\"><a class=\"ent-name\" href=\"/pokedex/venusaur\" title=\"View Pokedex for #0003 Venusaur\">Venusaur</a><br/> <small class=\"text-muted\">Mega Venusaur</small></td><td class=\"cell-icon\"><a class=\"type-icon type-grass\" href=\"/type/grass\">Grass</a><br/> <a class=\"type-icon type-poison\" href=\"/type/poison\">Poison</a></td>\n",
              " <td class=\"cell-num cell-total\">625</td>\n",
              " <td class=\"cell-num\">80</td>\n",
              " <td class=\"cell-num\">100</td>\n",
              " <td class=\"cell-num\">123</td>\n",
              " <td class=\"cell-num\">122</td>\n",
              " <td class=\"cell-num\">120</td>\n",
              " <td class=\"cell-num\">80</td>\n",
              " </tr>,\n",
              " <tr>\n",
              " <td class=\"cell-num cell-fixed\" data-sort-value=\"4\"><picture class=\"infocard-cell-img\">\n",
              " <source height=\"56\" srcset=\"https://img.pokemondb.net/sprites/scarlet-violet/icon/avif/charmander.avif\" type=\"image/avif\" width=\"60\"/>\n",
              " <img alt=\"Charmander\" class=\"img-fixed icon-pkmn\" height=\"56\" loading=\"lazy\" src=\"https://img.pokemondb.net/sprites/scarlet-violet/icon/charmander.png\" width=\"60\"/>\n",
              " </picture><span class=\"infocard-cell-data\">0004</span></td> <td class=\"cell-name\"><a class=\"ent-name\" href=\"/pokedex/charmander\" title=\"View Pokedex for #0004 Charmander\">Charmander</a></td><td class=\"cell-icon\"><a class=\"type-icon type-fire\" href=\"/type/fire\">Fire</a><br/> </td>\n",
              " <td class=\"cell-num cell-total\">309</td>\n",
              " <td class=\"cell-num\">39</td>\n",
              " <td class=\"cell-num\">52</td>\n",
              " <td class=\"cell-num\">43</td>\n",
              " <td class=\"cell-num\">60</td>\n",
              " <td class=\"cell-num\">50</td>\n",
              " <td class=\"cell-num\">65</td>\n",
              " </tr>,\n",
              " <tr>\n",
              " <td class=\"cell-num cell-fixed\" data-sort-value=\"5\"><picture class=\"infocard-cell-img\">\n",
              " <source height=\"56\" srcset=\"https://img.pokemondb.net/sprites/scarlet-violet/icon/avif/charmeleon.avif\" type=\"image/avif\" width=\"60\"/>\n",
              " <img alt=\"Charmeleon\" class=\"img-fixed icon-pkmn\" height=\"56\" loading=\"lazy\" src=\"https://img.pokemondb.net/sprites/scarlet-violet/icon/charmeleon.png\" width=\"60\"/>\n",
              " </picture><span class=\"infocard-cell-data\">0005</span></td> <td class=\"cell-name\"><a class=\"ent-name\" href=\"/pokedex/charmeleon\" title=\"View Pokedex for #0005 Charmeleon\">Charmeleon</a></td><td class=\"cell-icon\"><a class=\"type-icon type-fire\" href=\"/type/fire\">Fire</a><br/> </td>\n",
              " <td class=\"cell-num cell-total\">405</td>\n",
              " <td class=\"cell-num\">58</td>\n",
              " <td class=\"cell-num\">64</td>\n",
              " <td class=\"cell-num\">58</td>\n",
              " <td class=\"cell-num\">80</td>\n",
              " <td class=\"cell-num\">65</td>\n",
              " <td class=\"cell-num\">80</td>\n",
              " </tr>,\n",
              " <tr>\n",
              " <td class=\"cell-num cell-fixed\" data-sort-value=\"6\"><picture class=\"infocard-cell-img\">\n",
              " <source height=\"56\" srcset=\"https://img.pokemondb.net/sprites/scarlet-violet/icon/avif/charizard.avif\" type=\"image/avif\" width=\"60\"/>\n",
              " <img alt=\"Charizard\" class=\"img-fixed icon-pkmn\" height=\"56\" loading=\"lazy\" src=\"https://img.pokemondb.net/sprites/scarlet-violet/icon/charizard.png\" width=\"60\"/>\n",
              " </picture><span class=\"infocard-cell-data\">0006</span></td> <td class=\"cell-name\"><a class=\"ent-name\" href=\"/pokedex/charizard\" title=\"View Pokedex for #0006 Charizard\">Charizard</a></td><td class=\"cell-icon\"><a class=\"type-icon type-fire\" href=\"/type/fire\">Fire</a><br/> <a class=\"type-icon type-flying\" href=\"/type/flying\">Flying</a></td>\n",
              " <td class=\"cell-num cell-total\">534</td>\n",
              " <td class=\"cell-num\">78</td>\n",
              " <td class=\"cell-num\">84</td>\n",
              " <td class=\"cell-num\">78</td>\n",
              " <td class=\"cell-num\">109</td>\n",
              " <td class=\"cell-num\">85</td>\n",
              " <td class=\"cell-num\">100</td>\n",
              " </tr>,\n",
              " <tr>\n",
              " <td class=\"cell-num cell-fixed\" data-sort-value=\"6\"><picture class=\"infocard-cell-img\">\n",
              " <source height=\"56\" srcset=\"https://img.pokemondb.net/sprites/scarlet-violet/icon/avif/charizard-mega-x.avif\" type=\"image/avif\" width=\"60\"/>\n",
              " <img alt=\"Mega Charizard X\" class=\"img-fixed icon-pkmn\" height=\"56\" loading=\"lazy\" src=\"https://img.pokemondb.net/sprites/scarlet-violet/icon/charizard-mega-x.png\" width=\"60\"/>\n",
              " </picture><span class=\"infocard-cell-data\">0006</span></td> <td class=\"cell-name\"><a class=\"ent-name\" href=\"/pokedex/charizard\" title=\"View Pokedex for #0006 Charizard\">Charizard</a><br/> <small class=\"text-muted\">Mega Charizard X</small></td><td class=\"cell-icon\"><a class=\"type-icon type-fire\" href=\"/type/fire\">Fire</a><br/> <a class=\"type-icon type-dragon\" href=\"/type/dragon\">Dragon</a></td>\n",
              " <td class=\"cell-num cell-total\">634</td>\n",
              " <td class=\"cell-num\">78</td>\n",
              " <td class=\"cell-num\">130</td>\n",
              " <td class=\"cell-num\">111</td>\n",
              " <td class=\"cell-num\">130</td>\n",
              " <td class=\"cell-num\">85</td>\n",
              " <td class=\"cell-num\">100</td>\n",
              " </tr>,\n",
              " <tr>\n",
              " <td class=\"cell-num cell-fixed\" data-sort-value=\"6\"><picture class=\"infocard-cell-img\">\n",
              " <source height=\"56\" srcset=\"https://img.pokemondb.net/sprites/scarlet-violet/icon/avif/charizard-mega-y.avif\" type=\"image/avif\" width=\"60\"/>\n",
              " <img alt=\"Mega Charizard Y\" class=\"img-fixed icon-pkmn\" height=\"56\" loading=\"lazy\" src=\"https://img.pokemondb.net/sprites/scarlet-violet/icon/charizard-mega-y.png\" width=\"60\"/>\n",
              " </picture><span class=\"infocard-cell-data\">0006</span></td> <td class=\"cell-name\"><a class=\"ent-name\" href=\"/pokedex/charizard\" title=\"View Pokedex for #0006 Charizard\">Charizard</a><br/> <small class=\"text-muted\">Mega Charizard Y</small></td><td class=\"cell-icon\"><a class=\"type-icon type-fire\" href=\"/type/fire\">Fire</a><br/> <a class=\"type-icon type-flying\" href=\"/type/flying\">Flying</a></td>\n",
              " <td class=\"cell-num cell-total\">634</td>\n",
              " <td class=\"cell-num\">78</td>\n",
              " <td class=\"cell-num\">104</td>\n",
              " <td class=\"cell-num\">78</td>\n",
              " <td class=\"cell-num\">159</td>\n",
              " <td class=\"cell-num\">115</td>\n",
              " <td class=\"cell-num\">100</td>\n",
              " </tr>,\n",
              " <tr>\n",
              " <td class=\"cell-num cell-fixed\" data-sort-value=\"7\"><picture class=\"infocard-cell-img\">\n",
              " <source height=\"56\" srcset=\"https://img.pokemondb.net/sprites/scarlet-violet/icon/avif/squirtle.avif\" type=\"image/avif\" width=\"60\"/>\n",
              " <img alt=\"Squirtle\" class=\"img-fixed icon-pkmn\" height=\"56\" loading=\"lazy\" src=\"https://img.pokemondb.net/sprites/scarlet-violet/icon/squirtle.png\" width=\"60\"/>\n",
              " </picture><span class=\"infocard-cell-data\">0007</span></td> <td class=\"cell-name\"><a class=\"ent-name\" href=\"/pokedex/squirtle\" title=\"View Pokedex for #0007 Squirtle\">Squirtle</a></td><td class=\"cell-icon\"><a class=\"type-icon type-water\" href=\"/type/water\">Water</a><br/> </td>\n",
              " <td class=\"cell-num cell-total\">314</td>\n",
              " <td class=\"cell-num\">44</td>\n",
              " <td class=\"cell-num\">48</td>\n",
              " <td class=\"cell-num\">65</td>\n",
              " <td class=\"cell-num\">50</td>\n",
              " <td class=\"cell-num\">64</td>\n",
              " <td class=\"cell-num\">43</td>\n",
              " </tr>]"
            ]
          },
          "execution_count": 7,
          "metadata": {},
          "output_type": "execute_result"
        }
      ],
      "source": [
        "body_rows[:10]"
      ]
    },
    {
      "cell_type": "markdown",
      "metadata": {
        "id": "61PQ74yH-2Bw"
      },
      "source": [
        "### 指定節點文字相符：找出文字是 Ivysaur 的節點\n",
        "- Hint: 使用 `soup.find(\"a\", string=<text_in_the_html_node_>)`"
      ]
    },
    {
      "cell_type": "code",
      "execution_count": 8,
      "metadata": {
        "colab": {
          "base_uri": "https://localhost:8080/"
        },
        "id": "WnLgNjg47Oq4",
        "outputId": "8f1cf8a0-f940-4419-cb2a-7976435785af"
      },
      "outputs": [
        {
          "data": {
            "text/plain": [
              "[<a class=\"ent-name\" href=\"/pokedex/ivysaur\" title=\"View Pokedex for #0002 Ivysaur\">Ivysaur</a>]"
            ]
          },
          "execution_count": 8,
          "metadata": {},
          "output_type": "execute_result"
        }
      ],
      "source": [
        "soup.find_all('a', string='Ivysaur')"
      ]
    },
    {
      "cell_type": "markdown",
      "metadata": {
        "id": "MYXF4GyC_qi2"
      },
      "source": [
        "### 找出屬性包含部分文字的節點：找出各種類型的寶可夢種類標籤\n",
        "\n",
        "- 使用 regex \n",
        "- `soup.find(<tag_name>, {<attribute>: <regex_pattern>})`"
      ]
    },
    {
      "cell_type": "code",
      "execution_count": 9,
      "metadata": {
        "colab": {
          "base_uri": "https://localhost:8080/"
        },
        "id": "eUPhP3fo70TS",
        "outputId": "d0b326a3-b568-4f51-9d02-382d19707525"
      },
      "outputs": [
        {
          "data": {
            "text/plain": [
              "{<a class=\"type-icon type-bug\" href=\"/type/bug\">Bug</a>,\n",
              " <a class=\"type-icon type-dark\" href=\"/type/dark\">Dark</a>,\n",
              " <a class=\"type-icon type-dragon\" href=\"/type/dragon\">Dragon</a>,\n",
              " <a class=\"type-icon type-electric\" href=\"/type/electric\">Electric</a>,\n",
              " <a class=\"type-icon type-fairy\" href=\"/type/fairy\">Fairy</a>,\n",
              " <a class=\"type-icon type-fighting\" href=\"/type/fighting\">Fighting</a>,\n",
              " <a class=\"type-icon type-fire\" href=\"/type/fire\">Fire</a>,\n",
              " <a class=\"type-icon type-flying\" href=\"/type/flying\">Flying</a>,\n",
              " <a class=\"type-icon type-ghost\" href=\"/type/ghost\">Ghost</a>,\n",
              " <a class=\"type-icon type-grass\" href=\"/type/grass\">Grass</a>,\n",
              " <a class=\"type-icon type-ground\" href=\"/type/ground\">Ground</a>,\n",
              " <a class=\"type-icon type-ice\" href=\"/type/ice\">Ice</a>,\n",
              " <a class=\"type-icon type-normal\" href=\"/type/normal\">Normal</a>,\n",
              " <a class=\"type-icon type-poison\" href=\"/type/poison\">Poison</a>,\n",
              " <a class=\"type-icon type-psychic\" href=\"/type/psychic\">Psychic</a>,\n",
              " <a class=\"type-icon type-rock\" href=\"/type/rock\">Rock</a>,\n",
              " <a class=\"type-icon type-steel\" href=\"/type/steel\">Steel</a>,\n",
              " <a class=\"type-icon type-water\" href=\"/type/water\">Water</a>}"
            ]
          },
          "execution_count": 9,
          "metadata": {},
          "output_type": "execute_result"
        }
      ],
      "source": [
        "# 選取各種類型的寶可夢種類標籤(GRASS, POISON, ...)，用 set 過濾出不重複種類有哪幾種\n",
        "\n",
        "import re\n",
        "regex_pattern = re.compile(\"type-.*\")\n",
        "set(soup.find_all('a', class_=regex_pattern))\n"
      ]
    },
    {
      "cell_type": "markdown",
      "metadata": {
        "id": "1Sao7e1vFtsE"
      },
      "source": [
        "### 將資訊組成表格"
      ]
    },
    {
      "cell_type": "code",
      "execution_count": 10,
      "metadata": {
        "id": "4Ka-hqfIDjew"
      },
      "outputs": [],
      "source": [
        "header_cols = [col.get_text() for col in header]\n",
        "row_values = [[item.get_text() for item in row.find_all('td')] for row in body_rows]"
      ]
    },
    {
      "cell_type": "code",
      "execution_count": 11,
      "metadata": {
        "colab": {
          "base_uri": "https://localhost:8080/",
          "height": 424
        },
        "id": "ovFc5koyHEnd",
        "outputId": "1cb63acd-43be-42e3-bff8-745dae55d902"
      },
      "outputs": [
        {
          "data": {
            "text/html": [
              "<div>\n",
              "<style scoped>\n",
              "    .dataframe tbody tr th:only-of-type {\n",
              "        vertical-align: middle;\n",
              "    }\n",
              "\n",
              "    .dataframe tbody tr th {\n",
              "        vertical-align: top;\n",
              "    }\n",
              "\n",
              "    .dataframe thead th {\n",
              "        text-align: right;\n",
              "    }\n",
              "</style>\n",
              "<table border=\"1\" class=\"dataframe\">\n",
              "  <thead>\n",
              "    <tr style=\"text-align: right;\">\n",
              "      <th></th>\n",
              "      <th>#</th>\n",
              "      <th>Name</th>\n",
              "      <th>Type</th>\n",
              "      <th>Total</th>\n",
              "      <th>HP</th>\n",
              "      <th>Attack</th>\n",
              "      <th>Defense</th>\n",
              "      <th>Sp. Atk</th>\n",
              "      <th>Sp. Def</th>\n",
              "      <th>Speed</th>\n",
              "    </tr>\n",
              "  </thead>\n",
              "  <tbody>\n",
              "    <tr>\n",
              "      <th>0</th>\n",
              "      <td>0001</td>\n",
              "      <td>Bulbasaur</td>\n",
              "      <td>[Grass, Poison]</td>\n",
              "      <td>318</td>\n",
              "      <td>45</td>\n",
              "      <td>49</td>\n",
              "      <td>49</td>\n",
              "      <td>65</td>\n",
              "      <td>65</td>\n",
              "      <td>45</td>\n",
              "    </tr>\n",
              "    <tr>\n",
              "      <th>1</th>\n",
              "      <td>0002</td>\n",
              "      <td>Ivysaur</td>\n",
              "      <td>[Grass, Poison]</td>\n",
              "      <td>405</td>\n",
              "      <td>60</td>\n",
              "      <td>62</td>\n",
              "      <td>63</td>\n",
              "      <td>80</td>\n",
              "      <td>80</td>\n",
              "      <td>60</td>\n",
              "    </tr>\n",
              "    <tr>\n",
              "      <th>2</th>\n",
              "      <td>0003</td>\n",
              "      <td>Venusaur</td>\n",
              "      <td>[Grass, Poison]</td>\n",
              "      <td>525</td>\n",
              "      <td>80</td>\n",
              "      <td>82</td>\n",
              "      <td>83</td>\n",
              "      <td>100</td>\n",
              "      <td>100</td>\n",
              "      <td>80</td>\n",
              "    </tr>\n",
              "    <tr>\n",
              "      <th>3</th>\n",
              "      <td>0003</td>\n",
              "      <td>Venusaur Mega Venusaur</td>\n",
              "      <td>[Grass, Poison]</td>\n",
              "      <td>625</td>\n",
              "      <td>80</td>\n",
              "      <td>100</td>\n",
              "      <td>123</td>\n",
              "      <td>122</td>\n",
              "      <td>120</td>\n",
              "      <td>80</td>\n",
              "    </tr>\n",
              "    <tr>\n",
              "      <th>4</th>\n",
              "      <td>0004</td>\n",
              "      <td>Charmander</td>\n",
              "      <td>[Fire]</td>\n",
              "      <td>309</td>\n",
              "      <td>39</td>\n",
              "      <td>52</td>\n",
              "      <td>43</td>\n",
              "      <td>60</td>\n",
              "      <td>50</td>\n",
              "      <td>65</td>\n",
              "    </tr>\n",
              "    <tr>\n",
              "      <th>...</th>\n",
              "      <td>...</td>\n",
              "      <td>...</td>\n",
              "      <td>...</td>\n",
              "      <td>...</td>\n",
              "      <td>...</td>\n",
              "      <td>...</td>\n",
              "      <td>...</td>\n",
              "      <td>...</td>\n",
              "      <td>...</td>\n",
              "      <td>...</td>\n",
              "    </tr>\n",
              "    <tr>\n",
              "      <th>1210</th>\n",
              "      <td>1023</td>\n",
              "      <td>Iron Crown</td>\n",
              "      <td>[Steel, Psychic]</td>\n",
              "      <td>590</td>\n",
              "      <td>90</td>\n",
              "      <td>72</td>\n",
              "      <td>100</td>\n",
              "      <td>122</td>\n",
              "      <td>108</td>\n",
              "      <td>98</td>\n",
              "    </tr>\n",
              "    <tr>\n",
              "      <th>1211</th>\n",
              "      <td>1024</td>\n",
              "      <td>Terapagos Normal Form</td>\n",
              "      <td>[Normal]</td>\n",
              "      <td>450</td>\n",
              "      <td>90</td>\n",
              "      <td>65</td>\n",
              "      <td>85</td>\n",
              "      <td>65</td>\n",
              "      <td>85</td>\n",
              "      <td>60</td>\n",
              "    </tr>\n",
              "    <tr>\n",
              "      <th>1212</th>\n",
              "      <td>1024</td>\n",
              "      <td>Terapagos Terastal Form</td>\n",
              "      <td>[Normal]</td>\n",
              "      <td>600</td>\n",
              "      <td>95</td>\n",
              "      <td>95</td>\n",
              "      <td>110</td>\n",
              "      <td>105</td>\n",
              "      <td>110</td>\n",
              "      <td>85</td>\n",
              "    </tr>\n",
              "    <tr>\n",
              "      <th>1213</th>\n",
              "      <td>1024</td>\n",
              "      <td>Terapagos Stellar Form</td>\n",
              "      <td>[Normal]</td>\n",
              "      <td>700</td>\n",
              "      <td>160</td>\n",
              "      <td>105</td>\n",
              "      <td>110</td>\n",
              "      <td>130</td>\n",
              "      <td>110</td>\n",
              "      <td>85</td>\n",
              "    </tr>\n",
              "    <tr>\n",
              "      <th>1214</th>\n",
              "      <td>1025</td>\n",
              "      <td>Pecharunt</td>\n",
              "      <td>[Poison, Ghost]</td>\n",
              "      <td>600</td>\n",
              "      <td>88</td>\n",
              "      <td>88</td>\n",
              "      <td>160</td>\n",
              "      <td>88</td>\n",
              "      <td>88</td>\n",
              "      <td>88</td>\n",
              "    </tr>\n",
              "  </tbody>\n",
              "</table>\n",
              "<p>1215 rows × 10 columns</p>\n",
              "</div>"
            ],
            "text/plain": [
              "         #                     Name              Type Total   HP Attack  \\\n",
              "0     0001                Bulbasaur   [Grass, Poison]   318   45     49   \n",
              "1     0002                  Ivysaur   [Grass, Poison]   405   60     62   \n",
              "2     0003                 Venusaur   [Grass, Poison]   525   80     82   \n",
              "3     0003   Venusaur Mega Venusaur   [Grass, Poison]   625   80    100   \n",
              "4     0004               Charmander            [Fire]   309   39     52   \n",
              "...    ...                      ...               ...   ...  ...    ...   \n",
              "1210  1023               Iron Crown  [Steel, Psychic]   590   90     72   \n",
              "1211  1024    Terapagos Normal Form          [Normal]   450   90     65   \n",
              "1212  1024  Terapagos Terastal Form          [Normal]   600   95     95   \n",
              "1213  1024   Terapagos Stellar Form          [Normal]   700  160    105   \n",
              "1214  1025                Pecharunt   [Poison, Ghost]   600   88     88   \n",
              "\n",
              "     Defense Sp. Atk Sp. Def Speed  \n",
              "0         49      65      65    45  \n",
              "1         63      80      80    60  \n",
              "2         83     100     100    80  \n",
              "3        123     122     120    80  \n",
              "4         43      60      50    65  \n",
              "...      ...     ...     ...   ...  \n",
              "1210     100     122     108    98  \n",
              "1211      85      65      85    60  \n",
              "1212     110     105     110    85  \n",
              "1213     110     130     110    85  \n",
              "1214     160      88      88    88  \n",
              "\n",
              "[1215 rows x 10 columns]"
            ]
          },
          "execution_count": 11,
          "metadata": {},
          "output_type": "execute_result"
        }
      ],
      "source": [
        "import pandas as pd\n",
        "df = pd.DataFrame(row_values, columns=header_cols)\n",
        "df['#'] = df['#'].apply(lambda x: x.strip())\n",
        "df[\"Type\"] = df[\"Type\"].apply(lambda x: x.strip().split(\" \"))\n",
        "df"
      ]
    },
    {
      "cell_type": "code",
      "execution_count": 12,
      "metadata": {
        "colab": {
          "base_uri": "https://localhost:8080/"
        },
        "id": "dSTy1rgBIV9b",
        "outputId": "1406a8a4-2f84-431e-dc9d-21dc73cbfbbf"
      },
      "outputs": [
        {
          "name": "stdout",
          "output_type": "stream",
          "text": [
            "<class 'pandas.core.frame.DataFrame'>\n",
            "RangeIndex: 1215 entries, 0 to 1214\n",
            "Data columns (total 10 columns):\n",
            " #   Column   Non-Null Count  Dtype \n",
            "---  ------   --------------  ----- \n",
            " 0   #        1215 non-null   object\n",
            " 1   Name     1215 non-null   object\n",
            " 2   Type     1215 non-null   object\n",
            " 3   Total    1215 non-null   object\n",
            " 4   HP       1215 non-null   object\n",
            " 5   Attack   1215 non-null   object\n",
            " 6   Defense  1215 non-null   object\n",
            " 7   Sp. Atk  1215 non-null   object\n",
            " 8   Sp. Def  1215 non-null   object\n",
            " 9   Speed    1215 non-null   object\n",
            "dtypes: object(10)\n",
            "memory usage: 95.1+ KB\n"
          ]
        }
      ],
      "source": [
        "df.info()"
      ]
    },
    {
      "cell_type": "code",
      "execution_count": null,
      "metadata": {
        "id": "bdQQx9IyM03y"
      },
      "outputs": [],
      "source": []
    }
  ],
  "metadata": {
    "colab": {
      "collapsed_sections": [],
      "name": "Day19_hw.ipynb",
      "provenance": [],
      "toc_visible": true
    },
    "kernelspec": {
      "display_name": "Python 3",
      "name": "python3"
    },
    "language_info": {
      "codemirror_mode": {
        "name": "ipython",
        "version": 3
      },
      "file_extension": ".py",
      "mimetype": "text/x-python",
      "name": "python",
      "nbconvert_exporter": "python",
      "pygments_lexer": "ipython3",
      "version": "3.11.8"
    }
  },
  "nbformat": 4,
  "nbformat_minor": 0
}
