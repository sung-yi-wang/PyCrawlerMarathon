{
  "cells": [
    {
      "cell_type": "markdown",
      "metadata": {
        "id": "RmEW9BEct8Fk"
      },
      "source": [
        "# Day20\n",
        "## 網頁結構解析：使用 lxml 套件操作 XPath\n",
        "- 使用 lxml.html\n",
        "- 使用 XPath 語法獲取子節點"
      ]
    },
    {
      "cell_type": "markdown",
      "metadata": {
        "id": "CmrQ2eOx7X2U"
      },
      "source": [
        "## 作業說明\n",
        "由於 Day18 作業我們已經練習過一些定位工具，今天使用和 Day19 一樣的網站，針對 XPath 更多變化用法再深入練習吧。\n",
        "\n",
        "- 題目網站：\n",
        "https://pokemondb.net/pokedex/all\n",
        "- 使用 XPath 技巧把寶可夢表格抓下來"
      ]
    },
    {
      "cell_type": "code",
      "execution_count": 1,
      "metadata": {
        "id": "2vDuolRl88hz"
      },
      "outputs": [],
      "source": [
        "import lxml.html\n",
        "import requests"
      ]
    },
    {
      "cell_type": "markdown",
      "metadata": {
        "id": "ZbDTtqaRTnGD"
      },
      "source": [
        "### `GET` Request"
      ]
    },
    {
      "cell_type": "code",
      "execution_count": 2,
      "metadata": {
        "colab": {
          "base_uri": "https://localhost:8080/"
        },
        "id": "K1ONgiThK57V",
        "outputId": "9c0b9317-0a61-485b-d894-7e459c85dad6"
      },
      "outputs": [
        {
          "name": "stdout",
          "output_type": "stream",
          "text": [
            "200 \n",
            "\n",
            " <!DOCTYPE html>\n",
            "<html lang=\"en\">\n",
            "<head>\n",
            "<meta charset=\"utf-8\">\n",
            "<title>Pokémon Pokédex: list of Pokémon with stats | Pokémon Database</title>\n",
            "<link rel=\"preconnect\" href=\"https://img.pokemondb.net\">\n",
            "<link rel=\"preconnect\" href=\"https://s.pokemondb.net\">\n",
            "<link rel=\"preload\" href=\"/static/fonts/fira-sans-v17-latin-400.woff2\" as=\"font\" type=\"font/woff2\" crossorigin>\n",
            "<link rel=\"preload\" href=\"/static/fonts/fira-sans-v17-latin-400i.woff2\" as=\"font\" type=\"font/woff2\" crossorigin>\n",
            "<link rel=\"preload\" href=\"/static/fonts/fira-sans-v17-latin-600.woff2\" as=\"font\" type=\"font/woff2\" crossorigin>\n",
            "<link rel=\"stylesheet\" href=\"/static/css/pokemondb-aa70195104.css\">\n",
            "<meta name=\"viewport\" content=\"width=device-width, initial-scale=1\">\n",
            "<meta property=\"og:description\" name=\"description\" content=\"The Pokédex contains detailed stats for every creature from the Pokémon games, up to and including the latest Scarlet/Violet games.\">\n",
            "<link rel=\"canonical\" href=\"https://pokemondb.net/pokedex/all\">\n",
            "<meta property=\n"
          ]
        }
      ],
      "source": [
        "url = \"https://pokemondb.net/pokedex/all\"\n",
        "r = requests.get(url)\n",
        "print(r.status_code, \"\\n\\n\", r.text[:1000])\n"
      ]
    },
    {
      "cell_type": "markdown",
      "metadata": {
        "id": "aTkbyICTKk9R"
      },
      "source": [
        "### 轉為 HTML Element 物件\n",
        "- 使用 `lxml.html.fromstring()`"
      ]
    },
    {
      "cell_type": "code",
      "execution_count": 3,
      "metadata": {
        "colab": {
          "base_uri": "https://localhost:8080/"
        },
        "id": "5OFshcBqTzWM",
        "outputId": "7b75991b-286f-4d53-bab0-2039b2228ece"
      },
      "outputs": [
        {
          "data": {
            "text/plain": [
              "<Element html at 0x7fb0300ba940>"
            ]
          },
          "execution_count": 3,
          "metadata": {},
          "output_type": "execute_result"
        }
      ],
      "source": [
        "# 轉為 Element 物件\n",
        "tree = lxml.html.fromstring(r.text)\n",
        "tree"
      ]
    },
    {
      "cell_type": "markdown",
      "metadata": {
        "id": "NYkukXglWGKT"
      },
      "source": [
        "### 指定相符特徵的節點\n",
        "- 找到寶可夢資訊表格\n",
        "- 使用：`tree.xpath('//<tag_name>[@<attribute>=<attribute_value>]')`\n"
      ]
    },
    {
      "cell_type": "code",
      "execution_count": 4,
      "metadata": {
        "colab": {
          "base_uri": "https://localhost:8080/"
        },
        "id": "N9vuuBiHUMqT",
        "outputId": "c8a4aa79-e426-491f-f027-d4ab124a3f37"
      },
      "outputs": [
        {
          "data": {
            "text/plain": [
              "<Element table at 0x7fb0300ba2b0>"
            ]
          },
          "execution_count": 4,
          "metadata": {},
          "output_type": "execute_result"
        }
      ],
      "source": [
        "table = tree.xpath('//table[@id=\"pokedex\"]')[0]\n",
        "table"
      ]
    },
    {
      "cell_type": "markdown",
      "metadata": {
        "id": "0Ug_m4s2wzC1"
      },
      "source": [
        "### 連續查找\n",
        "- 取得所有表格中的列"
      ]
    },
    {
      "cell_type": "code",
      "execution_count": 5,
      "metadata": {
        "id": "nQAdXkewwygN"
      },
      "outputs": [],
      "source": [
        "header = table.xpath(\"./thead/tr/th\")\n",
        "body_rows = table.xpath(\"./tbody/tr\")"
      ]
    },
    {
      "cell_type": "code",
      "execution_count": 6,
      "metadata": {
        "colab": {
          "base_uri": "https://localhost:8080/"
        },
        "id": "hUmVihj_FzIp",
        "outputId": "ab18b70f-3f64-4e51-df06-3dbf01aff81d"
      },
      "outputs": [
        {
          "data": {
            "text/plain": [
              "[<Element th at 0x7fb030174b40>,\n",
              " <Element th at 0x7fb0300bb4d0>,\n",
              " <Element th at 0x7fb0300ba710>,\n",
              " <Element th at 0x7fb0300bb160>,\n",
              " <Element th at 0x7fb0300ba3a0>,\n",
              " <Element th at 0x7fb0300ba670>,\n",
              " <Element th at 0x7fb0300ba490>,\n",
              " <Element th at 0x7fb0300bb570>,\n",
              " <Element th at 0x7fb0300bb5c0>,\n",
              " <Element th at 0x7fb0300bb610>]"
            ]
          },
          "execution_count": 6,
          "metadata": {},
          "output_type": "execute_result"
        }
      ],
      "source": [
        "header"
      ]
    },
    {
      "cell_type": "code",
      "execution_count": 7,
      "metadata": {
        "colab": {
          "base_uri": "https://localhost:8080/"
        },
        "id": "VVismXcwF1tn",
        "outputId": "31cea1cf-8cda-4422-d2ec-0d5f5d64374d"
      },
      "outputs": [
        {
          "data": {
            "text/plain": [
              "[<Element tr at 0x7fb0300bb660>,\n",
              " <Element tr at 0x7fb0300bb6b0>,\n",
              " <Element tr at 0x7fb0300bb700>,\n",
              " <Element tr at 0x7fb0300bb750>,\n",
              " <Element tr at 0x7fb0300bb7a0>,\n",
              " <Element tr at 0x7fb0300bb7f0>,\n",
              " <Element tr at 0x7fb0300bb840>,\n",
              " <Element tr at 0x7fb0300bb890>,\n",
              " <Element tr at 0x7fb0300bb8e0>,\n",
              " <Element tr at 0x7fb0300bb930>]"
            ]
          },
          "execution_count": 7,
          "metadata": {},
          "output_type": "execute_result"
        }
      ],
      "source": [
        "body_rows[:10]"
      ]
    },
    {
      "cell_type": "markdown",
      "metadata": {
        "id": "61PQ74yH-2Bw"
      },
      "source": [
        "### 指定節點文字相符：找出文字是 Ivysaur 的節點\n",
        "- Hint: 使用 `tree.xpath('//<tag_name>[text()=\"some_string\"]')`"
      ]
    },
    {
      "cell_type": "code",
      "execution_count": 8,
      "metadata": {
        "colab": {
          "base_uri": "https://localhost:8080/",
          "height": 35
        },
        "id": "WnLgNjg47Oq4",
        "outputId": "1b62682f-9e2a-4864-bf0f-6021a611abd9"
      },
      "outputs": [
        {
          "data": {
            "text/plain": [
              "['Ivysaur']"
            ]
          },
          "execution_count": 8,
          "metadata": {},
          "output_type": "execute_result"
        }
      ],
      "source": [
        "table.xpath('//a[text()=\"Ivysaur\"]/text()')"
      ]
    },
    {
      "cell_type": "markdown",
      "metadata": {
        "id": "MYXF4GyC_qi2"
      },
      "source": [
        "### 找出屬性包含部分文字的節點：找出各種類型的寶可夢種類標籤\n",
        "\n",
        "- 包含： `tree.xpath('//<tag_name>[contains(<attribute>, <attribute_value>)]')`\n",
        "- 不包含： `tree.xpath('//<tag_name>[not(contains(<attribute>, <attribute_value>))]')`"
      ]
    },
    {
      "cell_type": "code",
      "execution_count": 9,
      "metadata": {
        "colab": {
          "base_uri": "https://localhost:8080/"
        },
        "id": "eUPhP3fo70TS",
        "outputId": "319579f0-dfcc-41ab-adb1-a4fa4dd6af68"
      },
      "outputs": [
        {
          "data": {
            "text/plain": [
              "{'Bug',\n",
              " 'Dark',\n",
              " 'Dragon',\n",
              " 'Electric',\n",
              " 'Fairy',\n",
              " 'Fighting',\n",
              " 'Fire',\n",
              " 'Flying',\n",
              " 'Ghost',\n",
              " 'Grass',\n",
              " 'Ground',\n",
              " 'Ice',\n",
              " 'Normal',\n",
              " 'Poison',\n",
              " 'Psychic',\n",
              " 'Rock',\n",
              " 'Steel',\n",
              " 'Water'}"
            ]
          },
          "execution_count": 9,
          "metadata": {},
          "output_type": "execute_result"
        }
      ],
      "source": [
        "# 找出各種類型的寶可夢種類標籤(GRASS, POISON, ...)，用 set 過濾出不重複種類有哪幾種\n",
        "set(tree.xpath('//a[contains(@class, \"type-\")]/text()'))"
      ]
    },
    {
      "cell_type": "markdown",
      "metadata": {
        "id": "1Sao7e1vFtsE"
      },
      "source": [
        "### 將資訊組成表格"
      ]
    },
    {
      "cell_type": "code",
      "execution_count": 10,
      "metadata": {
        "id": "4Ka-hqfIDjew"
      },
      "outputs": [],
      "source": [
        "header_cols = [col.xpath(\".//text()\")[0] for col in header]\n",
        "row_values = [[\"\".join(col.xpath('.//text()')) for col in row.xpath('./td')] for row in body_rows]\n"
      ]
    },
    {
      "cell_type": "code",
      "execution_count": 11,
      "metadata": {
        "colab": {
          "base_uri": "https://localhost:8080/",
          "height": 424
        },
        "id": "ovFc5koyHEnd",
        "outputId": "047677e5-6ba4-4780-91bf-77ad981d4424"
      },
      "outputs": [
        {
          "data": {
            "text/html": [
              "<div>\n",
              "<style scoped>\n",
              "    .dataframe tbody tr th:only-of-type {\n",
              "        vertical-align: middle;\n",
              "    }\n",
              "\n",
              "    .dataframe tbody tr th {\n",
              "        vertical-align: top;\n",
              "    }\n",
              "\n",
              "    .dataframe thead th {\n",
              "        text-align: right;\n",
              "    }\n",
              "</style>\n",
              "<table border=\"1\" class=\"dataframe\">\n",
              "  <thead>\n",
              "    <tr style=\"text-align: right;\">\n",
              "      <th></th>\n",
              "      <th>#</th>\n",
              "      <th>Name</th>\n",
              "      <th>Type</th>\n",
              "      <th>Total</th>\n",
              "      <th>HP</th>\n",
              "      <th>Attack</th>\n",
              "      <th>Defense</th>\n",
              "      <th>Sp. Atk</th>\n",
              "      <th>Sp. Def</th>\n",
              "      <th>Speed</th>\n",
              "    </tr>\n",
              "  </thead>\n",
              "  <tbody>\n",
              "    <tr>\n",
              "      <th>0</th>\n",
              "      <td>0001</td>\n",
              "      <td>Bulbasaur</td>\n",
              "      <td>[Grass, Poison]</td>\n",
              "      <td>318</td>\n",
              "      <td>45</td>\n",
              "      <td>49</td>\n",
              "      <td>49</td>\n",
              "      <td>65</td>\n",
              "      <td>65</td>\n",
              "      <td>45</td>\n",
              "    </tr>\n",
              "    <tr>\n",
              "      <th>1</th>\n",
              "      <td>0002</td>\n",
              "      <td>Ivysaur</td>\n",
              "      <td>[Grass, Poison]</td>\n",
              "      <td>405</td>\n",
              "      <td>60</td>\n",
              "      <td>62</td>\n",
              "      <td>63</td>\n",
              "      <td>80</td>\n",
              "      <td>80</td>\n",
              "      <td>60</td>\n",
              "    </tr>\n",
              "    <tr>\n",
              "      <th>2</th>\n",
              "      <td>0003</td>\n",
              "      <td>Venusaur</td>\n",
              "      <td>[Grass, Poison]</td>\n",
              "      <td>525</td>\n",
              "      <td>80</td>\n",
              "      <td>82</td>\n",
              "      <td>83</td>\n",
              "      <td>100</td>\n",
              "      <td>100</td>\n",
              "      <td>80</td>\n",
              "    </tr>\n",
              "    <tr>\n",
              "      <th>3</th>\n",
              "      <td>0003</td>\n",
              "      <td>Venusaur Mega Venusaur</td>\n",
              "      <td>[Grass, Poison]</td>\n",
              "      <td>625</td>\n",
              "      <td>80</td>\n",
              "      <td>100</td>\n",
              "      <td>123</td>\n",
              "      <td>122</td>\n",
              "      <td>120</td>\n",
              "      <td>80</td>\n",
              "    </tr>\n",
              "    <tr>\n",
              "      <th>4</th>\n",
              "      <td>0004</td>\n",
              "      <td>Charmander</td>\n",
              "      <td>[Fire]</td>\n",
              "      <td>309</td>\n",
              "      <td>39</td>\n",
              "      <td>52</td>\n",
              "      <td>43</td>\n",
              "      <td>60</td>\n",
              "      <td>50</td>\n",
              "      <td>65</td>\n",
              "    </tr>\n",
              "    <tr>\n",
              "      <th>...</th>\n",
              "      <td>...</td>\n",
              "      <td>...</td>\n",
              "      <td>...</td>\n",
              "      <td>...</td>\n",
              "      <td>...</td>\n",
              "      <td>...</td>\n",
              "      <td>...</td>\n",
              "      <td>...</td>\n",
              "      <td>...</td>\n",
              "      <td>...</td>\n",
              "    </tr>\n",
              "    <tr>\n",
              "      <th>1210</th>\n",
              "      <td>1023</td>\n",
              "      <td>Iron Crown</td>\n",
              "      <td>[Steel, Psychic]</td>\n",
              "      <td>590</td>\n",
              "      <td>90</td>\n",
              "      <td>72</td>\n",
              "      <td>100</td>\n",
              "      <td>122</td>\n",
              "      <td>108</td>\n",
              "      <td>98</td>\n",
              "    </tr>\n",
              "    <tr>\n",
              "      <th>1211</th>\n",
              "      <td>1024</td>\n",
              "      <td>Terapagos Normal Form</td>\n",
              "      <td>[Normal]</td>\n",
              "      <td>450</td>\n",
              "      <td>90</td>\n",
              "      <td>65</td>\n",
              "      <td>85</td>\n",
              "      <td>65</td>\n",
              "      <td>85</td>\n",
              "      <td>60</td>\n",
              "    </tr>\n",
              "    <tr>\n",
              "      <th>1212</th>\n",
              "      <td>1024</td>\n",
              "      <td>Terapagos Terastal Form</td>\n",
              "      <td>[Normal]</td>\n",
              "      <td>600</td>\n",
              "      <td>95</td>\n",
              "      <td>95</td>\n",
              "      <td>110</td>\n",
              "      <td>105</td>\n",
              "      <td>110</td>\n",
              "      <td>85</td>\n",
              "    </tr>\n",
              "    <tr>\n",
              "      <th>1213</th>\n",
              "      <td>1024</td>\n",
              "      <td>Terapagos Stellar Form</td>\n",
              "      <td>[Normal]</td>\n",
              "      <td>700</td>\n",
              "      <td>160</td>\n",
              "      <td>105</td>\n",
              "      <td>110</td>\n",
              "      <td>130</td>\n",
              "      <td>110</td>\n",
              "      <td>85</td>\n",
              "    </tr>\n",
              "    <tr>\n",
              "      <th>1214</th>\n",
              "      <td>1025</td>\n",
              "      <td>Pecharunt</td>\n",
              "      <td>[Poison, Ghost]</td>\n",
              "      <td>600</td>\n",
              "      <td>88</td>\n",
              "      <td>88</td>\n",
              "      <td>160</td>\n",
              "      <td>88</td>\n",
              "      <td>88</td>\n",
              "      <td>88</td>\n",
              "    </tr>\n",
              "  </tbody>\n",
              "</table>\n",
              "<p>1215 rows × 10 columns</p>\n",
              "</div>"
            ],
            "text/plain": [
              "         #                     Name              Type Total   HP Attack  \\\n",
              "0     0001                Bulbasaur   [Grass, Poison]   318   45     49   \n",
              "1     0002                  Ivysaur   [Grass, Poison]   405   60     62   \n",
              "2     0003                 Venusaur   [Grass, Poison]   525   80     82   \n",
              "3     0003   Venusaur Mega Venusaur   [Grass, Poison]   625   80    100   \n",
              "4     0004               Charmander            [Fire]   309   39     52   \n",
              "...    ...                      ...               ...   ...  ...    ...   \n",
              "1210  1023               Iron Crown  [Steel, Psychic]   590   90     72   \n",
              "1211  1024    Terapagos Normal Form          [Normal]   450   90     65   \n",
              "1212  1024  Terapagos Terastal Form          [Normal]   600   95     95   \n",
              "1213  1024   Terapagos Stellar Form          [Normal]   700  160    105   \n",
              "1214  1025                Pecharunt   [Poison, Ghost]   600   88     88   \n",
              "\n",
              "     Defense Sp. Atk Sp. Def Speed  \n",
              "0         49      65      65    45  \n",
              "1         63      80      80    60  \n",
              "2         83     100     100    80  \n",
              "3        123     122     120    80  \n",
              "4         43      60      50    65  \n",
              "...      ...     ...     ...   ...  \n",
              "1210     100     122     108    98  \n",
              "1211      85      65      85    60  \n",
              "1212     110     105     110    85  \n",
              "1213     110     130     110    85  \n",
              "1214     160      88      88    88  \n",
              "\n",
              "[1215 rows x 10 columns]"
            ]
          },
          "execution_count": 11,
          "metadata": {},
          "output_type": "execute_result"
        }
      ],
      "source": [
        "import pandas as pd\n",
        "\n",
        "df = pd.DataFrame(row_values, columns=header_cols)\n",
        "df['#'] = df['#'].apply(lambda x: x.strip())\n",
        "df[\"Type\"] = df[\"Type\"].apply(lambda x: x.strip().split(\" \"))\n",
        "df"
      ]
    },
    {
      "cell_type": "code",
      "execution_count": 12,
      "metadata": {
        "colab": {
          "base_uri": "https://localhost:8080/"
        },
        "id": "dSTy1rgBIV9b",
        "outputId": "6b945317-7322-4d16-c604-04a9ca78dc59"
      },
      "outputs": [
        {
          "name": "stdout",
          "output_type": "stream",
          "text": [
            "<class 'pandas.core.frame.DataFrame'>\n",
            "RangeIndex: 1215 entries, 0 to 1214\n",
            "Data columns (total 10 columns):\n",
            " #   Column   Non-Null Count  Dtype \n",
            "---  ------   --------------  ----- \n",
            " 0   #        1215 non-null   object\n",
            " 1   Name     1215 non-null   object\n",
            " 2   Type     1215 non-null   object\n",
            " 3   Total    1215 non-null   object\n",
            " 4   HP       1215 non-null   object\n",
            " 5   Attack   1215 non-null   object\n",
            " 6   Defense  1215 non-null   object\n",
            " 7   Sp. Atk  1215 non-null   object\n",
            " 8   Sp. Def  1215 non-null   object\n",
            " 9   Speed    1215 non-null   object\n",
            "dtypes: object(10)\n",
            "memory usage: 95.1+ KB\n"
          ]
        }
      ],
      "source": [
        "df.info()"
      ]
    },
    {
      "cell_type": "code",
      "execution_count": null,
      "metadata": {
        "id": "bdQQx9IyM03y"
      },
      "outputs": [],
      "source": []
    }
  ],
  "metadata": {
    "colab": {
      "collapsed_sections": [],
      "name": "Day20_hw.ipynb",
      "provenance": [],
      "toc_visible": true
    },
    "kernelspec": {
      "display_name": "Python 3",
      "name": "python3"
    },
    "language_info": {
      "codemirror_mode": {
        "name": "ipython",
        "version": 3
      },
      "file_extension": ".py",
      "mimetype": "text/x-python",
      "name": "python",
      "nbconvert_exporter": "python",
      "pygments_lexer": "ipython3",
      "version": "3.11.8"
    }
  },
  "nbformat": 4,
  "nbformat_minor": 0
}
