{
  "nbformat": 4,
  "nbformat_minor": 0,
  "metadata": {
    "colab": {
      "name": "Day28_hw_ans.ipynb",
      "provenance": [],
      "collapsed_sections": [],
      "toc_visible": true
    },
    "kernelspec": {
      "name": "python3",
      "display_name": "Python 3"
    },
    "language_info": {
      "name": "python"
    }
  },
  "cells": [
    {
      "cell_type": "markdown",
      "source": [
        "# Day28\n",
        "## 動態載入網站的爬蟲策略\n",
        "- 瞭解網站的動態載入機制\n",
        "- 瞭解靜態網頁和動態網頁的差異\n",
        "- 瞭解何謂非同步網頁載入（Ajax）\n",
        "- 學習動態載入網頁的爬蟲策略"
      ],
      "metadata": {
        "id": "RmEW9BEct8Fk"
      }
    },
    {
      "cell_type": "markdown",
      "source": [
        "## 作業說明\n",
        "- 判斷哪些網站是需要 JavaScript 動態載入\n",
        "- 找出使用 JavaScript 動態載入的網站，其資料來源的資源（例如回傳 JSON 格式資料的 API Endpoint）"
      ],
      "metadata": {
        "id": "CmrQ2eOx7X2U"
      }
    },
    {
      "cell_type": "code",
      "source": [
        "import requests\n",
        "from bs4 import BeautifulSoup"
      ],
      "metadata": {
        "id": "5gwIAUI4MRz-"
      },
      "execution_count": 2,
      "outputs": []
    },
    {
      "cell_type": "markdown",
      "source": [
        "### (1) 鉅亨網 - 即時頭條列表\n",
        "\n",
        "- 目標網址： https://news.cnyes.com/news/cat/headline\n",
        "- 文章列表資料是否需要 JavaScript 載入？\n",
        "![](https://i.imgur.com/sJrd5kC.png)\n",
        "\n",
        "- 承上題，若是，文章列表資料來源是從哪一個網址產生？\n"
      ],
      "metadata": {
        "id": "fkIjzFKBLeUv"
      }
    },
    {
      "cell_type": "markdown",
      "source": [
        "### (1) 參考解答\n",
        "- 目標網址： https://news.cnyes.com/news/cat/headline\n",
        "- 文章列表資料是否需要 JavaScript 載入？\n",
        "  > 否"
      ],
      "metadata": {
        "id": "EGoEBfvYL13Z"
      }
    },
    {
      "cell_type": "code",
      "source": [
        "# 觀察網站是否為 JavaScript 載入\n",
        "\n",
        "url = \"https://news.cnyes.com/news/cat/headline\"\n",
        "r = requests.get(url)\n",
        "r.encoding = \"utf-8\"\n",
        "print(r.status_code, \"\\n\\n\", r.text[:500])\n"
      ],
      "metadata": {
        "colab": {
          "base_uri": "https://localhost:8080/"
        },
        "id": "9tsGvTGzLf9Z",
        "outputId": "d03074f7-f1c9-4677-9297-b9ec3e867af4"
      },
      "execution_count": 10,
      "outputs": [
        {
          "output_type": "stream",
          "name": "stdout",
          "text": [
            "200 \n",
            "\n",
            " <!doctype html>\n",
            "<html lang=\"zh-TW\" data-reactroot=\"\" data-reactid=\"1\" data-react-checksum=\"282559742\"><head data-reactid=\"2\"><meta charset=\"utf-8\" data-reactid=\"3\"/><script data-reactid=\"4\">(function setupTitleExp(a,b,c,d,e){function pickBall(a){var b=Math.random();return b<=a?b<=a/2?'a':'b':'o'}function bakeCookie(a,_ref){var b=_ref.name,c=_ref.value,e=_ref.maxAge,f=_ref.domain,g=[b+'='+c,'path=/','max-age='+e,'domain='+f].join(';');a.cookie=g}var f=new RegExp(e+'=([^;]+)'),g=new RegExp('^/news\n"
          ]
        }
      ]
    },
    {
      "cell_type": "markdown",
      "source": [
        "- 選一個網站上有的文章標題\n",
        "\n",
        "![](https://i.imgur.com/ZjOlF3L.png)"
      ],
      "metadata": {
        "id": "1RppPCDYaw43"
      }
    },
    {
      "cell_type": "code",
      "source": [
        "soup = BeautifulSoup(r.content, \"html.parser\")\n",
        "\n",
        "# 查找看看回傳的內容中，有沒有課程標題文字\n",
        "soup.find(\"h3\", string=\"〈美股早盤〉Snap開盤崩跌近40%領跌美股 主要指數開低走低\")\n",
        "\n",
        "# >> 輸出有課程資訊節點"
      ],
      "metadata": {
        "colab": {
          "base_uri": "https://localhost:8080/"
        },
        "id": "brsRj9QaR-sm",
        "outputId": "8adc9413-b6a1-4c5a-d096-1fe5e81479a3"
      },
      "execution_count": 11,
      "outputs": [
        {
          "output_type": "execute_result",
          "data": {
            "text/plain": [
              "<h3 data-reactid=\"192\">〈美股早盤〉Snap開盤崩跌近40%領跌美股 主要指數開低走低</h3>"
            ]
          },
          "metadata": {},
          "execution_count": 11
        }
      ]
    },
    {
      "cell_type": "markdown",
      "source": [
        "### (2) Cupoy AI 學習社群\n",
        "\n",
        "- 目標網址： https://www.cupoy.com/\n",
        "- 首頁活動卡資料是否需要 JavaScript 載入？\n",
        "![](https://i.imgur.com/GnDMLHe.png)\n",
        "\n",
        "- 承上題，若是，文章列表資料來源是從哪一個網址產生？"
      ],
      "metadata": {
        "id": "rDdRnZaVkE_3"
      }
    },
    {
      "cell_type": "markdown",
      "source": [
        "### (2) 參考解答\n",
        "- 目標網址： https://www.cupoy.com/\n",
        "- 首頁活動卡資料是否需要 JavaScript 載入？\n",
        "  > 是"
      ],
      "metadata": {
        "id": "dZd31LAGkTlf"
      }
    },
    {
      "cell_type": "code",
      "source": [
        "# 觀察網站是否為 JavaScript 載入\n",
        "\n",
        "url = \"https://www.cupoy.com/\"\n",
        "r = requests.get(url)\n",
        "r.encoding = \"utf-8\"\n",
        "print(r.status_code, \"\\n\\n\", r.text[:500])\n"
      ],
      "metadata": {
        "id": "cNca9hH3ey8h",
        "colab": {
          "base_uri": "https://localhost:8080/"
        },
        "outputId": "5a0ab5ea-d186-4607-8c89-81080d9873da"
      },
      "execution_count": 7,
      "outputs": [
        {
          "output_type": "stream",
          "name": "stdout",
          "text": [
            "200 \n",
            "\n",
            " <!doctype html><html><head><meta charset=\"utf-8\"><meta name=\"viewport\" content=\"width=device-width,initial-scale=1,maximum-scale=1,user-scalable=0,shrink-to-fit=no\"><meta http-equiv=\"X-UA-Compatible\" content=\"IE=edge\"><meta http-equiv=\"Content-Language\" content=\"zh-tw\"/><meta property=\"og:title\" content=\"Cupoy AI 學習社群｜AI 工程師全職業學習平台\"/><meta property=\"og:description\" content=\"系統化課程+產學實務訓練 &#61; AI工程師全職業養成平台&#10;&#10;未來的職業都將導入大量AI技術，AI相關職缺呈爆炸性的成長，然而，AI是一門包含軟體開發、數學統計與產業知識的跨領域學科，無法一蹴可幾，Cupoy匯集了一群優秀的業\n"
          ]
        }
      ]
    },
    {
      "cell_type": "markdown",
      "source": [
        "- 選一個網站上有的活動標題 測試查找\n",
        "![](https://i.imgur.com/3tSU3qx.png)"
      ],
      "metadata": {
        "id": "f32q-8HwkY0j"
      }
    },
    {
      "cell_type": "code",
      "source": [
        "soup = BeautifulSoup(r.content, \"html.parser\")\n",
        "\n",
        "# 查找看看回傳的內容中，有沒有活動標題文字\n",
        "soup.find(\"span\", string=\"Python網路爬蟲工作坊｜金融應用篇\")\n",
        "\n",
        "# >> 輸出無活動資訊節點"
      ],
      "metadata": {
        "id": "SQAV5isqjxnZ"
      },
      "execution_count": 8,
      "outputs": []
    },
    {
      "cell_type": "markdown",
      "source": [
        "- 活動資料來源是從哪一個網址產生？\n",
        "  > 資料來源網址： https://www.cupoy.com/HomePageAction.do?op=getKwAssistPageItemSet&assistid=ai_tw&pageid=1\n",
        "\n",
        "- 使用 Network Panel 搜尋任一活動標題的字段，即可找到包含活動資訊的資源連結\n",
        "\n",
        "![](https://i.imgur.com/6sK2EZW.png)\n",
        "\n",
        "![](https://i.imgur.com/dtw2ufY.png)\n"
      ],
      "metadata": {
        "id": "5N4I9_sYk_zO"
      }
    },
    {
      "cell_type": "code",
      "source": [
        ""
      ],
      "metadata": {
        "id": "iNrAUSRxlBi8"
      },
      "execution_count": null,
      "outputs": []
    }
  ]
}