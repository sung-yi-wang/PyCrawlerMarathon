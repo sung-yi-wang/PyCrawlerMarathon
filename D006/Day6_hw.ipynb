{
 "cells": [
  {
   "cell_type": "markdown",
   "metadata": {
    "id": "RmEW9BEct8Fk"
   },
   "source": [
    "## 作業說明\n",
    "\n",
    "Day6 我們介紹了靜態網頁的運作原理和網頁結構，並且示範了如何使用 CSS selector 及 XPath 選取網頁物件\n",
    "\n",
    "今日作業我們要實地拿一個經典的靜態網頁來練習物件的定位。猜到了嗎，就是 YCombinator Blog\n",
    "\n",
    "- 目標網站： [YCombinator](https://news.ycombinator.com/)\n",
    "- 爬蟲目標：能透過 CSS selector 成功選取第一頁所有文章標題\n",
    "- 示意圖\n",
    "![](https://i.imgur.com/egRGiWg.png)"
   ]
  },
  {
   "cell_type": "code",
   "execution_count": 1,
   "metadata": {
    "id": "jD3-yxQ4uAaL"
   },
   "outputs": [],
   "source": [
    "import requests\n",
    "from bs4 import BeautifulSoup"
   ]
  },
  {
   "cell_type": "code",
   "execution_count": 2,
   "metadata": {},
   "outputs": [
    {
     "data": {
      "text/plain": [
       "<Response [200]>"
      ]
     },
     "execution_count": 2,
     "metadata": {},
     "output_type": "execute_result"
    }
   ],
   "source": [
    "headers = {\n",
    "    'Accept': 'text/html,application/xhtml+xml,application/xml;q=0.9,image/avif,image/webp,*/*;q=0.8',\n",
    "    'User-Agent': 'Mozilla/5.0 (Macintosh; Intel Mac OS X 10.15; rv:106.0) Gecko/20100101 Firefox/106.0'\n",
    "}\n",
    "url = 'https://news.ycombinator.com/'\n",
    "res = requests.get(url, headers=headers)\n",
    "res"
   ]
  },
  {
   "cell_type": "code",
   "execution_count": 3,
   "metadata": {},
   "outputs": [],
   "source": [
    "soup = BeautifulSoup(res.content, 'html.parser')"
   ]
  },
  {
   "cell_type": "code",
   "execution_count": 4,
   "metadata": {},
   "outputs": [
    {
     "name": "stdout",
     "output_type": "stream",
     "text": [
      "Nascar driver stuns to qualify for championship with GameCube move (nintendolife.com)\n",
      "Turbopack Performance Benchmarks (turbo.build)\n",
      "I made outlines for KDE Breeze window decoration (akselmo.dev)\n",
      "A configuration management system for pets, not cattle (github.com/ema)\n",
      "Gross domestic product is a misleading measure of national success (nature.com)\n",
      "The McMurdo Wastewater Treatment Plant (brr.fyi)\n",
      "Chip Design Shifts as Fundamental Laws Run Out of Steam (semiengineering.com)\n",
      "SMS Multifactor Authentication in Antarctica (brr.fyi)\n",
      "Remix web framework aquired by Shopify (remix.run)\n",
      "ISBNdb dump – how many books are preserved forever? (annas-blog.org)\n",
      "Show HN: Explainpaper  – Explain jargon in academic papers with GPT-3 (explainpaper.com)\n",
      "U.S. workers have gotten less productive – no one is sure why (washingtonpost.com)\n",
      "Nicheless is a micro-blogging platform for raw, unfiltered thoughts (nicheless.blog)\n",
      "Mkcert: Simple zero-config tool to make locally trusted development certificates (github.com/filosottile)\n",
      "Why mathematicians study knots (quantamagazine.org)\n",
      "Flexport (YC W14) Is Hiring Software Engineers (flexport.com)\n",
      "Caring for the only full kākāpō feather cloak in the world Show image caption (britishmuseum.org)\n",
      "Pico-8 CPU (pico-8.fandom.com)\n",
      "The Browser Company’s Darin Fisher thinks it’s time to reinvent the browser (theverge.com)\n",
      "Elements of a great markup language (matklad.github.io)\n",
      "AI isn’t choosing our artistic future, we are (thebulletin.org)\n",
      "Ask HN: Have you set up a procedure to disclose your passwords in case of death?\n",
      "Explaining machine learning pitfalls to managers (2019) (gudok.xyz)\n",
      "Replit's in-browser coding AI (replit.com)\n",
      "The Subway That Sunk (theverge.com)\n",
      "Mailbag: Sausage Men (garry.blog)\n",
      "Ask HN: What piece of code/codebase blew your mind when you saw it?\n",
      "Show HN: A small, weird and unpractical programming language (github.com/japiirainen)\n",
      "How Sergei Diaghilev and the Ballets Russes revolutionized dance (lithub.com)\n",
      "We Don't Understand Computers (2017) (erasmatazz.com)\n"
     ]
    }
   ],
   "source": [
    "article_blocks = soup.find(\"table\", {\"class\": \"itemlist\"}).find_all(\"tr\", {\"class\": \"athing\"})\n",
    "for item in article_blocks:\n",
    "    print(item.find_all(\"td\", {\"class\": \"title\"})[1].text)"
   ]
  },
  {
   "cell_type": "code",
   "execution_count": 5,
   "metadata": {},
   "outputs": [
    {
     "data": {
      "text/plain": [
       "['Nascar driver stuns to qualify for championship with GameCube move (nintendolife.com)',\n",
       " 'Turbopack Performance Benchmarks (turbo.build)',\n",
       " 'I made outlines for KDE Breeze window decoration (akselmo.dev)',\n",
       " 'A configuration management system for pets, not cattle (github.com/ema)',\n",
       " 'Gross domestic product is a misleading measure of national success (nature.com)',\n",
       " 'The McMurdo Wastewater Treatment Plant (brr.fyi)',\n",
       " 'Chip Design Shifts as Fundamental Laws Run Out of Steam (semiengineering.com)',\n",
       " 'SMS Multifactor Authentication in Antarctica (brr.fyi)',\n",
       " 'Remix web framework aquired by Shopify (remix.run)',\n",
       " 'ISBNdb dump – how many books are preserved forever? (annas-blog.org)',\n",
       " 'Show HN: Explainpaper  – Explain jargon in academic papers with GPT-3 (explainpaper.com)',\n",
       " 'U.S. workers have gotten less productive – no one is sure why (washingtonpost.com)',\n",
       " 'Nicheless is a micro-blogging platform for raw, unfiltered thoughts (nicheless.blog)',\n",
       " 'Mkcert: Simple zero-config tool to make locally trusted development certificates (github.com/filosottile)',\n",
       " 'Why mathematicians study knots (quantamagazine.org)',\n",
       " 'Flexport (YC W14) Is Hiring Software Engineers (flexport.com)',\n",
       " 'Caring for the only full kākāpō feather cloak in the world Show image caption (britishmuseum.org)',\n",
       " 'Pico-8 CPU (pico-8.fandom.com)',\n",
       " 'The Browser Company’s Darin Fisher thinks it’s time to reinvent the browser (theverge.com)',\n",
       " 'Elements of a great markup language (matklad.github.io)',\n",
       " 'AI isn’t choosing our artistic future, we are (thebulletin.org)',\n",
       " 'Ask HN: Have you set up a procedure to disclose your passwords in case of death?',\n",
       " 'Explaining machine learning pitfalls to managers (2019) (gudok.xyz)',\n",
       " \"Replit's in-browser coding AI (replit.com)\",\n",
       " 'The Subway That Sunk (theverge.com)',\n",
       " 'Mailbag: Sausage Men (garry.blog)',\n",
       " 'Ask HN: What piece of code/codebase blew your mind when you saw it?',\n",
       " 'Show HN: A small, weird and unpractical programming language (github.com/japiirainen)',\n",
       " 'How Sergei Diaghilev and the Ballets Russes revolutionized dance (lithub.com)',\n",
       " \"We Don't Understand Computers (2017) (erasmatazz.com)\"]"
      ]
     },
     "execution_count": 5,
     "metadata": {},
     "output_type": "execute_result"
    }
   ],
   "source": [
    "# list comprehension\n",
    "[item.find_all(\"td\", {\"class\": \"title\"})[1].text for item in soup.find(\"table\", {\"class\": \"itemlist\"}).find_all(\"tr\", {\"class\": \"athing\"})]"
   ]
  },
  {
   "cell_type": "code",
   "execution_count": null,
   "metadata": {},
   "outputs": [],
   "source": []
  }
 ],
 "metadata": {
  "colab": {
   "authorship_tag": "ABX9TyPt+rpyqAotmmkf/Nu7/DbQ",
   "collapsed_sections": [],
   "name": "Day6_hw.ipynb",
   "provenance": []
  },
  "kernelspec": {
   "display_name": "Python 3 (ipykernel)",
   "language": "python",
   "name": "python3"
  },
  "language_info": {
   "codemirror_mode": {
    "name": "ipython",
    "version": 3
   },
   "file_extension": ".py",
   "mimetype": "text/x-python",
   "name": "python",
   "nbconvert_exporter": "python",
   "pygments_lexer": "ipython3",
   "version": "3.9.13"
  }
 },
 "nbformat": 4,
 "nbformat_minor": 4
}
