{
 "cells": [
  {
   "cell_type": "markdown",
   "metadata": {
    "id": "RmEW9BEct8Fk"
   },
   "source": [
    "## 作業說明\n",
    "\n",
    "今天我們介紹了多種常見的資料儲存格式：CSV, TSV, JSON, HTML, XML, TXT\n",
    "\n",
    "請學員回答以下網址連結到的資料：\n",
    "- 他們的格式分別是？\n",
    "- 你是如何判斷格式的 （＊請寫出至少一個**檔名以外的理由**）\n",
    "\n",
    "  1. https://raw.githubusercontent.com/jpakkane/glib/966db8efc6303fafbf7265e0adc12aab4e55fcd8/docs/reference/gio/gio-docs.xml\n",
    "\n",
    "  2. https://raw.githubusercontent.com/hpcc-systems/EDGAR-SEC-Filings/1727820ffa2216ed2447bb6a265a54ef6503f001/Data/labelguide_all_10k.csv\n",
    "\n",
    "  3. https://raw.githubusercontent.com/Foglio1024/Tera-custom-cooldowns/12d3b15d813d415185c6c718bb0ff43bc2285485/database-hashes.json\n",
    "\n",
    "  4. https://raw.githubusercontent.com/rbroc/diversity_abm/4de1922101dd2320b5c085577c8cc2622781ae14/animal_game/models/21_08_20/sampled_pairs.tsv\n",
    "\n",
    "  5. https://raw.githubusercontent.com/njm2015/vested/1244e9ce02298ab954d0f1011ff0bd3952b8b4d1/OpenLayers/tests/list-tests.html\n",
    "  "
   ]
  },
  {
   "cell_type": "markdown",
   "metadata": {
    "id": "jD3-yxQ4uAaL"
   },
   "source": [
    "## 答\n",
    "1. XML。因為雖然有 HTML 標籤，但不是一般常見的，是自己定義的命名\n",
    "2. CSV。因爲有多列組成，每一列中以逗號分隔出的資料值是一樣多的\n",
    "3. JSON。因為以 { } 包覆，當中用 key: value 格式儲存\n",
    "4. TSV。和 CSV 很像也由多列組成，但每一列中的資料是以 `tab` 分隔的\n",
    "5. HTML。有 HTML 標籤且是網頁中常見的 `<li>`, `<ul>` 這種標籤"
   ]
  },
  {
   "cell_type": "code",
   "execution_count": null,
   "metadata": {},
   "outputs": [],
   "source": []
  }
 ],
 "metadata": {
  "colab": {
   "authorship_tag": "ABX9TyOu6ydmoHk8InoEDzFcbfMH",
   "collapsed_sections": [],
   "name": "Day3_hw.ipynb",
   "provenance": []
  },
  "kernelspec": {
   "display_name": "Python 3 (ipykernel)",
   "language": "python",
   "name": "python3"
  },
  "language_info": {
   "codemirror_mode": {
    "name": "ipython",
    "version": 3
   },
   "file_extension": ".py",
   "mimetype": "text/x-python",
   "name": "python",
   "nbconvert_exporter": "python",
   "pygments_lexer": "ipython3",
   "version": "3.9.13"
  }
 },
 "nbformat": 4,
 "nbformat_minor": 4
}
