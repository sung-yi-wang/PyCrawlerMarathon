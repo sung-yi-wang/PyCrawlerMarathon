{
 "cells": [
  {
   "cell_type": "markdown",
   "metadata": {
    "id": "RmEW9BEct8Fk"
   },
   "source": [
    "## 作業說明\n",
    "\n",
    "Day10 我們介紹了 XML 檔案格式並學習如何用 Python 操作 XML 格式檔案\n",
    "\n",
    "今日作業我們針對 xml 套件來進行練習\n",
    "\n",
    "請嘗試填空以下代碼，獲得指定結果："
   ]
  },
  {
   "cell_type": "markdown",
   "metadata": {
    "id": "5kBP3fEwKVvn"
   },
   "source": [
    "# 請先上傳 `day10-example_data.xml` 到目錄\n",
    "![](https://i.imgur.com/5K6baaX.png)"
   ]
  },
  {
   "cell_type": "code",
   "execution_count": 1,
   "metadata": {
    "id": "8paO0vT8xBPE"
   },
   "outputs": [],
   "source": [
    "import xml.etree.ElementTree as ET\n",
    "import pandas as pd"
   ]
  },
  {
   "cell_type": "markdown",
   "metadata": {
    "id": "Un1sliJPKi3r"
   },
   "source": [
    "### 檔案讀取\n",
    "- 使用 `open()`"
   ]
  },
  {
   "cell_type": "code",
   "execution_count": 2,
   "metadata": {
    "colab": {
     "base_uri": "https://localhost:8080/"
    },
    "executionInfo": {
     "elapsed": 293,
     "status": "ok",
     "timestamp": 1653288654348,
     "user": {
      "displayName": "Abao JiunYiYang",
      "userId": "03267307845025036989"
     },
     "user_tz": -480
    },
    "id": "Yyied0YsLjH3",
    "outputId": "c51fe715-2aa1-4130-b56f-eb96de635f65"
   },
   "outputs": [
    {
     "data": {
      "text/plain": [
       "<Element 'book' at 0x7fe58837bbf0>"
      ]
     },
     "execution_count": 2,
     "metadata": {},
     "output_type": "execute_result"
    }
   ],
   "source": [
    "filename = \"day10-example_data.xml\"\n",
    "with open(filename, 'r') as f:\n",
    "    root = ET.fromstring(f.read())\n",
    "root"
   ]
  },
  {
   "cell_type": "markdown",
   "metadata": {
    "id": "4hBPRm3ETZqN"
   },
   "source": [
    "### 格式轉換\n",
    "- 從 `str` 轉為 `xml Element`\n",
    "  - 使用 `.fromstring()`\n",
    "\n",
    "\n"
   ]
  },
  {
   "cell_type": "code",
   "execution_count": 3,
   "metadata": {
    "colab": {
     "base_uri": "https://localhost:8080/"
    },
    "executionInfo": {
     "elapsed": 523,
     "status": "ok",
     "timestamp": 1653288730972,
     "user": {
      "displayName": "Abao JiunYiYang",
      "userId": "03267307845025036989"
     },
     "user_tz": -480
    },
    "id": "KRsVYq-yIv35",
    "outputId": "0ad26719-8c1f-4d48-959a-62daa9afc971"
   },
   "outputs": [
    {
     "data": {
      "text/plain": [
       "<Element 'store' at 0x7fe515e487c0>"
      ]
     },
     "execution_count": 3,
     "metadata": {},
     "output_type": "execute_result"
    }
   ],
   "source": [
    "xml_string = \"\"\"\n",
    "<store name=\"bookstore\">\n",
    "  <book lang=\"en\" id=\"gio\" xmlns:xi=\"http://www.w3.org/2003/XInclude\">\n",
    "    <bookinfo>\n",
    "      <title>GIO Reference Manual</title>\n",
    "      <releaseinfo>\n",
    "        The latest version of this documentation can be found on-line at\n",
    "        <ulink role=\"online-location\" url=\"https://developer.gnome.org/gio/unstable/\">https://developer.gnome.org/gio/unstable/</ulink>.\n",
    "      </releaseinfo>\n",
    "    </bookinfo>\n",
    "  </book>\n",
    "</store>\n",
    "\"\"\"\n",
    "\n",
    "root = ET.fromstring(xml_string)\n",
    "root"
   ]
  },
  {
   "cell_type": "markdown",
   "metadata": {
    "id": "gTsS2lBWxWxt"
   },
   "source": [
    "### 取得特定節點內容\n",
    "- 取得 `<title>` 標籤內的文字"
   ]
  },
  {
   "cell_type": "code",
   "execution_count": 4,
   "metadata": {
    "colab": {
     "base_uri": "https://localhost:8080/",
     "height": 35
    },
    "executionInfo": {
     "elapsed": 525,
     "status": "ok",
     "timestamp": 1653288732026,
     "user": {
      "displayName": "Abao JiunYiYang",
      "userId": "03267307845025036989"
     },
     "user_tz": -480
    },
    "id": "jF9VhpzKeRH1",
    "outputId": "075f659b-caa3-4489-bc35-5f1edfb96bb5"
   },
   "outputs": [
    {
     "data": {
      "text/plain": [
       "'GIO Reference Manual'"
      ]
     },
     "execution_count": 4,
     "metadata": {},
     "output_type": "execute_result"
    }
   ],
   "source": [
    "root.find(\"book/bookinfo/title\").text"
   ]
  },
  {
   "cell_type": "markdown",
   "metadata": {
    "id": "MDCXWBIteenH"
   },
   "source": [
    "- 取得 `<releaseinfo>` 內的 `<ulink>` 中的 `role` 屬性"
   ]
  },
  {
   "cell_type": "code",
   "execution_count": 5,
   "metadata": {
    "colab": {
     "base_uri": "https://localhost:8080/",
     "height": 35
    },
    "executionInfo": {
     "elapsed": 6,
     "status": "ok",
     "timestamp": 1653288734121,
     "user": {
      "displayName": "Abao JiunYiYang",
      "userId": "03267307845025036989"
     },
     "user_tz": -480
    },
    "id": "9ho2Yl7r_2p_",
    "outputId": "54ee4e9a-8797-43d4-c09d-98edcab15a6c"
   },
   "outputs": [
    {
     "data": {
      "text/plain": [
       "'online-location'"
      ]
     },
     "execution_count": 5,
     "metadata": {},
     "output_type": "execute_result"
    }
   ],
   "source": [
    "root.find(\"book/bookinfo/releaseinfo/ulink\").get('role')"
   ]
  },
  {
   "cell_type": "markdown",
   "metadata": {
    "id": "_Q1UUjk4jW3Q"
   },
   "source": [
    "### 新增節點屬性\n",
    "- 在 `<releaseinfo>` 中新增 `publish_date` 的屬性"
   ]
  },
  {
   "cell_type": "code",
   "execution_count": 6,
   "metadata": {
    "colab": {
     "base_uri": "https://localhost:8080/"
    },
    "executionInfo": {
     "elapsed": 6,
     "status": "ok",
     "timestamp": 1653288734652,
     "user": {
      "displayName": "Abao JiunYiYang",
      "userId": "03267307845025036989"
     },
     "user_tz": -480
    },
    "id": "e9bWxx-TjWnZ",
    "outputId": "fe2580ef-231b-4e6c-98e7-0443deaf947d"
   },
   "outputs": [
    {
     "name": "stdout",
     "output_type": "stream",
     "text": [
      "1999-01-01\n"
     ]
    }
   ],
   "source": [
    "release_info = root.find('book/bookinfo/releaseinfo')\n",
    "release_info.set('publish_date', '1999-01-01')\n",
    "print(root.find('book/bookinfo/releaseinfo').get('publish_date'))"
   ]
  },
  {
   "cell_type": "markdown",
   "metadata": {
    "id": "ZJPuXE9BixbH"
   },
   "source": [
    "### 修改特定節點屬性\n",
    "- 將 `<ulink>` 屬性 `role` 改為 \"offline-location\""
   ]
  },
  {
   "cell_type": "code",
   "execution_count": 7,
   "metadata": {
    "id": "Drs_iLOei3z3"
   },
   "outputs": [],
   "source": [
    "ulink = root.find('book/bookinfo/releaseinfo/ulink')\n",
    "ulink.set('role', 'offline-location')"
   ]
  },
  {
   "cell_type": "code",
   "execution_count": 8,
   "metadata": {
    "colab": {
     "base_uri": "https://localhost:8080/",
     "height": 35
    },
    "executionInfo": {
     "elapsed": 4,
     "status": "ok",
     "timestamp": 1653288736200,
     "user": {
      "displayName": "Abao JiunYiYang",
      "userId": "03267307845025036989"
     },
     "user_tz": -480
    },
    "id": "s6jsYhrfjFQl",
    "outputId": "92229b9e-4e7a-44b9-f2da-d9e0727118c4"
   },
   "outputs": [
    {
     "data": {
      "text/plain": [
       "'offline-location'"
      ]
     },
     "execution_count": 8,
     "metadata": {},
     "output_type": "execute_result"
    }
   ],
   "source": [
    "root.find(\"book/bookinfo/releaseinfo/ulink\").get('role')"
   ]
  },
  {
   "cell_type": "markdown",
   "metadata": {
    "id": "CffiXKMjkGJW"
   },
   "source": [
    "### 新增節點"
   ]
  },
  {
   "cell_type": "code",
   "execution_count": 9,
   "metadata": {
    "colab": {
     "base_uri": "https://localhost:8080/"
    },
    "executionInfo": {
     "elapsed": 9,
     "status": "ok",
     "timestamp": 1653288736750,
     "user": {
      "displayName": "Abao JiunYiYang",
      "userId": "03267307845025036989"
     },
     "user_tz": -480
    },
    "id": "UX-pK-H9kH9d",
    "outputId": "c208df5f-d2b8-4e50-ef71-d8bd555fb524"
   },
   "outputs": [
    {
     "name": "stdout",
     "output_type": "stream",
     "text": [
      "<store name=\"bookstore\">\n",
      "  <book lang=\"en\" id=\"gio\">\n",
      "    <bookinfo>\n",
      "      <title>GIO Reference Manual</title>\n",
      "      <releaseinfo publish_date=\"1999-01-01\">\n",
      "        The latest version of this documentation can be found on-line at\n",
      "        <ulink role=\"offline-location\" url=\"https://developer.gnome.org/gio/unstable/\">https://developer.gnome.org/gio/unstable/</ulink>.\n",
      "      </releaseinfo>\n",
      "    </bookinfo>\n",
      "  </book>\n",
      "<book id=\"hio\" lang=\"en\" /></store>\n"
     ]
    }
   ],
   "source": [
    "book2 = ET.SubElement(root, 'book')\n",
    "book2.set('id', 'hio')\n",
    "book2.set('lang', 'en')\n",
    "\n",
    "ET.dump(root)"
   ]
  },
  {
   "cell_type": "code",
   "execution_count": 10,
   "metadata": {
    "colab": {
     "base_uri": "https://localhost:8080/"
    },
    "executionInfo": {
     "elapsed": 257,
     "status": "ok",
     "timestamp": 1653288740349,
     "user": {
      "displayName": "Abao JiunYiYang",
      "userId": "03267307845025036989"
     },
     "user_tz": -480
    },
    "id": "_5uH0yjOmF4P",
    "outputId": "6ae8c8d1-0dba-4846-cb92-e3236fe6449e"
   },
   "outputs": [
    {
     "name": "stdout",
     "output_type": "stream",
     "text": [
      "<store name=\"bookstore\">\n",
      "  <book lang=\"en\" id=\"gio\">\n",
      "    <bookinfo>\n",
      "      <title>GIO Reference Manual</title>\n",
      "      <releaseinfo publish_date=\"1999-01-01\">\n",
      "        The latest version of this documentation can be found on-line at\n",
      "        <ulink role=\"offline-location\" url=\"https://developer.gnome.org/gio/unstable/\">https://developer.gnome.org/gio/unstable/</ulink>.\n",
      "      </releaseinfo>\n",
      "    </bookinfo>\n",
      "  </book>\n",
      "<book id=\"hio\" lang=\"en\"><bookinfo><title>HIO Reference Manual</title><releaseinfo publish_date=\"1999-02-12\">The latest version of this documentation can't be found online</releaseinfo></bookinfo></book></store>\n"
     ]
    }
   ],
   "source": [
    "bookinfo2 = ET.SubElement(book2, 'bookinfo')\n",
    "# title2 及 releaseinfo2 都隸屬於 bookinfo2 節點內\n",
    "title2 = ET.SubElement(bookinfo2, 'title')\n",
    "title2.text = 'HIO Reference Manual'\n",
    "releaseinfo2 = ET.SubElement(bookinfo2, 'releaseinfo')\n",
    "releaseinfo2.set('publish_date', '1999-02-12')\n",
    "releaseinfo2.text = \"The latest version of this documentation can't be found online\"\n",
    "\n",
    "ET.dump(root)"
   ]
  },
  {
   "cell_type": "code",
   "execution_count": 11,
   "metadata": {
    "colab": {
     "base_uri": "https://localhost:8080/"
    },
    "executionInfo": {
     "elapsed": 6,
     "status": "ok",
     "timestamp": 1653288741626,
     "user": {
      "displayName": "Abao JiunYiYang",
      "userId": "03267307845025036989"
     },
     "user_tz": -480
    },
    "id": "zH1fg50Dm7XW",
    "outputId": "d2fc5632-75d3-4ab3-8476-576573c05159"
   },
   "outputs": [
    {
     "data": {
      "text/plain": [
       "['1999-01-01', '1999-02-12']"
      ]
     },
     "execution_count": 11,
     "metadata": {},
     "output_type": "execute_result"
    }
   ],
   "source": [
    "[item.get('publish_date') for item in root.findall('book/bookinfo/releaseinfo')]"
   ]
  },
  {
   "cell_type": "markdown",
   "metadata": {
    "id": "T1EuFlRDjQo3"
   },
   "source": [
    "### 移除特定節點\n",
    "- 使用 `root.remove(node)`"
   ]
  },
  {
   "cell_type": "code",
   "execution_count": 12,
   "metadata": {
    "id": "DQEEiA34xp5F"
   },
   "outputs": [],
   "source": [
    "for book in root.findall('book'):\n",
    "    pub_date = book.find('bookinfo/releaseinfo').get('publish_date')\n",
    "    if pub_date < \"1999-02-01\":\n",
    "        root.remove(book)"
   ]
  },
  {
   "cell_type": "code",
   "execution_count": 13,
   "metadata": {
    "colab": {
     "base_uri": "https://localhost:8080/"
    },
    "executionInfo": {
     "elapsed": 9,
     "status": "ok",
     "timestamp": 1653288744275,
     "user": {
      "displayName": "Abao JiunYiYang",
      "userId": "03267307845025036989"
     },
     "user_tz": -480
    },
    "id": "172ca8ATnjoz",
    "outputId": "2dd05c48-c611-437d-cc1b-c5cc0464909c"
   },
   "outputs": [
    {
     "name": "stdout",
     "output_type": "stream",
     "text": [
      "<store name=\"bookstore\">\n",
      "  <book id=\"hio\" lang=\"en\">\n",
      "    <bookinfo>\n",
      "      <title>HIO Reference Manual</title>\n",
      "      <releaseinfo publish_date=\"1999-02-12\">The latest version of this documentation can't be found online</releaseinfo>\n",
      "    </bookinfo>\n",
      "  </book>\n",
      "</store>\n"
     ]
    }
   ],
   "source": [
    "# 印出確認刪除節點後的樣貌\n",
    "ET.indent(root)\n",
    "ET.dump(root)"
   ]
  },
  {
   "cell_type": "markdown",
   "metadata": {
    "id": "LWyjSj8Bn8--"
   },
   "source": [
    "### 存為 XML 格式\n",
    "- 使用 `tree.write()`"
   ]
  },
  {
   "cell_type": "code",
   "execution_count": 14,
   "metadata": {
    "id": "sl6hibQlE4hG"
   },
   "outputs": [],
   "source": [
    "output_filename = 'day10-output_data.xml'\n",
    "tree = ET.ElementTree(root)\n",
    "tree.write(output_filename, xml_declaration=True, encoding='UTF-8')"
   ]
  },
  {
   "cell_type": "code",
   "execution_count": 15,
   "metadata": {
    "colab": {
     "base_uri": "https://localhost:8080/"
    },
    "executionInfo": {
     "elapsed": 229,
     "status": "ok",
     "timestamp": 1653288909456,
     "user": {
      "displayName": "Abao JiunYiYang",
      "userId": "03267307845025036989"
     },
     "user_tz": -480
    },
    "id": "KxKntLbiqAQu",
    "outputId": "183b3232-e3d3-4819-ab45-fc9981311ebf"
   },
   "outputs": [
    {
     "name": "stdout",
     "output_type": "stream",
     "text": [
      "<store name=\"bookstore\">\n",
      "  <book id=\"hio\" lang=\"en\">\n",
      "    <bookinfo>\n",
      "      <title>HIO Reference Manual</title>\n",
      "      <releaseinfo publish_date=\"1999-02-12\">The latest version of this documentation can't be found online</releaseinfo>\n",
      "    </bookinfo>\n",
      "  </book>\n",
      "</store>\n"
     ]
    }
   ],
   "source": [
    "# 讀取確認寫出的檔案有效\n",
    "with open(output_filename) as f:\n",
    "    test = ET.XML(f.read())\n",
    "    ET.dump(test)"
   ]
  },
  {
   "cell_type": "markdown",
   "metadata": {
    "id": "COwYZS-wxI4l"
   },
   "source": [
    "![](https://i.imgur.com/ogtU8zJ.png)"
   ]
  },
  {
   "cell_type": "code",
   "execution_count": null,
   "metadata": {
    "id": "tka8PJQCrFA2"
   },
   "outputs": [],
   "source": []
  }
 ],
 "metadata": {
  "colab": {
   "authorship_tag": "ABX9TyMuNhBnwrbaX0t0pltFSl+o",
   "collapsed_sections": [],
   "name": "Day10_hw.ipynb",
   "provenance": [],
   "toc_visible": true
  },
  "kernelspec": {
   "display_name": "Python 3 (ipykernel)",
   "language": "python",
   "name": "python3"
  },
  "language_info": {
   "codemirror_mode": {
    "name": "ipython",
    "version": 3
   },
   "file_extension": ".py",
   "mimetype": "text/x-python",
   "name": "python",
   "nbconvert_exporter": "python",
   "pygments_lexer": "ipython3",
   "version": "3.11.8"
  }
 },
 "nbformat": 4,
 "nbformat_minor": 4
}
