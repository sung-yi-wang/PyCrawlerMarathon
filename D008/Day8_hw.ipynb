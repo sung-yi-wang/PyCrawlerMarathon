{
 "cells": [
  {
   "cell_type": "markdown",
   "metadata": {
    "id": "RmEW9BEct8Fk"
   },
   "source": [
    "## 作業說明\n",
    "\n",
    "Day8 我們介紹了 CSV 檔案格式並學習如何用 Python 操作 CSV 格式檔案\n",
    "\n",
    "今日作業我們針對 pandas 套件來進行練習\n",
    "\n",
    "請嘗試填空以下代碼，獲得指定結果："
   ]
  },
  {
   "cell_type": "code",
   "execution_count": 1,
   "metadata": {
    "executionInfo": {
     "elapsed": 693,
     "status": "ok",
     "timestamp": 1653273284598,
     "user": {
      "displayName": "Abao JiunYiYang",
      "userId": "03267307845025036989"
     },
     "user_tz": -480
    },
    "id": "8paO0vT8xBPE"
   },
   "outputs": [],
   "source": [
    "import pandas as pd"
   ]
  },
  {
   "cell_type": "markdown",
   "metadata": {
    "id": "4hBPRm3ETZqN"
   },
   "source": [
    "### 檔案讀取\n",
    "- 使用 `read_csv` 進行檔案讀取"
   ]
  },
  {
   "cell_type": "code",
   "execution_count": 2,
   "metadata": {
    "colab": {
     "base_uri": "https://localhost:8080/",
     "height": 424
    },
    "executionInfo": {
     "elapsed": 351,
     "status": "ok",
     "timestamp": 1653273320288,
     "user": {
      "displayName": "Abao JiunYiYang",
      "userId": "03267307845025036989"
     },
     "user_tz": -480
    },
    "id": "jD3-yxQ4uAaL",
    "outputId": "3c804ec4-22fa-4636-e952-e1f249b9cdbf"
   },
   "outputs": [
    {
     "data": {
      "text/html": [
       "<div>\n",
       "<style scoped>\n",
       "    .dataframe tbody tr th:only-of-type {\n",
       "        vertical-align: middle;\n",
       "    }\n",
       "\n",
       "    .dataframe tbody tr th {\n",
       "        vertical-align: top;\n",
       "    }\n",
       "\n",
       "    .dataframe thead th {\n",
       "        text-align: right;\n",
       "    }\n",
       "</style>\n",
       "<table border=\"1\" class=\"dataframe\">\n",
       "  <thead>\n",
       "    <tr style=\"text-align: right;\">\n",
       "      <th></th>\n",
       "      <th>original</th>\n",
       "      <th>sandp</th>\n",
       "    </tr>\n",
       "  </thead>\n",
       "  <tbody>\n",
       "    <tr>\n",
       "      <th>0</th>\n",
       "      <td>ed_20200220_10k_0.xml</td>\n",
       "      <td>ed_20200220_10k_1.xml</td>\n",
       "    </tr>\n",
       "    <tr>\n",
       "      <th>1</th>\n",
       "      <td>ppx_20200214_10k_1.xml</td>\n",
       "      <td>ppx_20200214_10k_1.xml</td>\n",
       "    </tr>\n",
       "    <tr>\n",
       "      <th>2</th>\n",
       "      <td>eb_20200302_10k_1.xml</td>\n",
       "      <td>eb_20200302_10k_0.xml</td>\n",
       "    </tr>\n",
       "    <tr>\n",
       "      <th>3</th>\n",
       "      <td>st_20200211_10k_1.xml</td>\n",
       "      <td>st_20200211_10k_0.xml</td>\n",
       "    </tr>\n",
       "    <tr>\n",
       "      <th>4</th>\n",
       "      <td>clr_20200226_10k_1.xml</td>\n",
       "      <td>clr_20200226_10k_0.xml</td>\n",
       "    </tr>\n",
       "    <tr>\n",
       "      <th>...</th>\n",
       "      <td>...</td>\n",
       "      <td>...</td>\n",
       "    </tr>\n",
       "    <tr>\n",
       "      <th>1266</th>\n",
       "      <td>hog_20200219_10k_1.xml</td>\n",
       "      <td>hog_20200219_10k_0.xml</td>\n",
       "    </tr>\n",
       "    <tr>\n",
       "      <th>1267</th>\n",
       "      <td>kex_20200224_10k_1.xml</td>\n",
       "      <td>kex_20200224_10k_0.xml</td>\n",
       "    </tr>\n",
       "    <tr>\n",
       "      <th>1268</th>\n",
       "      <td>cop_20200218_10k_1.xml</td>\n",
       "      <td>cop_20200218_10k_0.xml</td>\n",
       "    </tr>\n",
       "    <tr>\n",
       "      <th>1269</th>\n",
       "      <td>cnxm_20200210_10k_0.xml</td>\n",
       "      <td>cnxm_20200210_10k_0.xml</td>\n",
       "    </tr>\n",
       "    <tr>\n",
       "      <th>1270</th>\n",
       "      <td>scl_20200227_10k_1.xml</td>\n",
       "      <td>scl_20200227_10k_1.xml</td>\n",
       "    </tr>\n",
       "  </tbody>\n",
       "</table>\n",
       "<p>1271 rows × 2 columns</p>\n",
       "</div>"
      ],
      "text/plain": [
       "                     original                    sandp\n",
       "0       ed_20200220_10k_0.xml    ed_20200220_10k_1.xml\n",
       "1      ppx_20200214_10k_1.xml   ppx_20200214_10k_1.xml\n",
       "2       eb_20200302_10k_1.xml    eb_20200302_10k_0.xml\n",
       "3       st_20200211_10k_1.xml    st_20200211_10k_0.xml\n",
       "4      clr_20200226_10k_1.xml   clr_20200226_10k_0.xml\n",
       "...                       ...                      ...\n",
       "1266   hog_20200219_10k_1.xml   hog_20200219_10k_0.xml\n",
       "1267   kex_20200224_10k_1.xml   kex_20200224_10k_0.xml\n",
       "1268   cop_20200218_10k_1.xml   cop_20200218_10k_0.xml\n",
       "1269  cnxm_20200210_10k_0.xml  cnxm_20200210_10k_0.xml\n",
       "1270   scl_20200227_10k_1.xml   scl_20200227_10k_1.xml\n",
       "\n",
       "[1271 rows x 2 columns]"
      ]
     },
     "execution_count": 2,
     "metadata": {},
     "output_type": "execute_result"
    }
   ],
   "source": [
    "csv_file_url = \"https://raw.githubusercontent.com/hpcc-systems/EDGAR-SEC-Filings/1727820ffa2216ed2447bb6a265a54ef6503f001/Data/labelguide_all_10k.csv\"\n",
    "df = pd.read_csv(csv_file_url)\n",
    "df"
   ]
  },
  {
   "cell_type": "markdown",
   "metadata": {
    "id": "gTsS2lBWxWxt"
   },
   "source": [
    "### 資料描述\n",
    "- 使用 `.info()` 查看欄位資料型態及空值數\n",
    "- 使用 `.describe()` 查看各欄位資料的統計情形\n"
   ]
  },
  {
   "cell_type": "code",
   "execution_count": 3,
   "metadata": {
    "colab": {
     "base_uri": "https://localhost:8080/"
    },
    "executionInfo": {
     "elapsed": 7,
     "status": "ok",
     "timestamp": 1653273441030,
     "user": {
      "displayName": "Abao JiunYiYang",
      "userId": "03267307845025036989"
     },
     "user_tz": -480
    },
    "id": "DQEEiA34xp5F",
    "outputId": "b64971dd-0f8a-4ecd-8e77-d14dba0432f2"
   },
   "outputs": [
    {
     "name": "stdout",
     "output_type": "stream",
     "text": [
      "<class 'pandas.core.frame.DataFrame'>\n",
      "RangeIndex: 1271 entries, 0 to 1270\n",
      "Data columns (total 2 columns):\n",
      " #   Column    Non-Null Count  Dtype \n",
      "---  ------    --------------  ----- \n",
      " 0   original  1271 non-null   object\n",
      " 1   sandp     1271 non-null   object\n",
      "dtypes: object(2)\n",
      "memory usage: 20.0+ KB\n"
     ]
    }
   ],
   "source": [
    "df.info()"
   ]
  },
  {
   "cell_type": "code",
   "execution_count": 4,
   "metadata": {
    "colab": {
     "base_uri": "https://localhost:8080/",
     "height": 175
    },
    "executionInfo": {
     "elapsed": 6,
     "status": "ok",
     "timestamp": 1653273453093,
     "user": {
      "displayName": "Abao JiunYiYang",
      "userId": "03267307845025036989"
     },
     "user_tz": -480
    },
    "id": "26CUMlXdxr5c",
    "outputId": "7757a4f7-4485-4ba5-8278-8853518d7bde"
   },
   "outputs": [
    {
     "data": {
      "text/html": [
       "<div>\n",
       "<style scoped>\n",
       "    .dataframe tbody tr th:only-of-type {\n",
       "        vertical-align: middle;\n",
       "    }\n",
       "\n",
       "    .dataframe tbody tr th {\n",
       "        vertical-align: top;\n",
       "    }\n",
       "\n",
       "    .dataframe thead th {\n",
       "        text-align: right;\n",
       "    }\n",
       "</style>\n",
       "<table border=\"1\" class=\"dataframe\">\n",
       "  <thead>\n",
       "    <tr style=\"text-align: right;\">\n",
       "      <th></th>\n",
       "      <th>original</th>\n",
       "      <th>sandp</th>\n",
       "    </tr>\n",
       "  </thead>\n",
       "  <tbody>\n",
       "    <tr>\n",
       "      <th>count</th>\n",
       "      <td>1271</td>\n",
       "      <td>1271</td>\n",
       "    </tr>\n",
       "    <tr>\n",
       "      <th>unique</th>\n",
       "      <td>1271</td>\n",
       "      <td>1271</td>\n",
       "    </tr>\n",
       "    <tr>\n",
       "      <th>top</th>\n",
       "      <td>ed_20200220_10k_0.xml</td>\n",
       "      <td>ed_20200220_10k_1.xml</td>\n",
       "    </tr>\n",
       "    <tr>\n",
       "      <th>freq</th>\n",
       "      <td>1</td>\n",
       "      <td>1</td>\n",
       "    </tr>\n",
       "  </tbody>\n",
       "</table>\n",
       "</div>"
      ],
      "text/plain": [
       "                     original                  sandp\n",
       "count                    1271                   1271\n",
       "unique                   1271                   1271\n",
       "top     ed_20200220_10k_0.xml  ed_20200220_10k_1.xml\n",
       "freq                        1                      1"
      ]
     },
     "execution_count": 4,
     "metadata": {},
     "output_type": "execute_result"
    }
   ],
   "source": [
    "df.describe()"
   ]
  },
  {
   "cell_type": "markdown",
   "metadata": {
    "id": "Nwma5-Qcxy8T"
   },
   "source": [
    "### 選取特定欄位\n",
    "- 使用 [col_name] \n",
    "- 使用 `.iloc[]`\n",
    "- 使用 `.loc[]`"
   ]
  },
  {
   "cell_type": "code",
   "execution_count": 5,
   "metadata": {
    "colab": {
     "base_uri": "https://localhost:8080/"
    },
    "executionInfo": {
     "elapsed": 300,
     "status": "ok",
     "timestamp": 1653273565806,
     "user": {
      "displayName": "Abao JiunYiYang",
      "userId": "03267307845025036989"
     },
     "user_tz": -480
    },
    "id": "BAcll2p0xyfD",
    "outputId": "b158a1c0-d2c7-41a4-8af1-906d75f2f9fc"
   },
   "outputs": [
    {
     "data": {
      "text/plain": [
       "0         ed_20200220_10k_0.xml\n",
       "1        ppx_20200214_10k_1.xml\n",
       "2         eb_20200302_10k_1.xml\n",
       "3         st_20200211_10k_1.xml\n",
       "4        clr_20200226_10k_1.xml\n",
       "                 ...           \n",
       "1266     hog_20200219_10k_1.xml\n",
       "1267     kex_20200224_10k_1.xml\n",
       "1268     cop_20200218_10k_1.xml\n",
       "1269    cnxm_20200210_10k_0.xml\n",
       "1270     scl_20200227_10k_1.xml\n",
       "Name: original, Length: 1271, dtype: object"
      ]
     },
     "execution_count": 5,
     "metadata": {},
     "output_type": "execute_result"
    }
   ],
   "source": [
    "df['original']"
   ]
  },
  {
   "cell_type": "code",
   "execution_count": 6,
   "metadata": {
    "colab": {
     "base_uri": "https://localhost:8080/",
     "height": 424
    },
    "executionInfo": {
     "elapsed": 3,
     "status": "ok",
     "timestamp": 1653273583061,
     "user": {
      "displayName": "Abao JiunYiYang",
      "userId": "03267307845025036989"
     },
     "user_tz": -480
    },
    "id": "vTu53oOCyLKl",
    "outputId": "02ef8146-b35c-4994-f2a9-c1933cebc640"
   },
   "outputs": [
    {
     "data": {
      "text/html": [
       "<div>\n",
       "<style scoped>\n",
       "    .dataframe tbody tr th:only-of-type {\n",
       "        vertical-align: middle;\n",
       "    }\n",
       "\n",
       "    .dataframe tbody tr th {\n",
       "        vertical-align: top;\n",
       "    }\n",
       "\n",
       "    .dataframe thead th {\n",
       "        text-align: right;\n",
       "    }\n",
       "</style>\n",
       "<table border=\"1\" class=\"dataframe\">\n",
       "  <thead>\n",
       "    <tr style=\"text-align: right;\">\n",
       "      <th></th>\n",
       "      <th>original</th>\n",
       "    </tr>\n",
       "  </thead>\n",
       "  <tbody>\n",
       "    <tr>\n",
       "      <th>0</th>\n",
       "      <td>ed_20200220_10k_0.xml</td>\n",
       "    </tr>\n",
       "    <tr>\n",
       "      <th>1</th>\n",
       "      <td>ppx_20200214_10k_1.xml</td>\n",
       "    </tr>\n",
       "    <tr>\n",
       "      <th>2</th>\n",
       "      <td>eb_20200302_10k_1.xml</td>\n",
       "    </tr>\n",
       "    <tr>\n",
       "      <th>3</th>\n",
       "      <td>st_20200211_10k_1.xml</td>\n",
       "    </tr>\n",
       "    <tr>\n",
       "      <th>4</th>\n",
       "      <td>clr_20200226_10k_1.xml</td>\n",
       "    </tr>\n",
       "    <tr>\n",
       "      <th>...</th>\n",
       "      <td>...</td>\n",
       "    </tr>\n",
       "    <tr>\n",
       "      <th>1266</th>\n",
       "      <td>hog_20200219_10k_1.xml</td>\n",
       "    </tr>\n",
       "    <tr>\n",
       "      <th>1267</th>\n",
       "      <td>kex_20200224_10k_1.xml</td>\n",
       "    </tr>\n",
       "    <tr>\n",
       "      <th>1268</th>\n",
       "      <td>cop_20200218_10k_1.xml</td>\n",
       "    </tr>\n",
       "    <tr>\n",
       "      <th>1269</th>\n",
       "      <td>cnxm_20200210_10k_0.xml</td>\n",
       "    </tr>\n",
       "    <tr>\n",
       "      <th>1270</th>\n",
       "      <td>scl_20200227_10k_1.xml</td>\n",
       "    </tr>\n",
       "  </tbody>\n",
       "</table>\n",
       "<p>1271 rows × 1 columns</p>\n",
       "</div>"
      ],
      "text/plain": [
       "                     original\n",
       "0       ed_20200220_10k_0.xml\n",
       "1      ppx_20200214_10k_1.xml\n",
       "2       eb_20200302_10k_1.xml\n",
       "3       st_20200211_10k_1.xml\n",
       "4      clr_20200226_10k_1.xml\n",
       "...                       ...\n",
       "1266   hog_20200219_10k_1.xml\n",
       "1267   kex_20200224_10k_1.xml\n",
       "1268   cop_20200218_10k_1.xml\n",
       "1269  cnxm_20200210_10k_0.xml\n",
       "1270   scl_20200227_10k_1.xml\n",
       "\n",
       "[1271 rows x 1 columns]"
      ]
     },
     "execution_count": 6,
     "metadata": {},
     "output_type": "execute_result"
    }
   ],
   "source": [
    "df.iloc[:, 0:1]"
   ]
  },
  {
   "cell_type": "code",
   "execution_count": 7,
   "metadata": {
    "colab": {
     "base_uri": "https://localhost:8080/"
    },
    "executionInfo": {
     "elapsed": 4,
     "status": "ok",
     "timestamp": 1653273604888,
     "user": {
      "displayName": "Abao JiunYiYang",
      "userId": "03267307845025036989"
     },
     "user_tz": -480
    },
    "id": "uI6uloS9yQY9",
    "outputId": "7065b8b0-b804-4ec3-acfa-6ae0b0675e1e"
   },
   "outputs": [
    {
     "data": {
      "text/plain": [
       "0         ed_20200220_10k_0.xml\n",
       "1        ppx_20200214_10k_1.xml\n",
       "2         eb_20200302_10k_1.xml\n",
       "3         st_20200211_10k_1.xml\n",
       "4        clr_20200226_10k_1.xml\n",
       "                 ...           \n",
       "1266     hog_20200219_10k_1.xml\n",
       "1267     kex_20200224_10k_1.xml\n",
       "1268     cop_20200218_10k_1.xml\n",
       "1269    cnxm_20200210_10k_0.xml\n",
       "1270     scl_20200227_10k_1.xml\n",
       "Name: original, Length: 1271, dtype: object"
      ]
     },
     "execution_count": 7,
     "metadata": {},
     "output_type": "execute_result"
    }
   ],
   "source": [
    "df.loc[:, 'original']"
   ]
  },
  {
   "cell_type": "markdown",
   "metadata": {
    "id": "PIwaWTcTyVEz"
   },
   "source": [
    "### 選取特定列\n",
    "- 使用 `.iloc[]`\n",
    "- 使用 `.loc[]`"
   ]
  },
  {
   "cell_type": "code",
   "execution_count": 8,
   "metadata": {
    "colab": {
     "base_uri": "https://localhost:8080/",
     "height": 81
    },
    "executionInfo": {
     "elapsed": 7,
     "status": "ok",
     "timestamp": 1653273664050,
     "user": {
      "displayName": "Abao JiunYiYang",
      "userId": "03267307845025036989"
     },
     "user_tz": -480
    },
    "id": "qfDGeGizyYiF",
    "outputId": "1d20933d-8df2-4ce3-ef3e-0acef8fb88bf"
   },
   "outputs": [
    {
     "data": {
      "text/html": [
       "<div>\n",
       "<style scoped>\n",
       "    .dataframe tbody tr th:only-of-type {\n",
       "        vertical-align: middle;\n",
       "    }\n",
       "\n",
       "    .dataframe tbody tr th {\n",
       "        vertical-align: top;\n",
       "    }\n",
       "\n",
       "    .dataframe thead th {\n",
       "        text-align: right;\n",
       "    }\n",
       "</style>\n",
       "<table border=\"1\" class=\"dataframe\">\n",
       "  <thead>\n",
       "    <tr style=\"text-align: right;\">\n",
       "      <th></th>\n",
       "      <th>original</th>\n",
       "      <th>sandp</th>\n",
       "    </tr>\n",
       "  </thead>\n",
       "  <tbody>\n",
       "    <tr>\n",
       "      <th>55</th>\n",
       "      <td>hubs_20200212_10k_1.xml</td>\n",
       "      <td>hubs_20200212_10k_0.xml</td>\n",
       "    </tr>\n",
       "  </tbody>\n",
       "</table>\n",
       "</div>"
      ],
      "text/plain": [
       "                   original                    sandp\n",
       "55  hubs_20200212_10k_1.xml  hubs_20200212_10k_0.xml"
      ]
     },
     "execution_count": 8,
     "metadata": {},
     "output_type": "execute_result"
    }
   ],
   "source": [
    "df.iloc[55:56, :]"
   ]
  },
  {
   "cell_type": "code",
   "execution_count": 9,
   "metadata": {
    "colab": {
     "base_uri": "https://localhost:8080/",
     "height": 238
    },
    "executionInfo": {
     "elapsed": 7,
     "status": "ok",
     "timestamp": 1653273707243,
     "user": {
      "displayName": "Abao JiunYiYang",
      "userId": "03267307845025036989"
     },
     "user_tz": -480
    },
    "id": "bpvahnJvyk6f",
    "outputId": "a01cff35-8823-458f-9666-ab265664664f"
   },
   "outputs": [
    {
     "data": {
      "text/html": [
       "<div>\n",
       "<style scoped>\n",
       "    .dataframe tbody tr th:only-of-type {\n",
       "        vertical-align: middle;\n",
       "    }\n",
       "\n",
       "    .dataframe tbody tr th {\n",
       "        vertical-align: top;\n",
       "    }\n",
       "\n",
       "    .dataframe thead th {\n",
       "        text-align: right;\n",
       "    }\n",
       "</style>\n",
       "<table border=\"1\" class=\"dataframe\">\n",
       "  <thead>\n",
       "    <tr style=\"text-align: right;\">\n",
       "      <th></th>\n",
       "      <th>original</th>\n",
       "      <th>sandp</th>\n",
       "    </tr>\n",
       "  </thead>\n",
       "  <tbody>\n",
       "    <tr>\n",
       "      <th>55</th>\n",
       "      <td>hubs_20200212_10k_1.xml</td>\n",
       "      <td>hubs_20200212_10k_0.xml</td>\n",
       "    </tr>\n",
       "    <tr>\n",
       "      <th>56</th>\n",
       "      <td>jll_20200227_10k_1.xml</td>\n",
       "      <td>jll_20200227_10k_0.xml</td>\n",
       "    </tr>\n",
       "    <tr>\n",
       "      <th>57</th>\n",
       "      <td>cp_20200220_10k_1.xml</td>\n",
       "      <td>cp_20200220_10k_1.xml</td>\n",
       "    </tr>\n",
       "    <tr>\n",
       "      <th>58</th>\n",
       "      <td>deck_20200601_10k_0.xml</td>\n",
       "      <td>deck_20200601_10k_0.xml</td>\n",
       "    </tr>\n",
       "    <tr>\n",
       "      <th>59</th>\n",
       "      <td>cof_20200220_10k_1.xml</td>\n",
       "      <td>cof_20200220_10k_0.xml</td>\n",
       "    </tr>\n",
       "    <tr>\n",
       "      <th>60</th>\n",
       "      <td>dukb_20200220_10k_1.xml</td>\n",
       "      <td>dukb_20200220_10k_1.xml</td>\n",
       "    </tr>\n",
       "  </tbody>\n",
       "</table>\n",
       "</div>"
      ],
      "text/plain": [
       "                   original                    sandp\n",
       "55  hubs_20200212_10k_1.xml  hubs_20200212_10k_0.xml\n",
       "56   jll_20200227_10k_1.xml   jll_20200227_10k_0.xml\n",
       "57    cp_20200220_10k_1.xml    cp_20200220_10k_1.xml\n",
       "58  deck_20200601_10k_0.xml  deck_20200601_10k_0.xml\n",
       "59   cof_20200220_10k_1.xml   cof_20200220_10k_0.xml\n",
       "60  dukb_20200220_10k_1.xml  dukb_20200220_10k_1.xml"
      ]
     },
     "execution_count": 9,
     "metadata": {},
     "output_type": "execute_result"
    }
   ],
   "source": [
    "df.loc[55:60, :]"
   ]
  },
  {
   "cell_type": "markdown",
   "metadata": {
    "id": "vyW-yWDSyus1"
   },
   "source": [
    "### 篩選特定列資料"
   ]
  },
  {
   "cell_type": "markdown",
   "metadata": {
    "id": "My8RqY_Hy1vp"
   },
   "source": [
    "- \"original\" 欄位中包含 deck 的資料樣本\n",
    "- Hint: `str.contains(\"some_string\")`"
   ]
  },
  {
   "cell_type": "code",
   "execution_count": 10,
   "metadata": {
    "colab": {
     "base_uri": "https://localhost:8080/",
     "height": 81
    },
    "executionInfo": {
     "elapsed": 286,
     "status": "ok",
     "timestamp": 1653273784041,
     "user": {
      "displayName": "Abao JiunYiYang",
      "userId": "03267307845025036989"
     },
     "user_tz": -480
    },
    "id": "YXvI3Rp_y00k",
    "outputId": "ef8a1ccd-7735-4c5d-b557-9981085c6cdd"
   },
   "outputs": [
    {
     "data": {
      "text/html": [
       "<div>\n",
       "<style scoped>\n",
       "    .dataframe tbody tr th:only-of-type {\n",
       "        vertical-align: middle;\n",
       "    }\n",
       "\n",
       "    .dataframe tbody tr th {\n",
       "        vertical-align: top;\n",
       "    }\n",
       "\n",
       "    .dataframe thead th {\n",
       "        text-align: right;\n",
       "    }\n",
       "</style>\n",
       "<table border=\"1\" class=\"dataframe\">\n",
       "  <thead>\n",
       "    <tr style=\"text-align: right;\">\n",
       "      <th></th>\n",
       "      <th>original</th>\n",
       "      <th>sandp</th>\n",
       "    </tr>\n",
       "  </thead>\n",
       "  <tbody>\n",
       "    <tr>\n",
       "      <th>58</th>\n",
       "      <td>deck_20200601_10k_0.xml</td>\n",
       "      <td>deck_20200601_10k_0.xml</td>\n",
       "    </tr>\n",
       "  </tbody>\n",
       "</table>\n",
       "</div>"
      ],
      "text/plain": [
       "                   original                    sandp\n",
       "58  deck_20200601_10k_0.xml  deck_20200601_10k_0.xml"
      ]
     },
     "execution_count": 10,
     "metadata": {},
     "output_type": "execute_result"
    }
   ],
   "source": [
    "df[df[\"original\"].str.contains('deck')]"
   ]
  },
  {
   "cell_type": "markdown",
   "metadata": {
    "id": "3ekOw_DFzIe-"
   },
   "source": [
    "### 切分到多個欄位\n",
    "- 使用 `str.split(expand=True)`"
   ]
  },
  {
   "cell_type": "code",
   "execution_count": 11,
   "metadata": {
    "colab": {
     "base_uri": "https://localhost:8080/",
     "height": 424
    },
    "executionInfo": {
     "elapsed": 294,
     "status": "ok",
     "timestamp": 1653275641329,
     "user": {
      "displayName": "Abao JiunYiYang",
      "userId": "03267307845025036989"
     },
     "user_tz": -480
    },
    "id": "a90zHTWrn-Ke",
    "outputId": "5a4b34a6-38d6-4539-b132-4057fab3b636"
   },
   "outputs": [
    {
     "data": {
      "text/html": [
       "<div>\n",
       "<style scoped>\n",
       "    .dataframe tbody tr th:only-of-type {\n",
       "        vertical-align: middle;\n",
       "    }\n",
       "\n",
       "    .dataframe tbody tr th {\n",
       "        vertical-align: top;\n",
       "    }\n",
       "\n",
       "    .dataframe thead th {\n",
       "        text-align: right;\n",
       "    }\n",
       "</style>\n",
       "<table border=\"1\" class=\"dataframe\">\n",
       "  <thead>\n",
       "    <tr style=\"text-align: right;\">\n",
       "      <th></th>\n",
       "      <th>original</th>\n",
       "      <th>sandp</th>\n",
       "      <th>a</th>\n",
       "      <th>date</th>\n",
       "      <th>amount</th>\n",
       "      <th>d</th>\n",
       "    </tr>\n",
       "  </thead>\n",
       "  <tbody>\n",
       "    <tr>\n",
       "      <th>0</th>\n",
       "      <td>ed_20200220_10k_0.xml</td>\n",
       "      <td>ed_20200220_10k_1.xml</td>\n",
       "      <td>ed</td>\n",
       "      <td>20200220</td>\n",
       "      <td>10k</td>\n",
       "      <td>0.xml</td>\n",
       "    </tr>\n",
       "    <tr>\n",
       "      <th>1</th>\n",
       "      <td>ppx_20200214_10k_1.xml</td>\n",
       "      <td>ppx_20200214_10k_1.xml</td>\n",
       "      <td>ppx</td>\n",
       "      <td>20200214</td>\n",
       "      <td>10k</td>\n",
       "      <td>1.xml</td>\n",
       "    </tr>\n",
       "    <tr>\n",
       "      <th>2</th>\n",
       "      <td>eb_20200302_10k_1.xml</td>\n",
       "      <td>eb_20200302_10k_0.xml</td>\n",
       "      <td>eb</td>\n",
       "      <td>20200302</td>\n",
       "      <td>10k</td>\n",
       "      <td>1.xml</td>\n",
       "    </tr>\n",
       "    <tr>\n",
       "      <th>3</th>\n",
       "      <td>st_20200211_10k_1.xml</td>\n",
       "      <td>st_20200211_10k_0.xml</td>\n",
       "      <td>st</td>\n",
       "      <td>20200211</td>\n",
       "      <td>10k</td>\n",
       "      <td>1.xml</td>\n",
       "    </tr>\n",
       "    <tr>\n",
       "      <th>4</th>\n",
       "      <td>clr_20200226_10k_1.xml</td>\n",
       "      <td>clr_20200226_10k_0.xml</td>\n",
       "      <td>clr</td>\n",
       "      <td>20200226</td>\n",
       "      <td>10k</td>\n",
       "      <td>1.xml</td>\n",
       "    </tr>\n",
       "    <tr>\n",
       "      <th>...</th>\n",
       "      <td>...</td>\n",
       "      <td>...</td>\n",
       "      <td>...</td>\n",
       "      <td>...</td>\n",
       "      <td>...</td>\n",
       "      <td>...</td>\n",
       "    </tr>\n",
       "    <tr>\n",
       "      <th>1266</th>\n",
       "      <td>hog_20200219_10k_1.xml</td>\n",
       "      <td>hog_20200219_10k_0.xml</td>\n",
       "      <td>hog</td>\n",
       "      <td>20200219</td>\n",
       "      <td>10k</td>\n",
       "      <td>1.xml</td>\n",
       "    </tr>\n",
       "    <tr>\n",
       "      <th>1267</th>\n",
       "      <td>kex_20200224_10k_1.xml</td>\n",
       "      <td>kex_20200224_10k_0.xml</td>\n",
       "      <td>kex</td>\n",
       "      <td>20200224</td>\n",
       "      <td>10k</td>\n",
       "      <td>1.xml</td>\n",
       "    </tr>\n",
       "    <tr>\n",
       "      <th>1268</th>\n",
       "      <td>cop_20200218_10k_1.xml</td>\n",
       "      <td>cop_20200218_10k_0.xml</td>\n",
       "      <td>cop</td>\n",
       "      <td>20200218</td>\n",
       "      <td>10k</td>\n",
       "      <td>1.xml</td>\n",
       "    </tr>\n",
       "    <tr>\n",
       "      <th>1269</th>\n",
       "      <td>cnxm_20200210_10k_0.xml</td>\n",
       "      <td>cnxm_20200210_10k_0.xml</td>\n",
       "      <td>cnxm</td>\n",
       "      <td>20200210</td>\n",
       "      <td>10k</td>\n",
       "      <td>0.xml</td>\n",
       "    </tr>\n",
       "    <tr>\n",
       "      <th>1270</th>\n",
       "      <td>scl_20200227_10k_1.xml</td>\n",
       "      <td>scl_20200227_10k_1.xml</td>\n",
       "      <td>scl</td>\n",
       "      <td>20200227</td>\n",
       "      <td>10k</td>\n",
       "      <td>1.xml</td>\n",
       "    </tr>\n",
       "  </tbody>\n",
       "</table>\n",
       "<p>1271 rows × 6 columns</p>\n",
       "</div>"
      ],
      "text/plain": [
       "                     original                    sandp     a      date amount  \\\n",
       "0       ed_20200220_10k_0.xml    ed_20200220_10k_1.xml    ed  20200220    10k   \n",
       "1      ppx_20200214_10k_1.xml   ppx_20200214_10k_1.xml   ppx  20200214    10k   \n",
       "2       eb_20200302_10k_1.xml    eb_20200302_10k_0.xml    eb  20200302    10k   \n",
       "3       st_20200211_10k_1.xml    st_20200211_10k_0.xml    st  20200211    10k   \n",
       "4      clr_20200226_10k_1.xml   clr_20200226_10k_0.xml   clr  20200226    10k   \n",
       "...                       ...                      ...   ...       ...    ...   \n",
       "1266   hog_20200219_10k_1.xml   hog_20200219_10k_0.xml   hog  20200219    10k   \n",
       "1267   kex_20200224_10k_1.xml   kex_20200224_10k_0.xml   kex  20200224    10k   \n",
       "1268   cop_20200218_10k_1.xml   cop_20200218_10k_0.xml   cop  20200218    10k   \n",
       "1269  cnxm_20200210_10k_0.xml  cnxm_20200210_10k_0.xml  cnxm  20200210    10k   \n",
       "1270   scl_20200227_10k_1.xml   scl_20200227_10k_1.xml   scl  20200227    10k   \n",
       "\n",
       "          d  \n",
       "0     0.xml  \n",
       "1     1.xml  \n",
       "2     1.xml  \n",
       "3     1.xml  \n",
       "4     1.xml  \n",
       "...     ...  \n",
       "1266  1.xml  \n",
       "1267  1.xml  \n",
       "1268  1.xml  \n",
       "1269  0.xml  \n",
       "1270  1.xml  \n",
       "\n",
       "[1271 rows x 6 columns]"
      ]
     },
     "execution_count": 11,
     "metadata": {},
     "output_type": "execute_result"
    }
   ],
   "source": [
    "df[['a', 'date', 'amount', 'd']] = df['original'].str.split(pat='_', n=3, expand=True)\n",
    "df"
   ]
  },
  {
   "cell_type": "code",
   "execution_count": 12,
   "metadata": {},
   "outputs": [
    {
     "data": {
      "text/html": [
       "<div>\n",
       "<style scoped>\n",
       "    .dataframe tbody tr th:only-of-type {\n",
       "        vertical-align: middle;\n",
       "    }\n",
       "\n",
       "    .dataframe tbody tr th {\n",
       "        vertical-align: top;\n",
       "    }\n",
       "\n",
       "    .dataframe thead th {\n",
       "        text-align: right;\n",
       "    }\n",
       "</style>\n",
       "<table border=\"1\" class=\"dataframe\">\n",
       "  <thead>\n",
       "    <tr style=\"text-align: right;\">\n",
       "      <th></th>\n",
       "      <th>original</th>\n",
       "      <th>sandp</th>\n",
       "      <th>a</th>\n",
       "      <th>date</th>\n",
       "      <th>amount</th>\n",
       "      <th>d</th>\n",
       "      <th>format</th>\n",
       "    </tr>\n",
       "  </thead>\n",
       "  <tbody>\n",
       "    <tr>\n",
       "      <th>0</th>\n",
       "      <td>ed_20200220_10k_0.xml</td>\n",
       "      <td>ed_20200220_10k_1.xml</td>\n",
       "      <td>ed</td>\n",
       "      <td>20200220</td>\n",
       "      <td>10k</td>\n",
       "      <td>0</td>\n",
       "      <td>xml</td>\n",
       "    </tr>\n",
       "    <tr>\n",
       "      <th>1</th>\n",
       "      <td>ppx_20200214_10k_1.xml</td>\n",
       "      <td>ppx_20200214_10k_1.xml</td>\n",
       "      <td>ppx</td>\n",
       "      <td>20200214</td>\n",
       "      <td>10k</td>\n",
       "      <td>1</td>\n",
       "      <td>xml</td>\n",
       "    </tr>\n",
       "    <tr>\n",
       "      <th>2</th>\n",
       "      <td>eb_20200302_10k_1.xml</td>\n",
       "      <td>eb_20200302_10k_0.xml</td>\n",
       "      <td>eb</td>\n",
       "      <td>20200302</td>\n",
       "      <td>10k</td>\n",
       "      <td>1</td>\n",
       "      <td>xml</td>\n",
       "    </tr>\n",
       "    <tr>\n",
       "      <th>3</th>\n",
       "      <td>st_20200211_10k_1.xml</td>\n",
       "      <td>st_20200211_10k_0.xml</td>\n",
       "      <td>st</td>\n",
       "      <td>20200211</td>\n",
       "      <td>10k</td>\n",
       "      <td>1</td>\n",
       "      <td>xml</td>\n",
       "    </tr>\n",
       "    <tr>\n",
       "      <th>4</th>\n",
       "      <td>clr_20200226_10k_1.xml</td>\n",
       "      <td>clr_20200226_10k_0.xml</td>\n",
       "      <td>clr</td>\n",
       "      <td>20200226</td>\n",
       "      <td>10k</td>\n",
       "      <td>1</td>\n",
       "      <td>xml</td>\n",
       "    </tr>\n",
       "    <tr>\n",
       "      <th>...</th>\n",
       "      <td>...</td>\n",
       "      <td>...</td>\n",
       "      <td>...</td>\n",
       "      <td>...</td>\n",
       "      <td>...</td>\n",
       "      <td>...</td>\n",
       "      <td>...</td>\n",
       "    </tr>\n",
       "    <tr>\n",
       "      <th>1266</th>\n",
       "      <td>hog_20200219_10k_1.xml</td>\n",
       "      <td>hog_20200219_10k_0.xml</td>\n",
       "      <td>hog</td>\n",
       "      <td>20200219</td>\n",
       "      <td>10k</td>\n",
       "      <td>1</td>\n",
       "      <td>xml</td>\n",
       "    </tr>\n",
       "    <tr>\n",
       "      <th>1267</th>\n",
       "      <td>kex_20200224_10k_1.xml</td>\n",
       "      <td>kex_20200224_10k_0.xml</td>\n",
       "      <td>kex</td>\n",
       "      <td>20200224</td>\n",
       "      <td>10k</td>\n",
       "      <td>1</td>\n",
       "      <td>xml</td>\n",
       "    </tr>\n",
       "    <tr>\n",
       "      <th>1268</th>\n",
       "      <td>cop_20200218_10k_1.xml</td>\n",
       "      <td>cop_20200218_10k_0.xml</td>\n",
       "      <td>cop</td>\n",
       "      <td>20200218</td>\n",
       "      <td>10k</td>\n",
       "      <td>1</td>\n",
       "      <td>xml</td>\n",
       "    </tr>\n",
       "    <tr>\n",
       "      <th>1269</th>\n",
       "      <td>cnxm_20200210_10k_0.xml</td>\n",
       "      <td>cnxm_20200210_10k_0.xml</td>\n",
       "      <td>cnxm</td>\n",
       "      <td>20200210</td>\n",
       "      <td>10k</td>\n",
       "      <td>0</td>\n",
       "      <td>xml</td>\n",
       "    </tr>\n",
       "    <tr>\n",
       "      <th>1270</th>\n",
       "      <td>scl_20200227_10k_1.xml</td>\n",
       "      <td>scl_20200227_10k_1.xml</td>\n",
       "      <td>scl</td>\n",
       "      <td>20200227</td>\n",
       "      <td>10k</td>\n",
       "      <td>1</td>\n",
       "      <td>xml</td>\n",
       "    </tr>\n",
       "  </tbody>\n",
       "</table>\n",
       "<p>1271 rows × 7 columns</p>\n",
       "</div>"
      ],
      "text/plain": [
       "                     original                    sandp     a      date amount  \\\n",
       "0       ed_20200220_10k_0.xml    ed_20200220_10k_1.xml    ed  20200220    10k   \n",
       "1      ppx_20200214_10k_1.xml   ppx_20200214_10k_1.xml   ppx  20200214    10k   \n",
       "2       eb_20200302_10k_1.xml    eb_20200302_10k_0.xml    eb  20200302    10k   \n",
       "3       st_20200211_10k_1.xml    st_20200211_10k_0.xml    st  20200211    10k   \n",
       "4      clr_20200226_10k_1.xml   clr_20200226_10k_0.xml   clr  20200226    10k   \n",
       "...                       ...                      ...   ...       ...    ...   \n",
       "1266   hog_20200219_10k_1.xml   hog_20200219_10k_0.xml   hog  20200219    10k   \n",
       "1267   kex_20200224_10k_1.xml   kex_20200224_10k_0.xml   kex  20200224    10k   \n",
       "1268   cop_20200218_10k_1.xml   cop_20200218_10k_0.xml   cop  20200218    10k   \n",
       "1269  cnxm_20200210_10k_0.xml  cnxm_20200210_10k_0.xml  cnxm  20200210    10k   \n",
       "1270   scl_20200227_10k_1.xml   scl_20200227_10k_1.xml   scl  20200227    10k   \n",
       "\n",
       "      d format  \n",
       "0     0    xml  \n",
       "1     1    xml  \n",
       "2     1    xml  \n",
       "3     1    xml  \n",
       "4     1    xml  \n",
       "...  ..    ...  \n",
       "1266  1    xml  \n",
       "1267  1    xml  \n",
       "1268  1    xml  \n",
       "1269  0    xml  \n",
       "1270  1    xml  \n",
       "\n",
       "[1271 rows x 7 columns]"
      ]
     },
     "execution_count": 12,
     "metadata": {},
     "output_type": "execute_result"
    }
   ],
   "source": [
    "df[['d', 'format']] = df['d'].str.split('.', n=1, expand=True)\n",
    "df"
   ]
  },
  {
   "cell_type": "markdown",
   "metadata": {
    "id": "whxGmuUR6Icw"
   },
   "source": [
    "### 統計欄位類別個數\n",
    "- 使用 `value_counts()`"
   ]
  },
  {
   "cell_type": "code",
   "execution_count": 13,
   "metadata": {
    "colab": {
     "base_uri": "https://localhost:8080/"
    },
    "executionInfo": {
     "elapsed": 5,
     "status": "ok",
     "timestamp": 1653275720006,
     "user": {
      "displayName": "Abao JiunYiYang",
      "userId": "03267307845025036989"
     },
     "user_tz": -480
    },
    "id": "G1dsBhsaoNHP",
    "outputId": "5ef88342-d3b5-488c-a61b-f26d4d43cb90"
   },
   "outputs": [
    {
     "data": {
      "text/plain": [
       "1    997\n",
       "0    274\n",
       "Name: d, dtype: int64"
      ]
     },
     "execution_count": 13,
     "metadata": {},
     "output_type": "execute_result"
    }
   ],
   "source": [
    "df.d.value_counts()"
   ]
  },
  {
   "cell_type": "markdown",
   "metadata": {
    "id": "TGUQ1pFMoaX3"
   },
   "source": [
    "### 文字轉換為時間格式\n",
    "- `pd.to_datetime()`"
   ]
  },
  {
   "cell_type": "code",
   "execution_count": 14,
   "metadata": {
    "colab": {
     "base_uri": "https://localhost:8080/"
    },
    "executionInfo": {
     "elapsed": 14,
     "status": "ok",
     "timestamp": 1653275804700,
     "user": {
      "displayName": "Abao JiunYiYang",
      "userId": "03267307845025036989"
     },
     "user_tz": -480
    },
    "id": "Zx6fOAswoP0K",
    "outputId": "4ebb7bff-d44e-4965-e49f-e7df396831b6"
   },
   "outputs": [
    {
     "data": {
      "text/plain": [
       "0      2020-02-20\n",
       "1      2020-02-14\n",
       "2      2020-03-02\n",
       "3      2020-02-11\n",
       "4      2020-02-26\n",
       "          ...    \n",
       "1266   2020-02-19\n",
       "1267   2020-02-24\n",
       "1268   2020-02-18\n",
       "1269   2020-02-10\n",
       "1270   2020-02-27\n",
       "Name: date, Length: 1271, dtype: datetime64[ns]"
      ]
     },
     "execution_count": 14,
     "metadata": {},
     "output_type": "execute_result"
    }
   ],
   "source": [
    "df['date'] = pd.to_datetime(df['date'])\n",
    "df['date']  # dtype: datetime64[ns]"
   ]
  },
  {
   "cell_type": "markdown",
   "metadata": {
    "id": "aqxKVFDM6v5x"
   },
   "source": [
    "### 對兩個以上欄位進行操作\n",
    "- `.apply(axis=1)`"
   ]
  },
  {
   "cell_type": "markdown",
   "metadata": {
    "id": "vlWYGHxd7Iy7"
   },
   "source": [
    "- 如果 `date` 晚於 2020 年 3 月份、且 d 等於 1 則新欄位為其日期加上一年，否則為原始日期"
   ]
  },
  {
   "cell_type": "code",
   "execution_count": 15,
   "metadata": {
    "colab": {
     "base_uri": "https://localhost:8080/",
     "height": 424
    },
    "executionInfo": {
     "elapsed": 6,
     "status": "ok",
     "timestamp": 1653276414574,
     "user": {
      "displayName": "Abao JiunYiYang",
      "userId": "03267307845025036989"
     },
     "user_tz": -480
    },
    "id": "1FZZxk2z64Q4",
    "outputId": "a42d17b3-028f-4654-8529-27bf0d30d3c7"
   },
   "outputs": [
    {
     "data": {
      "text/html": [
       "<div>\n",
       "<style scoped>\n",
       "    .dataframe tbody tr th:only-of-type {\n",
       "        vertical-align: middle;\n",
       "    }\n",
       "\n",
       "    .dataframe tbody tr th {\n",
       "        vertical-align: top;\n",
       "    }\n",
       "\n",
       "    .dataframe thead th {\n",
       "        text-align: right;\n",
       "    }\n",
       "</style>\n",
       "<table border=\"1\" class=\"dataframe\">\n",
       "  <thead>\n",
       "    <tr style=\"text-align: right;\">\n",
       "      <th></th>\n",
       "      <th>original</th>\n",
       "      <th>sandp</th>\n",
       "      <th>a</th>\n",
       "      <th>date</th>\n",
       "      <th>amount</th>\n",
       "      <th>d</th>\n",
       "      <th>format</th>\n",
       "      <th>new_date</th>\n",
       "    </tr>\n",
       "  </thead>\n",
       "  <tbody>\n",
       "    <tr>\n",
       "      <th>0</th>\n",
       "      <td>ed_20200220_10k_0.xml</td>\n",
       "      <td>ed_20200220_10k_1.xml</td>\n",
       "      <td>ed</td>\n",
       "      <td>2020-02-20</td>\n",
       "      <td>10k</td>\n",
       "      <td>0</td>\n",
       "      <td>xml</td>\n",
       "      <td>2020-02-20</td>\n",
       "    </tr>\n",
       "    <tr>\n",
       "      <th>1</th>\n",
       "      <td>ppx_20200214_10k_1.xml</td>\n",
       "      <td>ppx_20200214_10k_1.xml</td>\n",
       "      <td>ppx</td>\n",
       "      <td>2020-02-14</td>\n",
       "      <td>10k</td>\n",
       "      <td>1</td>\n",
       "      <td>xml</td>\n",
       "      <td>2020-02-14</td>\n",
       "    </tr>\n",
       "    <tr>\n",
       "      <th>2</th>\n",
       "      <td>eb_20200302_10k_1.xml</td>\n",
       "      <td>eb_20200302_10k_0.xml</td>\n",
       "      <td>eb</td>\n",
       "      <td>2020-03-02</td>\n",
       "      <td>10k</td>\n",
       "      <td>1</td>\n",
       "      <td>xml</td>\n",
       "      <td>2021-03-02</td>\n",
       "    </tr>\n",
       "    <tr>\n",
       "      <th>3</th>\n",
       "      <td>st_20200211_10k_1.xml</td>\n",
       "      <td>st_20200211_10k_0.xml</td>\n",
       "      <td>st</td>\n",
       "      <td>2020-02-11</td>\n",
       "      <td>10k</td>\n",
       "      <td>1</td>\n",
       "      <td>xml</td>\n",
       "      <td>2020-02-11</td>\n",
       "    </tr>\n",
       "    <tr>\n",
       "      <th>4</th>\n",
       "      <td>clr_20200226_10k_1.xml</td>\n",
       "      <td>clr_20200226_10k_0.xml</td>\n",
       "      <td>clr</td>\n",
       "      <td>2020-02-26</td>\n",
       "      <td>10k</td>\n",
       "      <td>1</td>\n",
       "      <td>xml</td>\n",
       "      <td>2020-02-26</td>\n",
       "    </tr>\n",
       "    <tr>\n",
       "      <th>...</th>\n",
       "      <td>...</td>\n",
       "      <td>...</td>\n",
       "      <td>...</td>\n",
       "      <td>...</td>\n",
       "      <td>...</td>\n",
       "      <td>...</td>\n",
       "      <td>...</td>\n",
       "      <td>...</td>\n",
       "    </tr>\n",
       "    <tr>\n",
       "      <th>1266</th>\n",
       "      <td>hog_20200219_10k_1.xml</td>\n",
       "      <td>hog_20200219_10k_0.xml</td>\n",
       "      <td>hog</td>\n",
       "      <td>2020-02-19</td>\n",
       "      <td>10k</td>\n",
       "      <td>1</td>\n",
       "      <td>xml</td>\n",
       "      <td>2020-02-19</td>\n",
       "    </tr>\n",
       "    <tr>\n",
       "      <th>1267</th>\n",
       "      <td>kex_20200224_10k_1.xml</td>\n",
       "      <td>kex_20200224_10k_0.xml</td>\n",
       "      <td>kex</td>\n",
       "      <td>2020-02-24</td>\n",
       "      <td>10k</td>\n",
       "      <td>1</td>\n",
       "      <td>xml</td>\n",
       "      <td>2020-02-24</td>\n",
       "    </tr>\n",
       "    <tr>\n",
       "      <th>1268</th>\n",
       "      <td>cop_20200218_10k_1.xml</td>\n",
       "      <td>cop_20200218_10k_0.xml</td>\n",
       "      <td>cop</td>\n",
       "      <td>2020-02-18</td>\n",
       "      <td>10k</td>\n",
       "      <td>1</td>\n",
       "      <td>xml</td>\n",
       "      <td>2020-02-18</td>\n",
       "    </tr>\n",
       "    <tr>\n",
       "      <th>1269</th>\n",
       "      <td>cnxm_20200210_10k_0.xml</td>\n",
       "      <td>cnxm_20200210_10k_0.xml</td>\n",
       "      <td>cnxm</td>\n",
       "      <td>2020-02-10</td>\n",
       "      <td>10k</td>\n",
       "      <td>0</td>\n",
       "      <td>xml</td>\n",
       "      <td>2020-02-10</td>\n",
       "    </tr>\n",
       "    <tr>\n",
       "      <th>1270</th>\n",
       "      <td>scl_20200227_10k_1.xml</td>\n",
       "      <td>scl_20200227_10k_1.xml</td>\n",
       "      <td>scl</td>\n",
       "      <td>2020-02-27</td>\n",
       "      <td>10k</td>\n",
       "      <td>1</td>\n",
       "      <td>xml</td>\n",
       "      <td>2020-02-27</td>\n",
       "    </tr>\n",
       "  </tbody>\n",
       "</table>\n",
       "<p>1271 rows × 8 columns</p>\n",
       "</div>"
      ],
      "text/plain": [
       "                     original                    sandp     a       date  \\\n",
       "0       ed_20200220_10k_0.xml    ed_20200220_10k_1.xml    ed 2020-02-20   \n",
       "1      ppx_20200214_10k_1.xml   ppx_20200214_10k_1.xml   ppx 2020-02-14   \n",
       "2       eb_20200302_10k_1.xml    eb_20200302_10k_0.xml    eb 2020-03-02   \n",
       "3       st_20200211_10k_1.xml    st_20200211_10k_0.xml    st 2020-02-11   \n",
       "4      clr_20200226_10k_1.xml   clr_20200226_10k_0.xml   clr 2020-02-26   \n",
       "...                       ...                      ...   ...        ...   \n",
       "1266   hog_20200219_10k_1.xml   hog_20200219_10k_0.xml   hog 2020-02-19   \n",
       "1267   kex_20200224_10k_1.xml   kex_20200224_10k_0.xml   kex 2020-02-24   \n",
       "1268   cop_20200218_10k_1.xml   cop_20200218_10k_0.xml   cop 2020-02-18   \n",
       "1269  cnxm_20200210_10k_0.xml  cnxm_20200210_10k_0.xml  cnxm 2020-02-10   \n",
       "1270   scl_20200227_10k_1.xml   scl_20200227_10k_1.xml   scl 2020-02-27   \n",
       "\n",
       "     amount  d format   new_date  \n",
       "0       10k  0    xml 2020-02-20  \n",
       "1       10k  1    xml 2020-02-14  \n",
       "2       10k  1    xml 2021-03-02  \n",
       "3       10k  1    xml 2020-02-11  \n",
       "4       10k  1    xml 2020-02-26  \n",
       "...     ... ..    ...        ...  \n",
       "1266    10k  1    xml 2020-02-19  \n",
       "1267    10k  1    xml 2020-02-24  \n",
       "1268    10k  1    xml 2020-02-18  \n",
       "1269    10k  0    xml 2020-02-10  \n",
       "1270    10k  1    xml 2020-02-27  \n",
       "\n",
       "[1271 rows x 8 columns]"
      ]
     },
     "execution_count": 15,
     "metadata": {},
     "output_type": "execute_result"
    }
   ],
   "source": [
    "def gen_new_date(row):\n",
    "    import datetime as dt\n",
    "    if (row['date'] >= dt.datetime(2020, 3, 1)) and (row['d'] == 1):\n",
    "        return row['date'] + dt.timedelta(days=365)\n",
    "    else:\n",
    "        return row['date']\n",
    "\n",
    "df['d'] = df['d'].astype(int)\n",
    "df['new_date'] = df.apply(lambda row: gen_new_date(row), axis=1)\n",
    "df"
   ]
  },
  {
   "cell_type": "markdown",
   "metadata": {
    "id": "l1eKcEqK9GZf"
   },
   "source": [
    "- 如果 `date` 早於 2020 年 3 月份、且 d 等於 0 則新欄位為其日期減去一年，否則為原始日期"
   ]
  },
  {
   "cell_type": "code",
   "execution_count": 16,
   "metadata": {
    "colab": {
     "base_uri": "https://localhost:8080/",
     "height": 424
    },
    "executionInfo": {
     "elapsed": 279,
     "status": "ok",
     "timestamp": 1653276722208,
     "user": {
      "displayName": "Abao JiunYiYang",
      "userId": "03267307845025036989"
     },
     "user_tz": -480
    },
    "id": "lNl4pY8A9E31",
    "outputId": "d7c213a7-42ff-4440-8850-cfc52abb1626"
   },
   "outputs": [
    {
     "data": {
      "text/html": [
       "<div>\n",
       "<style scoped>\n",
       "    .dataframe tbody tr th:only-of-type {\n",
       "        vertical-align: middle;\n",
       "    }\n",
       "\n",
       "    .dataframe tbody tr th {\n",
       "        vertical-align: top;\n",
       "    }\n",
       "\n",
       "    .dataframe thead th {\n",
       "        text-align: right;\n",
       "    }\n",
       "</style>\n",
       "<table border=\"1\" class=\"dataframe\">\n",
       "  <thead>\n",
       "    <tr style=\"text-align: right;\">\n",
       "      <th></th>\n",
       "      <th>original</th>\n",
       "      <th>sandp</th>\n",
       "      <th>a</th>\n",
       "      <th>date</th>\n",
       "      <th>amount</th>\n",
       "      <th>d</th>\n",
       "      <th>format</th>\n",
       "      <th>new_date</th>\n",
       "      <th>new_date_2</th>\n",
       "    </tr>\n",
       "  </thead>\n",
       "  <tbody>\n",
       "    <tr>\n",
       "      <th>0</th>\n",
       "      <td>ed_20200220_10k_0.xml</td>\n",
       "      <td>ed_20200220_10k_1.xml</td>\n",
       "      <td>ed</td>\n",
       "      <td>2020-02-20</td>\n",
       "      <td>10k</td>\n",
       "      <td>0</td>\n",
       "      <td>xml</td>\n",
       "      <td>2020-02-20</td>\n",
       "      <td>2019-02-20</td>\n",
       "    </tr>\n",
       "    <tr>\n",
       "      <th>1</th>\n",
       "      <td>ppx_20200214_10k_1.xml</td>\n",
       "      <td>ppx_20200214_10k_1.xml</td>\n",
       "      <td>ppx</td>\n",
       "      <td>2020-02-14</td>\n",
       "      <td>10k</td>\n",
       "      <td>1</td>\n",
       "      <td>xml</td>\n",
       "      <td>2020-02-14</td>\n",
       "      <td>2020-02-14</td>\n",
       "    </tr>\n",
       "    <tr>\n",
       "      <th>2</th>\n",
       "      <td>eb_20200302_10k_1.xml</td>\n",
       "      <td>eb_20200302_10k_0.xml</td>\n",
       "      <td>eb</td>\n",
       "      <td>2020-03-02</td>\n",
       "      <td>10k</td>\n",
       "      <td>1</td>\n",
       "      <td>xml</td>\n",
       "      <td>2021-03-02</td>\n",
       "      <td>2020-03-02</td>\n",
       "    </tr>\n",
       "    <tr>\n",
       "      <th>3</th>\n",
       "      <td>st_20200211_10k_1.xml</td>\n",
       "      <td>st_20200211_10k_0.xml</td>\n",
       "      <td>st</td>\n",
       "      <td>2020-02-11</td>\n",
       "      <td>10k</td>\n",
       "      <td>1</td>\n",
       "      <td>xml</td>\n",
       "      <td>2020-02-11</td>\n",
       "      <td>2020-02-11</td>\n",
       "    </tr>\n",
       "    <tr>\n",
       "      <th>4</th>\n",
       "      <td>clr_20200226_10k_1.xml</td>\n",
       "      <td>clr_20200226_10k_0.xml</td>\n",
       "      <td>clr</td>\n",
       "      <td>2020-02-26</td>\n",
       "      <td>10k</td>\n",
       "      <td>1</td>\n",
       "      <td>xml</td>\n",
       "      <td>2020-02-26</td>\n",
       "      <td>2020-02-26</td>\n",
       "    </tr>\n",
       "    <tr>\n",
       "      <th>...</th>\n",
       "      <td>...</td>\n",
       "      <td>...</td>\n",
       "      <td>...</td>\n",
       "      <td>...</td>\n",
       "      <td>...</td>\n",
       "      <td>...</td>\n",
       "      <td>...</td>\n",
       "      <td>...</td>\n",
       "      <td>...</td>\n",
       "    </tr>\n",
       "    <tr>\n",
       "      <th>1266</th>\n",
       "      <td>hog_20200219_10k_1.xml</td>\n",
       "      <td>hog_20200219_10k_0.xml</td>\n",
       "      <td>hog</td>\n",
       "      <td>2020-02-19</td>\n",
       "      <td>10k</td>\n",
       "      <td>1</td>\n",
       "      <td>xml</td>\n",
       "      <td>2020-02-19</td>\n",
       "      <td>2020-02-19</td>\n",
       "    </tr>\n",
       "    <tr>\n",
       "      <th>1267</th>\n",
       "      <td>kex_20200224_10k_1.xml</td>\n",
       "      <td>kex_20200224_10k_0.xml</td>\n",
       "      <td>kex</td>\n",
       "      <td>2020-02-24</td>\n",
       "      <td>10k</td>\n",
       "      <td>1</td>\n",
       "      <td>xml</td>\n",
       "      <td>2020-02-24</td>\n",
       "      <td>2020-02-24</td>\n",
       "    </tr>\n",
       "    <tr>\n",
       "      <th>1268</th>\n",
       "      <td>cop_20200218_10k_1.xml</td>\n",
       "      <td>cop_20200218_10k_0.xml</td>\n",
       "      <td>cop</td>\n",
       "      <td>2020-02-18</td>\n",
       "      <td>10k</td>\n",
       "      <td>1</td>\n",
       "      <td>xml</td>\n",
       "      <td>2020-02-18</td>\n",
       "      <td>2020-02-18</td>\n",
       "    </tr>\n",
       "    <tr>\n",
       "      <th>1269</th>\n",
       "      <td>cnxm_20200210_10k_0.xml</td>\n",
       "      <td>cnxm_20200210_10k_0.xml</td>\n",
       "      <td>cnxm</td>\n",
       "      <td>2020-02-10</td>\n",
       "      <td>10k</td>\n",
       "      <td>0</td>\n",
       "      <td>xml</td>\n",
       "      <td>2020-02-10</td>\n",
       "      <td>2019-02-10</td>\n",
       "    </tr>\n",
       "    <tr>\n",
       "      <th>1270</th>\n",
       "      <td>scl_20200227_10k_1.xml</td>\n",
       "      <td>scl_20200227_10k_1.xml</td>\n",
       "      <td>scl</td>\n",
       "      <td>2020-02-27</td>\n",
       "      <td>10k</td>\n",
       "      <td>1</td>\n",
       "      <td>xml</td>\n",
       "      <td>2020-02-27</td>\n",
       "      <td>2020-02-27</td>\n",
       "    </tr>\n",
       "  </tbody>\n",
       "</table>\n",
       "<p>1271 rows × 9 columns</p>\n",
       "</div>"
      ],
      "text/plain": [
       "                     original                    sandp     a       date  \\\n",
       "0       ed_20200220_10k_0.xml    ed_20200220_10k_1.xml    ed 2020-02-20   \n",
       "1      ppx_20200214_10k_1.xml   ppx_20200214_10k_1.xml   ppx 2020-02-14   \n",
       "2       eb_20200302_10k_1.xml    eb_20200302_10k_0.xml    eb 2020-03-02   \n",
       "3       st_20200211_10k_1.xml    st_20200211_10k_0.xml    st 2020-02-11   \n",
       "4      clr_20200226_10k_1.xml   clr_20200226_10k_0.xml   clr 2020-02-26   \n",
       "...                       ...                      ...   ...        ...   \n",
       "1266   hog_20200219_10k_1.xml   hog_20200219_10k_0.xml   hog 2020-02-19   \n",
       "1267   kex_20200224_10k_1.xml   kex_20200224_10k_0.xml   kex 2020-02-24   \n",
       "1268   cop_20200218_10k_1.xml   cop_20200218_10k_0.xml   cop 2020-02-18   \n",
       "1269  cnxm_20200210_10k_0.xml  cnxm_20200210_10k_0.xml  cnxm 2020-02-10   \n",
       "1270   scl_20200227_10k_1.xml   scl_20200227_10k_1.xml   scl 2020-02-27   \n",
       "\n",
       "     amount  d format   new_date new_date_2  \n",
       "0       10k  0    xml 2020-02-20 2019-02-20  \n",
       "1       10k  1    xml 2020-02-14 2020-02-14  \n",
       "2       10k  1    xml 2021-03-02 2020-03-02  \n",
       "3       10k  1    xml 2020-02-11 2020-02-11  \n",
       "4       10k  1    xml 2020-02-26 2020-02-26  \n",
       "...     ... ..    ...        ...        ...  \n",
       "1266    10k  1    xml 2020-02-19 2020-02-19  \n",
       "1267    10k  1    xml 2020-02-24 2020-02-24  \n",
       "1268    10k  1    xml 2020-02-18 2020-02-18  \n",
       "1269    10k  0    xml 2020-02-10 2019-02-10  \n",
       "1270    10k  1    xml 2020-02-27 2020-02-27  \n",
       "\n",
       "[1271 rows x 9 columns]"
      ]
     },
     "execution_count": 16,
     "metadata": {},
     "output_type": "execute_result"
    }
   ],
   "source": [
    "def gen_new_date(row):\n",
    "    import datetime as dt\n",
    "    if (row['date'] <= dt.datetime(2020, 3, 1)) and (row['d'] == 0):\n",
    "        return row['date'] - dt.timedelta(days=365)\n",
    "    else:\n",
    "        return row['date']\n",
    "\n",
    "df['new_date_2'] = df.apply(lambda row: gen_new_date(row), axis=1)\n",
    "df"
   ]
  },
  {
   "cell_type": "code",
   "execution_count": null,
   "metadata": {
    "id": "en0YGuXX-ME_"
   },
   "outputs": [],
   "source": []
  }
 ],
 "metadata": {
  "colab": {
   "authorship_tag": "ABX9TyNGncyZhB/XbkYAVzXe38VA",
   "collapsed_sections": [],
   "name": "Day8_hw.ipynb",
   "provenance": []
  },
  "kernelspec": {
   "display_name": "Python 3 (ipykernel)",
   "language": "python",
   "name": "python3"
  },
  "language_info": {
   "codemirror_mode": {
    "name": "ipython",
    "version": 3
   },
   "file_extension": ".py",
   "mimetype": "text/x-python",
   "name": "python",
   "nbconvert_exporter": "python",
   "pygments_lexer": "ipython3",
   "version": "3.9.13"
  }
 },
 "nbformat": 4,
 "nbformat_minor": 4
}
