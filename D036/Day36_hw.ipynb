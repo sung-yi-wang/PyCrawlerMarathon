{
 "cells": [
  {
   "cell_type": "markdown",
   "metadata": {},
   "source": [
    "# 104人力銀行網站爬蟲練習\n",
    "- 從104人力銀行網站爬取求職公司資訊"
   ]
  },
  {
   "cell_type": "code",
   "execution_count": 1,
   "metadata": {},
   "outputs": [],
   "source": [
    "import time\n",
    "\n",
    "from selenium import webdriver\n",
    "from selenium.webdriver.common.by import By\n",
    "from tqdm import trange"
   ]
  },
  {
   "cell_type": "markdown",
   "metadata": {},
   "source": [
    "### 作業流程：\n",
    "1. 首先進入104人力銀行網站 https://www.104.com.tw/cust/list/index/\n",
    "2. 在\"地區\"及\"產業\"下拉式選單中，選擇你希望的選項，然後按下\"找公司\"按鈕。\n",
    "3. 取得新開啟的網址，存為 `job_104_url`\n",
    "4. 模擬瀏覽器下滑動作載入更多公司資訊，全部存到 `company_info_list`"
   ]
  },
  {
   "cell_type": "code",
   "execution_count": 2,
   "metadata": {},
   "outputs": [],
   "source": [
    "base_url = 'https://www.104.com.tw/company/search/?area=6001001000&indcat=1001002000&jobsource=index_cs&mode=s&page='\n",
    "job_104_url = base_url + str(1)"
   ]
  },
  {
   "cell_type": "markdown",
   "metadata": {},
   "source": [
    "### 開始爬取搜尋結果\n",
    "- 實作下滑網頁載入更多資料\n",
    "- 取得資料"
   ]
  },
  {
   "cell_type": "code",
   "execution_count": 3,
   "metadata": {},
   "outputs": [],
   "source": [
    "# 載入第一頁\n",
    "opt = webdriver.ChromeOptions()\n",
    "browser = webdriver.Remote(command_executor='http://selenium:4444/wd/hub', options=opt)\n",
    "browser.maximize_window()\n",
    "browser.get(job_104_url)\n",
    "time.sleep(2)  # delay一段時間等待網頁更新完成"
   ]
  },
  {
   "cell_type": "code",
   "execution_count": 4,
   "metadata": {},
   "outputs": [
    {
     "name": "stderr",
     "output_type": "stream",
     "text": [
      "頁面: 100%|██████████| 16/16 [01:07<00:00,  4.21s/it]"
     ]
    },
    {
     "name": "stdout",
     "output_type": "stream",
     "text": [
      "共找到282間公司\n"
     ]
    },
    {
     "name": "stderr",
     "output_type": "stream",
     "text": [
      "\n"
     ]
    }
   ],
   "source": [
    "# 藉由按下分頁按鈕，取得共有幾頁\n",
    "pages = browser.find_element(By.XPATH,'//div[contains(@class, \"company-list-filter__select-pagination\")]')\n",
    "pages.click()\n",
    "time.sleep(0.5)\n",
    "page_lists = pages.find_elements(By.XPATH,'.//li[@class=\"multiselect__element position-relative\"]')\n",
    "\n",
    "# 開始逐頁爬取公司資訊\n",
    "company_info_list = []\n",
    "\n",
    "for i in trange(len(page_lists), desc='頁面'):\n",
    "    if i > 0:\n",
    "        job_104_url = f'{base_url}{i+1}'\n",
    "        browser.get(job_104_url)\n",
    "        time.sleep(2)\n",
    "        \n",
    "    company_list  = browser.find_elements(By.CSS_SELECTOR, 'div.company-list.company-lists__item')\n",
    "    for i in company_list:\n",
    "        company_name = i.find_element(By.CSS_SELECTOR, 'a.company-name-link--pc').text\n",
    "        company_desc = i.find_element(By.CSS_SELECTOR, 'div.company-list__description').text\n",
    "        company_info_list.append((company_name, company_desc))\n",
    "\n",
    "print(f'共找到{len(company_info_list)}間公司')"
   ]
  },
  {
   "cell_type": "code",
   "execution_count": 5,
   "metadata": {},
   "outputs": [],
   "source": [
    "browser.quit()"
   ]
  },
  {
   "cell_type": "code",
   "execution_count": 6,
   "metadata": {},
   "outputs": [
    {
     "name": "stdout",
     "output_type": "stream",
     "text": [
      "(282, 2)\n"
     ]
    },
    {
     "data": {
      "text/html": [
       "<div>\n",
       "<style scoped>\n",
       "    .dataframe tbody tr th:only-of-type {\n",
       "        vertical-align: middle;\n",
       "    }\n",
       "\n",
       "    .dataframe tbody tr th {\n",
       "        vertical-align: top;\n",
       "    }\n",
       "\n",
       "    .dataframe thead th {\n",
       "        text-align: right;\n",
       "    }\n",
       "</style>\n",
       "<table border=\"1\" class=\"dataframe\">\n",
       "  <thead>\n",
       "    <tr style=\"text-align: right;\">\n",
       "      <th></th>\n",
       "      <th>name</th>\n",
       "      <th>desc</th>\n",
       "    </tr>\n",
       "  </thead>\n",
       "  <tbody>\n",
       "    <tr>\n",
       "      <th>0</th>\n",
       "      <td>德勝科技股份有限公司</td>\n",
       "      <td>德勝科技成立於民國70年，為股票上櫃公司(股票代號8048)，主要經營業務： 光纖網路局端、...</td>\n",
       "    </tr>\n",
       "    <tr>\n",
       "      <th>1</th>\n",
       "      <td>葳訊企業股份有限公司</td>\n",
       "      <td>成立於民國83年，民國102年12月改制為葳訊企業股份有限公司，從事行動電話和相關配件之銷售...</td>\n",
       "    </tr>\n",
       "    <tr>\n",
       "      <th>2</th>\n",
       "      <td>嘉信資訊科技股份有限公司</td>\n",
       "      <td>嘉信資訊科技股份有限公司 創立於民國 85 年，主要從事通訊網路科技業；擁有為數不少的客戶群...</td>\n",
       "    </tr>\n",
       "    <tr>\n",
       "      <th>3</th>\n",
       "      <td>宏康智慧股份有限公司</td>\n",
       "      <td>公司成立宗旨 宏康智慧是鴻海集團亞太電信與在電信資訊服務深耕25年之康維爾資訊在103年共同...</td>\n",
       "    </tr>\n",
       "    <tr>\n",
       "      <th>4</th>\n",
       "      <td>香港商尚域投資有限公司台灣分公司</td>\n",
       "      <td>關於vivo vivo為一個專注於智慧手機領域的手機領導品牌，vivo和追求樂趣、充滿活力、...</td>\n",
       "    </tr>\n",
       "  </tbody>\n",
       "</table>\n",
       "</div>"
      ],
      "text/plain": [
       "               name                                               desc\n",
       "0        德勝科技股份有限公司  德勝科技成立於民國70年，為股票上櫃公司(股票代號8048)，主要經營業務： 光纖網路局端、...\n",
       "1        葳訊企業股份有限公司  成立於民國83年，民國102年12月改制為葳訊企業股份有限公司，從事行動電話和相關配件之銷售...\n",
       "2      嘉信資訊科技股份有限公司  嘉信資訊科技股份有限公司 創立於民國 85 年，主要從事通訊網路科技業；擁有為數不少的客戶群...\n",
       "3        宏康智慧股份有限公司  公司成立宗旨 宏康智慧是鴻海集團亞太電信與在電信資訊服務深耕25年之康維爾資訊在103年共同...\n",
       "4  香港商尚域投資有限公司台灣分公司  關於vivo vivo為一個專注於智慧手機領域的手機領導品牌，vivo和追求樂趣、充滿活力、..."
      ]
     },
     "execution_count": 6,
     "metadata": {},
     "output_type": "execute_result"
    }
   ],
   "source": [
    "import pandas as pd\n",
    "\n",
    "df = pd.DataFrame(company_info_list, columns=[\"name\", \"desc\"])\n",
    "print(df.shape)\n",
    "df.head()"
   ]
  }
 ],
 "metadata": {
  "interpreter": {
   "hash": "d37afa9ffcbc576cea1c7d5ed42abd2d105883aff8a1f4fc810ca97ef5b32023"
  },
  "kernelspec": {
   "display_name": "Python 3.7.11 ('crawler')",
   "language": "python",
   "name": "python3"
  },
  "language_info": {
   "codemirror_mode": {
    "name": "ipython",
    "version": 3
   },
   "file_extension": ".py",
   "mimetype": "text/x-python",
   "name": "python",
   "nbconvert_exporter": "python",
   "pygments_lexer": "ipython3",
   "version": "3.11.9"
  }
 },
 "nbformat": 4,
 "nbformat_minor": 2
}
